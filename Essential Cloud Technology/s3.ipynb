{
 "cells": [
  {
   "cell_type": "code",
   "execution_count": 2,
   "metadata": {},
   "outputs": [],
   "source": [
    "#add files to bucket \n",
    "import boto3\n",
    "import os\n",
    "\n",
    "client = boto3.client('s3')\n",
    "bucket = os.environ.get('DB_BUCKET') #retrieve bucket name from Environment Variables\n",
    "\n",
    "client.upload_file('cute_cat.jpg', bucket, 'cat.jpg') #image files will be added to bucket\n",
    " "
   ]
  }
 ],
 "metadata": {
  "interpreter": {
   "hash": "96845aca18e994caba59710a135a9f2069490d583ecd78ead3231a9fecf57406"
  },
  "kernelspec": {
   "display_name": "Python 3.9.7 ('selenium')",
   "language": "python",
   "name": "python3"
  },
  "language_info": {
   "codemirror_mode": {
    "name": "ipython",
    "version": 3
   },
   "file_extension": ".py",
   "mimetype": "text/x-python",
   "name": "python",
   "nbconvert_exporter": "python",
   "pygments_lexer": "ipython3",
   "version": "3.9.7"
  },
  "orig_nbformat": 4
 },
 "nbformat": 4,
 "nbformat_minor": 2
}
