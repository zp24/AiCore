{
 "cells": [
  {
   "cell_type": "code",
   "execution_count": 3,
   "metadata": {},
   "outputs": [
    {
     "ename": "TypeError",
     "evalue": "unsupported operand type(s) for *: 'float' and 'Cylinder'",
     "output_type": "error",
     "traceback": [
      "\u001b[1;31m---------------------------------------------------------------------------\u001b[0m",
      "\u001b[1;31mTypeError\u001b[0m                                 Traceback (most recent call last)",
      "\u001b[1;32mc:\\Users\\Zoya\\Desktop\\AiCoreScripts\\classes.ipynb Cell 1'\u001b[0m in \u001b[0;36m<module>\u001b[1;34m\u001b[0m\n\u001b[0;32m     <a href='vscode-notebook-cell:/c%3A/Users/Zoya/Desktop/AiCoreScripts/classes.ipynb#ch0000000?line=27'>28</a>\u001b[0m         \u001b[39mreturn\u001b[39;00m volume\n\u001b[0;32m     <a href='vscode-notebook-cell:/c%3A/Users/Zoya/Desktop/AiCoreScripts/classes.ipynb#ch0000000?line=28'>29</a>\u001b[0m cyl1 \u001b[39m=\u001b[39m Cylinder(\u001b[39m0\u001b[39m,\u001b[39m5\u001b[39m)\n\u001b[1;32m---> <a href='vscode-notebook-cell:/c%3A/Users/Zoya/Desktop/AiCoreScripts/classes.ipynb#ch0000000?line=29'>30</a>\u001b[0m \u001b[39mprint\u001b[39m(cyl1\u001b[39m.\u001b[39;49mget_volume())\n",
      "\u001b[1;32mc:\\Users\\Zoya\\Desktop\\AiCoreScripts\\classes.ipynb Cell 1'\u001b[0m in \u001b[0;36mCylinder.get_volume\u001b[1;34m(height, radius)\u001b[0m\n\u001b[0;32m     <a href='vscode-notebook-cell:/c%3A/Users/Zoya/Desktop/AiCoreScripts/classes.ipynb#ch0000000?line=21'>22</a>\u001b[0m \u001b[39mdef\u001b[39;00m \u001b[39mget_volume\u001b[39m(height, radius \u001b[39m=\u001b[39m \u001b[39m1\u001b[39m):\n\u001b[0;32m     <a href='vscode-notebook-cell:/c%3A/Users/Zoya/Desktop/AiCoreScripts/classes.ipynb#ch0000000?line=22'>23</a>\u001b[0m     \u001b[39m#self.height = height\u001b[39;00m\n\u001b[0;32m     <a href='vscode-notebook-cell:/c%3A/Users/Zoya/Desktop/AiCoreScripts/classes.ipynb#ch0000000?line=23'>24</a>\u001b[0m     \u001b[39m#self.radius = radius\u001b[39;00m\n\u001b[0;32m     <a href='vscode-notebook-cell:/c%3A/Users/Zoya/Desktop/AiCoreScripts/classes.ipynb#ch0000000?line=24'>25</a>\u001b[0m \u001b[39m#volume = πr^2h\u001b[39;00m\n\u001b[1;32m---> <a href='vscode-notebook-cell:/c%3A/Users/Zoya/Desktop/AiCoreScripts/classes.ipynb#ch0000000?line=25'>26</a>\u001b[0m     volume \u001b[39m=\u001b[39m math\u001b[39m.\u001b[39;49mpi \u001b[39m*\u001b[39;49m radius \u001b[39m*\u001b[39;49m\u001b[39m*\u001b[39;49m\u001b[39m2\u001b[39;49m \u001b[39m*\u001b[39;49m height\n\u001b[0;32m     <a href='vscode-notebook-cell:/c%3A/Users/Zoya/Desktop/AiCoreScripts/classes.ipynb#ch0000000?line=26'>27</a>\u001b[0m     \u001b[39m#volume = float(\"{:.2f}\".format(volume))\u001b[39;00m\n\u001b[0;32m     <a href='vscode-notebook-cell:/c%3A/Users/Zoya/Desktop/AiCoreScripts/classes.ipynb#ch0000000?line=27'>28</a>\u001b[0m     \u001b[39mreturn\u001b[39;00m volume\n",
      "\u001b[1;31mTypeError\u001b[0m: unsupported operand type(s) for *: 'float' and 'Cylinder'"
     ]
    }
   ],
   "source": [
    "import math\n",
    "class Cylinder:\n",
    "    \n",
    "    #class constructor\n",
    "    def __init__(self, height, radius = 1):\n",
    "        #attributes\n",
    "        self.height = None\n",
    "        self.radius = None\n",
    "        \n",
    "        self.surface_area = None\n",
    "        self.volume = None\n",
    "    \n",
    "    #methods\n",
    "    def get_surface_area(height, radius = 1):\n",
    "        #self.height = height\n",
    "        #self.radius = radius\n",
    "    #surface area = 2πrh+2πr^2\n",
    "        surface_area = (2 * math.pi * radius * height) + (2 * math.pi * radius **2)\n",
    "        #surface_area = float(\"{:.2f}\".format(surface_area))\n",
    "        return surface_area\n",
    "    \n",
    "    def get_volume(height, radius = 1):\n",
    "        #self.height = height\n",
    "        #self.radius = radius\n",
    "    #volume = πr^2h\n",
    "        volume = math.pi * radius **2 * height\n",
    "        #volume = float(\"{:.2f}\".format(volume))\n",
    "        return volume\n",
    "cyl1 = Cylinder(0,5)\n",
    "print(cyl1.get_volume())"
   ]
  }
 ],
 "metadata": {
  "interpreter": {
   "hash": "f853c4ccfa60b2678130581a255c68f1838ddc1eb9e5617a92b51d3b74c38bcd"
  },
  "kernelspec": {
   "display_name": "Python 3.9.5 ('base')",
   "language": "python",
   "name": "python3"
  },
  "language_info": {
   "codemirror_mode": {
    "name": "ipython",
    "version": 3
   },
   "file_extension": ".py",
   "mimetype": "text/x-python",
   "name": "python",
   "nbconvert_exporter": "python",
   "pygments_lexer": "ipython3",
   "version": "3.9.5"
  },
  "orig_nbformat": 4
 },
 "nbformat": 4,
 "nbformat_minor": 2
}
