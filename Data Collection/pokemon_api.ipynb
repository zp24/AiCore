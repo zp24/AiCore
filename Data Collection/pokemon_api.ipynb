{
 "cells": [
  {
   "cell_type": "code",
   "execution_count": null,
   "metadata": {},
   "outputs": [],
   "source": [
    "import requests\n",
    "\n",
    "type_req = requests.get(\"https://pokeapi.co/api/v2/type\")\n",
    "\n",
    "type_req.text #prints out all Pokemon types"
   ]
  },
  {
   "cell_type": "code",
   "execution_count": 79,
   "metadata": {},
   "outputs": [],
   "source": [
    "import requests\n",
    "\n",
    "psychic = requests.get(\"https://pokeapi.co/api/v2/type/14/\")\n",
    "#pyschic = requests.get(\"https://pokeapi.co/api/v2/type/psychic\") #also works\n",
    "\n",
    "#psychic.text\n",
    "#psychic.json()\n",
    "#print(psychic.json()[\"pokemon\"]) #prints dictionaries of psychic pokemon\n",
    "\n",
    "psychic_ls = {\"Number\": [], \"Name\" : [], \"Link\": []}\n",
    "for pokemon in psychic.json()[\"pokemon\"]:\n",
    "    #print(pokemon) #prints dictionaries of psychic pokemon\n",
    "    #print(pokemon[\"pokemon\"]) #prints name and url dictionary\n",
    "    a = pokemon[\"pokemon\"][\"name\"] #prints name only\n",
    "    \n",
    "    #print(pokemon[\"pokemon\"][\"url\"]) #prints name and url\n",
    "    b = pokemon[\"pokemon\"][\"url\"]\n",
    "    \n",
    "\n",
    "    c = b.rsplit(\"/\", 6)\n",
    "   \n",
    "    #print(type(b[5])) #<class 'str'>\n",
    "\n",
    "    if int(c[5]) < 151: #only adds pokemon entries below 151\n",
    "       aa = psychic_ls[\"Name\"].append(a) \n",
    "       bb = psychic_ls[\"Link\"].append(b)\n",
    "       cc = psychic_ls[\"Number\"].append(c[5])\n",
    "       #print(a, c[5])\n",
    "    \n"
   ]
  },
  {
   "cell_type": "code",
   "execution_count": 81,
   "metadata": {},
   "outputs": [
    {
     "name": "stdout",
     "output_type": "stream",
     "text": [
      "{'Number': ['63', '64', '65', '79', '80', '96', '97', '102', '103', '121', '122', '124', '150'], 'Name': ['abra', 'kadabra', 'alakazam', 'slowpoke', 'slowbro', 'drowzee', 'hypno', 'exeggcute', 'exeggutor', 'starmie', 'mr-mime', 'jynx', 'mewtwo'], 'Link': ['https://pokeapi.co/api/v2/pokemon/63/', 'https://pokeapi.co/api/v2/pokemon/64/', 'https://pokeapi.co/api/v2/pokemon/65/', 'https://pokeapi.co/api/v2/pokemon/79/', 'https://pokeapi.co/api/v2/pokemon/80/', 'https://pokeapi.co/api/v2/pokemon/96/', 'https://pokeapi.co/api/v2/pokemon/97/', 'https://pokeapi.co/api/v2/pokemon/102/', 'https://pokeapi.co/api/v2/pokemon/103/', 'https://pokeapi.co/api/v2/pokemon/121/', 'https://pokeapi.co/api/v2/pokemon/122/', 'https://pokeapi.co/api/v2/pokemon/124/', 'https://pokeapi.co/api/v2/pokemon/150/']}\n"
     ]
    }
   ],
   "source": [
    "print(psychic_ls) #prints dictionary of psychic types with pokedex entry below 151"
   ]
  },
  {
   "cell_type": "code",
   "execution_count": null,
   "metadata": {},
   "outputs": [],
   "source": [
    "import requests\n",
    "\n",
    "pokedex = requests.get(\"https://pokeapi.co/api/v2/pokemon/?offset=1&limit=150\")\n",
    "\n",
    "## print first 151 pokemon - add limit in url/request otherwise the first 20 will be printed by default ##\n",
    "#pokedex.text \n",
    "pokedex.json()"
   ]
  },
  {
   "cell_type": "code",
   "execution_count": null,
   "metadata": {},
   "outputs": [],
   "source": [
    "import requests\n",
    "\n",
    "pokedex_entry = requests.get(\"https://pokeapi.co/api/v2/pokemon/14/\")\n",
    "\n",
    "#pokedex_entry.text #Kakuna \n",
    "pokedex_entry.json()"
   ]
  },
  {
   "cell_type": "code",
   "execution_count": 86,
   "metadata": {},
   "outputs": [
    {
     "name": "stdout",
     "output_type": "stream",
     "text": [
      "604828\n"
     ]
    }
   ],
   "source": [
    "link = \"https://store.eu.square-enix-games.com/en_GB/product/604828/final-fantasy-jigsaw-puzzle-final-fantasy-vii-500-piece\"\n",
    "\n",
    "r = link.rsplit(\"/\",6)\n",
    "\n",
    "print(r[5])"
   ]
  }
 ],
 "metadata": {
  "interpreter": {
   "hash": "b89b5cfaba6639976dc87ff2fec6d58faec662063367e2c229c520fe71072417"
  },
  "kernelspec": {
   "display_name": "Python 3.10.2 64-bit",
   "language": "python",
   "name": "python3"
  },
  "language_info": {
   "codemirror_mode": {
    "name": "ipython",
    "version": 3
   },
   "file_extension": ".py",
   "mimetype": "text/x-python",
   "name": "python",
   "nbconvert_exporter": "python",
   "pygments_lexer": "ipython3",
   "version": "3.9.5"
  },
  "orig_nbformat": 4
 },
 "nbformat": 4,
 "nbformat_minor": 2
}
