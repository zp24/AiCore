{
 "cells": [
  {
   "cell_type": "code",
   "execution_count": null,
   "metadata": {},
   "outputs": [],
   "source": [
    "import selenium\n",
    "from selenium.webdriver import Chrome\n",
    "from webdriver_manager.chrome import ChromeDriverManager #installs Chrome webdriver\n",
    "from selenium.webdriver.common.by import By\n",
    "from selenium.webdriver.support.ui import WebDriverWait\n",
    "from selenium.webdriver.support import expected_conditions as EC\n",
    "from selenium.common.exceptions import TimeoutException\n",
    "import time"
   ]
  },
  {
   "cell_type": "code",
   "execution_count": null,
   "metadata": {},
   "outputs": [],
   "source": [
    "url = \"https://www.zoopla.co.uk/new-homes/property/london/?q=London&results_sort=newest_listings&search_source=new-homes&page_size=25&pn=1&view_type=list\"\n",
    "driver = Chrome(ChromeDriverManager().install()) \n",
    "driver.get(url) #loads url\n"
   ]
  },
  {
   "cell_type": "code",
   "execution_count": null,
   "metadata": {},
   "outputs": [],
   "source": [
    "from selenium.webdriver.support.ui import WebDriverWait\n",
    "from selenium.common.exceptions import TimeoutException\n",
    "\n",
    "xpath = '//button[@id=\"save]'\n",
    "try:\n",
    "    time.sleep(2)\n",
    "    driver.switch_to.frame('gdpr-consent-notice')\n",
    "    WebDriverWait(driver, 10).until(EC.presence_of_element_located((By.XPATH, xpath)))\n",
    "    driver.find_element(By.XPATH, xpath).click()\n",
    "except TimeoutException:\n",
    "    print(\"No cookies found\")"
   ]
  },
  {
   "cell_type": "code",
   "execution_count": null,
   "metadata": {},
   "outputs": [],
   "source": [
    "container = driver.find_element(By.XPATH, '//div[@id=\"search-result\"]')\n",
    "#//*[@id=\"__next\"]/div[3]/div[2]/main/div[2]/div[2]\n",
    "list_properties = container.find_elements(By.XPATH, './/a')\n",
    "#//*[@id=\"__next\"]/div[3]/div[2]/main/div[2]\n"
   ]
  },
  {
   "cell_type": "code",
   "execution_count": null,
   "metadata": {},
   "outputs": [],
   "source": [
    "list_properties[0].text"
   ]
  },
  {
   "cell_type": "code",
   "execution_count": null,
   "metadata": {},
   "outputs": [],
   "source": [
    "#accept cookies\n",
    "'''xpath = '//*[@id=\"save\"]/span[1]/div/span'\n",
    "try:\n",
    "            WebDriverWait(driver, 5).until(EC.presence_of_element_located((By.XPATH, './/*[@id=\"save\"]/span[1]/div/span')))\n",
    "            time.sleep(5)\n",
    "            driver.find_element(By.XPATH, './/*[@id=\"save\"]/span[1]/div/span').click()\n",
    "            print(\"'Accept Cookies' button clicked\")\n",
    "except TimeoutException: #in case accept button is not found after 10 seconds by driver\n",
    "            print(\"No cookies found\") '''"
   ]
  }
 ],
 "metadata": {
  "interpreter": {
   "hash": "96845aca18e994caba59710a135a9f2069490d583ecd78ead3231a9fecf57406"
  },
  "kernelspec": {
   "display_name": "Python 3.9.7 ('selenium')",
   "language": "python",
   "name": "python3"
  },
  "language_info": {
   "codemirror_mode": {
    "name": "ipython",
    "version": 3
   },
   "file_extension": ".py",
   "mimetype": "text/x-python",
   "name": "python",
   "nbconvert_exporter": "python",
   "pygments_lexer": "ipython3",
   "version": "3.9.7"
  },
  "orig_nbformat": 4
 },
 "nbformat": 4,
 "nbformat_minor": 2
}
