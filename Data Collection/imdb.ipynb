{
 "cells": [
  {
   "cell_type": "code",
   "execution_count": 1,
   "metadata": {},
   "outputs": [],
   "source": [
    "import selenium\n",
    "from selenium.webdriver import Chrome\n",
    "from webdriver_manager.chrome import ChromeDriverManager #installs Chrome webdriver\n",
    "from selenium.webdriver.common.by import By\n",
    "from selenium.webdriver.support.ui import WebDriverWait\n",
    "from selenium.webdriver.support import expected_conditions as EC\n",
    "from selenium.common.exceptions import TimeoutException\n",
    "import time"
   ]
  },
  {
   "cell_type": "code",
   "execution_count": 4,
   "metadata": {},
   "outputs": [
    {
     "name": "stderr",
     "output_type": "stream",
     "text": [
      "\n",
      "\n",
      "====== WebDriver manager ======\n",
      "Could not get version for google-chrome with the command:  powershell \"$ErrorActionPreference='silentlycontinue' ; (Get-Item -Path \"$env:PROGRAMFILES\\Google\\Chrome\\Application\\chrome.exe\").VersionInfo.FileVersion ; if (-not $? -or $? -match $error) { (Get-Item -Path \"$env:PROGRAMFILES(x86)\\Google\\Chrome\\Application\\chrome.exe\").VersionInfo.FileVersion } if (-not $? -or $? -match $error) { (Get-Item -Path \"$env:LOCALAPPDATA\\Google\\Chrome\\Application\\chrome.exe\").VersionInfo.FileVersion } if (-not $? -or $? -match $error) { reg query \"HKCU\\SOFTWARE\\Google\\Chrome\\BLBeacon\" /v version } if (-not $? -or $? -match $error) { reg query \"HKLM\\SOFTWARE\\Wow6432Node\\Microsoft\\Windows\\CurrentVersion\\Uninstall\\Google Chrome\" /v version }\"\n",
      "Current google-chrome version is UNKNOWN\n",
      "Get LATEST chromedriver version for UNKNOWN google-chrome\n",
      "Trying to download new driver from https://chromedriver.storage.googleapis.com/99.0.4844.51/chromedriver_win32.zip\n",
      "Driver has been saved in cache [C:\\Users\\Zoya\\.wdm\\drivers\\chromedriver\\win32\\99.0.4844.51]\n",
      "C:\\Users\\Zoya\\AppData\\Local\\Temp\\ipykernel_29400\\1367216172.py:2: DeprecationWarning: executable_path has been deprecated, please pass in a Service object\n",
      "  driver = Chrome(ChromeDriverManager().install())\n"
     ]
    }
   ],
   "source": [
    "url = \"https://www.imdb.com/title/tt0110912/?ref_=nv_sr_srsg_0\"\n",
    "driver = Chrome(ChromeDriverManager().install()) \n",
    "driver.get(url) #loads url\n",
    "time.sleep(5)\n",
    "\n",
    "cast_page = driver.find_element(By.XPATH, '//*[@id=\"__next\"]/main/div/section[1]/div/section/div/div[1]/section[4]/div[1]/div/a')\n",
    "cast_page.click()\n",
    "\n"
   ]
  },
  {
   "cell_type": "code",
   "execution_count": 27,
   "metadata": {},
   "outputs": [],
   "source": [
    "container = driver.find_element(By.XPATH, '//*[@id=\"fullcredits_content\"]/table[3]')\n",
    "cast_container = container.find_element(By.XPATH,'//*[@id=\"fullcredits_content\"]/table[3]')\n",
    "\n",
    "cast_list = cast_container.find_elements(By.XPATH,'//tr')"
   ]
  },
  {
   "cell_type": "code",
   "execution_count": 31,
   "metadata": {},
   "outputs": [
    {
     "data": {
      "text/plain": [
       "'Tim Roth ... Pumpkin'"
      ]
     },
     "execution_count": 31,
     "metadata": {},
     "output_type": "execute_result"
    }
   ],
   "source": [
    "cast_list[6].text #[6] is cast"
   ]
  },
  {
   "cell_type": "code",
   "execution_count": 42,
   "metadata": {},
   "outputs": [],
   "source": [
    "cast = []\n",
    "for cast_members in cast_list[6:63]:\n",
    "    #print(cast_members.text)\n",
    "    cast.append(cast_members)"
   ]
  },
  {
   "cell_type": "code",
   "execution_count": 45,
   "metadata": {},
   "outputs": [
    {
     "data": {
      "text/plain": [
       "'Devan Richardson ... Hopalong Cassidy (uncredited)'"
      ]
     },
     "execution_count": 45,
     "metadata": {},
     "output_type": "execute_result"
    }
   ],
   "source": [
    "cast[55].text"
   ]
  },
  {
   "cell_type": "code",
   "execution_count": 48,
   "metadata": {},
   "outputs": [
    {
     "ename": "AttributeError",
     "evalue": "'NoneType' object has no attribute 'text'",
     "output_type": "error",
     "traceback": [
      "\u001b[1;31m---------------------------------------------------------------------------\u001b[0m",
      "\u001b[1;31mAttributeError\u001b[0m                            Traceback (most recent call last)",
      "\u001b[1;32mc:\\Users\\Zoya\\Desktop\\AiCoreScripts\\Data Collection\\imdb.ipynb Cell 7'\u001b[0m in \u001b[0;36m<cell line: 3>\u001b[1;34m()\u001b[0m\n\u001b[0;32m      <a href='vscode-notebook-cell:/c%3A/Users/Zoya/Desktop/AiCoreScripts/Data%20Collection/imdb.ipynb#ch0000006?line=2'>3</a>\u001b[0m \u001b[39mfor\u001b[39;00m details \u001b[39min\u001b[39;00m cast:\n\u001b[0;32m      <a href='vscode-notebook-cell:/c%3A/Users/Zoya/Desktop/AiCoreScripts/Data%20Collection/imdb.ipynb#ch0000006?line=3'>4</a>\u001b[0m     cast_name \u001b[39m=\u001b[39m details\u001b[39m.\u001b[39mget_attribute(\u001b[39m\"\u001b[39m\u001b[39mhref\u001b[39m\u001b[39m\"\u001b[39m)\n\u001b[1;32m----> <a href='vscode-notebook-cell:/c%3A/Users/Zoya/Desktop/AiCoreScripts/Data%20Collection/imdb.ipynb#ch0000006?line=4'>5</a>\u001b[0m     cast_dict[\u001b[39m\"\u001b[39m\u001b[39mName\u001b[39m\u001b[39m\"\u001b[39m]\u001b[39m.\u001b[39mappend(cast_name\u001b[39m.\u001b[39;49mtext)\n",
      "\u001b[1;31mAttributeError\u001b[0m: 'NoneType' object has no attribute 'text'"
     ]
    }
   ],
   "source": [
    "cast_dict = {\"Name\": []}\n",
    "\n",
    "for details in cast:\n",
    "    cast_name = details.get_attribute(\"href\")\n",
    "    cast_dict[\"Name\"].append(cast_name.text)"
   ]
  }
 ],
 "metadata": {
  "interpreter": {
   "hash": "96845aca18e994caba59710a135a9f2069490d583ecd78ead3231a9fecf57406"
  },
  "kernelspec": {
   "display_name": "Python 3.9.7 ('selenium')",
   "language": "python",
   "name": "python3"
  },
  "language_info": {
   "codemirror_mode": {
    "name": "ipython",
    "version": 3
   },
   "file_extension": ".py",
   "mimetype": "text/x-python",
   "name": "python",
   "nbconvert_exporter": "python",
   "pygments_lexer": "ipython3",
   "version": "3.9.7"
  },
  "orig_nbformat": 4
 },
 "nbformat": 4,
 "nbformat_minor": 2
}
