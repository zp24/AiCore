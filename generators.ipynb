{
 "cells": [
  {
   "cell_type": "code",
   "execution_count": null,
   "metadata": {},
   "outputs": [],
   "source": [
    "def inf_gen():\n",
    "    i = 0\n",
    "    while True:   \n",
    "        yield i\n",
    "        i += 1\n",
    "\n",
    "gen1 = inf_gen()"
   ]
  },
  {
   "cell_type": "code",
   "execution_count": null,
   "metadata": {},
   "outputs": [],
   "source": [
    "next(gen1) #will generate a new number everytime it is run"
   ]
  },
  {
   "cell_type": "code",
   "execution_count": null,
   "metadata": {},
   "outputs": [],
   "source": [
    "# Press Ctrl + C or the stop button to stop me! \n",
    "# Infinite loop\n",
    "for i in inf_gen():\n",
    "   print(i, end=' ')\n"
   ]
  },
  {
   "cell_type": "markdown",
   "metadata": {},
   "source": [
    "Infinite Binary Generator"
   ]
  },
  {
   "cell_type": "code",
   "execution_count": null,
   "metadata": {},
   "outputs": [],
   "source": [
    "#infinite binary generator\n",
    "import random\n",
    "def inf_genb():\n",
    "    i = [0, 1]\n",
    "    i = random.choice(i)\n",
    "    while True:   \n",
    "        yield i\n",
    "        if i == 0:\n",
    "            i +=1\n",
    "        else:\n",
    "            i -=1\n",
    "\n",
    "genb = inf_genb()\n",
    "for i in genb: \n",
    "    print(i)"
   ]
  },
  {
   "cell_type": "code",
   "execution_count": null,
   "metadata": {},
   "outputs": [],
   "source": [
    "#infinite binary generator using generator comprehension\n",
    "import random\n",
    "binary_list = [0, 1]\n",
    "#print(\"binary list is: \", binary_list)\n",
    "gen_binary = [i for i in binary_list] #generator comprehension\n",
    "while True:   \n",
    "        if i == 0:\n",
    "            i +=1\n",
    "        else:\n",
    "            i -=1\n",
    "        print(i)\n"
   ]
  },
  {
   "cell_type": "code",
   "execution_count": null,
   "metadata": {},
   "outputs": [],
   "source": [
    "choclist = [\"Guylian\", \"Dairy Milk\", \"Toblerone\", \"Magic Stars\", \"Terry's Chocolate Orange\", \n",
    "\"Ripple\", \"Ferrero Rocher\"]\n",
    "\n",
    "#for chocolate in choclist:\n",
    "n = [chocolate for chocolate in choclist]\n",
    "print(n) #print to list"
   ]
  },
  {
   "cell_type": "code",
   "execution_count": null,
   "metadata": {},
   "outputs": [],
   "source": [
    "import random\n",
    "from random import random\n",
    "random_num = [num **2 + 1 - 5 for num in range(100)]\n",
    "print(random_num)\n",
    "\n",
    "\n",
    "print(random()) #prints random float numbers when run"
   ]
  },
  {
   "cell_type": "code",
   "execution_count": null,
   "metadata": {},
   "outputs": [],
   "source": [
    "from random import randrange #need to specify randrange for function to work\n",
    "def rand_gen():\n",
    "    i = randrange(1, 50)\n",
    "    while True:   \n",
    "        yield i\n",
    "        i += 1\n",
    "\n",
    "gen_rand = rand_gen()\n",
    "\n",
    "next(gen_rand) #will generate a random number between 1 and 50"
   ]
  },
  {
   "cell_type": "code",
   "execution_count": null,
   "metadata": {},
   "outputs": [],
   "source": [
    "gen2 = [x for x in range(100) if x%3==0]\n",
    "print(gen2) #prints out all multiples of 3 up to 100"
   ]
  },
  {
   "cell_type": "code",
   "execution_count": null,
   "metadata": {},
   "outputs": [],
   "source": [
    "gen3 = [x for x in range(100, 1000) if x%3==0]\n",
    "print(gen3) #prints out all multiples of 3 between 100 and 1000 "
   ]
  },
  {
   "cell_type": "code",
   "execution_count": null,
   "metadata": {},
   "outputs": [],
   "source": [
    "y = 44\n",
    "z = 265\n",
    "gen4 = [x for x in range(y, z) if x%3==0]\n",
    "print(gen4) #prints out all multiples of 3 between x and y "
   ]
  },
  {
   "cell_type": "code",
   "execution_count": null,
   "metadata": {},
   "outputs": [],
   "source": [
    "gen5 = [x**2 for x in range(100) if x%3==0 or x %2==0]\n",
    "print(gen5) #prints out all squares of numbers up to 100 if a multiple of 3 or an even number"
   ]
  },
  {
   "cell_type": "code",
   "execution_count": null,
   "metadata": {},
   "outputs": [],
   "source": [
    "def gen_gen():\n",
    " greetings = [\"hello\", \"welcome\", \"ahoy\", \"konnichiwa\", \"bonjour\", \"ciao\"]\n",
    "\n",
    " for x in greetings:\n",
    "    yield x \n",
    "    for x in greetings:\n",
    "        if len(x) in range(5):\n",
    "         yield x \n",
    "\n",
    "gengen = gen_gen()\n",
    "\n",
    "next(gengen) #hello\n",
    "next(gengen) #ahoy\n",
    "next(gengen) #ciao"
   ]
  },
  {
   "cell_type": "code",
   "execution_count": null,
   "metadata": {},
   "outputs": [],
   "source": [
    "greetings = [\"hello\", \"welcome\", \"ahoy\", \"konnichiwa\", \"bonjour\", \"ciao\", \"ni hao\"]\n",
    "greetings1 = [greeting for greeting in greetings if len(greeting) in range(5) ]\n",
    "print(greetings1) #['ahoy', 'ciao']"
   ]
  },
  {
   "cell_type": "code",
   "execution_count": null,
   "metadata": {},
   "outputs": [],
   "source": [
    "gen6 = [x**2 for x in range(10) if x%5==0 for x in range(x)]\n",
    "print(gen6) #if x % 5==0 x in range(x) - prints [0, 1, 4, 9, 16]\n",
    "            #if x % 5 ==0 num in range(x) - prints [25, 25, 25, 25, 25]\n"
   ]
  },
  {
   "cell_type": "code",
   "execution_count": null,
   "metadata": {},
   "outputs": [],
   "source": [
    "def gen_cycle():\n",
    "    n = 5\n",
    "    o = 50\n",
    "    # outer loop\n",
    "    for i in range(n, o):\n",
    "        x = i + 1\n",
    "        y = i *2\n",
    "        # nested loop\n",
    "        # to iterate from 1 to 10\n",
    "        for j in range(x, y):\n",
    "            # print multiplication\n",
    "            #print(i * j, end=' ') #prints all numbers within specified range\n",
    "            yield i*j\n",
    "        print()\n",
    "m = gen_cycle()\n",
    "\n",
    "next(m) #30\n",
    "next(m) #35"
   ]
  },
  {
   "cell_type": "markdown",
   "metadata": {},
   "source": [
    "Yes/No Generator"
   ]
  },
  {
   "cell_type": "code",
   "execution_count": null,
   "metadata": {},
   "outputs": [],
   "source": [
    "#yes/no generator\n",
    "def gen_yn():\n",
    " x = \"yes\"\n",
    " y = \"no\"\n",
    "\n",
    " for i in range(10):\n",
    "    if i % 2 == 0:\n",
    "     yield x \n",
    "     #print(x) #prints out \"no\" for all even numbers within range\n",
    "    else:\n",
    "     yield y\n",
    "     #print(y) #prints out \"yes\" for all odd numbers within range\n",
    " print()\n",
    "\n",
    "z = gen_yn()\n",
    "\n",
    "### prints individual outputs when using yield ###\n",
    "#next(z) #yes\n",
    "#next(z) #no\n",
    "#next(z) #yes\n",
    "#next(z) #no"
   ]
  },
  {
   "cell_type": "markdown",
   "metadata": {},
   "source": [
    "8-bit binary"
   ]
  },
  {
   "cell_type": "code",
   "execution_count": null,
   "metadata": {},
   "outputs": [],
   "source": [
    "#number in 8-bit binary format\n",
    "print(f'{0:08b}') #00000000\n",
    "print(f'{1:08b}') #00000001\n",
    "print(f'{256:08b}') #100000000"
   ]
  },
  {
   "cell_type": "code",
   "execution_count": null,
   "metadata": {},
   "outputs": [],
   "source": [
    "#numbers in 8-bit binary format within a range\n",
    "for x in range(25):\n",
    "    print(f'{x:08b}') #prints 8-bit binary numbers up to (but not including) 25"
   ]
  },
  {
   "cell_type": "code",
   "execution_count": null,
   "metadata": {},
   "outputs": [],
   "source": [
    "#generator comprehension for converting numbers to 8-bit binary format\n",
    "gen8bit = [f'{x:08b}' for x in range(257)]\n",
    "#y = gen8bit\n",
    "#print(f'{gen8bit:08b}')\n",
    "print(gen8bit) #prints numbers between 0 and 256 in 8-bit binary format"
   ]
  },
  {
   "cell_type": "code",
   "execution_count": null,
   "metadata": {},
   "outputs": [],
   "source": [
    "def gen8bit():\n",
    "\n",
    "    for x in range(257):\n",
    "        yield f'{x:08b}'\n",
    "        #print (f'{x:08b}') #prints out all the numbers between 0 and 256 in 8-bit binary format\n",
    "y = gen8bit()\n",
    "\n",
    "### print individual binary numbers when using yield ###\n",
    "next(y) #'00000000'\n",
    "next(y) #'00000001'\n",
    "next(y) #'00000010'\n",
    "next(y) #'00000011'\n",
    "next(y) #'00000100'\n",
    "next(y) #'00000101'\n",
    "next(y) #'00000110'\n",
    "next(y) #'00000111'\n",
    "next(y) #'00001000'"
   ]
  },
  {
   "cell_type": "code",
   "execution_count": null,
   "metadata": {},
   "outputs": [],
   "source": [
    "#8-bit binary generator\n",
    "def increment_8bitbinary(s):\n",
    "    #formatting string - works regardless of whether s is included\n",
    "    return f'{s:08b}'.format(1 + int(s, 2)) #format(1) only adds a 1 to the end of x\n",
    "    #format(1+int(s)) generates a long binary string \n",
    "\n",
    "    # {} places variable into string\n",
    "    # 0 takes variable at argument position 0\n",
    "    # : adds formatting variables for the variable \n",
    "    # 08 formats the number to 8 digits zero-padded on the left\n",
    "    # b converts the number to its binary position\n",
    "\n",
    "x = '00000000' #starting binary number as string\n",
    "for binary8bit in range(257): #range between 0 and 256\n",
    "    print (x) \n",
    "    x = increment_binary_string(x)"
   ]
  }
 ],
 "metadata": {
  "interpreter": {
   "hash": "b89b5cfaba6639976dc87ff2fec6d58faec662063367e2c229c520fe71072417"
  },
  "kernelspec": {
   "display_name": "Python 3.10.2 64-bit",
   "language": "python",
   "name": "python3"
  },
  "language_info": {
   "codemirror_mode": {
    "name": "ipython",
    "version": 3
   },
   "file_extension": ".py",
   "mimetype": "text/x-python",
   "name": "python",
   "nbconvert_exporter": "python",
   "pygments_lexer": "ipython3",
   "version": "3.10.2"
  },
  "orig_nbformat": 4
 },
 "nbformat": 4,
 "nbformat_minor": 2
}
