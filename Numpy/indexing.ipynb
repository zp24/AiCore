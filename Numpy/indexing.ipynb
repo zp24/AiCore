{
 "cells": [
  {
   "cell_type": "code",
   "execution_count": 3,
   "metadata": {},
   "outputs": [
    {
     "name": "stdout",
     "output_type": "stream",
     "text": [
      "(3, 1)\n"
     ]
    }
   ],
   "source": [
    "import numpy as np\n",
    "#Always use `np.array` in order to create an array because it infers `dtype` correctly!\n",
    "#array_1 = np.array([1,2,3], dtype=np.int8) #(1,)\n",
    "array_1 = np.array([[1,2,3], [4,5,6]], dtype=np.int8) #(3,1)\n",
    "\n",
    "print(array_1.strides) #strides define how many bytes one need to traverse in order to get next element for each dimension"
   ]
  },
  {
   "cell_type": "code",
   "execution_count": 4,
   "metadata": {},
   "outputs": [
    {
     "name": "stdout",
     "output_type": "stream",
     "text": [
      "[[2.12199579e-314 1.44932313e-311]\n",
      " [5.31614635e-321 6.95314361e-310]]\n"
     ]
    },
    {
     "data": {
      "text/plain": [
       "'[[2.12199579e-314 9.99460018e-312]\\n   [4.30825243e-321 6.95293141e-310]]'"
      ]
     },
     "execution_count": 4,
     "metadata": {},
     "output_type": "execute_result"
    }
   ],
   "source": [
    "nd_array1 = np.ndarray((2, 2)) #pass dimension of matrix to be generated - ndarray will populate with random numbers\n",
    "print(nd_array1) \n",
    "'''[[2.12199579e-314 9.99460018e-312]\n",
    "   [4.30825243e-321 6.95293141e-310]]'''"
   ]
  },
  {
   "cell_type": "code",
   "execution_count": 5,
   "metadata": {},
   "outputs": [
    {
     "name": "stdout",
     "output_type": "stream",
     "text": [
      "[1 2 3 4]\n",
      "[[1. 2. 3. 4.]\n",
      " [5. 6. 7. 8.]]\n"
     ]
    },
    {
     "data": {
      "text/plain": [
       "(dtype('int32'), numpy.ndarray, dtype('float64'), numpy.ndarray)"
      ]
     },
     "execution_count": 5,
     "metadata": {},
     "output_type": "execute_result"
    }
   ],
   "source": [
    "# Defining arrays\n",
    "arr1d_int = np.array([1, 2, 3, 4])\n",
    "arr2d_float = np.array(((1, 2, 3, 4), (5, 6, 7, 8.0)))  # Notice 8.0\n",
    "\n",
    "print(arr1d_int)\n",
    "print(arr2d_float)\n",
    "arr1d_int.dtype, type(arr1d_int), arr2d_float.dtype, type(arr2d_float) \n",
    "#(dtype('int32'), numpy.ndarray, dtype('float64'), numpy.ndarray)"
   ]
  },
  {
   "cell_type": "code",
   "execution_count": 6,
   "metadata": {},
   "outputs": [
    {
     "name": "stdout",
     "output_type": "stream",
     "text": [
      "[[0 1 2]\n",
      " [3 4 5]\n",
      " [6 7 8]]\n",
      "The data type of each element is: int32\n",
      "The length of each element in bytes is: 4\n",
      "The strides of the data types is: (12, 4)\n"
     ]
    }
   ],
   "source": [
    "# Explain values below based on the code and output\n",
    "arr = np.arange(9).reshape(3, 3)\n",
    "\n",
    "print(arr)\n",
    "'''[[0 1 2]\n",
    "   [3 4 5]\n",
    "   [6 7 8]]'''\n",
    "print(f'The data type of each element is: {arr.dtype}') #int32\n",
    "print(f'The length of each element in bytes is: {arr.itemsize}') #4\n",
    "print(f'The strides of the data types is: {arr.strides}') #(12,4)"
   ]
  },
  {
   "cell_type": "code",
   "execution_count": 7,
   "metadata": {},
   "outputs": [
    {
     "data": {
      "text/plain": [
       "array([[ 0,  1,  2,  3],\n",
       "       [ 4,  5,  6,  7],\n",
       "       [ 8,  9, 10, 11],\n",
       "       [12, 13, 14, 15],\n",
       "       [16, 17, 18, 19]])"
      ]
     },
     "execution_count": 7,
     "metadata": {},
     "output_type": "execute_result"
    }
   ],
   "source": [
    "matrix = np.arange(20).reshape(5, 4) #5 = number of rows, 4 = number of columns\n",
    "\n",
    "matrix"
   ]
  },
  {
   "cell_type": "code",
   "execution_count": 8,
   "metadata": {},
   "outputs": [
    {
     "data": {
      "text/plain": [
       "(0, 4, 1, 8)"
      ]
     },
     "execution_count": 8,
     "metadata": {},
     "output_type": "execute_result"
    }
   ],
   "source": [
    "# Obtaining single element - rows and elements start at 0\n",
    "matrix[0, 0], matrix[1, 0], matrix[0, 1], matrix[2][0] #(0,4,1,8)"
   ]
  },
  {
   "cell_type": "code",
   "execution_count": 9,
   "metadata": {},
   "outputs": [
    {
     "data": {
      "text/plain": [
       "array([ 0,  4,  8, 12, 16])"
      ]
     },
     "execution_count": 9,
     "metadata": {},
     "output_type": "execute_result"
    }
   ],
   "source": [
    "# : means all elements\n",
    "# 0 means 0th column\n",
    "\n",
    "matrix[:, 0] #array([ 0,  4,  8, 12, 16])"
   ]
  },
  {
   "cell_type": "code",
   "execution_count": 10,
   "metadata": {},
   "outputs": [
    {
     "name": "stdout",
     "output_type": "stream",
     "text": [
      "[0 1 2 3 4]\n",
      "[4 1 0 3 2]\n"
     ]
    },
    {
     "data": {
      "text/plain": [
       "array([[16, 17, 18, 19],\n",
       "       [ 4,  5,  6,  7],\n",
       "       [ 0,  1,  2,  3],\n",
       "       [12, 13, 14, 15],\n",
       "       [ 8,  9, 10, 11]])"
      ]
     },
     "execution_count": 10,
     "metadata": {},
     "output_type": "execute_result"
    }
   ],
   "source": [
    "# Shuffle rows using indices\n",
    "\n",
    "indices = np.arange(matrix.shape[0])\n",
    "print(indices)\n",
    "permuted = np.random.permutation(indices)\n",
    "print(permuted)\n",
    "\n",
    "matrix[permuted]"
   ]
  },
  {
   "cell_type": "code",
   "execution_count": 11,
   "metadata": {},
   "outputs": [
    {
     "data": {
      "text/plain": [
       "array([[0.14225545, 0.70889694, 0.05366056, 0.27529118, 0.51920662,\n",
       "        0.12284669],\n",
       "       [0.09877536, 0.78961925, 0.47357672, 0.82568889, 0.97844463,\n",
       "        0.20671197],\n",
       "       [0.87353187, 0.96340053, 0.46373248, 0.76500401, 0.26729851,\n",
       "        0.37650197],\n",
       "       [0.01467683, 0.83194843, 0.92785616, 0.99202688, 0.1221233 ,\n",
       "        0.83731191]])"
      ]
     },
     "execution_count": 11,
     "metadata": {},
     "output_type": "execute_result"
    }
   ],
   "source": [
    "np.random.rand(1,24).reshape(4, 6) #numbers in range are multiplied to fit into grid size specified in reshape()"
   ]
  },
  {
   "cell_type": "code",
   "execution_count": 12,
   "metadata": {},
   "outputs": [
    {
     "data": {
      "text/plain": [
       "array([[-0.74920541, -1.50671549, -0.53322925, -0.15662477,  0.49281523,\n",
       "         0.53392749],\n",
       "       [ 1.73557449,  0.21938696,  0.32921478,  1.05525583,  1.38820102,\n",
       "         1.97851486],\n",
       "       [ 0.23700007, -0.91247467, -1.58890803, -0.39546792, -2.32158363,\n",
       "        -1.02816862],\n",
       "       [-1.43070427, -0.82216427,  0.82121477, -0.02860913,  1.60049147,\n",
       "        -1.05539115]])"
      ]
     },
     "execution_count": 12,
     "metadata": {},
     "output_type": "execute_result"
    }
   ],
   "source": [
    "import random\n",
    "matrix1 = np.random.randn(24).reshape(4, 6) #4 = number of rows, 6 = number of columns\n",
    "\n",
    "matrix1"
   ]
  },
  {
   "cell_type": "code",
   "execution_count": 13,
   "metadata": {},
   "outputs": [
    {
     "data": {
      "text/plain": [
       "-0.9124746746423427"
      ]
     },
     "execution_count": 13,
     "metadata": {},
     "output_type": "execute_result"
    }
   ],
   "source": [
    "matrix1[2,1] #index element on 3rd row, 2nd column (rows and elements start at 0)\n"
   ]
  },
  {
   "cell_type": "code",
   "execution_count": 14,
   "metadata": {},
   "outputs": [
    {
     "data": {
      "text/plain": [
       "array([-1.50671549,  0.21938696, -0.91247467, -0.82216427])"
      ]
     },
     "execution_count": 14,
     "metadata": {},
     "output_type": "execute_result"
    }
   ],
   "source": [
    "matrix1[0:5,1] #prints elements in 2nd column"
   ]
  },
  {
   "cell_type": "code",
   "execution_count": 15,
   "metadata": {},
   "outputs": [
    {
     "data": {
      "text/plain": [
       "array([[-0.74920541, -1.50671549],\n",
       "       [ 1.73557449,  0.21938696],\n",
       "       [ 0.23700007, -0.91247467],\n",
       "       [-1.43070427, -0.82216427]])"
      ]
     },
     "execution_count": 15,
     "metadata": {},
     "output_type": "execute_result"
    }
   ],
   "source": [
    "matrix1[0:5,0:2] #prints elements in first 2 columns"
   ]
  },
  {
   "cell_type": "code",
   "execution_count": 16,
   "metadata": {},
   "outputs": [
    {
     "data": {
      "text/plain": [
       "array([[-0.74920541, -1.50671549, -0.53322925, -0.15662477],\n",
       "       [ 1.73557449,  0.21938696,  0.32921478,  1.05525583],\n",
       "       [ 0.23700007, -0.91247467, -1.58890803, -0.39546792],\n",
       "       [-1.43070427, -0.82216427,  0.82121477, -0.02860913]])"
      ]
     },
     "execution_count": 16,
     "metadata": {},
     "output_type": "execute_result"
    }
   ],
   "source": [
    "matrix1[0:5,0:4] #prints elements in first 4 columns"
   ]
  },
  {
   "cell_type": "code",
   "execution_count": 17,
   "metadata": {},
   "outputs": [
    {
     "data": {
      "text/plain": [
       "array([[-0.74920541, -1.50671549],\n",
       "       [ 1.73557449,  0.21938696],\n",
       "       [ 0.23700007, -0.91247467],\n",
       "       [-1.43070427, -0.82216427]])"
      ]
     },
     "execution_count": 17,
     "metadata": {},
     "output_type": "execute_result"
    }
   ],
   "source": [
    "matrix1[0:5,0:2] #prints elements in first 2 columns"
   ]
  },
  {
   "cell_type": "code",
   "execution_count": 18,
   "metadata": {},
   "outputs": [
    {
     "data": {
      "text/plain": [
       "array([[-0.74920541, -1.50671549, -0.53322925, -0.15662477,  0.49281523,\n",
       "         0.53392749],\n",
       "       [ 1.73557449,  0.21938696,  0.32921478,  1.05525583,  1.38820102,\n",
       "         1.97851486]])"
      ]
     },
     "execution_count": 18,
     "metadata": {},
     "output_type": "execute_result"
    }
   ],
   "source": [
    "matrix1[:2] #prints elements in first 2 rows"
   ]
  },
  {
   "cell_type": "code",
   "execution_count": 19,
   "metadata": {},
   "outputs": [
    {
     "data": {
      "text/plain": [
       "array([[-0.74920541, -1.50671549, -0.53322925]])"
      ]
     },
     "execution_count": 19,
     "metadata": {},
     "output_type": "execute_result"
    }
   ],
   "source": [
    "matrix1[:1,:3] #prints first 3 elements in 1st row"
   ]
  },
  {
   "cell_type": "code",
   "execution_count": 20,
   "metadata": {},
   "outputs": [
    {
     "data": {
      "text/plain": [
       "array([[-0.74920541, -1.50671549, -0.53322925, -0.15662477,  0.49281523,\n",
       "         0.53392749],\n",
       "       [ 0.23700007, -0.91247467, -1.58890803, -0.39546792, -2.32158363,\n",
       "        -1.02816862]])"
      ]
     },
     "execution_count": 20,
     "metadata": {},
     "output_type": "execute_result"
    }
   ],
   "source": [
    "matrix1[::2] #index elements in rows 1 and 2"
   ]
  },
  {
   "cell_type": "code",
   "execution_count": 21,
   "metadata": {},
   "outputs": [
    {
     "data": {
      "text/plain": [
       "array([[ 1.73557449,  0.21938696,  0.32921478,  1.05525583,  1.38820102,\n",
       "         1.97851486],\n",
       "       [ 0.23700007, -0.91247467, -1.58890803, -0.39546792, -2.32158363,\n",
       "        -1.02816862]])"
      ]
     },
     "execution_count": 21,
     "metadata": {},
     "output_type": "execute_result"
    }
   ],
   "source": [
    "matrix1[1:3] #index elements in rows 2 and 3"
   ]
  },
  {
   "cell_type": "code",
   "execution_count": 22,
   "metadata": {},
   "outputs": [
    {
     "data": {
      "text/plain": [
       "array([[ 1.73557449,  0.21938696,  0.32921478,  1.05525583,  1.38820102,\n",
       "         1.97851486],\n",
       "       [-1.43070427, -0.82216427,  0.82121477, -0.02860913,  1.60049147,\n",
       "        -1.05539115]])"
      ]
     },
     "execution_count": 22,
     "metadata": {},
     "output_type": "execute_result"
    }
   ],
   "source": [
    "matrix1[1::2] #index all even rows"
   ]
  },
  {
   "cell_type": "code",
   "execution_count": 23,
   "metadata": {},
   "outputs": [
    {
     "data": {
      "text/plain": [
       "array([[-0.74920541, -1.50671549, -0.53322925, -0.15662477,  0.49281523,\n",
       "         0.53392749],\n",
       "       [-1.43070427, -0.82216427,  0.82121477, -0.02860913,  1.60049147,\n",
       "        -1.05539115]])"
      ]
     },
     "execution_count": 23,
     "metadata": {},
     "output_type": "execute_result"
    }
   ],
   "source": [
    "matrix1[0::3] #index first and last rows"
   ]
  },
  {
   "cell_type": "markdown",
   "metadata": {},
   "source": [
    "Slice syntax => i:j:k\n",
    "\n",
    "i = starting index\n",
    "j = stopping index\n",
    "k = step k ≠ 0"
   ]
  },
  {
   "cell_type": "code",
   "execution_count": 24,
   "metadata": {},
   "outputs": [
    {
     "data": {
      "text/plain": [
       "array([[-0.74920541, -1.50671549, -0.53322925, -0.15662477,  0.49281523,\n",
       "         0.53392749],\n",
       "       [ 0.23700007, -0.91247467, -1.58890803, -0.39546792, -2.32158363,\n",
       "        -1.02816862]])"
      ]
     },
     "execution_count": 24,
     "metadata": {},
     "output_type": "execute_result"
    }
   ],
   "source": [
    "matrix1[0:3:2] #index elements in rows 1 and 3 (odd rows) - i:j:k"
   ]
  },
  {
   "cell_type": "code",
   "execution_count": 25,
   "metadata": {},
   "outputs": [
    {
     "data": {
      "text/plain": [
       "array([[1.73557449, 0.21938696, 0.32921478, 1.05525583, 1.38820102,\n",
       "        1.97851486]])"
      ]
     },
     "execution_count": 25,
     "metadata": {},
     "output_type": "execute_result"
    }
   ],
   "source": [
    "matrix1[1:4:3]"
   ]
  },
  {
   "cell_type": "code",
   "execution_count": 35,
   "metadata": {},
   "outputs": [
    {
     "data": {
      "text/plain": [
       "array([-0.74920541,  0.21938696, -1.58890803, -0.02860913])"
      ]
     },
     "execution_count": 35,
     "metadata": {},
     "output_type": "execute_result"
    }
   ],
   "source": [
    "matrix1.diagonal() #prints diagonal elements in matrix"
   ]
  }
 ],
 "metadata": {
  "interpreter": {
   "hash": "96845aca18e994caba59710a135a9f2069490d583ecd78ead3231a9fecf57406"
  },
  "kernelspec": {
   "display_name": "Python 3.9.7 ('selenium')",
   "language": "python",
   "name": "python3"
  },
  "language_info": {
   "codemirror_mode": {
    "name": "ipython",
    "version": 3
   },
   "file_extension": ".py",
   "mimetype": "text/x-python",
   "name": "python",
   "nbconvert_exporter": "python",
   "pygments_lexer": "ipython3",
   "version": "3.9.5"
  },
  "orig_nbformat": 4
 },
 "nbformat": 4,
 "nbformat_minor": 2
}
