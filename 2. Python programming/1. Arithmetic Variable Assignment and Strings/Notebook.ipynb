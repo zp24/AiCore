{
  "cells": [
    {
      "cell_type": "markdown",
      "metadata": {
        "id": "cEwwyGBsqIkC"
      },
      "source": [
        "# 1. Arithmetic, Variable Assignment and Strings"
      ]
    },
    {
      "cell_type": "markdown",
      "metadata": {
        "id": "grUUohLBqIkJ"
      },
      "source": [
        "## Prerequisites\n",
        "- Enthusiasm for and determination to learn Python for Data Science.\n",
        "- Patience... lots of patience: this is essential for learning anything, but especially coding, where literally nothing will ever go right first time.\n",
        "\n",
        "## Learning objectives\n",
        "- Understand the difference between integers and floats.\n",
        "- Understand the difference between None and int 0.\n",
        "- Know how to use Python as a calculator.\n",
        "- Know how to assign variables, and variable naming conventions.\n",
        "- Understand strings and some basic string methods including .format().\n",
        "- Know how to perform indexing and slicing."
      ]
    },
    {
      "cell_type": "markdown",
      "metadata": {
        "id": "XYXe85QlqIkL"
      },
      "source": [
        "# Introduction"
      ]
    },
    {
      "cell_type": "markdown",
      "metadata": {
        "id": "7BfXfPhFqIkM"
      },
      "source": [
        "## What is Python?\n",
        "- A coding language: a system of rules that can be used to operate a computer.\n",
        "- Dynamically typed (we will go into detail later).\n",
        "- Can have many uses (networks, games, graphics, apps).\n",
        "- We are focusing on data science applications of Python.\n",
        "- Python can be used for the whole data pipeline, from data input to model validation."
      ]
    },
    {
      "cell_type": "markdown",
      "metadata": {
        "id": "QZkDuPK5qIkM"
      },
      "source": [
        "## What is an IDE?\n",
        "- Integrated Development Environment: a place to write programs in a language.\n",
        "- Most famous for Python are PyCharm and Jupyter Notebook (also Spyder).\n",
        "- We will use Jupyter Notebook (advantages/drawbacks will be clear over time).\n",
        "- Jupyter Notebook works using cells.\n",
        "- You input your code into each cell and then run the code per cell.\n",
        "- Each cell acts as a 'mini-script' which can be executed independently of other cells.\n",
        "- The file type of a Jupyter Notebook is a __.ipynb file__ (IPython NoteBook).\n",
        "- .ipynb files cannot be opened directly by any program on your computer; rather, you have to open Jupyter Notebook first and then open the file from inside it. This is due to the structure of the file (too complicated to cover here).\n",
        "- The other common type of Python file is a .py script: this is a single file written usually in a text editor, and when it is executed, the entirety of the code runs in one go, rather than individual blocks.\n",
        "- .py scripts can be opened using any text editor including TextEdit on Mac or the equivalent on Windows (also other text editors)."
      ]
    },
    {
      "cell_type": "markdown",
      "metadata": {
        "id": "5pyVj6SAqIkN"
      },
      "source": [
        "## Jupyter Notebook\n",
        "- Has many keyboard shortcuts, you will get used to them.\n",
        "- Use Esc key to use shortcuts: use Esc + H to find a list.\n",
        "- 2 main types of cell:\n",
        "    - Code: this is self-explanatory.\n",
        "    - Markdown: used to write explanatory text/titles etc in a notebook."
      ]
    },
    {
      "cell_type": "markdown",
      "metadata": {
        "id": "jg4lbWC_qIkO"
      },
      "source": [
        "## Comments\n",
        "- A comment is a piece of text added to code to explain it and make it easier to understand for anyone reading who isn't the author.\n",
        "- \\# at the start of a line indicates that a line is a comment in a code cell.\n",
        "- There are 2 schools of thought on comments: some argue that comments should be used extensively, others argue they should be minimal as the code should be self-explanatory.\n",
        "- Do not be afraid of adding quite a lot of comments at first; as you get better at coding you will begin to realise what requires a comment and what doesn't.\n",
        "- Remember __readability and reproducibility are paramount__. Use this to guide your usage of comments."
      ]
    },
    {
      "cell_type": "markdown",
      "metadata": {
        "id": "YXXCmc_AqIkQ"
      },
      "source": [
        "## Data Types in Python\n",
        "Python can take in many data types, these include:\n",
        "- Integers (int).\n",
        "- Floating Point Numbers (float).\n",
        "- Strings (str).\n",
        "- Lists (list).\n",
        "- Dictionaries (dict).\n",
        "- Tuples (tuple).\n",
        "- Sets (set).\n",
        "- Booleans (bool)."
      ]
    },
    {
      "cell_type": "markdown",
      "metadata": {
        "id": "ZzD1w1OnqIkR"
      },
      "source": [
        "## Numbers in Python\n",
        "- Numbers in Python are of two types: \n",
        "    - Integers (int).\n",
        "    - Floating-point numbers (float).\n",
        "- Put simply: \n",
        "    - An integer is an integer.\n",
        "    - A floating-point number is any number with a decimal point.\n",
        "- The only catch with floating-point numbers is that due to the nature of floating-point calculations, they are not exactly what you expect them to be, and hence it is often better to round them."
      ]
    },
    {
      "cell_type": "markdown",
      "metadata": {
        "id": "lZUpLllOqIkT"
      },
      "source": [
        "## Arithmetic in Python\n",
        "- Arithmetic is fairly simple: we use the standard operators: \n",
        "### / * + - <br>\n",
        "- Python will follow Order of Operations (BIDMAS).\n",
        "- We use double asterisk __\\*\\*__ for powers (roots are just fractional powers).\n",
        "- Division always returns a floating-point number.\n",
        "- There are a couple of special operations:\n",
        "    - Modulo (x%y) gives the remainder of dividing x by y.\n",
        "    - Floor division (x//y) gives the result of dividing x by y rounded down to the nearest integer.\n",
        "- When using arithmetic operators, leave one space either side by convention, unless not leaving a space makes it clearer."
      ]
    },
    {
      "cell_type": "code",
      "execution_count": null,
      "metadata": {
        "id": "B2FHNm00qIkU",
        "outputId": "0b7c8f38-ac3c-462b-cca6-058edb64bca0"
      },
      "outputs": [
        {
          "data": {
            "text/plain": [
              "3"
            ]
          },
          "execution_count": 3,
          "metadata": {},
          "output_type": "execute_result"
        }
      ],
      "source": [
        "# Addition\n",
        "2 + 1"
      ]
    },
    {
      "cell_type": "code",
      "execution_count": null,
      "metadata": {
        "id": "oKty5LeeqIkX",
        "outputId": "c2096644-23ee-496b-97b5-4bfcbe87e824"
      },
      "outputs": [
        {
          "data": {
            "text/plain": [
              "1"
            ]
          },
          "execution_count": 4,
          "metadata": {},
          "output_type": "execute_result"
        }
      ],
      "source": [
        "# Subtraction\n",
        "2 - 1"
      ]
    },
    {
      "cell_type": "code",
      "execution_count": null,
      "metadata": {
        "id": "MwKkypn0qIkY",
        "outputId": "4be37331-6ac6-4d70-f04f-cb9d25912ef4"
      },
      "outputs": [
        {
          "data": {
            "text/plain": [
              "4"
            ]
          },
          "execution_count": 5,
          "metadata": {},
          "output_type": "execute_result"
        }
      ],
      "source": [
        "# Multiplication\n",
        "2 * 2"
      ]
    },
    {
      "cell_type": "code",
      "execution_count": null,
      "metadata": {
        "id": "1at-9KaqqIkZ",
        "outputId": "d7e44f0a-9088-4c32-c4d7-af08236e6c59"
      },
      "outputs": [
        {
          "data": {
            "text/plain": [
              "10.0"
            ]
          },
          "execution_count": 1,
          "metadata": {},
          "output_type": "execute_result"
        }
      ],
      "source": [
        "# Division\n",
        "10 / 1"
      ]
    },
    {
      "cell_type": "markdown",
      "metadata": {
        "id": "TnUEsbQFqIkZ"
      },
      "source": [
        "# Floor Division\n",
        "7 // 4"
      ]
    },
    {
      "cell_type": "code",
      "execution_count": null,
      "metadata": {
        "id": "yAh8FJ7CqIka",
        "outputId": "4f064e27-04f7-46d5-8868-99b9a2b5e59b"
      },
      "outputs": [
        {
          "data": {
            "text/plain": [
              "3"
            ]
          },
          "execution_count": 7,
          "metadata": {},
          "output_type": "execute_result"
        }
      ],
      "source": [
        "# Modulo\n",
        "7 % 4"
      ]
    },
    {
      "cell_type": "code",
      "execution_count": null,
      "metadata": {
        "id": "cvWpR9qZqIka",
        "outputId": "6390d67c-dfd2-475c-8954-1df2ac09bc13"
      },
      "outputs": [
        {
          "data": {
            "text/plain": [
              "0"
            ]
          },
          "execution_count": 8,
          "metadata": {},
          "output_type": "execute_result"
        }
      ],
      "source": [
        "# If modulo 2 of a number is equal to zero, the number is even\n",
        "6 % 2"
      ]
    },
    {
      "cell_type": "code",
      "execution_count": null,
      "metadata": {
        "id": "mtfb-eVMqIkb",
        "outputId": "00a9899a-33b2-4c8e-aa08-4455c72e8853"
      },
      "outputs": [
        {
          "data": {
            "text/plain": [
              "8"
            ]
          },
          "execution_count": 9,
          "metadata": {},
          "output_type": "execute_result"
        }
      ],
      "source": [
        "# Powers\n",
        "2 ** 3"
      ]
    },
    {
      "cell_type": "code",
      "execution_count": null,
      "metadata": {
        "id": "_Soy1zRKqIkb",
        "outputId": "12096c70-1eaa-45d5-b8a3-b50b6f39f55b"
      },
      "outputs": [
        {
          "data": {
            "text/plain": [
              "2.0"
            ]
          },
          "execution_count": 11,
          "metadata": {},
          "output_type": "execute_result"
        }
      ],
      "source": [
        "# Can also do roots this way\n",
        "4 ** 0.5"
      ]
    },
    {
      "cell_type": "code",
      "execution_count": null,
      "metadata": {
        "id": "g8dX5UFZqIkc",
        "outputId": "f6c20be2-d7c1-4f45-e3cc-a58434a26744"
      },
      "outputs": [
        {
          "data": {
            "text/plain": [
              "123"
            ]
          },
          "execution_count": 13,
          "metadata": {},
          "output_type": "execute_result"
        }
      ],
      "source": [
        "# Order of Operations followed in Python\n",
        "(2 + 10) * 10 + 3"
      ]
    },
    {
      "cell_type": "code",
      "execution_count": null,
      "metadata": {
        "id": "CD16lGhwqIkd",
        "outputId": "aa52ed65-ab89-4f15-b9b7-1b8459ebc7b7"
      },
      "outputs": [
        {
          "data": {
            "text/plain": [
              "156"
            ]
          },
          "execution_count": 10,
          "metadata": {},
          "output_type": "execute_result"
        }
      ],
      "source": [
        "# Can use parentheses to specify orders\n",
        "(2 + 10) * (10 + 3)"
      ]
    },
    {
      "cell_type": "code",
      "execution_count": null,
      "metadata": {
        "id": "Khupuk6GqIkd",
        "outputId": "57a784eb-3391-44b7-894e-64b979a27936"
      },
      "outputs": [
        {
          "data": {
            "text/plain": [
              "3.3333"
            ]
          },
          "execution_count": 20,
          "metadata": {},
          "output_type": "execute_result"
        }
      ],
      "source": [
        "# use round(expression, decimal_places) to give rounded answer\n",
        "round(10/3, 4)"
      ]
    },
    {
      "cell_type": "markdown",
      "metadata": {
        "id": "TV-QVlc9qIke"
      },
      "source": [
        "### NoneType\n",
        "- We must distinguish between None and 0 here.\n",
        "- None has data type 'NoneType' and is therefore a not a value (can use as placeholder before adding values).\n",
        "- 0 is an integer, and therefore a value, this shows that we have a value, but the value is the integer 0.\n",
        "- We can see this clearly when we check the types of each"
      ]
    },
    {
      "cell_type": "code",
      "execution_count": null,
      "metadata": {
        "id": "MSJBanAWqIke",
        "outputId": "ff477384-1dc9-4a0e-ec18-58de8b326ecd"
      },
      "outputs": [
        {
          "data": {
            "text/plain": [
              "NoneType"
            ]
          },
          "execution_count": 21,
          "metadata": {},
          "output_type": "execute_result"
        }
      ],
      "source": [
        "type(None)"
      ]
    },
    {
      "cell_type": "code",
      "execution_count": null,
      "metadata": {
        "id": "BuRyy8yfqIkf",
        "outputId": "55a047f9-a224-43c2-bc0e-6000c39cb059"
      },
      "outputs": [
        {
          "data": {
            "text/plain": [
              "int"
            ]
          },
          "execution_count": 146,
          "metadata": {},
          "output_type": "execute_result"
        }
      ],
      "source": [
        "type(0)"
      ]
    },
    {
      "cell_type": "code",
      "execution_count": null,
      "metadata": {
        "id": "rZfIMDn4qIkf",
        "outputId": "58417ba8-b6d6-49e8-8af7-52174cba8e5f"
      },
      "outputs": [
        {
          "data": {
            "text/plain": [
              "1"
            ]
          },
          "execution_count": 24,
          "metadata": {},
          "output_type": "execute_result"
        }
      ],
      "source": [
        "# 0 + 1 works as they are both numbers\n",
        "0 + 1"
      ]
    },
    {
      "cell_type": "code",
      "execution_count": null,
      "metadata": {
        "id": "IIA-36EgqIkf",
        "outputId": "911eb9fc-c894-4d95-b368-bbadab7e242b"
      },
      "outputs": [
        {
          "ename": "TypeError",
          "evalue": "unsupported operand type(s) for +: 'NoneType' and 'int'",
          "output_type": "error",
          "traceback": [
            "\u001b[0;31m---------------------------------------------------------------------------\u001b[0m",
            "\u001b[0;31mTypeError\u001b[0m                                 Traceback (most recent call last)",
            "\u001b[0;32m<ipython-input-27-b381659935a9>\u001b[0m in \u001b[0;36m<module>\u001b[0;34m\u001b[0m\n\u001b[1;32m      1\u001b[0m \u001b[0;31m# None + 1 throws an error, as None means there is nothing there\u001b[0m\u001b[0;34m\u001b[0m\u001b[0;34m\u001b[0m\u001b[0;34m\u001b[0m\u001b[0m\n\u001b[0;32m----> 2\u001b[0;31m \u001b[0;32mNone\u001b[0m \u001b[0;34m+\u001b[0m \u001b[0;36m1\u001b[0m\u001b[0;34m\u001b[0m\u001b[0;34m\u001b[0m\u001b[0m\n\u001b[0m",
            "\u001b[0;31mTypeError\u001b[0m: unsupported operand type(s) for +: 'NoneType' and 'int'"
          ]
        }
      ],
      "source": [
        "# None + 1 throws an error, as None means there is nothing there\n",
        "None + 1"
      ]
    },
    {
      "cell_type": "code",
      "execution_count": null,
      "metadata": {
        "id": "7atxUuXHqIkg"
      },
      "outputs": [],
      "source": [
        ""
      ]
    },
    {
      "cell_type": "markdown",
      "metadata": {
        "id": "w9L7hxl_qIkg"
      },
      "source": [
        "## Variable Assignment\n",
        "- Often we want to use the same object repeatedly, and hence rather than defining it repeatedly in code we can assign a variable which we use instead.\n",
        "- This concept is called DRY coding (Don't Repeat Yourself): we will see many examples of this throughout.\n",
        "- We assign variables by using the equals sign __=__ in Python\n",
        "- Variables are named using the following guidelines:"
      ]
    },
    {
      "cell_type": "code",
      "execution_count": null,
      "metadata": {
        "id": "bvG5QGfuqIkh",
        "outputId": "56c743cc-2d75-450e-ada7-ecd0f62a51fe"
      },
      "outputs": [
        {
          "ename": "SyntaxError",
          "evalue": "cannot assign to operator (<ipython-input-2-ae2623f81281>, line 1)",
          "output_type": "error",
          "traceback": [
            "\u001b[0;36m  File \u001b[0;32m\"<ipython-input-2-ae2623f81281>\"\u001b[0;36m, line \u001b[0;32m1\u001b[0m\n\u001b[0;31m    x + 1 = y\u001b[0m\n\u001b[0m    ^\u001b[0m\n\u001b[0;31mSyntaxError\u001b[0m\u001b[0;31m:\u001b[0m cannot assign to operator\n"
          ]
        }
      ],
      "source": [
        "x + 1 = y"
      ]
    },
    {
      "cell_type": "markdown",
      "metadata": {
        "id": "Fkwxvrg4qIkh"
      },
      "source": [
        "## Variable Naming\n",
        "1. Use __snake_case__: all lowercase, no spaces, underscores \\_ instead.\n",
        "2. Names cannot start with a number or use these symbols: \n",
        "__\\: \\' \\\" \\, \\< \\> \\/ \\? \\| \\\\ \\( \\) \\! @ \\# \\$ \\% \\^ \\& \\* \\~ \\- \\+__\n",
        "3. Avoid using 'l' (lowercase l), 'O' (uppercase o), or 'I' (uppercase i) as single character names.\n",
        "4. Do __NOT__ use Python keywords (see below for a list of keywords).\n",
        "\n",
        "__If you reassign a Python keyword by accident, use Kernel --> Restart to reset everything back to normal.__ \n",
        "\n",
        "See PEP8 for further details in this [link](https://www.python.org/dev/peps/pep-0008/)"
      ]
    },
    {
      "cell_type": "code",
      "execution_count": null,
      "metadata": {
        "id": "ISfBiZWHqIkh",
        "outputId": "22f7604e-f0f5-4cb2-f428-e3c066ba1c79"
      },
      "outputs": [
        {
          "name": "stdout",
          "output_type": "stream",
          "text": [
            "False\n",
            "None\n",
            "True\n",
            "and\n",
            "as\n",
            "assert\n",
            "async\n",
            "await\n",
            "break\n",
            "class\n",
            "continue\n",
            "def\n",
            "del\n",
            "elif\n",
            "else\n",
            "except\n",
            "finally\n",
            "for\n",
            "from\n",
            "global\n",
            "if\n",
            "import\n",
            "in\n",
            "is\n",
            "lambda\n",
            "nonlocal\n",
            "not\n",
            "or\n",
            "pass\n",
            "raise\n",
            "return\n",
            "try\n",
            "while\n",
            "with\n",
            "yield\n"
          ]
        }
      ],
      "source": [
        "# List of keywords\n",
        "import keyword\n",
        "\n",
        "for i in keyword.kwlist:\n",
        "    print(i)"
      ]
    },
    {
      "cell_type": "markdown",
      "metadata": {
        "id": "s5WSOTy8qIki"
      },
      "source": [
        "Here we create an object named x (a variable) and give it the integer value 5. <br>\n",
        "The \\= sign assigns the value on the right to the object on the left:"
      ]
    },
    {
      "cell_type": "code",
      "execution_count": null,
      "metadata": {
        "id": "7VBXX23pqIki"
      },
      "outputs": [],
      "source": [
        "x = 3"
      ]
    },
    {
      "cell_type": "markdown",
      "metadata": {
        "id": "CZ3rn75QqIki"
      },
      "source": [
        "This is called calling the variable:"
      ]
    },
    {
      "cell_type": "code",
      "execution_count": null,
      "metadata": {
        "id": "b7UlAD9aqIki",
        "outputId": "f6a2ca81-71d0-4ab2-9eb4-6d6bf820393c"
      },
      "outputs": [
        {
          "data": {
            "text/plain": [
              "3"
            ]
          },
          "execution_count": 38,
          "metadata": {},
          "output_type": "execute_result"
        }
      ],
      "source": [
        "x"
      ]
    },
    {
      "cell_type": "markdown",
      "metadata": {
        "id": "Eflo5QAqqIkj"
      },
      "source": [
        "Arithmetic done using variables uses the system of the underlying objects (differs between data types). <br>\n",
        "We will see how this works as we discover more data types:"
      ]
    },
    {
      "cell_type": "code",
      "execution_count": null,
      "metadata": {
        "id": "R6ZLl_R1qIkj",
        "outputId": "d404da43-3e4c-49bb-bfa5-01dfb7661e85"
      },
      "outputs": [
        {
          "data": {
            "text/plain": [
              "6"
            ]
          },
          "execution_count": 39,
          "metadata": {},
          "output_type": "execute_result"
        }
      ],
      "source": [
        "x + x"
      ]
    },
    {
      "cell_type": "markdown",
      "metadata": {
        "id": "hZPkm3ZwqIkj"
      },
      "source": [
        "We can reassign x to be 10 with no errors: this is called reassignment and is an example of __'dynamic typing'__.<br>\n",
        "In a __'statically typed'__ language such as C, this would throw an error:"
      ]
    },
    {
      "cell_type": "code",
      "execution_count": null,
      "metadata": {
        "id": "yxLsU8FaqIkk"
      },
      "outputs": [],
      "source": [
        "x = 10"
      ]
    },
    {
      "cell_type": "markdown",
      "metadata": {
        "id": "q0r6JHO2qIkk"
      },
      "source": [
        "We can now see x has changed from 3 to 10:"
      ]
    },
    {
      "cell_type": "code",
      "execution_count": null,
      "metadata": {
        "id": "UC_-AwIZqIkk",
        "outputId": "b39ceae4-f0a9-4e3e-892a-77afae70efe5"
      },
      "outputs": [
        {
          "data": {
            "text/plain": [
              "10"
            ]
          },
          "execution_count": 45,
          "metadata": {},
          "output_type": "execute_result"
        }
      ],
      "source": [
        "x"
      ]
    },
    {
      "cell_type": "markdown",
      "metadata": {
        "id": "CWEG1A2aqIkk"
      },
      "source": [
        "#### A short note on the print() function\n",
        "- Before, we have just called the variable, now we see how to display it.\n",
        "- The print() function __displays__ the output rather than just returning it: in Jupyter Notebook this often makes no practical difference, but when working in other IDEs, you may not see the output unless you print it.\n",
        "- This becomes obvious when you want to see 2 things from a cell: Jupyter Notebook will __only show you the latest call__.\n",
        "- print() statements can be used to display multiple outputs.\n",
        "- We can specify the 'end' parameter inside the print() function to change how a print() statement ends.\n",
        "- e.g. __end = \"\\n\\n\" provides a new line after the print() output: this can be useful to make the output more readable__.\n",
        "- A blank print() statement also gives a new line."
      ]
    },
    {
      "cell_type": "code",
      "execution_count": null,
      "metadata": {
        "id": "_b9e_O5vqIkl",
        "outputId": "892a04c9-34be-4b6c-897b-844a5c775509"
      },
      "outputs": [
        {
          "data": {
            "text/plain": [
              "2"
            ]
          },
          "execution_count": 46,
          "metadata": {},
          "output_type": "execute_result"
        }
      ],
      "source": [
        "# assigning a and b\n",
        "a = 1\n",
        "b = 2\n",
        "\n",
        "# calling a and b\n",
        "a\n",
        "b"
      ]
    },
    {
      "cell_type": "code",
      "execution_count": null,
      "metadata": {
        "id": "NclTCi0QqIkl",
        "outputId": "c9530e24-4a43-4572-d4eb-48d5590a2863"
      },
      "outputs": [
        {
          "name": "stdout",
          "output_type": "stream",
          "text": [
            "1\n",
            "2\n"
          ]
        }
      ],
      "source": [
        "# printing a and b\n",
        "print(a)\n",
        "print(b)"
      ]
    },
    {
      "cell_type": "code",
      "execution_count": null,
      "metadata": {
        "id": "wY4siIpnqIkl",
        "outputId": "5872b91e-5036-4522-c20b-9e8b46b876dc"
      },
      "outputs": [
        {
          "name": "stdout",
          "output_type": "stream",
          "text": [
            "1\n",
            "\n",
            "2\n"
          ]
        }
      ],
      "source": [
        "# using end to give a new line\n",
        "print(a, end=\"\\n\\n\")\n",
        "print(b)"
      ]
    },
    {
      "cell_type": "code",
      "execution_count": null,
      "metadata": {
        "id": "R0EpCvVbqIkm",
        "outputId": "973bd756-e6aa-4c4b-d56d-9bc38f919288"
      },
      "outputs": [
        {
          "name": "stdout",
          "output_type": "stream",
          "text": [
            "1\n",
            "\n",
            "2\n"
          ]
        }
      ],
      "source": [
        "# using a blank print statement to give a new line\n",
        "print(a)\n",
        "print()\n",
        "print(b)"
      ]
    },
    {
      "cell_type": "markdown",
      "metadata": {
        "id": "-YImnaRgqIkn"
      },
      "source": [
        "## Back to Variable Assignment...\n",
        "We can even redefine x using x itself. <br>\n",
        "Here, x is being __called__ on the right of the = sign, and being *redefined* on the left. <br>\n",
        "We can think of this as *new x* = __old x__ + __old x__ (*new x* = __10__ + __10__):"
      ]
    },
    {
      "cell_type": "code",
      "execution_count": null,
      "metadata": {
        "id": "iD-FY4a5qIkn"
      },
      "outputs": [],
      "source": [
        "x = x + x"
      ]
    },
    {
      "cell_type": "markdown",
      "metadata": {
        "id": "oTTpc8guqIkn"
      },
      "source": [
        "x is now equal to 20:"
      ]
    },
    {
      "cell_type": "code",
      "execution_count": null,
      "metadata": {
        "id": "PXCqqPnhqIkn",
        "outputId": "0948f4eb-843d-43fd-cbf7-ad0bc5e95459"
      },
      "outputs": [
        {
          "data": {
            "text/plain": [
              "40"
            ]
          },
          "metadata": {},
          "output_type": "display_data"
        }
      ],
      "source": [
        "x"
      ]
    },
    {
      "cell_type": "code",
      "execution_count": null,
      "metadata": {
        "id": "IycEMkKxqIko",
        "outputId": "00a38dc7-0a8e-47dd-acd9-9b0ae4fa4225"
      },
      "outputs": [
        {
          "data": {
            "text/plain": [
              "12.0"
            ]
          },
          "execution_count": 58,
          "metadata": {},
          "output_type": "execute_result"
        }
      ],
      "source": [
        "# clearly named variables are key when writing production-quality code\n",
        "shopping_bill = 10.00\n",
        "\n",
        "vat_rate = 1.2\n",
        "\n",
        "bill_with_vat = shopping_bill * vat_rate\n",
        "\n",
        "bill_with_vat"
      ]
    },
    {
      "cell_type": "markdown",
      "metadata": {
        "id": "PFt3XHn8qIko"
      },
      "source": [
        "## Strings in Python\n",
        "- Strings (str) are a way of representing textual information in Python.\n",
        "- They are denoted by quotation marks: single ('') or double (\"\").\n",
        "- It is usually best to use double speech marks, as apostrophes in text can prematurely end a string.\n",
        "- Apostrophes or other special characters in strings can be escaped using the backslash \\\\ character."
      ]
    },
    {
      "cell_type": "markdown",
      "metadata": {
        "id": "1fcSwh02qIko"
      },
      "source": [
        "## String Functions and Methods\n",
        "- print() displays the output contained within it.\n",
        "- For strings, print() interprets escape characters (tabs, new lines etc.) and displays the string without quotations.\n",
        "- A method is a function associated with an object.\n",
        "- Strings have many associated methods, we will look at a few here.\n",
        "- Can find the rest at: \n",
        "<br> https://docs.python.org/2/library/stdtypes.html#string-methods"
      ]
    },
    {
      "cell_type": "code",
      "execution_count": null,
      "metadata": {
        "id": "zoYghk68qIkp",
        "outputId": "d8e59d51-47e1-42c4-e40b-ade1a95ed2d5"
      },
      "outputs": [
        {
          "name": "stdout",
          "output_type": "stream",
          "text": [
            "hi\n"
          ]
        }
      ],
      "source": [
        "x = \"Hello World\"\n",
        "print('hi')"
      ]
    },
    {
      "cell_type": "code",
      "execution_count": null,
      "metadata": {
        "id": "IfKngJjSqIkp",
        "outputId": "d75655d8-9419-44eb-bf1c-214ee8f3783f"
      },
      "outputs": [
        {
          "ename": "SyntaxError",
          "evalue": "invalid syntax (<ipython-input-19-f68951f46ab8>, line 1)",
          "output_type": "error",
          "traceback": [
            "\u001b[0;36m  File \u001b[0;32m\"<ipython-input-19-f68951f46ab8>\"\u001b[0;36m, line \u001b[0;32m1\u001b[0m\n\u001b[0;31m    print('What's the problem here?')\u001b[0m\n\u001b[0m                ^\u001b[0m\n\u001b[0;31mSyntaxError\u001b[0m\u001b[0;31m:\u001b[0m invalid syntax\n"
          ]
        }
      ],
      "source": [
        "# Using single quotations can be problematic, here, the apostrophe ends the string early\n",
        "print('What's the problem here?')"
      ]
    },
    {
      "cell_type": "code",
      "execution_count": null,
      "metadata": {
        "id": "ikSS5wIoqIkp",
        "outputId": "c932d23d-d813-4f61-d519-2c04318e3150"
      },
      "outputs": [
        {
          "name": "stdout",
          "output_type": "stream",
          "text": [
            "What's the problem here?\n"
          ]
        }
      ],
      "source": [
        "# we can use double quotations\n",
        "print(\"What's the problem here?\")"
      ]
    },
    {
      "cell_type": "code",
      "execution_count": null,
      "metadata": {
        "id": "C3bIsqmIqIkp",
        "outputId": "13347458-6aa3-4037-d1b9-cad385f09e8a"
      },
      "outputs": [
        {
          "name": "stdout",
          "output_type": "stream",
          "text": [
            "What's the \"problem\" here?\n"
          ]
        }
      ],
      "source": [
        "# or backslash if we have single and double quotes\n",
        "print(\"What\\'s the \\\"problem\\\" here?\")"
      ]
    },
    {
      "cell_type": "code",
      "execution_count": null,
      "metadata": {
        "id": "5O0Snl1ZqIkq",
        "outputId": "d814c38d-a115-4eb8-ba66-47d00fbe8321"
      },
      "outputs": [
        {
          "name": "stdout",
          "output_type": "stream",
          "text": [
            "HELLO WORLD\n",
            "Hello World\n"
          ]
        },
        {
          "data": {
            "text/plain": [
              "1"
            ]
          },
          "execution_count": 73,
          "metadata": {},
          "output_type": "execute_result"
        }
      ],
      "source": [
        "# .upper() method makes all caps (not inplace)\n",
        "print(x.upper())\n",
        "print(x)\n",
        "\n",
        "\n",
        "y = 1\n",
        "y = str(1)\n",
        "y = int(y)\n",
        "round(y)"
      ]
    },
    {
      "cell_type": "code",
      "execution_count": null,
      "metadata": {
        "id": "KGufeVIvqIkq",
        "outputId": "d9d3fcc1-6b68-4a3f-c4cf-f7d4c100136d"
      },
      "outputs": [
        {
          "name": "stdout",
          "output_type": "stream",
          "text": [
            "Hello World\n",
            "HELLO WORLD\n"
          ]
        }
      ],
      "source": [
        "# if we want to change x itself, we must reassign it\n",
        "print(x)\n",
        "\n",
        "x = x.upper()\n",
        "\n",
        "print(x)"
      ]
    },
    {
      "cell_type": "code",
      "execution_count": null,
      "metadata": {
        "id": "RJMtPloxqIkr",
        "outputId": "d84c10ec-8b7d-45ec-d0b9-6f166a4b9cd9"
      },
      "outputs": [
        {
          "data": {
            "text/plain": [
              "'How are you?'"
            ]
          },
          "execution_count": 3,
          "metadata": {},
          "output_type": "execute_result"
        }
      ],
      "source": [
        "z = \"how are you?\"\n",
        "z.capitalize()"
      ]
    },
    {
      "cell_type": "code",
      "execution_count": null,
      "metadata": {
        "id": "Amf4Ub8eqIkr",
        "outputId": "77d8780b-3ebe-47db-b2f5-3d72166cc6eb"
      },
      "outputs": [
        {
          "name": "stdout",
          "output_type": "stream",
          "text": [
            "hello world\n"
          ]
        }
      ],
      "source": [
        "# .lower() method makes all lowercase (not inplace)\n",
        "print(x.lower())"
      ]
    },
    {
      "cell_type": "code",
      "execution_count": null,
      "metadata": {
        "id": "kBhpYxt8qIkr",
        "outputId": "d0811592-9b35-4537-a433-5d3f1d8d40e8"
      },
      "outputs": [
        {
          "name": "stdout",
          "output_type": "stream",
          "text": [
            "['Hello', 'World']\n",
            "['Hell', ' W', 'rld']\n"
          ]
        }
      ],
      "source": [
        "# .split() method splits on space as default or desired separator\n",
        "print(x.split())\n",
        "print(x.split(\"o\"))"
      ]
    },
    {
      "cell_type": "markdown",
      "metadata": {
        "id": "TW09UyLfqIkr"
      },
      "source": [
        "## .format Method\n",
        "- The .format method is a way of inserting something into a string.\n",
        "- This can be other strings or a variable taken from elsewhere in your code.\n",
        "- The syntax used is detailed below.\n",
        "- When using .format to add in a float to a string, we can specify the width and precision of the decimal."
      ]
    },
    {
      "cell_type": "code",
      "execution_count": null,
      "metadata": {
        "id": "sq2pXES7qIks",
        "outputId": "0e427947-3575-4900-edfb-b7d1f34143e7"
      },
      "outputs": [
        {
          "name": "stdout",
          "output_type": "stream",
          "text": [
            "The fox brown quick\n"
          ]
        }
      ],
      "source": [
        "# default prints in order\n",
        "print(\"The {} {} {}\".format(\"fox\", \"brown\", \"quick\"))"
      ]
    },
    {
      "cell_type": "code",
      "execution_count": null,
      "metadata": {
        "id": "54R6JiIrqIks",
        "outputId": "99742877-6c11-4f0a-a24f-902003693cb7"
      },
      "outputs": [
        {
          "name": "stdout",
          "output_type": "stream",
          "text": [
            "The quick brown fox\n"
          ]
        }
      ],
      "source": [
        "# can index\n",
        "print(\"The {2} {1} {0}\".format(\"fox\", \"brown\", \"quick\"))"
      ]
    },
    {
      "cell_type": "code",
      "execution_count": null,
      "metadata": {
        "id": "at2bvaMwqIks",
        "outputId": "2e3677e5-6621-457e-a360-b0ad40043b01"
      },
      "outputs": [
        {
          "name": "stdout",
          "output_type": "stream",
          "text": [
            "The quick brown fox\n"
          ]
        }
      ],
      "source": [
        "# can use variable keys for readability\n",
        "print(\"The {q} {b} {f}\".format(f=\"fox\", b=\"brown\", q=\"quick\"))"
      ]
    },
    {
      "cell_type": "code",
      "execution_count": null,
      "metadata": {
        "id": "gZGpbyTkqIks",
        "outputId": "ebc2ebc2-7a8e-4098-fce8-6911ad083c35"
      },
      "outputs": [
        {
          "name": "stdout",
          "output_type": "stream",
          "text": [
            "0.1287001287001287\n",
            "\n",
            "The result was 0.129\n",
            "The result was 0.129\n",
            "The result was 0.1287001\n",
            "The result was 0.129\n"
          ]
        }
      ],
      "source": [
        "# create long decimal\n",
        "result = 100/777\n",
        "print(result, end = \"\\n\\n\")\n",
        "\n",
        "# use value:width.precisionf for formatting\n",
        "# width is minimum length of string, padded with whitespace if necessary\n",
        "# precision is decimal places\n",
        "print(\"The result was {:1.3f}\".format(result))\n",
        "print(\"The result was {r:1.3f}\".format(r=result))\n",
        "print(\"The result was {r:1.7f}\".format(r=result))\n",
        "print(\"The result was {r:.3f}\".format(r=result))"
      ]
    },
    {
      "cell_type": "markdown",
      "metadata": {
        "id": "4Gwe90mVqIkt"
      },
      "source": [
        "## String Indexing and Slicing\n",
        "- Strings are iterable, meaning they can return their elements one at a time.\n",
        "- Strings are also immutable, meaning their elements cannot be changed once assigned.\n",
        "- They must be __REASSIGNED__ in order to change them.\n",
        "- Each character in the string is one element: this includes spaces and punctuation.\n",
        "- We can make use of this to call back one element (indexing).\n",
        "- Or a range of elements (slicing)."
      ]
    },
    {
      "cell_type": "markdown",
      "metadata": {
        "id": "U0TMsm4iqIkt"
      },
      "source": [
        "In Python:\n",
        "- Indexing starts at 0 (zero).\n",
        "- Slicing is inclusive at the lower bound (including).\n",
        "- Slicing is exclusive at the upper bound (up to but not including)."
      ]
    },
    {
      "cell_type": "code",
      "execution_count": null,
      "metadata": {
        "id": "6m_yuKelqIkt"
      },
      "outputs": [],
      "source": [
        "my_first_string = \"Hello World\""
      ]
    },
    {
      "cell_type": "code",
      "execution_count": null,
      "metadata": {
        "id": "bTnlrUFPqIkt",
        "outputId": "833db285-a4d3-4805-c7fe-0f3fb15326e1"
      },
      "outputs": [
        {
          "data": {
            "text/plain": [
              "'H'"
            ]
          },
          "execution_count": 15,
          "metadata": {},
          "output_type": "execute_result"
        }
      ],
      "source": [
        "# Index 0 gives first element\n",
        "my_first_string[0]"
      ]
    },
    {
      "cell_type": "markdown",
      "metadata": {
        "id": "tpa2X0bSqIku"
      },
      "source": [
        "Use colon to indicate slice, 1:4 returns 2nd (index 1), 3rd (index 2), 4th (index 3) items __but not 5th (index 4)__:"
      ]
    },
    {
      "cell_type": "code",
      "execution_count": null,
      "metadata": {
        "id": "KSKcaVj5qIku",
        "outputId": "45194922-fae7-48df-ddef-c14df2ca0337"
      },
      "outputs": [
        {
          "data": {
            "text/plain": [
              "'ell'"
            ]
          },
          "execution_count": 16,
          "metadata": {},
          "output_type": "execute_result"
        }
      ],
      "source": [
        "my_first_string[1:4]"
      ]
    },
    {
      "cell_type": "markdown",
      "metadata": {
        "id": "gafm_pcFqIku"
      },
      "source": [
        "Absent upper bound starts with first index indicated and gives everything beyond:"
      ]
    },
    {
      "cell_type": "code",
      "execution_count": null,
      "metadata": {
        "id": "cHJh7vk0qIku",
        "outputId": "20f8d9a8-a146-47b3-8011-75d3010f610e"
      },
      "outputs": [
        {
          "data": {
            "text/plain": [
              "'ello World'"
            ]
          },
          "execution_count": 17,
          "metadata": {},
          "output_type": "execute_result"
        }
      ],
      "source": [
        "my_first_string[1:]"
      ]
    },
    {
      "cell_type": "markdown",
      "metadata": {
        "id": "qg-7LjP0qIkv"
      },
      "source": [
        "Absent lower bound starts from index 0, up to but not including upper bound:"
      ]
    },
    {
      "cell_type": "code",
      "execution_count": null,
      "metadata": {
        "id": "jVJTVHdWqIkv",
        "outputId": "7b8b7fb0-a65d-4b29-f295-d4ed1b5ef4df"
      },
      "outputs": [
        {
          "data": {
            "text/plain": [
              "'Hel'"
            ]
          },
          "execution_count": 18,
          "metadata": {},
          "output_type": "execute_result"
        }
      ],
      "source": [
        "my_first_string[:3]"
      ]
    },
    {
      "cell_type": "markdown",
      "metadata": {
        "id": "r8b6rixfqIkv"
      },
      "source": [
        "We cannot change elements of a string:"
      ]
    },
    {
      "cell_type": "code",
      "execution_count": null,
      "metadata": {
        "id": "IzHukpluqIkv",
        "outputId": "c8f85b21-9037-4ce8-c7ef-2832b217b5e1"
      },
      "outputs": [
        {
          "ename": "TypeError",
          "evalue": "'str' object does not support item assignment",
          "output_type": "error",
          "traceback": [
            "\u001b[0;31m---------------------------------------------------------------------------\u001b[0m",
            "\u001b[0;31mTypeError\u001b[0m                                 Traceback (most recent call last)",
            "\u001b[0;32m<ipython-input-21-987619901b59>\u001b[0m in \u001b[0;36m<module>\u001b[0;34m\u001b[0m\n\u001b[1;32m      1\u001b[0m \u001b[0;31m# we cannot change elements of a string\u001b[0m\u001b[0;34m\u001b[0m\u001b[0;34m\u001b[0m\u001b[0;34m\u001b[0m\u001b[0m\n\u001b[0;32m----> 2\u001b[0;31m \u001b[0mmy_first_string\u001b[0m\u001b[0;34m[\u001b[0m\u001b[0;36m0\u001b[0m\u001b[0;34m]\u001b[0m \u001b[0;34m=\u001b[0m \u001b[0;34m'l'\u001b[0m\u001b[0;34m\u001b[0m\u001b[0;34m\u001b[0m\u001b[0m\n\u001b[0m",
            "\u001b[0;31mTypeError\u001b[0m: 'str' object does not support item assignment"
          ]
        }
      ],
      "source": [
        "my_first_string[0] = 'l'"
      ]
    },
    {
      "cell_type": "markdown",
      "metadata": {
        "id": "PHn1gSRgqIkw"
      },
      "source": [
        "## Summary\n",
        "We now understand:\n",
        "- The nature of ints and floats.\n",
        "- The nature of None.\n",
        "- The nature of variables.\n",
        "- What strings and print formatting are.\n",
        "<br><br>\n",
        "\n",
        "We now know how to:\n",
        "- Use python as a calculator.\n",
        "- Assign variables and use them.\n",
        "- Use strings and string methods including .upper(), .lower(), .split() and .format().\n",
        "- Add in objects to strings using .format().\n",
        "- Format floats.\n",
        "- Index strings.\n",
        "- Slice strings.\n",
        "\n",
        "\n",
        "Please refer back to this notebook to check if you are unsure of any commands or syntax. <br>\n",
        "Please use the documentation below to find further string methods and conventions for style in Python.\n",
        "\n",
        "## Further reading\n",
        "- PEP8 Style Documentation: https://www.python.org/dev/peps/pep-0008/\n",
        "- String Methods: https://docs.python.org/2/library/stdtypes.html#string-methods\n",
        "- Python None: https://docs.python.org/3/c-api/none.html"
      ]
    },
    {
      "cell_type": "code",
      "execution_count": null,
      "metadata": {
        "id": "OF7_d8u8qIkw"
      },
      "outputs": [],
      "source": [
        ""
      ]
    }
  ],
  "metadata": {
    "interpreter": {
      "hash": "3d597f4c481aa0f25dceb95d2a0067e73c0966dcbd003d741d821a7208527ecf"
    },
    "kernelspec": {
      "display_name": "Python 3.9.1 64-bit ('base': conda)",
      "name": "python3"
    },
    "language_info": {
      "codemirror_mode": {
        "name": "ipython",
        "version": 3
      },
      "file_extension": ".py",
      "mimetype": "text/x-python",
      "name": "python",
      "nbconvert_exporter": "python",
      "pygments_lexer": "ipython3",
      "version": "3.9.1"
    },
    "colab": {
      "name": "Notebook.ipynb",
      "provenance": []
    }
  },
  "nbformat": 4,
  "nbformat_minor": 0
}