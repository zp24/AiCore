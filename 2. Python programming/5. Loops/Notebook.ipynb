{
  "cells": [
    {
      "cell_type": "markdown",
      "metadata": {
        "id": "7sGexPpDtdQq"
      },
      "source": [
        "# 5 : For Loops"
      ]
    },
    {
      "cell_type": "markdown",
      "metadata": {
        "id": "H8Kk_oiwtdQ0"
      },
      "source": [
        "## Learning objectives\n",
        "- Understand the concept of definite iteration.\n",
        "- Know how to use a basic for loop.\n",
        "- Know how to use a for loop with the range() function.\n",
        "- Know how to use range(len(iterable)) to iterate on index.\n",
        "- Know how to use tuple unpacking in iteration.\n",
        "- Know how to iterate through dictionaries.\n",
        "- Know how to use conditional statements inside for loops.\n",
        "- Know how to use pass, break and continue keywords.\n",
        "- Know how to create and iterate through zip and enumerate objects.\n",
        "- Know how to write list comprehensions.\n",
        "- Know how to use conditionals inside list comprehensions."
      ]
    },
    {
      "cell_type": "markdown",
      "metadata": {
        "id": "1wfKRYwQtdQ3"
      },
      "source": [
        "# Control Flow"
      ]
    },
    {
      "cell_type": "markdown",
      "metadata": {
        "id": "gLAHhuhVtdQ5"
      },
      "source": [
        "## Iteration"
      ]
    },
    {
      "cell_type": "markdown",
      "metadata": {
        "id": "KKU6-4f7tdQ7"
      },
      "source": [
        "- Iterable: data structure capable of returning its elements one at a time e.g. list, tuple, string, dictionary(d.keys() returns a list).\n",
        "- Iteration: performing the same operation repeatedly (often over each element of an iterable).\n",
        "- e.g. multiplying each element in a list by 2, or taking index 0 of each item in a list of strings."
      ]
    },
    {
      "cell_type": "markdown",
      "metadata": {
        "id": "Dz_DlGeHtdQ8"
      },
      "source": [
        "## For Loops"
      ]
    },
    {
      "cell_type": "markdown",
      "metadata": {
        "id": "GrFMLnXFtdQ-"
      },
      "source": [
        "- Looping is an example of iteration, where you perform the same operation repeatedly, until some condition is fulfilled.\n",
        "\n",
        "- For loops perform some operation FOR each element in an iterable (each character in a string or each item in a list etc) until there are no more elements left in the iterable.\n",
        "- This is called definite iteration: where the number of iterations are known.\n",
        "- This is an example of DRY coding (Don't Repeat Yourself), as a single for loop does numerous operations in one go.\n",
        "\n",
        "As opposed to `while` loops, the condition in a `for` loop is whether the iterable has more items or not\n",
        "\n",
        "<p align=center><img src=https://github.com/life-efficient/Essentials/blob/main/2.%20Python%20programming/5.%20Loops/images/for_while.jpeg?raw=1></p>"
      ]
    },
    {
      "cell_type": "markdown",
      "metadata": {
        "id": "hOW5fCsktdRA"
      },
      "source": [
        "### Basic Syntax"
      ]
    },
    {
      "cell_type": "code",
      "execution_count": null,
      "metadata": {
        "id": "rtlQ-9ZXtdRB"
      },
      "outputs": [],
      "source": [
        "# for i in iterable:\n",
        "#     do_something\n",
        "#     do_something_to_i"
      ]
    },
    {
      "cell_type": "markdown",
      "metadata": {
        "id": "zRSDG68ttdRE"
      },
      "source": [
        "#### We can break the syntax down as follows:\n",
        "- __i__ is the counter variable here, it can be anything as long as it is consistent: best practice is to use naming such as __city in cities__, __item in items__ etc where __cities__ or __items__ is the __iterable name__, or failing that, __i__, for the purpose of readability.\n",
        "\n",
        "- __i__ refers to each element in the iterable in a given iteration, and so we can use __i__ in the do_something block.\n",
        "\n",
        "- __in__ is the __keyword in__, indicating reference to the following iterable.\n",
        "\n",
        "- __iterable__ is the iterable over which we wish to perform the operation, so the list name for example.\n",
        "\n",
        "- The __colon__ indicates control flow and signals an indent, completing the set phrase.\n",
        "\n",
        "- The __do_something__ block is the operation to perform on each element, and so often i is used in this code block, although it does not have to be."
      ]
    },
    {
      "cell_type": "markdown",
      "metadata": {
        "id": "i5K3D29ItdRG"
      },
      "source": [
        "### Example"
      ]
    },
    {
      "cell_type": "code",
      "execution_count": null,
      "metadata": {
        "id": "G5n25cVWtdRH",
        "outputId": "9e1ec388-f0c1-4b12-f84f-6d5537c42fe8"
      },
      "outputs": [
        {
          "name": "stdout",
          "output_type": "stream",
          "text": [
            "Hello, I have a: hat\n",
            "Hello, I have a: boots\n",
            "Hello, I have a: jacket\n",
            "Hello, I have a: gloves\n"
          ]
        }
      ],
      "source": [
        "items = [\"hat\", \"boots\", \"jacket\", \"gloves\"]\n",
        "\n",
        "for item in items:\n",
        "    print(f'Hello, I have a: {item}')"
      ]
    },
    {
      "cell_type": "markdown",
      "metadata": {
        "id": "T_uN2EkktdRK"
      },
      "source": [
        "### Using the range() function"
      ]
    },
    {
      "cell_type": "code",
      "execution_count": null,
      "metadata": {
        "id": "yePFKyvFtdRL"
      },
      "outputs": [],
      "source": [
        "# for i in range(start,stop,step):\n",
        "#     do_something\n",
        "#     do_something_to_i"
      ]
    },
    {
      "cell_type": "code",
      "execution_count": null,
      "metadata": {
        "id": "P1LBAG7vtdRM",
        "outputId": "3323dec8-70a1-4489-d1c1-51f4419fd079"
      },
      "outputs": [
        {
          "data": {
            "text/plain": [
              "[0, 1, 2, 3, 4]"
            ]
          },
          "execution_count": 6,
          "metadata": {},
          "output_type": "execute_result"
        }
      ],
      "source": [
        "list((range(5)))"
      ]
    },
    {
      "cell_type": "code",
      "execution_count": null,
      "metadata": {
        "id": "vBq-iF4qtdRM",
        "outputId": "ceda5f27-b556-4b3a-d5fd-405a416d8015"
      },
      "outputs": [
        {
          "data": {
            "text/plain": [
              "range(0, 10)"
            ]
          },
          "execution_count": 10,
          "metadata": {},
          "output_type": "execute_result"
        }
      ],
      "source": [
        "range(0, 10)"
      ]
    },
    {
      "cell_type": "code",
      "execution_count": null,
      "metadata": {
        "id": "j5BOXB7btdRN",
        "outputId": "fcf926a5-72e4-4de2-b9b4-11c65e166383"
      },
      "outputs": [
        {
          "name": "stdout",
          "output_type": "stream",
          "text": [
            "[0, 1, 2, 3, 4]\n",
            "[5, 6, 7, 8, 9, 10, 11, 12, 13, 14, 15, 16, 17, 18, 19]\n",
            "[5, 7, 9, 11, 13, 15, 17, 19]\n"
          ]
        }
      ],
      "source": [
        "print(list(range(5)))\n",
        "print(list(range(5, 20)))\n",
        "print(list(range(5, 20, 2)))"
      ]
    },
    {
      "cell_type": "markdown",
      "metadata": {
        "id": "uEsgCgAhtdRO"
      },
      "source": [
        "- Here, we perform an operation using the range() function, and so perform an operation for all the numbers in the given range.\n",
        "\n",
        "- range() is a generator and so returns a range object, not a list, but it is still iterable.\n",
        "\n",
        "- To produce a list we must use list(range()).\n",
        "\n",
        "- range() takes 3 arguments, start, stop and step.\n",
        "\n",
        "- If we specify __1 argument__, e.g. range(3), range defaults to start = 0 and step = 1, and takes the argument as the ending number+1, so range(3) contains 0,1,2.\n",
        "\n",
        "- If we specify __2 arguments__, e.g. range(5,20), the first is start number and second is stop number+1.\n",
        "\n",
        "- If we specify __3 arguments__, the 3rd is the step(increment), so e.g. range(5,10,2) contains 5,7,9."
      ]
    },
    {
      "cell_type": "markdown",
      "metadata": {
        "id": "cNlhvHYMtdRP"
      },
      "source": [
        "### Example"
      ]
    },
    {
      "cell_type": "code",
      "execution_count": null,
      "metadata": {
        "id": "YZMBmKCbtdRP",
        "outputId": "2627c5a5-ffee-456c-deb1-26cd11ab5596"
      },
      "outputs": [
        {
          "data": {
            "text/plain": [
              "6"
            ]
          },
          "execution_count": 14,
          "metadata": {},
          "output_type": "execute_result"
        }
      ],
      "source": [
        "ls = [1, 5, 6, 7, 8, 9]\n",
        "ls[2]"
      ]
    },
    {
      "cell_type": "code",
      "execution_count": null,
      "metadata": {
        "id": "buTCGY8jtdRQ",
        "outputId": "2b7939bd-c8b6-4052-8fd6-9ce46e669886"
      },
      "outputs": [
        {
          "name": "stdout",
          "output_type": "stream",
          "text": [
            "0\n",
            "1\n",
            "2\n",
            "3\n",
            "4\n",
            "5\n"
          ]
        }
      ],
      "source": [
        "for i in range(len(ls)):\n",
        "    print(i)"
      ]
    },
    {
      "cell_type": "code",
      "execution_count": null,
      "metadata": {
        "id": "8RdiFYOGtdRQ",
        "outputId": "ee57f0a6-4fc8-404b-8aa5-bef84dc49fa5"
      },
      "outputs": [
        {
          "data": {
            "text/plain": [
              "range(0, 6)"
            ]
          },
          "execution_count": 15,
          "metadata": {},
          "output_type": "execute_result"
        }
      ],
      "source": [
        "range(len(ls))"
      ]
    },
    {
      "cell_type": "code",
      "execution_count": null,
      "metadata": {
        "id": "oMZTa0G7tdRR",
        "outputId": "959aa16f-acbd-4a48-d03f-936689d5bf77"
      },
      "outputs": [
        {
          "name": "stdout",
          "output_type": "stream",
          "text": [
            "[0, 1, 2]\n"
          ]
        }
      ],
      "source": [
        "print(list(range(3)))"
      ]
    },
    {
      "cell_type": "code",
      "execution_count": null,
      "metadata": {
        "id": "BfaqUZUctdRS",
        "outputId": "e460553e-15c1-4563-9cca-b1c1f83806e6"
      },
      "outputs": [
        {
          "name": "stdout",
          "output_type": "stream",
          "text": [
            "[5, 6, 7, 8, 9, 10, 11, 12, 13, 14, 15, 16, 17, 18, 19]\n"
          ]
        }
      ],
      "source": [
        "print(list(range(5,20)))"
      ]
    },
    {
      "cell_type": "code",
      "execution_count": null,
      "metadata": {
        "id": "I8voUOfetdRT",
        "outputId": "b97f03e5-afb3-4332-edab-b62fd684733a"
      },
      "outputs": [
        {
          "name": "stdout",
          "output_type": "stream",
          "text": [
            "[5, 7, 9]\n"
          ]
        }
      ],
      "source": [
        "print(list(range(5,10,2)))"
      ]
    },
    {
      "cell_type": "markdown",
      "metadata": {
        "id": "RFNi1MWwtdRT"
      },
      "source": [
        "### Using range(len(iterable))"
      ]
    },
    {
      "cell_type": "code",
      "execution_count": null,
      "metadata": {
        "id": "I8s01wpWtdRU"
      },
      "outputs": [],
      "source": [
        "# for i in range(len(iterable)):\n",
        "#     do_something_to_iterable[i]"
      ]
    },
    {
      "cell_type": "markdown",
      "metadata": {
        "id": "G3DVeHHjtdRU"
      },
      "source": [
        "- Here, i is each number in the index of a list, and we can index the list in the code block in order to modify each element.\n",
        "- Generally this is to modify lists but can have other use cases."
      ]
    },
    {
      "cell_type": "markdown",
      "metadata": {
        "id": "YxwaVh9ptdRV"
      },
      "source": [
        "### Example"
      ]
    },
    {
      "cell_type": "code",
      "execution_count": null,
      "metadata": {
        "id": "tBH3S-1wtdRW",
        "outputId": "8b9899ef-648e-4ab2-a86f-b96c69957139"
      },
      "outputs": [
        {
          "name": "stdout",
          "output_type": "stream",
          "text": [
            "['HAT', 'BOOTS', 'JACKET', 'GLOVES']\n"
          ]
        }
      ],
      "source": [
        "items = [\"hat\", \"boots\", \"jacket\", \"gloves\"]\n",
        "\n",
        "counter = 0\n",
        "for i in range(len(items)):\n",
        "    items[i] = items[i].upper()\n",
        "\n",
        "print(items)"
      ]
    },
    {
      "cell_type": "markdown",
      "metadata": {
        "id": "rPA3qaUYtdRX"
      },
      "source": [
        "### Tuple Packing and Unpacking"
      ]
    },
    {
      "cell_type": "markdown",
      "metadata": {
        "id": "5w0ONQWgtdRX"
      },
      "source": [
        "Some quick revision from the data types lecture:\n",
        "- One of the most powerful aspects of tuples is a technique called tuple unpacking.\n",
        "- Using the comma syntax below, Python automatically picks out elements from a tuple and assigns them to variables.\n",
        "- We can leverage this with for loops, especially when iterating through dictionaries."
      ]
    },
    {
      "cell_type": "code",
      "execution_count": null,
      "metadata": {
        "id": "eeoTn-MUtdRY",
        "outputId": "fe35becc-5bb2-41dd-b595-56435bf1b433"
      },
      "outputs": [
        {
          "name": "stdout",
          "output_type": "stream",
          "text": [
            "1\n",
            "2\n"
          ]
        }
      ],
      "source": [
        "# Python here 'unpacks' the tuple automatically and picks out the values and assigns them to the comma-separated\n",
        "# variables\n",
        "a, b = (1, 2)\n",
        "\n",
        "print(a)\n",
        "print(b)"
      ]
    },
    {
      "cell_type": "markdown",
      "metadata": {
        "id": "0qkeQrJTtdRY"
      },
      "source": [
        "## For Loops with Dictionaries"
      ]
    },
    {
      "cell_type": "markdown",
      "metadata": {
        "id": "-P4MHxqbtdRZ"
      },
      "source": [
        "This is possible through 2 methods:\n",
        "1. We can iterate through d.keys(), as it returns a list.\n",
        "2. We can use tuple unpacking to iterate through d.items(), as it returns a list of paired tuples.\n",
        "\n",
        "The second method gives us the freedom to operate both keys and items in a more readable format."
      ]
    },
    {
      "cell_type": "markdown",
      "metadata": {
        "id": "kASMgiHotdRZ"
      },
      "source": [
        "### Examples"
      ]
    },
    {
      "cell_type": "markdown",
      "metadata": {
        "id": "twFAncYstdRa"
      },
      "source": [
        "#### Method 1"
      ]
    },
    {
      "cell_type": "code",
      "execution_count": null,
      "metadata": {
        "id": "fby6nrhvtdRa",
        "outputId": "c410b73b-c673-49ec-fe94-9b6dfb37927a"
      },
      "outputs": [
        {
          "data": {
            "text/plain": [
              "dict_keys(['tomato', 'sugar', 'sponges', 'juice', 'foil'])"
            ]
          },
          "execution_count": 22,
          "metadata": {},
          "output_type": "execute_result"
        }
      ],
      "source": [
        "# we see here the .keys() method returns a list\n",
        "prices = {\"tomato\":0.87, \"sugar\":1.09, \"sponges\":0.29, \"juice\":1.89, \"foil\":1.29}\n",
        "\n",
        "prices.keys()"
      ]
    },
    {
      "cell_type": "code",
      "execution_count": null,
      "metadata": {
        "id": "oT0b9pS2tdRb",
        "outputId": "e695aad4-7909-4808-fbb8-74d4631b0913"
      },
      "outputs": [
        {
          "name": "stdout",
          "output_type": "stream",
          "text": [
            "['tomato', 'sugar', 'sponges', 'juice', 'foil']\n",
            "[0.87, 1.09, 0.29, 1.89, 1.29]\n"
          ]
        }
      ],
      "source": [
        "# here we are picking out keys and items from a dictionary and adding them to a list\n",
        "\n",
        "# initialise empty lists\n",
        "code_list = []\n",
        "price_list = []\n",
        "\n",
        "for key in prices.keys():\n",
        "\n",
        "    # append the key itself to code_list\n",
        "    code_list.append(key)\n",
        "\n",
        "    # use the key to pick out the value and append that to price_list\n",
        "    price_list.append(prices[key])\n",
        "\n",
        "print(code_list)\n",
        "print(price_list)\n"
      ]
    },
    {
      "cell_type": "markdown",
      "metadata": {
        "id": "9kE0Df4YtdRc"
      },
      "source": [
        "#### Method 2"
      ]
    },
    {
      "cell_type": "code",
      "execution_count": null,
      "metadata": {
        "id": "r8YeuHFLtdRd",
        "outputId": "d03e3fd9-19ec-46de-cf07-c04ce31122a4"
      },
      "outputs": [
        {
          "data": {
            "text/plain": [
              "dict_items([('tomato', 0.87), ('sugar', 1.09), ('sponges', 0.29), ('juice', 1.89), ('foil', 1.29)])"
            ]
          },
          "execution_count": 24,
          "metadata": {},
          "output_type": "execute_result"
        }
      ],
      "source": [
        "# we can see here that the .items() method returns a list of paired tuples\n",
        "prices.items()"
      ]
    },
    {
      "cell_type": "code",
      "execution_count": null,
      "metadata": {
        "id": "03W4ARdCtdRd",
        "outputId": "ef5a7e57-7ec3-48d9-d20b-d71d0b2e7ec5"
      },
      "outputs": [
        {
          "name": "stdout",
          "output_type": "stream",
          "text": [
            "['tomato', 'sugar', 'sponges', 'juice', 'foil']\n",
            "[0.87, 1.09, 0.29, 1.89, 1.29]\n"
          ]
        }
      ],
      "source": [
        "# we do the same operation but using tuple unpacking on d.keys this time\n",
        "\n",
        "code_list = []\n",
        "price_list = []\n",
        "key, value = ('tomato', 0.87)\n",
        "\n",
        "key, value = ('sugar', 1.09)\n",
        "\n",
        "for key, value in prices.items():\n",
        "    \n",
        "    # this line is the same as above\n",
        "    code_list.append(key)\n",
        "    \n",
        "    # here we access the value too, and directly append that to price_list\n",
        "    price_list.append(value)\n",
        "    \n",
        "print(code_list)\n",
        "print(price_list)"
      ]
    },
    {
      "cell_type": "markdown",
      "metadata": {
        "id": "Z-LM7QVutdRd"
      },
      "source": [
        "We can also perform other operations using tuple unpacking:"
      ]
    },
    {
      "cell_type": "code",
      "execution_count": null,
      "metadata": {
        "id": "-jRRoQBGtdRe",
        "outputId": "36615d12-ef15-440f-d38a-cb770b1ddd83"
      },
      "outputs": [
        {
          "name": "stdout",
          "output_type": "stream",
          "text": [
            "Item Code: tomato\n",
            "Price: £0.87\n",
            "\n",
            "Item Code: sugar\n",
            "Price: £1.09\n",
            "\n",
            "Item Code: sponges\n",
            "Price: £0.29\n",
            "\n",
            "Item Code: juice\n",
            "Price: £1.89\n",
            "\n",
            "Item Code: foil\n",
            "Price: £1.29\n",
            "\n"
          ]
        }
      ],
      "source": [
        "prices = {\"tomato\":0.87, \"sugar\":1.09, \"sponges\":0.29, \"juice\":1.89, \"foil\":1.29}\n",
        "\n",
        "for key, value in prices.items():\n",
        "    print(\"Item Code: {}\\nPrice: £{}\\n\".format(key,value))"
      ]
    },
    {
      "cell_type": "markdown",
      "metadata": {
        "id": "CykietlqtdRf"
      },
      "source": [
        "## If Statements within For Loops\n",
        "- We can use control flow within for loops to perform differing operations depending on conditions."
      ]
    },
    {
      "cell_type": "markdown",
      "metadata": {
        "id": "-ce7fokMtdRf"
      },
      "source": [
        "### Example\n",
        "- Here we use the example of a BMI calculator to demonstrate the combination of a few concepts.\n",
        "- Heights are in metres and weights in kilograms for ease of calculation."
      ]
    },
    {
      "cell_type": "code",
      "execution_count": null,
      "metadata": {
        "id": "6j-VzEiPtdRf",
        "outputId": "463ad165-8f31-4b3a-ba2a-470330cbed12"
      },
      "outputs": [
        {
          "name": "stdout",
          "output_type": "stream",
          "text": [
            "This is the list of BMIs: [25.381468541909282, 25.390218522372525, 30.905885854261584, 23.938989774631512, 32.488628979857054, 18.80920625149619]\n",
            "\n",
            "You're in the overweight range. Your BMI is 25.4.\n",
            "You're in the overweight range. Your BMI is 25.4.\n",
            "You're in the obese range. Your BMI is 30.9.\n",
            "You're in the healthy weight range. Your BMI is 23.9.\n",
            "You're in the obese range. Your BMI is 32.5.\n",
            "You're in the healthy weight range. Your BMI is 18.8.\n"
          ]
        }
      ],
      "source": [
        "# we encode a list of heights and weights as a list of tuples\n",
        "heights_weights = [(1.83, 85), (1.55, 61), (2.09, 135),\n",
        "                   (1.71, 70), (1.71, 95), (1.71, 55)]\n",
        "\n",
        "\n",
        "# we set bmis as an empty list to append bmi values to\n",
        "bmis = []\n",
        "\n",
        "\n",
        "# we use tuple unpacking to add bmi values to bmis\n",
        "for height, weight in heights_weights:\n",
        "    bmis.append(weight / height ** 2)\n",
        "\n",
        "\n",
        "# we print bmis here to show the intermediate list (ordinarily we would not do this)\n",
        "print(\"This is the list of BMIs: {}\\n\".format(bmis))\n",
        "\n",
        "\n",
        "# we loop over bmi list to assign the values to the correct message\n",
        "for bmi in bmis:\n",
        "    if bmi < 18.5:\n",
        "        print(\n",
        "            \"You're in the underweight range. Your BMI is {:3.1f}.\".format(bmi))\n",
        "    elif bmi <= 24.9:\n",
        "        print(\n",
        "            \"You're in the healthy weight range. Your BMI is {:3.1f}.\".format(bmi))\n",
        "    elif bmi <= 29.9:\n",
        "        print(\n",
        "            \"You're in the overweight range. Your BMI is {:3.1f}.\".format(bmi))\n",
        "    elif bmi <= 39.9:\n",
        "        print(\"You're in the obese range. Your BMI is {:3.1f}.\".format(bmi))\n"
      ]
    },
    {
      "cell_type": "markdown",
      "metadata": {
        "id": "7ShSgkKEtdRg"
      },
      "source": [
        "We can now do this in a single for loop:"
      ]
    },
    {
      "cell_type": "code",
      "execution_count": null,
      "metadata": {
        "id": "4xZ-JUJetdRg",
        "outputId": "2f58b9e1-75bd-4050-fb89-d0e3517751c0"
      },
      "outputs": [
        {
          "name": "stdout",
          "output_type": "stream",
          "text": [
            "You're in the overweight range. Your BMI is 25.4\n",
            "You're in the overweight range. Your BMI is 25.4\n",
            "You're in the obese range. Your BMI is 30.9\n",
            "You're in the healthy weight range. Your BMI is 23.9\n",
            "You're in the obese range. Your BMI is 32.5\n",
            "You're in the healthy weight range. Your BMI is 18.8\n"
          ]
        }
      ],
      "source": [
        "heights_weights = [(1.83, 85),(1.55, 61),(2.09, 135),(1.71, 70),(1.71, 95),(1.71, 55)]\n",
        "\n",
        "for height, weight in heights_weights:\n",
        "    \n",
        "    # here we calculate bmi within the for loop using the paired tuple values before passing the bmi value\n",
        "    # into the subsequent if statements\n",
        "    bmi = weight/height**2\n",
        "\n",
        "    if bmi < 18.5:\n",
        "        print(\"You're in the underweight range. Your BMI is {:3.1f}\".format(bmi))\n",
        "    elif bmi <= 24.9:\n",
        "        print(\"You're in the healthy weight range. Your BMI is {:3.1f}\".format(bmi))\n",
        "    elif bmi <= 29.9:\n",
        "        print(\"You're in the overweight range. Your BMI is {:3.1f}\".format(bmi))\n",
        "    elif bmi <= 39.9:\n",
        "        print(\"You're in the obese range. Your BMI is {:3.1f}\".format(bmi))"
      ]
    },
    {
      "cell_type": "markdown",
      "metadata": {
        "id": "d38x_d5DtdRh"
      },
      "source": [
        "## Pass, Break and Continue Keywords"
      ]
    },
    {
      "cell_type": "markdown",
      "metadata": {
        "id": "w14BUdldtdRh"
      },
      "source": [
        "- The pass keyword serves as a placeholder in an empty loop, it means 'do nothing'.\n",
        "- We use pass when we want a loop (or function) in our code but do not want to write it out just now, but we still want to be able to run the rest of our code.\n",
        "- The break keyword terminates the loop when it is triggered.\n",
        "- The continue keyword moves to the top of the nearest enclosing loop and skips onto the next iteration.\n",
        "- Usually we use these inside a conditional in order to terminate a loop or skip an iteration when a condition is met."
      ]
    },
    {
      "cell_type": "markdown",
      "metadata": {
        "id": "r4iOJkQotdRi"
      },
      "source": [
        "### Examples"
      ]
    },
    {
      "cell_type": "code",
      "execution_count": null,
      "metadata": {
        "id": "kNe5CQmbtdRi",
        "outputId": "e42cbeea-42b0-4498-bb08-8e1bcc57d628"
      },
      "outputs": [
        {
          "name": "stdout",
          "output_type": "stream",
          "text": [
            "10 5\n"
          ]
        }
      ],
      "source": [
        "# Used for developing code. If you leave it empty, the code throws an error\n",
        "x, y = 10, 5\n",
        "\n",
        "for i in range(20):\n",
        "    ### To be completed\n",
        "    pass\n",
        "\n",
        "print(x,y)"
      ]
    },
    {
      "cell_type": "code",
      "execution_count": null,
      "metadata": {
        "id": "Aejc4e5ZtdRi",
        "outputId": "7d8b6798-9a25-47d4-8851-6c4b608f3703"
      },
      "outputs": [
        {
          "name": "stdout",
          "output_type": "stream",
          "text": [
            "I am not skipped because 1 is not divisible by 5\n",
            "I am not skipped because 2 is not divisible by 5\n",
            "I am not skipped because 4 is not divisible by 5\n",
            "I am not skipped because 5 is not divisible by 5\n",
            "I am not skipped because 7 is not divisible by 5\n",
            "I am not skipped because 8 is not divisible by 5\n",
            "I am not skipped because 10 is not divisible by 5\n",
            "I am not skipped because 11 is not divisible by 5\n"
          ]
        }
      ],
      "source": [
        "for i in range(12):\n",
        "    if i % 3 == 0:\n",
        "        continue\n",
        "    print(f'I am not skipped because {i} is not divisible by 5')"
      ]
    },
    {
      "cell_type": "code",
      "execution_count": null,
      "metadata": {
        "id": "-ItHP7lQtdRj",
        "outputId": "f27b0f98-eb2c-43c6-ab1e-cac0846fd11e"
      },
      "outputs": [
        {
          "name": "stdout",
          "output_type": "stream",
          "text": [
            "1\n",
            "2\n",
            "3\n",
            "4\n"
          ]
        }
      ],
      "source": [
        "for i in range(1,12):\n",
        "    if i % 5 == 0:\n",
        "        break\n",
        "    else:\n",
        "        print(i)"
      ]
    },
    {
      "cell_type": "markdown",
      "metadata": {
        "id": "LfLU5XKVtdRk"
      },
      "source": [
        "## Zip and Enumerate"
      ]
    },
    {
      "cell_type": "markdown",
      "metadata": {
        "id": "d5SPtGVZtdRk"
      },
      "source": [
        "- The zip() function combines iterables into tuples, but zip is an iterator which returns a zip object, which must then be iterated over, or converted to a list to view.\n",
        "- Can unzip into tuples by adding * argument inside zip().\n",
        "- enumerate() returns iterator of tuples, containing (index,item).\n",
        "- This is useful for operations on both indices and items: combining a for loop on the iterable with a for loop on range(len(iterable))."
      ]
    },
    {
      "cell_type": "markdown",
      "metadata": {
        "id": "6-3sMioPtdRl"
      },
      "source": [
        "### Examples"
      ]
    },
    {
      "cell_type": "code",
      "execution_count": null,
      "metadata": {
        "id": "EWUJ5Hr_tdRl",
        "outputId": "7d5dbe6a-20f8-4418-ccb2-0bcdf34d93d3"
      },
      "outputs": [
        {
          "name": "stdout",
          "output_type": "stream",
          "text": [
            "[('tomato', 0.87), ('sugar', 1.09), ('sponges', 0.29), ('juice', 1.89), ('foil', 1.29)]\n"
          ]
        }
      ],
      "source": [
        "# zip() creates a zip object, which must be iterated or listed to view it\n",
        "\n",
        "items = [\"tomato\", \"sugar\", \"sponges\", \"juice\", \"foil\"]\n",
        "prices = [0.87, 1.09, 0.29, 1.89, 1.29]\n",
        "\n",
        "items_and_prices = zip(items, prices)\n",
        "\n",
        "print(list(items_and_prices))\n"
      ]
    },
    {
      "cell_type": "code",
      "execution_count": null,
      "metadata": {
        "id": "MZgjVfbxtdRm",
        "outputId": "d16bdda6-7dd2-40fe-8cc0-5e8bfc0f449a"
      },
      "outputs": [
        {
          "name": "stdout",
          "output_type": "stream",
          "text": [
            "tomato 0.87\n",
            "sugar 1.09\n",
            "sponges 0.29\n",
            "juice 1.89\n",
            "foil 1.29\n"
          ]
        }
      ],
      "source": [
        "for item, price in zip(items, prices):\n",
        "    print(item, price)"
      ]
    },
    {
      "cell_type": "code",
      "execution_count": null,
      "metadata": {
        "id": "PGNx6EE9tdRm",
        "outputId": "5d107f33-a358-4b34-a637-043f6942ef1d"
      },
      "outputs": [
        {
          "name": "stdout",
          "output_type": "stream",
          "text": [
            "('tomato', 'sugar', 'sponges', 'juice', 'foil')\n",
            "(0.87, 1.09, 0.29, 1.89, 1.29)\n"
          ]
        }
      ],
      "source": [
        "# we can unzip a zip object into tuples using * inside the zip call\n",
        "\n",
        "items_and_prices = zip(items, prices) # creating zip object\n",
        "\n",
        "tuple_of_items, tuple_of_prices = zip(*items_and_prices) # unzipping zip object\n",
        "\n",
        "print(tuple_of_items)\n",
        "print(tuple_of_prices)"
      ]
    },
    {
      "cell_type": "code",
      "execution_count": null,
      "metadata": {
        "id": "X0LK7AGAtdRn",
        "outputId": "b3e2ff3f-0a6b-4572-ed64-86cfa675f135"
      },
      "outputs": [
        {
          "name": "stdout",
          "output_type": "stream",
          "text": [
            "The price of tomato is £0.87\n",
            "The price of sugar is £1.09\n",
            "The price of sponges is £0.29\n",
            "The price of juice is £1.89\n",
            "The price of foil is £1.29\n"
          ]
        }
      ],
      "source": [
        "# can iterate over and perform operations on zip object\n",
        "\n",
        "for item, price in zip(items, prices):\n",
        "    print(\"The price of {} is £{}\".format(item, price))"
      ]
    },
    {
      "cell_type": "code",
      "execution_count": null,
      "metadata": {
        "id": "YnRayTHvtdRo",
        "outputId": "cc4edaa9-a58b-40bb-969c-0be57dc606fb"
      },
      "outputs": [
        {
          "name": "stdout",
          "output_type": "stream",
          "text": [
            "0 hat\n",
            "1 scarf\n",
            "2 coat\n",
            "3 gloves\n"
          ]
        }
      ],
      "source": [
        "# enumerate() gives both items and their indices which can be operated on\n",
        "\n",
        "items = [\"hat\", \"scarf\", \"coat\", \"gloves\"]\n",
        "\n",
        "\n",
        "for index, item in enumerate(items):\n",
        "    print(index, item)"
      ]
    },
    {
      "cell_type": "code",
      "execution_count": null,
      "metadata": {
        "id": "oHS3U13ftdRo",
        "outputId": "d02e1e12-f037-4e40-d2c3-49dde6b4b07e"
      },
      "outputs": [
        {
          "name": "stdout",
          "output_type": "stream",
          "text": [
            "((0, 'hat'), (1, 'scarf'), (2, 'coat'), (3, 'gloves'))\n"
          ]
        }
      ],
      "source": [
        "# enumerate objects can be shown in lists/tuples etc too\n",
        "print(tuple(enumerate(items)))"
      ]
    },
    {
      "cell_type": "markdown",
      "metadata": {
        "id": "QV_jp9GxtdRp"
      },
      "source": [
        "## A note on the * operator"
      ]
    },
    {
      "cell_type": "markdown",
      "metadata": {
        "id": "hUGqUj2itdRp"
      },
      "source": [
        "We know that * performs a multiplication. In this case, it was used for unzipping a zip object. But it is important to know what happens behind the scenes"
      ]
    },
    {
      "cell_type": "code",
      "execution_count": null,
      "metadata": {
        "id": "jgzzpG0-tdRq",
        "outputId": "c61423bc-1db3-4368-f7bf-f4e0ddc60137"
      },
      "outputs": [
        {
          "data": {
            "application/vnd.code.notebook.stdout": [
              "(1, 2) (3, 4)\n",
              "[(1, 2), (3, 4)]\n"
            ]
          },
          "output_type": "unknown"
        }
      ],
      "source": [
        "zipped = [(1, 2), (3, 4)]\n",
        "print(*zipped) # Unpacks the zipped instance into its components\n",
        "zipped = [[(1, 2), (3, 4)]]\n",
        "print(*zipped)\n",
        "# You can think of * as removing the squared brackets"
      ]
    },
    {
      "cell_type": "markdown",
      "metadata": {
        "id": "DubHujr_tdRq"
      },
      "source": [
        "We can think of * as a container destructor."
      ]
    },
    {
      "cell_type": "code",
      "execution_count": null,
      "metadata": {
        "id": "5IEba2ostdRr",
        "outputId": "949b422a-a913-4772-f1a3-f931e9ee2090"
      },
      "outputs": [
        {
          "data": {
            "text/plain": [
              "[1, 2, 3]"
            ]
          },
          "execution_count": 2,
          "metadata": {},
          "output_type": "execute_result"
        }
      ],
      "source": [
        "[*(1, 2, 3)] # In this case, it removes the brackets, and the result will be a list containing 1, 2, and 3"
      ]
    },
    {
      "cell_type": "markdown",
      "metadata": {
        "id": "ibGX5PfQtdRr"
      },
      "source": [
        "We can use zip with as many arguments as we want. It will create tuples with the same number of items of arguments we used. So in this case we have tuples of 3 items"
      ]
    },
    {
      "cell_type": "code",
      "execution_count": null,
      "metadata": {
        "id": "PTDYBxe-tdRs",
        "outputId": "b8183039-7af2-4d14-f181-89631f9c0b6e"
      },
      "outputs": [
        {
          "name": "stdout",
          "output_type": "stream",
          "text": [
            "[('tomato', 0.87, 1), ('sugar', 1.09, 2), ('sponges', 0.29, 3), ('juice', 1.89, 4), ('foil', 1.29, 5)]\n"
          ]
        }
      ],
      "source": [
        "items =  [\"tomato\", \"sugar\", \"sponges\", \"juice\", \"foil\"]\n",
        "prices = [0.87,      1.09,     0.29,      1.89,    1.29]\n",
        "item =   [1,            2,        3,         4,     5]\n",
        "\n",
        "\n",
        "print(list(zip(items, prices, item)))"
      ]
    },
    {
      "cell_type": "code",
      "execution_count": null,
      "metadata": {
        "id": "SgUes9bmtdRs",
        "outputId": "854701d6-1dcc-4807-d47c-3fdfdcba154d"
      },
      "outputs": [
        {
          "name": "stdout",
          "output_type": "stream",
          "text": [
            "[('tomato', 0.87), ('sugar', 1.09), ('sponges', 0.29), ('juice', 1.89), ('foil', 1.29)]\n",
            "[('tomato', 'sugar', 'sponges', 'juice', 'foil'), (0.87, 1.09, 0.29, 1.89, 1.29)]\n"
          ]
        }
      ],
      "source": [
        "items = [\"tomato\", \"sugar\", \"sponges\", \"juice\", \"foil\"]\n",
        "prices = [0.87,      1.09,     0.29,     1.89,    1.29]\n",
        "\n",
        "items_and_prices = zip(items, prices)  # We create a list of tuples\n",
        "print(list(items_and_prices))\n",
        "\n",
        "items_and_prices = zip(items, prices)  # We create a list of tuples\n",
        "# We reinstantiate it because once we use the list function into the zip object\n",
        "# it changes its status\n",
        "# We remove the square brackets, obtaining 5 tuple\n",
        "print(list(zip(*items_and_prices)))\n",
        "# Then zip all of the 5 tuples, so we obtain tuples with 5 items each\n"
      ]
    },
    {
      "cell_type": "markdown",
      "metadata": {
        "id": "FIXctBG0tdRt"
      },
      "source": [
        "The same way we unpack zip files or iterables, we can also unpack dictionaries, but using **"
      ]
    },
    {
      "cell_type": "code",
      "execution_count": null,
      "metadata": {
        "id": "J-LCKucKtdRt",
        "outputId": "7282a446-2f19-47b6-953e-73b14ae3bbe7"
      },
      "outputs": [
        {
          "name": "stdout",
          "output_type": "stream",
          "text": [
            "{'A': 1, 'B': 2}\n",
            "{'A': 1, 'B': 2, 'C': 3, 'D': 4}\n"
          ]
        }
      ],
      "source": [
        "dict_1 = {'A': 1, 'B': 2}\n",
        "dict_2 = {'C': 3, 'D': 4}\n",
        "\n",
        "print({**dict_1})# ** removes the curly brackets, so we obtain something like 'A' = 1, and 'B' = 2\n",
        "\n",
        "# We can also unpack two dictionaries and merge them together\n",
        "\n",
        "print({**dict_1, **dict_2}) # we obtain something like 'A' = 1, 'B' = 2, 'C' = 3, 'D' = 4"
      ]
    },
    {
      "cell_type": "markdown",
      "metadata": {
        "id": "UI_sisLGtdRu"
      },
      "source": [
        "We will see how to apply this in functions in the next lesson"
      ]
    },
    {
      "cell_type": "code",
      "execution_count": null,
      "metadata": {
        "id": "R-OY55jYtdRu",
        "outputId": "45dc4918-2be9-4d02-8962-54aba4496475"
      },
      "outputs": [
        {
          "name": "stdout",
          "output_type": "stream",
          "text": [
            "(1, 2, 3)\n",
            "{'a': 4, 'b': 5, 'c': 6}\n"
          ]
        }
      ],
      "source": [
        "# We can use * and ** as input for a function\n",
        "\n",
        "def fun_dummy(*args, **kwargs): # args = arguments, kwargs = key word arguments\n",
        "    print(args) # args is now a tuple\n",
        "    print(kwargs) # kwargs now is a dictionary\n",
        "\n",
        "fun_dummy(1, 2, 3, a=4, b=5, c=6) \n",
        "# anything without any a key word argument (by key word I mean a, b, c) will be a tuple in the function\n",
        "# Anything with a key word argument will be included in a dictionary in the function"
      ]
    },
    {
      "cell_type": "markdown",
      "metadata": {
        "id": "qv5d7XvStdRv"
      },
      "source": [
        "## List Comprehensions"
      ]
    },
    {
      "cell_type": "markdown",
      "metadata": {
        "id": "QsxJFGb0tdRv"
      },
      "source": [
        "- List comprehension are a much more efficient way of writing a for loop which generates or modifies a list.\n",
        "- They are more suitable when we would use .append() on a list inside the for loop, or would iterate on the index of a list to modify each item, otherwise a for loop is better.\n",
        "- Complex for loops operating on a list such as the BMI calculator are not suitable for list comprehension: they would be far too complex to read easily.\n",
        "- They are written in a single line and the syntax compared to a for loop is thus:"
      ]
    },
    {
      "cell_type": "code",
      "execution_count": null,
      "metadata": {
        "id": "rQ60H2dFtdRv"
      },
      "outputs": [],
      "source": [
        "# for item in iterable:\n",
        "#     do_something\n",
        "\n",
        "# [do_something for item in iterable]"
      ]
    },
    {
      "cell_type": "markdown",
      "metadata": {
        "id": "Qpd1tuFatdRw"
      },
      "source": [
        "### Examples"
      ]
    },
    {
      "cell_type": "markdown",
      "metadata": {
        "id": "TcLocqhftdRw"
      },
      "source": [
        "Hence:"
      ]
    },
    {
      "cell_type": "code",
      "execution_count": null,
      "metadata": {
        "id": "rmrD7ELptdRx",
        "outputId": "7981a0aa-0c1d-4a98-dcda-26160dbe131b"
      },
      "outputs": [
        {
          "name": "stdout",
          "output_type": "stream",
          "text": [
            "[0, 1, 4, 9, 16, 25, 36, 49, 64, 81]\n"
          ]
        }
      ],
      "source": [
        "squares = []\n",
        "\n",
        "for i in range(0):\n",
        "    squares.append(i**2)\n",
        "\n",
        "print(squares)"
      ]
    },
    {
      "cell_type": "markdown",
      "metadata": {
        "id": "Y-ImazkBtdRx"
      },
      "source": [
        "Becomes:"
      ]
    },
    {
      "cell_type": "code",
      "execution_count": null,
      "metadata": {
        "id": "FIHzHR9rtdRy",
        "outputId": "61c663b1-41a1-4a85-dc04-738398cc7af3"
      },
      "outputs": [
        {
          "name": "stdout",
          "output_type": "stream",
          "text": [
            "[0, 1, 4, 9, 16, 25, 36, 49, 64, 81]\n"
          ]
        }
      ],
      "source": [
        "squares = [i**2 for i in range(10)]\n",
        "\n",
        "print(squares)"
      ]
    },
    {
      "cell_type": "markdown",
      "metadata": {
        "id": "enD9rDV0tdRy"
      },
      "source": [
        "## List Comprehensions using Conditionals"
      ]
    },
    {
      "cell_type": "markdown",
      "metadata": {
        "id": "AsIRqbLDtdRz"
      },
      "source": [
        "- Conditionals in list comprehensions are of 2 types.\n",
        "- When adding only an if statement, the conditional goes after the for statement.\n",
        "- When adding an if/else statement, the conditional goes before the for statement."
      ]
    },
    {
      "cell_type": "markdown",
      "metadata": {
        "id": "g1DiD9VutdRz"
      },
      "source": [
        "### Examples"
      ]
    },
    {
      "cell_type": "markdown",
      "metadata": {
        "id": "kCL6lz1DtdRz"
      },
      "source": [
        "Hence:"
      ]
    },
    {
      "cell_type": "code",
      "execution_count": null,
      "metadata": {
        "id": "9hs82yOptdR0",
        "outputId": "9d3b1285-1aec-48e7-9c82-2e6f6d1e9e24"
      },
      "outputs": [
        {
          "name": "stdout",
          "output_type": "stream",
          "text": [
            "[0, 9, 36, 81]\n"
          ]
        }
      ],
      "source": [
        "squared_threes = []\n",
        "\n",
        "for x in range(10):\n",
        "    if x%3 == 0:\n",
        "        squared_threes.append(x**2)\n",
        "\n",
        "print(squared_threes)"
      ]
    },
    {
      "cell_type": "markdown",
      "metadata": {
        "id": "3svB0FnutdR0"
      },
      "source": [
        "Becomes:"
      ]
    },
    {
      "cell_type": "code",
      "execution_count": null,
      "metadata": {
        "id": "Aewj0A1ntdR1",
        "outputId": "d56eb3a8-eb03-482a-b95f-80df97355e0b"
      },
      "outputs": [
        {
          "name": "stdout",
          "output_type": "stream",
          "text": [
            "[0, 9, 36, 81]\n"
          ]
        }
      ],
      "source": [
        "squared_threes = [x**2 for x in range(10) if x%3==0]\n",
        "\n",
        "print(squared_threes)"
      ]
    },
    {
      "cell_type": "markdown",
      "metadata": {
        "id": "E_B-hYNKtdR1"
      },
      "source": [
        "Using if/else:"
      ]
    },
    {
      "cell_type": "code",
      "execution_count": null,
      "metadata": {
        "id": "u1i5_OUetdR1",
        "outputId": "7c4791f5-2d29-4215-e20f-6438e14bc870"
      },
      "outputs": [
        {
          "name": "stdout",
          "output_type": "stream",
          "text": [
            "[0, 1, 4, 27, 16, 25, 216, 49, 64, 729]\n"
          ]
        }
      ],
      "source": [
        "squares_and_cubes = []\n",
        "\n",
        "for x in range(10):\n",
        "    if x%3 == 0:\n",
        "        squares_and_cubes.append(x**3)\n",
        "    else:\n",
        "        squares_and_cubes.append(x**2)\n",
        "\n",
        "print(squares_and_cubes)"
      ]
    },
    {
      "cell_type": "markdown",
      "metadata": {
        "id": "zN7nwdP_tdR2"
      },
      "source": [
        "Becomes:"
      ]
    },
    {
      "cell_type": "code",
      "execution_count": null,
      "metadata": {
        "id": "P-sqgwWwtdR2",
        "outputId": "fb519010-d76a-4215-f2bf-89ccbeac0d54"
      },
      "outputs": [
        {
          "name": "stdout",
          "output_type": "stream",
          "text": [
            "[0, 1, 4, 27, 16, 25, 216, 49, 64, 729]\n"
          ]
        }
      ],
      "source": [
        "squares_and_cubes = [x**3 if x%3==0 else x**2 for x in range(10)]\n",
        "\n",
        "print(squares_and_cubes)"
      ]
    },
    {
      "cell_type": "markdown",
      "metadata": {
        "id": "rQVagWX7tdR2"
      },
      "source": [
        "## Dictionary Comprehensions\n",
        "\n",
        "- Not only can we create list comprehensions with Python we can also create dictionary comprehensions to create a new dictionary fast and efficiently.\n",
        "- Use as a method to create a new dictionary from another dictionary.\n",
        "- The logic is the same as list comprehensions but the syntax is different due to structure of dictionaries."
      ]
    },
    {
      "cell_type": "markdown",
      "metadata": {
        "id": "LEitLXzftdR3"
      },
      "source": [
        "### Examples"
      ]
    },
    {
      "cell_type": "markdown",
      "metadata": {
        "id": "0T_a64KJtdR3"
      },
      "source": [
        "Hence:"
      ]
    },
    {
      "cell_type": "code",
      "execution_count": null,
      "metadata": {
        "id": "0TIrZhcHtdR4",
        "outputId": "9bb8e959-5688-4ca3-934f-e6987a3124ec"
      },
      "outputs": [
        {
          "name": "stdout",
          "output_type": "stream",
          "text": [
            "{'First': 4, 'Second': 9, 'Third': 16, 'Fourth': 25, 'Fifth': 36}\n"
          ]
        }
      ],
      "source": [
        "numbers_dict = {\"First\": 2, \"Second\": 3, \"Third\": 4, \"Fourth\": 5, \"Fifth\": 6}\n",
        "\n",
        "for key, value in numbers_dict.items():\n",
        "    numbers_dict[key] = value**2\n",
        "    \n",
        "print(numbers_dict)"
      ]
    },
    {
      "cell_type": "markdown",
      "metadata": {
        "id": "ZdG5bIPvtdR4"
      },
      "source": [
        "Can easily become:"
      ]
    },
    {
      "cell_type": "code",
      "execution_count": null,
      "metadata": {
        "id": "Pq7syFZutdR5",
        "outputId": "c4eda9ed-9cca-45b2-a9bc-d4cc07e1ddf8"
      },
      "outputs": [
        {
          "name": "stdout",
          "output_type": "stream",
          "text": [
            "{'First': 4, 'Second': 9, 'Third': 16, 'Fourth': 25, 'Fifth': 36}\n"
          ]
        }
      ],
      "source": [
        "numbers_dict = {\"First\": 2, \"Second\": 3, \"Third\": 4, \"Fourth\": 5, \"Fifth\": 6}\n",
        "\n",
        "squared_dict = {key:value**2 for key, value in numbers_dict.items()}\n",
        "print(squared_dict)"
      ]
    },
    {
      "cell_type": "markdown",
      "metadata": {
        "id": "pGZ-sJpYtdR5"
      },
      "source": [
        "We can also use conditionals:"
      ]
    },
    {
      "cell_type": "code",
      "execution_count": null,
      "metadata": {
        "id": "Js78MGRctdR6",
        "outputId": "b8fdf7ea-f642-4b02-ff21-f39c60215664"
      },
      "outputs": [
        {
          "name": "stdout",
          "output_type": "stream",
          "text": [
            "{'First': 4, 'Second': 3, 'Third': 16, 'Fourth': 5, 'Fifth': 36}\n"
          ]
        }
      ],
      "source": [
        "numbers_dict = {\"First\": 2, \"Second\": 3, \"Third\": 4, \"Fourth\": 5, \"Fifth\": 6}\n",
        "\n",
        "for key, value in numbers_dict.items():\n",
        "    if numbers_dict[key]%2 == 0:\n",
        "        numbers_dict[key] = value**2\n",
        "\n",
        "print(numbers_dict)"
      ]
    },
    {
      "cell_type": "markdown",
      "metadata": {
        "id": "ihVa4t3MtdR7"
      },
      "source": [
        "Becomes:\n"
      ]
    },
    {
      "cell_type": "code",
      "execution_count": null,
      "metadata": {
        "id": "SpjwdywttdR7",
        "outputId": "d8077205-c542-47be-dba8-b0838fa70a44"
      },
      "outputs": [
        {
          "name": "stdout",
          "output_type": "stream",
          "text": [
            "{'First': 4, 'Second': 3, 'Third': 16, 'Fourth': 5, 'Fifth': 36}\n"
          ]
        }
      ],
      "source": [
        "numbers_dict = {\"First\": 2, \"Second\": 3, \"Third\": 4, \"Fourth\": 5, \"Fifth\": 6}\n",
        "\n",
        "squared_dict = {key:value**2 if value%2==0 else value for key,value in numbers_dict.items()}\n",
        "print(squared_dict)"
      ]
    },
    {
      "cell_type": "markdown",
      "metadata": {
        "id": "M_Anm-AWtdR8"
      },
      "source": [
        "We can also build new dictionaries from old dictionaries using conditionals"
      ]
    },
    {
      "cell_type": "code",
      "execution_count": null,
      "metadata": {
        "id": "oCQYSGmFtdR8",
        "outputId": "5c590a69-52a0-47cf-b51b-d7bdd65122fa"
      },
      "outputs": [
        {
          "name": "stdout",
          "output_type": "stream",
          "text": [
            "{'First': 4, 'Third': 16, 'Fifth': 36}\n"
          ]
        }
      ],
      "source": [
        "numbers_dict = {\"First\": 2, \"Second\": 3, \"Third\": 4, \"Fourth\": 5, \"Fifth\": 6}\n",
        "\n",
        "new_squared_dict = {key:value**2 for key,value in numbers_dict.items() if value%2==0}\n",
        "print(new_squared_dict)"
      ]
    },
    {
      "cell_type": "markdown",
      "metadata": {
        "id": "b9Iwy-GytdR9"
      },
      "source": [
        "#### Word of Warning\n",
        "Comprehensions with conditionals can rapidly become overly complicated and unreadable, and give you a false sense of security as to your skill as a programmer. <br>\n",
        "Often it is cleaner to use a for loop than a complicated list comprehension, as although you may have written a slick one-liner, it will just be confusing to read when you come back to it in 6 months time. <br>\n",
        "Readability should always be the first concern, rather than completing as many operations as humanly possible in a single line."
      ]
    },
    {
      "cell_type": "markdown",
      "metadata": {
        "id": "VctLRSYztdR9"
      },
      "source": [
        "## Nested For Loops"
      ]
    },
    {
      "cell_type": "markdown",
      "metadata": {
        "id": "6pa6YkUXtdR9"
      },
      "source": [
        "<p align=center><img src=https://github.com/life-efficient/Essentials/blob/main/2.%20Python%20programming/5.%20Loops/images/nested_loop.png?raw=1 width=500></p>"
      ]
    },
    {
      "cell_type": "markdown",
      "metadata": {
        "id": "z6ZWilRJtdR-"
      },
      "source": [
        "- For loops can be used within for loops, known as nested for loops.\n",
        "- The control flow in nested for loops means that the outer loop performs all iterations of the inner loop on its first item before moving to the next iteration and repeating.\n",
        "- There is also a list comprehension equivalent of a nested for loop.\n",
        "- This idea of nesting for loops can be used indefinitely (for loop within for loop within for loop etc etc), but beyond a single nesting it becomes very complicated to read and understand.\n",
        "- They should be avoided where possible because the more nesting that occurs, the more inefficient the code is.\n",
        "- However, some legitimate use cases for them do exist - a common example being that of iterating over multiple lists."
      ]
    },
    {
      "cell_type": "code",
      "execution_count": null,
      "metadata": {
        "id": "80rFCpWRtdR-",
        "outputId": "9ab58706-7f86-4b55-980d-bf221e4a23ae"
      },
      "outputs": [
        {
          "name": "stdout",
          "output_type": "stream",
          "text": [
            "Outer Loop Operation: 1\n",
            "Inner Loop Operation: 1\n",
            "Inner Loop Operation: 2\n",
            "Inner Loop Operation: 3\n",
            "\n",
            "Outer Loop Operation: 2\n",
            "Inner Loop Operation: 1\n",
            "Inner Loop Operation: 2\n",
            "Inner Loop Operation: 3\n",
            "\n",
            "Outer Loop Operation: 3\n",
            "Inner Loop Operation: 1\n",
            "Inner Loop Operation: 2\n",
            "Inner Loop Operation: 3\n",
            "\n"
          ]
        }
      ],
      "source": [
        "# basic syntax, inner loop operations are performed FOR each outer loop operation\n",
        "for i in range(1,4):\n",
        "    print(\"Outer Loop Operation: {}\".format(i))\n",
        "    \n",
        "    for j in range(1,4):\n",
        "        print(\"Inner Loop Operation: {}\".format(j))\n",
        "    \n",
        "    print() # adds new line"
      ]
    },
    {
      "cell_type": "code",
      "execution_count": null,
      "metadata": {
        "id": "hzPT_GzktdR_",
        "outputId": "930a9578-c19c-48ef-b725-9f4bf3fd3931"
      },
      "outputs": [
        {
          "name": "stdout",
          "output_type": "stream",
          "text": [
            "[2, 4, 8, 3, 9, 27, 4, 16, 64]\n"
          ]
        }
      ],
      "source": [
        "# we perform operations using both counters\n",
        "mylist = []\n",
        "\n",
        "for x in [2,3,4]:\n",
        "    for y in [1,2,3]:\n",
        "        mylist.append(x**y)\n",
        "\n",
        "print(mylist)"
      ]
    },
    {
      "cell_type": "code",
      "execution_count": null,
      "metadata": {
        "id": "2u_Xddo7tdR_",
        "outputId": "8e0fd4a4-9f63-456e-9cde-ee0946fbe4ad"
      },
      "outputs": [
        {
          "data": {
            "text/plain": [
              "[2, 4, 8, 3, 9, 27, 4, 16, 64]"
            ]
          },
          "execution_count": 55,
          "metadata": {},
          "output_type": "execute_result"
        }
      ],
      "source": [
        "# list comprehension syntax: operation first followed by both for statements\n",
        "[x**y for x in [2,3,4] for y in [1,2,3]]"
      ]
    },
    {
      "cell_type": "code",
      "execution_count": null,
      "metadata": {
        "id": "d8MP-AsAtdR_"
      },
      "outputs": [],
      "source": [
        ""
      ]
    },
    {
      "cell_type": "markdown",
      "metadata": {
        "id": "dzM6fxqLtdSA"
      },
      "source": [
        "## Summary\n",
        "This is a large, heavy lesson with a lot of content. Hopefully, we have understood what for loops are, how to write them and the numerous applications that they can be used for. Some key take-aways that you must understand are:\n",
        "\n",
        "- What a for loop does.\n",
        "- The difference between iterating on items and iterating on index.\n",
        "- How to use conditionals in a for loop.\n",
        "- How to use tuple unpacking.\n",
        "- What pass, break and continue do.\n",
        "- How to use zip() and enumerate().\n",
        "- How and when to use list comprehensions.\n",
        "\n",
        "\n",
        "## Further reading\n",
        "- There is no further reading for this lesson, please carefully go through these examples to fully understand the wide variety of applications of for loops.\n",
        "- For those who really want to read, please refer to the book Learning Python by Mark Lutz: bear in mind it is a reference text and over 1000 pages long. There is a whole chapter on for loops.\n",
        "- A pdf of Learning Python is available here: https://cfm.ehu.es/ricardo/docs/python/Learning_Python.pdf"
      ]
    }
  ],
  "metadata": {
    "interpreter": {
      "hash": "569d6b7e9215e11aba41c6454007e5c1b78bad7df09dab765d8cf00362c40f03"
    },
    "kernelspec": {
      "display_name": "Python 3.9.1 64-bit ('base': conda)",
      "name": "python3"
    },
    "language_info": {
      "codemirror_mode": {
        "name": "ipython",
        "version": 3
      },
      "file_extension": ".py",
      "mimetype": "text/x-python",
      "name": "python",
      "nbconvert_exporter": "python",
      "pygments_lexer": "ipython3",
      "version": "3.8.11"
    },
    "colab": {
      "name": "Notebook.ipynb",
      "provenance": []
    }
  },
  "nbformat": 4,
  "nbformat_minor": 0
}