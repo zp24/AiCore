{
  "cells": [
    {
      "cell_type": "markdown",
      "metadata": {
        "id": "ddSh_XzJSvWU"
      },
      "source": [
        "# 5 : For Loops"
      ]
    },
    {
      "cell_type": "markdown",
      "metadata": {
        "id": "F-tmSybNSvWY"
      },
      "source": [
        "## Learning objectives\n",
        "- Understand the concept of definite iteration.\n",
        "- Know how to use a basic for loop.\n",
        "- Know how to use a for loop with the range() function.\n",
        "- Know how to use range(len(iterable)) to iterate on index.\n",
        "- Know how to use tuple unpacking in iteration.\n",
        "- Know how to iterate through dictionaries.\n",
        "- Know how to use conditional statements inside for loops.\n",
        "- Know how to use pass, break and continue keywords.\n",
        "- Know how to create and iterate through zip and enumerate objects.\n",
        "- Know how to write list comprehensions.\n",
        "- Know how to use conditionals inside list comprehensions."
      ]
    },
    {
      "cell_type": "markdown",
      "metadata": {
        "id": "pDpM5V2FSvWZ"
      },
      "source": [
        "# Control Flow"
      ]
    },
    {
      "cell_type": "markdown",
      "metadata": {
        "id": "MoBgjcW-SvWa"
      },
      "source": [
        "## Iteration"
      ]
    },
    {
      "cell_type": "markdown",
      "metadata": {
        "id": "NEV_31s4SvWa"
      },
      "source": [
        "- Iterable: data structure capable of returning its elements one at a time e.g. list, tuple, string, dictionary(d.keys() returns a list).\n",
        "- Iteration: performing the same operation repeatedly (often over each element of an iterable).\n",
        "- e.g. multiplying each element in a list by 2, or taking index 0 of each item in a list of strings."
      ]
    },
    {
      "cell_type": "markdown",
      "metadata": {
        "id": "GQusxtLaSvWb"
      },
      "source": [
        "## For Loops"
      ]
    },
    {
      "cell_type": "markdown",
      "metadata": {
        "id": "S7v8c847SvWc"
      },
      "source": [
        "- Looping is an example of iteration, where you perform the same operation repeatedly, until some condition is fulfilled.\n",
        "\n",
        "- For loops perform some operation FOR each element in an iterable (each character in a string or each item in a list etc) until there are no more elements left in the iterable.\n",
        "- This is called definite iteration: where the number of iterations are known.\n",
        "- This is an example of DRY coding (Don't Repeat Yourself), as a single for loop does numerous operations in one go.\n",
        "\n",
        "As opposed to `while` loops, the condition in a `for` loop is whether the iterable has more items or not\n",
        "\n",
        "<p align=center><img src=https://github.com/life-efficient/Essentials/blob/main/2.%20Python%20programming/5.%20Loops/images/for_while.jpeg?raw=1></p>"
      ]
    },
    {
      "cell_type": "markdown",
      "metadata": {
        "id": "VVkiRgP9SvWc"
      },
      "source": [
        "### Basic Syntax"
      ]
    },
    {
      "cell_type": "code",
      "execution_count": null,
      "metadata": {
        "id": "yBbl9naCSvWd"
      },
      "outputs": [],
      "source": [
        "# for i in iterable:\n",
        "#     do_something\n",
        "#     do_something_to_i"
      ]
    },
    {
      "cell_type": "markdown",
      "metadata": {
        "id": "0gBJJCdpSvWf"
      },
      "source": [
        "#### We can break the syntax down as follows:\n",
        "- __i__ is the counter variable here, it can be anything as long as it is consistent: best practice is to use naming such as __city in cities__, __item in items__ etc where __cities__ or __items__ is the __iterable name__, or failing that, __i__, for the purpose of readability.\n",
        "\n",
        "- __i__ refers to each element in the iterable in a given iteration, and so we can use __i__ in the do_something block.\n",
        "\n",
        "- __in__ is the __keyword in__, indicating reference to the following iterable.\n",
        "\n",
        "- __iterable__ is the iterable over which we wish to perform the operation, so the list name for example.\n",
        "\n",
        "- The __colon__ indicates control flow and signals an indent, completing the set phrase.\n",
        "\n",
        "- The __do_something__ block is the operation to perform on each element, and so often i is used in this code block, although it does not have to be."
      ]
    },
    {
      "cell_type": "markdown",
      "metadata": {
        "id": "HnA2CpD3SvWg"
      },
      "source": [
        "### Example"
      ]
    },
    {
      "cell_type": "code",
      "execution_count": null,
      "metadata": {
        "id": "8g3Jj0oISvWg",
        "outputId": "e9cdd60b-87a0-4854-eab9-59a5cec94260"
      },
      "outputs": [
        {
          "name": "stdout",
          "output_type": "stream",
          "text": [
            "Hello, I have a: hat\n",
            "Hello, I have a: boots\n",
            "Hello, I have a: jacket\n",
            "Hello, I have a: gloves\n"
          ]
        }
      ],
      "source": [
        "items = [\"hat\", \"boots\", \"jacket\", \"gloves\"]\n",
        "\n",
        "for item in items:\n",
        "    print(f'Hello, I have a: {item}')"
      ]
    },
    {
      "cell_type": "markdown",
      "metadata": {
        "id": "tWIaRX8bSvWh"
      },
      "source": [
        "### Using the range() function"
      ]
    },
    {
      "cell_type": "code",
      "execution_count": null,
      "metadata": {
        "id": "pqPz2cYGSvWh"
      },
      "outputs": [],
      "source": [
        "# for i in range(start,stop,step):\n",
        "#     do_something\n",
        "#     do_something_to_i"
      ]
    },
    {
      "cell_type": "code",
      "execution_count": null,
      "metadata": {
        "id": "9X179K5rSvWi",
        "outputId": "c3365e9a-bd2a-4b9e-94c3-af4c3cb75f9f"
      },
      "outputs": [
        {
          "data": {
            "text/plain": [
              "[0, 1, 2, 3, 4]"
            ]
          },
          "execution_count": 6,
          "metadata": {},
          "output_type": "execute_result"
        }
      ],
      "source": [
        "list((range(5)))"
      ]
    },
    {
      "cell_type": "code",
      "execution_count": null,
      "metadata": {
        "id": "IyZ0S6F_SvWi",
        "outputId": "dbf06159-d172-4950-86b6-16cffe73804d"
      },
      "outputs": [
        {
          "data": {
            "text/plain": [
              "range(0, 10)"
            ]
          },
          "execution_count": 10,
          "metadata": {},
          "output_type": "execute_result"
        }
      ],
      "source": [
        "range(0, 10)"
      ]
    },
    {
      "cell_type": "code",
      "execution_count": null,
      "metadata": {
        "id": "lOzneZlhSvWi",
        "outputId": "10da1cf8-102d-45f8-94c8-43a497c67ae2"
      },
      "outputs": [
        {
          "name": "stdout",
          "output_type": "stream",
          "text": [
            "[0, 1, 2, 3, 4]\n",
            "[5, 6, 7, 8, 9, 10, 11, 12, 13, 14, 15, 16, 17, 18, 19]\n",
            "[5, 7, 9, 11, 13, 15, 17, 19]\n"
          ]
        }
      ],
      "source": [
        "print(list(range(5)))\n",
        "print(list(range(5, 20)))\n",
        "print(list(range(5, 20, 2)))"
      ]
    },
    {
      "cell_type": "markdown",
      "metadata": {
        "id": "FWv-S_kpSvWj"
      },
      "source": [
        "- Here, we perform an operation using the range() function, and so perform an operation for all the numbers in the given range.\n",
        "\n",
        "- range() is a generator and so returns a range object, not a list, but it is still iterable.\n",
        "\n",
        "- To produce a list we must use list(range()).\n",
        "\n",
        "- range() takes 3 arguments, start, stop and step.\n",
        "\n",
        "- If we specify __1 argument__, e.g. range(3), range defaults to start = 0 and step = 1, and takes the argument as the ending number+1, so range(3) contains 0,1,2.\n",
        "\n",
        "- If we specify __2 arguments__, e.g. range(5,20), the first is start number and second is stop number+1.\n",
        "\n",
        "- If we specify __3 arguments__, the 3rd is the step(increment), so e.g. range(5,10,2) contains 5,7,9."
      ]
    },
    {
      "cell_type": "markdown",
      "metadata": {
        "id": "OvxVKWQjSvWj"
      },
      "source": [
        "### Example"
      ]
    },
    {
      "cell_type": "code",
      "execution_count": null,
      "metadata": {
        "id": "DrfrKXhoSvWj",
        "outputId": "d0df9251-8d8f-457d-c81b-52c5501df5a9"
      },
      "outputs": [
        {
          "data": {
            "text/plain": [
              "6"
            ]
          },
          "execution_count": 14,
          "metadata": {},
          "output_type": "execute_result"
        }
      ],
      "source": [
        "ls = [1, 5, 6, 7, 8, 9]\n",
        "ls[2]"
      ]
    },
    {
      "cell_type": "code",
      "execution_count": null,
      "metadata": {
        "id": "IjB1myqsSvWk",
        "outputId": "8dabd7c3-bd33-45ed-ebb7-4f45320e66f5"
      },
      "outputs": [
        {
          "name": "stdout",
          "output_type": "stream",
          "text": [
            "0\n",
            "1\n",
            "2\n",
            "3\n",
            "4\n",
            "5\n"
          ]
        }
      ],
      "source": [
        "for i in range(len(ls)):\n",
        "    print(i)"
      ]
    },
    {
      "cell_type": "code",
      "execution_count": null,
      "metadata": {
        "id": "YX_Lj8kfSvWk",
        "outputId": "f71cc6ad-c22b-4dcf-e496-a91b0382ca6b"
      },
      "outputs": [
        {
          "data": {
            "text/plain": [
              "range(0, 6)"
            ]
          },
          "execution_count": 15,
          "metadata": {},
          "output_type": "execute_result"
        }
      ],
      "source": [
        "range(len(ls))"
      ]
    },
    {
      "cell_type": "code",
      "execution_count": null,
      "metadata": {
        "id": "9NtlwIbHSvWk",
        "outputId": "b8276335-c12a-4841-d4c6-401b74a2d88f"
      },
      "outputs": [
        {
          "name": "stdout",
          "output_type": "stream",
          "text": [
            "[0, 1, 2]\n"
          ]
        }
      ],
      "source": [
        "print(list(range(3)))"
      ]
    },
    {
      "cell_type": "code",
      "execution_count": null,
      "metadata": {
        "id": "e0PErz9ZSvWl",
        "outputId": "cf8131dd-e0d3-432f-9619-ede2903ab474"
      },
      "outputs": [
        {
          "name": "stdout",
          "output_type": "stream",
          "text": [
            "[5, 6, 7, 8, 9, 10, 11, 12, 13, 14, 15, 16, 17, 18, 19]\n"
          ]
        }
      ],
      "source": [
        "print(list(range(5,20)))"
      ]
    },
    {
      "cell_type": "code",
      "execution_count": null,
      "metadata": {
        "id": "iMnT44J1SvWl",
        "outputId": "281960f5-dd78-4428-ba8d-df182fdf3795"
      },
      "outputs": [
        {
          "name": "stdout",
          "output_type": "stream",
          "text": [
            "[5, 7, 9]\n"
          ]
        }
      ],
      "source": [
        "print(list(range(5,10,2)))"
      ]
    },
    {
      "cell_type": "markdown",
      "metadata": {
        "id": "C1uo5tdTSvWl"
      },
      "source": [
        "### Using range(len(iterable))"
      ]
    },
    {
      "cell_type": "code",
      "execution_count": null,
      "metadata": {
        "id": "5DnUswRCSvWl"
      },
      "outputs": [],
      "source": [
        "# for i in range(len(iterable)):\n",
        "#     do_something_to_iterable[i]"
      ]
    },
    {
      "cell_type": "markdown",
      "metadata": {
        "id": "7gUDcsePSvWm"
      },
      "source": [
        "- Here, i is each number in the index of a list, and we can index the list in the code block in order to modify each element.\n",
        "- Generally this is to modify lists but can have other use cases."
      ]
    },
    {
      "cell_type": "markdown",
      "metadata": {
        "id": "SyBVk-1aSvWm"
      },
      "source": [
        "### Example"
      ]
    },
    {
      "cell_type": "code",
      "execution_count": null,
      "metadata": {
        "id": "YgdXC0xuSvWm",
        "outputId": "f9101d4c-ddfa-4809-faa1-8d25c7305d4f"
      },
      "outputs": [
        {
          "name": "stdout",
          "output_type": "stream",
          "text": [
            "['HAT', 'BOOTS', 'JACKET', 'GLOVES']\n"
          ]
        }
      ],
      "source": [
        "items = [\"hat\", \"boots\", \"jacket\", \"gloves\"]\n",
        "\n",
        "counter = 0\n",
        "for i in range(len(items)):\n",
        "    items[i] = items[i].upper()\n",
        "\n",
        "print(items)"
      ]
    },
    {
      "cell_type": "markdown",
      "metadata": {
        "id": "_SwCuISaSvWm"
      },
      "source": [
        "### Tuple Packing and Unpacking"
      ]
    },
    {
      "cell_type": "markdown",
      "metadata": {
        "id": "fZqfEsxYSvWm"
      },
      "source": [
        "Some quick revision from the data types lecture:\n",
        "- One of the most powerful aspects of tuples is a technique called tuple unpacking.\n",
        "- Using the comma syntax below, Python automatically picks out elements from a tuple and assigns them to variables.\n",
        "- We can leverage this with for loops, especially when iterating through dictionaries."
      ]
    },
    {
      "cell_type": "code",
      "execution_count": null,
      "metadata": {
        "id": "965Y6ZfPSvWn",
        "outputId": "4c3e31f1-29c0-498c-b688-427c07ff609a"
      },
      "outputs": [
        {
          "name": "stdout",
          "output_type": "stream",
          "text": [
            "1\n",
            "2\n"
          ]
        }
      ],
      "source": [
        "# Python here 'unpacks' the tuple automatically and picks out the values and assigns them to the comma-separated\n",
        "# variables\n",
        "a, b = (1, 2)\n",
        "\n",
        "print(a)\n",
        "print(b)"
      ]
    },
    {
      "cell_type": "markdown",
      "metadata": {
        "id": "-QFi4-OxSvWn"
      },
      "source": [
        "## For Loops with Dictionaries"
      ]
    },
    {
      "cell_type": "markdown",
      "metadata": {
        "id": "eOg2TggpSvWn"
      },
      "source": [
        "This is possible through 2 methods:\n",
        "1. We can iterate through d.keys(), as it returns a list.\n",
        "2. We can use tuple unpacking to iterate through d.items(), as it returns a list of paired tuples.\n",
        "\n",
        "The second method gives us the freedom to operate both keys and items in a more readable format."
      ]
    },
    {
      "cell_type": "markdown",
      "metadata": {
        "id": "UelOb5jISvWn"
      },
      "source": [
        "### Examples"
      ]
    },
    {
      "cell_type": "markdown",
      "metadata": {
        "id": "Vqg8bz4OSvWn"
      },
      "source": [
        "#### Method 1"
      ]
    },
    {
      "cell_type": "code",
      "execution_count": null,
      "metadata": {
        "id": "pYsiC_4ZSvWo",
        "outputId": "ce6de256-0e71-4828-960c-2a6a74499788"
      },
      "outputs": [
        {
          "data": {
            "text/plain": [
              "dict_keys(['tomato', 'sugar', 'sponges', 'juice', 'foil'])"
            ]
          },
          "execution_count": 22,
          "metadata": {},
          "output_type": "execute_result"
        }
      ],
      "source": [
        "# we see here the .keys() method returns a list\n",
        "prices = {\"tomato\":0.87, \"sugar\":1.09, \"sponges\":0.29, \"juice\":1.89, \"foil\":1.29}\n",
        "\n",
        "prices.keys()"
      ]
    },
    {
      "cell_type": "code",
      "execution_count": null,
      "metadata": {
        "id": "CoZE4_tuSvWo",
        "outputId": "6160b533-40c4-4e57-a774-e221924f325a"
      },
      "outputs": [
        {
          "name": "stdout",
          "output_type": "stream",
          "text": [
            "['tomato', 'sugar', 'sponges', 'juice', 'foil']\n",
            "[0.87, 1.09, 0.29, 1.89, 1.29]\n"
          ]
        }
      ],
      "source": [
        "# here we are picking out keys and items from a dictionary and adding them to a list\n",
        "\n",
        "# initialise empty lists\n",
        "code_list = []\n",
        "price_list = []\n",
        "\n",
        "for key in prices.keys():\n",
        "\n",
        "    # append the key itself to code_list\n",
        "    code_list.append(key)\n",
        "\n",
        "    # use the key to pick out the value and append that to price_list\n",
        "    price_list.append(prices[key])\n",
        "\n",
        "print(code_list)\n",
        "print(price_list)\n"
      ]
    },
    {
      "cell_type": "markdown",
      "metadata": {
        "id": "xVmCgJ54SvWo"
      },
      "source": [
        "#### Method 2"
      ]
    },
    {
      "cell_type": "code",
      "execution_count": null,
      "metadata": {
        "id": "o_wAYPGjSvWo",
        "outputId": "f79a295d-d4ef-4d5e-9d1d-836a45326d59"
      },
      "outputs": [
        {
          "data": {
            "text/plain": [
              "dict_items([('tomato', 0.87), ('sugar', 1.09), ('sponges', 0.29), ('juice', 1.89), ('foil', 1.29)])"
            ]
          },
          "execution_count": 24,
          "metadata": {},
          "output_type": "execute_result"
        }
      ],
      "source": [
        "# we can see here that the .items() method returns a list of paired tuples\n",
        "prices.items()"
      ]
    },
    {
      "cell_type": "code",
      "execution_count": null,
      "metadata": {
        "id": "yCdE4JEfSvWo",
        "outputId": "a53c160f-c450-43ca-8051-dea72d877e54"
      },
      "outputs": [
        {
          "name": "stdout",
          "output_type": "stream",
          "text": [
            "['tomato', 'sugar', 'sponges', 'juice', 'foil']\n",
            "[0.87, 1.09, 0.29, 1.89, 1.29]\n"
          ]
        }
      ],
      "source": [
        "# we do the same operation but using tuple unpacking on d.keys this time\n",
        "\n",
        "code_list = []\n",
        "price_list = []\n",
        "key, value = ('tomato', 0.87)\n",
        "\n",
        "key, value = ('sugar', 1.09)\n",
        "\n",
        "for key, value in prices.items():\n",
        "    \n",
        "    # this line is the same as above\n",
        "    code_list.append(key)\n",
        "    \n",
        "    # here we access the value too, and directly append that to price_list\n",
        "    price_list.append(value)\n",
        "    \n",
        "print(code_list)\n",
        "print(price_list)"
      ]
    },
    {
      "cell_type": "markdown",
      "metadata": {
        "id": "cMVQF8yOSvWp"
      },
      "source": [
        "We can also perform other operations using tuple unpacking:"
      ]
    },
    {
      "cell_type": "code",
      "execution_count": null,
      "metadata": {
        "id": "sWSYOLe3SvWp",
        "outputId": "51524f37-cfcc-41ac-ae3f-6772333eec39"
      },
      "outputs": [
        {
          "name": "stdout",
          "output_type": "stream",
          "text": [
            "Item Code: tomato\n",
            "Price: £0.87\n",
            "\n",
            "Item Code: sugar\n",
            "Price: £1.09\n",
            "\n",
            "Item Code: sponges\n",
            "Price: £0.29\n",
            "\n",
            "Item Code: juice\n",
            "Price: £1.89\n",
            "\n",
            "Item Code: foil\n",
            "Price: £1.29\n",
            "\n"
          ]
        }
      ],
      "source": [
        "prices = {\"tomato\":0.87, \"sugar\":1.09, \"sponges\":0.29, \"juice\":1.89, \"foil\":1.29}\n",
        "\n",
        "for key, value in prices.items():\n",
        "    print(\"Item Code: {}\\nPrice: £{}\\n\".format(key,value))"
      ]
    },
    {
      "cell_type": "markdown",
      "metadata": {
        "id": "Y6eVdZi2SvWp"
      },
      "source": [
        "## If Statements within For Loops\n",
        "- We can use control flow within for loops to perform differing operations depending on conditions."
      ]
    },
    {
      "cell_type": "markdown",
      "metadata": {
        "id": "Zr9CfcaqSvWp"
      },
      "source": [
        "### Example\n",
        "- Here we use the example of a BMI calculator to demonstrate the combination of a few concepts.\n",
        "- Heights are in metres and weights in kilograms for ease of calculation."
      ]
    },
    {
      "cell_type": "code",
      "execution_count": null,
      "metadata": {
        "id": "CeHeGAeJSvWp",
        "outputId": "ee6359bc-bad3-4c1c-c1c4-78374a8be043"
      },
      "outputs": [
        {
          "name": "stdout",
          "output_type": "stream",
          "text": [
            "This is the list of BMIs: [25.381468541909282, 25.390218522372525, 30.905885854261584, 23.938989774631512, 32.488628979857054, 18.80920625149619]\n",
            "\n",
            "You're in the overweight range. Your BMI is 25.4.\n",
            "You're in the overweight range. Your BMI is 25.4.\n",
            "You're in the obese range. Your BMI is 30.9.\n",
            "You're in the healthy weight range. Your BMI is 23.9.\n",
            "You're in the obese range. Your BMI is 32.5.\n",
            "You're in the healthy weight range. Your BMI is 18.8.\n"
          ]
        }
      ],
      "source": [
        "# we encode a list of heights and weights as a list of tuples\n",
        "heights_weights = [(1.83, 85), (1.55, 61), (2.09, 135),\n",
        "                   (1.71, 70), (1.71, 95), (1.71, 55)]\n",
        "\n",
        "\n",
        "# we set bmis as an empty list to append bmi values to\n",
        "bmis = []\n",
        "\n",
        "\n",
        "# we use tuple unpacking to add bmi values to bmis\n",
        "for height, weight in heights_weights:\n",
        "    bmis.append(weight / height ** 2)\n",
        "\n",
        "\n",
        "# we print bmis here to show the intermediate list (ordinarily we would not do this)\n",
        "print(\"This is the list of BMIs: {}\\n\".format(bmis))\n",
        "\n",
        "\n",
        "# we loop over bmi list to assign the values to the correct message\n",
        "for bmi in bmis:\n",
        "    if bmi < 18.5:\n",
        "        print(\n",
        "            \"You're in the underweight range. Your BMI is {:3.1f}.\".format(bmi))\n",
        "    elif bmi <= 24.9:\n",
        "        print(\n",
        "            \"You're in the healthy weight range. Your BMI is {:3.1f}.\".format(bmi))\n",
        "    elif bmi <= 29.9:\n",
        "        print(\n",
        "            \"You're in the overweight range. Your BMI is {:3.1f}.\".format(bmi))\n",
        "    elif bmi <= 39.9:\n",
        "        print(\"You're in the obese range. Your BMI is {:3.1f}.\".format(bmi))\n"
      ]
    },
    {
      "cell_type": "markdown",
      "metadata": {
        "id": "tWnWaCKsSvWq"
      },
      "source": [
        "We can now do this in a single for loop:"
      ]
    },
    {
      "cell_type": "code",
      "execution_count": null,
      "metadata": {
        "id": "6JUnQi8uSvWq",
        "outputId": "2880b5ee-4dfc-4d72-d7ee-4e914343d3f9"
      },
      "outputs": [
        {
          "name": "stdout",
          "output_type": "stream",
          "text": [
            "You're in the overweight range. Your BMI is 25.4\n",
            "You're in the overweight range. Your BMI is 25.4\n",
            "You're in the obese range. Your BMI is 30.9\n",
            "You're in the healthy weight range. Your BMI is 23.9\n",
            "You're in the obese range. Your BMI is 32.5\n",
            "You're in the healthy weight range. Your BMI is 18.8\n"
          ]
        }
      ],
      "source": [
        "heights_weights = [(1.83, 85),(1.55, 61),(2.09, 135),(1.71, 70),(1.71, 95),(1.71, 55)]\n",
        "\n",
        "for height, weight in heights_weights:\n",
        "    \n",
        "    # here we calculate bmi within the for loop using the paired tuple values before passing the bmi value\n",
        "    # into the subsequent if statements\n",
        "    bmi = weight/height**2\n",
        "\n",
        "    if bmi < 18.5:\n",
        "        print(\"You're in the underweight range. Your BMI is {:3.1f}\".format(bmi))\n",
        "    elif bmi <= 24.9:\n",
        "        print(\"You're in the healthy weight range. Your BMI is {:3.1f}\".format(bmi))\n",
        "    elif bmi <= 29.9:\n",
        "        print(\"You're in the overweight range. Your BMI is {:3.1f}\".format(bmi))\n",
        "    elif bmi <= 39.9:\n",
        "        print(\"You're in the obese range. Your BMI is {:3.1f}\".format(bmi))"
      ]
    },
    {
      "cell_type": "markdown",
      "metadata": {
        "id": "hL9LMY-mSvWq"
      },
      "source": [
        "## Pass, Break and Continue Keywords"
      ]
    },
    {
      "cell_type": "markdown",
      "metadata": {
        "id": "EQVfEcsBSvWq"
      },
      "source": [
        "- The pass keyword serves as a placeholder in an empty loop, it means 'do nothing'.\n",
        "- We use pass when we want a loop (or function) in our code but do not want to write it out just now, but we still want to be able to run the rest of our code.\n",
        "- The break keyword terminates the loop when it is triggered.\n",
        "- The continue keyword moves to the top of the nearest enclosing loop and skips onto the next iteration.\n",
        "- Usually we use these inside a conditional in order to terminate a loop or skip an iteration when a condition is met."
      ]
    },
    {
      "cell_type": "markdown",
      "metadata": {
        "id": "Z8TQ3nYlSvWq"
      },
      "source": [
        "### Examples"
      ]
    },
    {
      "cell_type": "code",
      "execution_count": null,
      "metadata": {
        "id": "9ZZ0EMkYSvWq",
        "outputId": "f9f186b6-e62b-424e-9572-f4ea064a51fe"
      },
      "outputs": [
        {
          "name": "stdout",
          "output_type": "stream",
          "text": [
            "10 5\n"
          ]
        }
      ],
      "source": [
        "# Used for developing code. If you leave it empty, the code throws an error\n",
        "x, y = 10, 5\n",
        "\n",
        "for i in range(20):\n",
        "    ### To be completed\n",
        "    pass\n",
        "\n",
        "print(x,y)"
      ]
    },
    {
      "cell_type": "code",
      "execution_count": null,
      "metadata": {
        "id": "5Qu2TJnZSvWr",
        "outputId": "2418485b-c174-4bc8-e66c-6dac86b1c1ef"
      },
      "outputs": [
        {
          "name": "stdout",
          "output_type": "stream",
          "text": [
            "I am not skipped because 1 is not divisible by 5\n",
            "I am not skipped because 2 is not divisible by 5\n",
            "I am not skipped because 4 is not divisible by 5\n",
            "I am not skipped because 5 is not divisible by 5\n",
            "I am not skipped because 7 is not divisible by 5\n",
            "I am not skipped because 8 is not divisible by 5\n",
            "I am not skipped because 10 is not divisible by 5\n",
            "I am not skipped because 11 is not divisible by 5\n"
          ]
        }
      ],
      "source": [
        "for i in range(12):\n",
        "    if i % 3 == 0:\n",
        "        continue\n",
        "    print(f'I am not skipped because {i} is not divisible by 5')"
      ]
    },
    {
      "cell_type": "code",
      "execution_count": null,
      "metadata": {
        "id": "ryVA1ZcMSvWr",
        "outputId": "24f46b01-83a5-4708-fd13-7a4595def337"
      },
      "outputs": [
        {
          "name": "stdout",
          "output_type": "stream",
          "text": [
            "1\n",
            "2\n",
            "3\n",
            "4\n"
          ]
        }
      ],
      "source": [
        "for i in range(1,12):\n",
        "    if i % 5 == 0:\n",
        "        break\n",
        "    else:\n",
        "        print(i)"
      ]
    },
    {
      "cell_type": "markdown",
      "metadata": {
        "id": "3q8htokhSvWr"
      },
      "source": [
        "## Zip and Enumerate"
      ]
    },
    {
      "cell_type": "markdown",
      "metadata": {
        "id": "l-Pjk1DASvWr"
      },
      "source": [
        "- The zip() function combines iterables into tuples, but zip is an iterator which returns a zip object, which must then be iterated over, or converted to a list to view.\n",
        "- Can unzip into tuples by adding * argument inside zip().\n",
        "- enumerate() returns iterator of tuples, containing (index,item).\n",
        "- This is useful for operations on both indices and items: combining a for loop on the iterable with a for loop on range(len(iterable))."
      ]
    },
    {
      "cell_type": "markdown",
      "metadata": {
        "id": "9t9Y9dy8SvWs"
      },
      "source": [
        "### Examples"
      ]
    },
    {
      "cell_type": "code",
      "execution_count": null,
      "metadata": {
        "id": "8ZpQoVnmSvWs",
        "outputId": "eef84b90-3ccb-45a2-83b1-360cd08a7960"
      },
      "outputs": [
        {
          "name": "stdout",
          "output_type": "stream",
          "text": [
            "[('tomato', 0.87), ('sugar', 1.09), ('sponges', 0.29), ('juice', 1.89), ('foil', 1.29)]\n"
          ]
        }
      ],
      "source": [
        "# zip() creates a zip object, which must be iterated or listed to view it\n",
        "\n",
        "items = [\"tomato\", \"sugar\", \"sponges\", \"juice\", \"foil\"]\n",
        "prices = [0.87, 1.09, 0.29, 1.89, 1.29]\n",
        "\n",
        "items_and_prices = zip(items, prices)\n",
        "\n",
        "print(list(items_and_prices))\n"
      ]
    },
    {
      "cell_type": "code",
      "execution_count": null,
      "metadata": {
        "id": "Rgcyy-72SvWs",
        "outputId": "c385a28e-322a-4c0b-d188-61b684937d59"
      },
      "outputs": [
        {
          "name": "stdout",
          "output_type": "stream",
          "text": [
            "tomato 0.87\n",
            "sugar 1.09\n",
            "sponges 0.29\n",
            "juice 1.89\n",
            "foil 1.29\n"
          ]
        }
      ],
      "source": [
        "for item, price in zip(items, prices):\n",
        "    print(item, price)"
      ]
    },
    {
      "cell_type": "code",
      "execution_count": null,
      "metadata": {
        "id": "UQJJZLxNSvWs",
        "outputId": "4002216a-3348-421a-e628-fe98c93a6d74"
      },
      "outputs": [
        {
          "name": "stdout",
          "output_type": "stream",
          "text": [
            "('tomato', 'sugar', 'sponges', 'juice', 'foil')\n",
            "(0.87, 1.09, 0.29, 1.89, 1.29)\n"
          ]
        }
      ],
      "source": [
        "# we can unzip a zip object into tuples using * inside the zip call\n",
        "\n",
        "items_and_prices = zip(items, prices) # creating zip object\n",
        "\n",
        "tuple_of_items, tuple_of_prices = zip(*items_and_prices) # unzipping zip object\n",
        "\n",
        "print(tuple_of_items)\n",
        "print(tuple_of_prices)"
      ]
    },
    {
      "cell_type": "code",
      "execution_count": null,
      "metadata": {
        "id": "rqWRRxO-SvWs",
        "outputId": "46aee640-ae1a-4466-a99c-0d680ee6805e"
      },
      "outputs": [
        {
          "name": "stdout",
          "output_type": "stream",
          "text": [
            "The price of tomato is £0.87\n",
            "The price of sugar is £1.09\n",
            "The price of sponges is £0.29\n",
            "The price of juice is £1.89\n",
            "The price of foil is £1.29\n"
          ]
        }
      ],
      "source": [
        "# can iterate over and perform operations on zip object\n",
        "\n",
        "for item, price in zip(items, prices):\n",
        "    print(\"The price of {} is £{}\".format(item, price))"
      ]
    },
    {
      "cell_type": "code",
      "execution_count": null,
      "metadata": {
        "id": "ucCcbYzBSvWt",
        "outputId": "45efa010-44d8-480a-af32-1d86b723be28"
      },
      "outputs": [
        {
          "name": "stdout",
          "output_type": "stream",
          "text": [
            "0 hat\n",
            "1 scarf\n",
            "2 coat\n",
            "3 gloves\n"
          ]
        }
      ],
      "source": [
        "# enumerate() gives both items and their indices which can be operated on\n",
        "\n",
        "items = [\"hat\", \"scarf\", \"coat\", \"gloves\"]\n",
        "\n",
        "\n",
        "for index, item in enumerate(items):\n",
        "    print(index, item)"
      ]
    },
    {
      "cell_type": "code",
      "execution_count": null,
      "metadata": {
        "id": "FNVRMKUySvWt",
        "outputId": "3996d5ec-cc26-4668-c4b3-8bfd16735d1e"
      },
      "outputs": [
        {
          "name": "stdout",
          "output_type": "stream",
          "text": [
            "((0, 'hat'), (1, 'scarf'), (2, 'coat'), (3, 'gloves'))\n"
          ]
        }
      ],
      "source": [
        "# enumerate objects can be shown in lists/tuples etc too\n",
        "print(tuple(enumerate(items)))"
      ]
    },
    {
      "cell_type": "markdown",
      "metadata": {
        "id": "3_nzpsrASvWt"
      },
      "source": [
        "## A note on the * operator"
      ]
    },
    {
      "cell_type": "markdown",
      "metadata": {
        "id": "o6Lu9kUpSvWt"
      },
      "source": [
        "We know that * performs a multiplication. In this case, it was used for unzipping a zip object. But it is important to know what happens behind the scenes"
      ]
    },
    {
      "cell_type": "code",
      "execution_count": null,
      "metadata": {
        "id": "qxjO_skFSvWt",
        "outputId": "85621e42-dab6-43ea-ef42-14044c3401b0"
      },
      "outputs": [
        {
          "data": {
            "application/vnd.code.notebook.stdout": [
              "(1, 2) (3, 4)\n",
              "[(1, 2), (3, 4)]\n"
            ]
          },
          "output_type": "unknown"
        }
      ],
      "source": [
        "zipped = [(1, 2), (3, 4)]\n",
        "print(*zipped) # Unpacks the zipped instance into its components\n",
        "zipped = [[(1, 2), (3, 4)]]\n",
        "print(*zipped)\n",
        "# You can think of * as removing the squared brackets"
      ]
    },
    {
      "cell_type": "markdown",
      "metadata": {
        "id": "Q8aZFdGUSvWt"
      },
      "source": [
        "We can think of * as a container destructor."
      ]
    },
    {
      "cell_type": "code",
      "execution_count": null,
      "metadata": {
        "id": "Z0mZOw8XSvWu",
        "outputId": "ac2ae74a-3add-4d76-e241-7fa8e7d7a6a4"
      },
      "outputs": [
        {
          "data": {
            "text/plain": [
              "[1, 2, 3]"
            ]
          },
          "execution_count": 2,
          "metadata": {},
          "output_type": "execute_result"
        }
      ],
      "source": [
        "[*(1, 2, 3)] # In this case, it removes the brackets, and the result will be a list containing 1, 2, and 3"
      ]
    },
    {
      "cell_type": "markdown",
      "metadata": {
        "id": "IPvonZ5bSvWu"
      },
      "source": [
        "We can use zip with as many arguments as we want. It will create tuples with the same number of items of arguments we used. So in this case we have tuples of 3 items"
      ]
    },
    {
      "cell_type": "code",
      "execution_count": null,
      "metadata": {
        "id": "Ap3rRqKPSvWu",
        "outputId": "faac56a8-c274-4399-e30f-eeacbce0e65b"
      },
      "outputs": [
        {
          "name": "stdout",
          "output_type": "stream",
          "text": [
            "[('tomato', 0.87, 1), ('sugar', 1.09, 2), ('sponges', 0.29, 3), ('juice', 1.89, 4), ('foil', 1.29, 5)]\n"
          ]
        }
      ],
      "source": [
        "items =  [\"tomato\", \"sugar\", \"sponges\", \"juice\", \"foil\"]\n",
        "prices = [0.87,      1.09,     0.29,      1.89,    1.29]\n",
        "item =   [1,            2,        3,         4,     5]\n",
        "\n",
        "\n",
        "print(list(zip(items, prices, item)))"
      ]
    },
    {
      "cell_type": "code",
      "execution_count": null,
      "metadata": {
        "id": "B1-36ZkjSvWu",
        "outputId": "e7ec5aad-3e90-4c18-aacb-4be9f68beb44"
      },
      "outputs": [
        {
          "name": "stdout",
          "output_type": "stream",
          "text": [
            "[('tomato', 0.87), ('sugar', 1.09), ('sponges', 0.29), ('juice', 1.89), ('foil', 1.29)]\n",
            "[('tomato', 'sugar', 'sponges', 'juice', 'foil'), (0.87, 1.09, 0.29, 1.89, 1.29)]\n"
          ]
        }
      ],
      "source": [
        "items = [\"tomato\", \"sugar\", \"sponges\", \"juice\", \"foil\"]\n",
        "prices = [0.87,      1.09,     0.29,     1.89,    1.29]\n",
        "\n",
        "items_and_prices = zip(items, prices)  # We create a list of tuples\n",
        "print(list(items_and_prices))\n",
        "\n",
        "items_and_prices = zip(items, prices)  # We create a list of tuples\n",
        "# We reinstantiate it because once we use the list function into the zip object\n",
        "# it changes its status\n",
        "# We remove the square brackets, obtaining 5 tuple\n",
        "print(list(zip(*items_and_prices)))\n",
        "# Then zip all of the 5 tuples, so we obtain tuples with 5 items each\n"
      ]
    },
    {
      "cell_type": "markdown",
      "metadata": {
        "id": "wrtF_-49SvWu"
      },
      "source": [
        "The same way we unpack zip files or iterables, we can also unpack dictionaries, but using **"
      ]
    },
    {
      "cell_type": "code",
      "execution_count": null,
      "metadata": {
        "id": "8X7pOr_gSvWu",
        "outputId": "b023b916-5930-4eca-8e2f-51816a88899f"
      },
      "outputs": [
        {
          "name": "stdout",
          "output_type": "stream",
          "text": [
            "{'A': 1, 'B': 2}\n",
            "{'A': 1, 'B': 2, 'C': 3, 'D': 4}\n"
          ]
        }
      ],
      "source": [
        "dict_1 = {'A': 1, 'B': 2}\n",
        "dict_2 = {'C': 3, 'D': 4}\n",
        "\n",
        "print({**dict_1})# ** removes the curly brackets, so we obtain something like 'A' = 1, and 'B' = 2\n",
        "\n",
        "# We can also unpack two dictionaries and merge them together\n",
        "\n",
        "print({**dict_1, **dict_2}) # we obtain something like 'A' = 1, 'B' = 2, 'C' = 3, 'D' = 4"
      ]
    },
    {
      "cell_type": "markdown",
      "metadata": {
        "id": "8ULWQUKzSvWv"
      },
      "source": [
        "We will see how to apply this in functions in the next lesson"
      ]
    },
    {
      "cell_type": "code",
      "execution_count": null,
      "metadata": {
        "id": "FjQ0wmxmSvWv",
        "outputId": "33768311-fcdf-4c70-8bc1-50c13254a156"
      },
      "outputs": [
        {
          "name": "stdout",
          "output_type": "stream",
          "text": [
            "(1, 2, 3)\n",
            "{'a': 4, 'b': 5, 'c': 6}\n"
          ]
        }
      ],
      "source": [
        "# We can use * and ** as input for a function\n",
        "\n",
        "def fun_dummy(*args, **kwargs): # args = arguments, kwargs = key word arguments\n",
        "    print(args) # args is now a tuple\n",
        "    print(kwargs) # kwargs now is a dictionary\n",
        "\n",
        "fun_dummy(1, 2, 3, a=4, b=5, c=6) \n",
        "# anything without any a key word argument (by key word I mean a, b, c) will be a tuple in the function\n",
        "# Anything with a key word argument will be included in a dictionary in the function"
      ]
    },
    {
      "cell_type": "markdown",
      "metadata": {
        "id": "WP2tS3-4SvWv"
      },
      "source": [
        "## List Comprehensions"
      ]
    },
    {
      "cell_type": "markdown",
      "metadata": {
        "id": "WxeeuHduSvWv"
      },
      "source": [
        "- List comprehension are a much more efficient way of writing a for loop which generates or modifies a list.\n",
        "- They are more suitable when we would use .append() on a list inside the for loop, or would iterate on the index of a list to modify each item, otherwise a for loop is better.\n",
        "- Complex for loops operating on a list such as the BMI calculator are not suitable for list comprehension: they would be far too complex to read easily.\n",
        "- They are written in a single line and the syntax compared to a for loop is thus:"
      ]
    },
    {
      "cell_type": "code",
      "execution_count": null,
      "metadata": {
        "id": "0eL4rkkHSvWv"
      },
      "outputs": [],
      "source": [
        "# for item in iterable:\n",
        "#     do_something\n",
        "\n",
        "# [do_something for item in iterable]"
      ]
    },
    {
      "cell_type": "markdown",
      "metadata": {
        "id": "ldFDHX2GSvWw"
      },
      "source": [
        "### Examples"
      ]
    },
    {
      "cell_type": "markdown",
      "metadata": {
        "id": "DRMkAikSSvWw"
      },
      "source": [
        "Hence:"
      ]
    },
    {
      "cell_type": "code",
      "execution_count": null,
      "metadata": {
        "id": "3pThMrLzSvWw",
        "outputId": "48fefd78-b08f-4a9a-d22a-3934a627a1a4"
      },
      "outputs": [
        {
          "name": "stdout",
          "output_type": "stream",
          "text": [
            "[0, 1, 4, 9, 16, 25, 36, 49, 64, 81]\n"
          ]
        }
      ],
      "source": [
        "squares = []\n",
        "\n",
        "for i in range(0):\n",
        "    squares.append(i**2)\n",
        "\n",
        "print(squares)"
      ]
    },
    {
      "cell_type": "markdown",
      "metadata": {
        "id": "zh9mmtNySvWw"
      },
      "source": [
        "Becomes:"
      ]
    },
    {
      "cell_type": "code",
      "execution_count": null,
      "metadata": {
        "id": "7NL1LP28SvWw",
        "outputId": "f040e209-2a0a-4a0e-993b-8d79cfc3b2b3"
      },
      "outputs": [
        {
          "name": "stdout",
          "output_type": "stream",
          "text": [
            "[0, 1, 4, 9, 16, 25, 36, 49, 64, 81]\n"
          ]
        }
      ],
      "source": [
        "squares = [i**2 for i in range(10)]\n",
        "\n",
        "print(squares)"
      ]
    },
    {
      "cell_type": "markdown",
      "metadata": {
        "id": "JtBvIeWsSvWx"
      },
      "source": [
        "## List Comprehensions using Conditionals"
      ]
    },
    {
      "cell_type": "markdown",
      "metadata": {
        "id": "HVNUR05GSvWx"
      },
      "source": [
        "- Conditionals in list comprehensions are of 2 types.\n",
        "- When adding only an if statement, the conditional goes after the for statement.\n",
        "- When adding an if/else statement, the conditional goes before the for statement."
      ]
    },
    {
      "cell_type": "markdown",
      "metadata": {
        "id": "qEw4BYvjSvWx"
      },
      "source": [
        "### Examples"
      ]
    },
    {
      "cell_type": "markdown",
      "metadata": {
        "id": "IXmN6Kd-SvWx"
      },
      "source": [
        "Hence:"
      ]
    },
    {
      "cell_type": "code",
      "execution_count": null,
      "metadata": {
        "id": "cSnV5frySvWx",
        "outputId": "0965ac0a-f35e-4b02-f391-f867e81ccd17"
      },
      "outputs": [
        {
          "name": "stdout",
          "output_type": "stream",
          "text": [
            "[0, 9, 36, 81]\n"
          ]
        }
      ],
      "source": [
        "squared_threes = []\n",
        "\n",
        "for x in range(10):\n",
        "    if x%3 == 0:\n",
        "        squared_threes.append(x**2)\n",
        "\n",
        "print(squared_threes)"
      ]
    },
    {
      "cell_type": "markdown",
      "metadata": {
        "id": "ZWNcTq6tSvWx"
      },
      "source": [
        "Becomes:"
      ]
    },
    {
      "cell_type": "code",
      "execution_count": null,
      "metadata": {
        "id": "XyJFyaLTSvWx",
        "outputId": "a521286a-8f94-492a-c904-ebd6a5000968"
      },
      "outputs": [
        {
          "name": "stdout",
          "output_type": "stream",
          "text": [
            "[0, 9, 36, 81]\n"
          ]
        }
      ],
      "source": [
        "squared_threes = [x**2 for x in range(10) if x%3==0]\n",
        "\n",
        "print(squared_threes)"
      ]
    },
    {
      "cell_type": "markdown",
      "metadata": {
        "id": "CjzCTbk-SvWy"
      },
      "source": [
        "Using if/else:"
      ]
    },
    {
      "cell_type": "code",
      "execution_count": null,
      "metadata": {
        "id": "BCPrAogaSvWy",
        "outputId": "5b7fc78f-6022-4ad2-c0ca-190f142ea9b0"
      },
      "outputs": [
        {
          "name": "stdout",
          "output_type": "stream",
          "text": [
            "[0, 1, 4, 27, 16, 25, 216, 49, 64, 729]\n"
          ]
        }
      ],
      "source": [
        "squares_and_cubes = []\n",
        "\n",
        "for x in range(10):\n",
        "    if x%3 == 0:\n",
        "        squares_and_cubes.append(x**3)\n",
        "    else:\n",
        "        squares_and_cubes.append(x**2)\n",
        "\n",
        "print(squares_and_cubes)"
      ]
    },
    {
      "cell_type": "markdown",
      "metadata": {
        "id": "21P812gLSvWy"
      },
      "source": [
        "Becomes:"
      ]
    },
    {
      "cell_type": "code",
      "execution_count": null,
      "metadata": {
        "id": "CjFkpPu4SvWy",
        "outputId": "3ef28253-5d47-4baa-b6ff-77af431249e2"
      },
      "outputs": [
        {
          "name": "stdout",
          "output_type": "stream",
          "text": [
            "[0, 1, 4, 27, 16, 25, 216, 49, 64, 729]\n"
          ]
        }
      ],
      "source": [
        "squares_and_cubes = [x**3 if x%3==0 else x**2 for x in range(10)]\n",
        "\n",
        "print(squares_and_cubes)"
      ]
    },
    {
      "cell_type": "markdown",
      "metadata": {
        "id": "xt2wsmNvSvWy"
      },
      "source": [
        "## Dictionary Comprehensions\n",
        "\n",
        "- Not only can we create list comprehensions with Python we can also create dictionary comprehensions to create a new dictionary fast and efficiently.\n",
        "- Use as a method to create a new dictionary from another dictionary.\n",
        "- The logic is the same as list comprehensions but the syntax is different due to structure of dictionaries."
      ]
    },
    {
      "cell_type": "markdown",
      "metadata": {
        "id": "80cZfTPjSvWy"
      },
      "source": [
        "### Examples"
      ]
    },
    {
      "cell_type": "markdown",
      "metadata": {
        "id": "I_kIEAymSvWz"
      },
      "source": [
        "Hence:"
      ]
    },
    {
      "cell_type": "code",
      "execution_count": null,
      "metadata": {
        "id": "9f8mLbjkSvWz",
        "outputId": "a22a28f4-d625-4c7a-e535-729bcc663527"
      },
      "outputs": [
        {
          "name": "stdout",
          "output_type": "stream",
          "text": [
            "{'First': 4, 'Second': 9, 'Third': 16, 'Fourth': 25, 'Fifth': 36}\n"
          ]
        }
      ],
      "source": [
        "numbers_dict = {\"First\": 2, \"Second\": 3, \"Third\": 4, \"Fourth\": 5, \"Fifth\": 6}\n",
        "\n",
        "for key, value in numbers_dict.items():\n",
        "    numbers_dict[key] = value**2\n",
        "    \n",
        "print(numbers_dict)"
      ]
    },
    {
      "cell_type": "markdown",
      "metadata": {
        "id": "U1zQ20S1SvWz"
      },
      "source": [
        "Can easily become:"
      ]
    },
    {
      "cell_type": "code",
      "execution_count": null,
      "metadata": {
        "id": "3I-TpdXNSvWz",
        "outputId": "cbe67045-86fe-4f57-c4cf-a0c5752e51a7"
      },
      "outputs": [
        {
          "name": "stdout",
          "output_type": "stream",
          "text": [
            "{'First': 4, 'Second': 9, 'Third': 16, 'Fourth': 25, 'Fifth': 36}\n"
          ]
        }
      ],
      "source": [
        "numbers_dict = {\"First\": 2, \"Second\": 3, \"Third\": 4, \"Fourth\": 5, \"Fifth\": 6}\n",
        "\n",
        "squared_dict = {key:value**2 for key, value in numbers_dict.items()}\n",
        "print(squared_dict)"
      ]
    },
    {
      "cell_type": "markdown",
      "metadata": {
        "id": "IoXFN8U2SvWz"
      },
      "source": [
        "We can also use conditionals:"
      ]
    },
    {
      "cell_type": "code",
      "execution_count": null,
      "metadata": {
        "id": "WMQopfgcSvWz",
        "outputId": "146b4fb9-53b5-4266-83b3-2bc5adef1c77"
      },
      "outputs": [
        {
          "name": "stdout",
          "output_type": "stream",
          "text": [
            "{'First': 4, 'Second': 3, 'Third': 16, 'Fourth': 5, 'Fifth': 36}\n"
          ]
        }
      ],
      "source": [
        "numbers_dict = {\"First\": 2, \"Second\": 3, \"Third\": 4, \"Fourth\": 5, \"Fifth\": 6}\n",
        "\n",
        "for key, value in numbers_dict.items():\n",
        "    if numbers_dict[key]%2 == 0:\n",
        "        numbers_dict[key] = value**2\n",
        "\n",
        "print(numbers_dict)"
      ]
    },
    {
      "cell_type": "markdown",
      "metadata": {
        "id": "HRlEiANfSvW0"
      },
      "source": [
        "Becomes:\n"
      ]
    },
    {
      "cell_type": "code",
      "execution_count": null,
      "metadata": {
        "id": "DPTQCDP7SvW0",
        "outputId": "a0353f54-24d9-45d6-a8fb-e099f4d2575e"
      },
      "outputs": [
        {
          "name": "stdout",
          "output_type": "stream",
          "text": [
            "{'First': 4, 'Second': 3, 'Third': 16, 'Fourth': 5, 'Fifth': 36}\n"
          ]
        }
      ],
      "source": [
        "numbers_dict = {\"First\": 2, \"Second\": 3, \"Third\": 4, \"Fourth\": 5, \"Fifth\": 6}\n",
        "\n",
        "squared_dict = {key:value**2 if value%2==0 else value for key,value in numbers_dict.items()}\n",
        "print(squared_dict)"
      ]
    },
    {
      "cell_type": "markdown",
      "metadata": {
        "id": "Nuw7aA2kSvW0"
      },
      "source": [
        "We can also build new dictionaries from old dictionaries using conditionals"
      ]
    },
    {
      "cell_type": "code",
      "execution_count": null,
      "metadata": {
        "id": "R7HUdyoeSvW0",
        "outputId": "7894b42a-e7c1-4202-db0b-c5d85f1e4ee6"
      },
      "outputs": [
        {
          "name": "stdout",
          "output_type": "stream",
          "text": [
            "{'First': 4, 'Third': 16, 'Fifth': 36}\n"
          ]
        }
      ],
      "source": [
        "numbers_dict = {\"First\": 2, \"Second\": 3, \"Third\": 4, \"Fourth\": 5, \"Fifth\": 6}\n",
        "\n",
        "new_squared_dict = {key:value**2 for key,value in numbers_dict.items() if value%2==0}\n",
        "print(new_squared_dict)"
      ]
    },
    {
      "cell_type": "markdown",
      "metadata": {
        "id": "lJqY_CfzSvW0"
      },
      "source": [
        "#### Word of Warning\n",
        "Comprehensions with conditionals can rapidly become overly complicated and unreadable, and give you a false sense of security as to your skill as a programmer. <br>\n",
        "Often it is cleaner to use a for loop than a complicated list comprehension, as although you may have written a slick one-liner, it will just be confusing to read when you come back to it in 6 months time. <br>\n",
        "Readability should always be the first concern, rather than completing as many operations as humanly possible in a single line."
      ]
    },
    {
      "cell_type": "markdown",
      "metadata": {
        "id": "4uT7HqmISvW0"
      },
      "source": [
        "## Nested For Loops"
      ]
    },
    {
      "cell_type": "markdown",
      "metadata": {
        "id": "NpVldKdtSvW1"
      },
      "source": [
        "<p align=center><img src=https://github.com/life-efficient/Essentials/blob/main/2.%20Python%20programming/5.%20Loops/images/nested_loop.png?raw=1 width=500></p>"
      ]
    },
    {
      "cell_type": "markdown",
      "metadata": {
        "id": "bfX_63h5SvW1"
      },
      "source": [
        "- For loops can be used within for loops, known as nested for loops.\n",
        "- The control flow in nested for loops means that the outer loop performs all iterations of the inner loop on its first item before moving to the next iteration and repeating.\n",
        "- There is also a list comprehension equivalent of a nested for loop.\n",
        "- This idea of nesting for loops can be used indefinitely (for loop within for loop within for loop etc etc), but beyond a single nesting it becomes very complicated to read and understand.\n",
        "- They should be avoided where possible because the more nesting that occurs, the more inefficient the code is.\n",
        "- However, some legitimate use cases for them do exist - a common example being that of iterating over multiple lists."
      ]
    },
    {
      "cell_type": "code",
      "execution_count": null,
      "metadata": {
        "id": "NfGis-OaSvW1",
        "outputId": "3873fa12-1a33-46e1-c487-aaf849a005db"
      },
      "outputs": [
        {
          "name": "stdout",
          "output_type": "stream",
          "text": [
            "Outer Loop Operation: 1\n",
            "Inner Loop Operation: 1\n",
            "Inner Loop Operation: 2\n",
            "Inner Loop Operation: 3\n",
            "\n",
            "Outer Loop Operation: 2\n",
            "Inner Loop Operation: 1\n",
            "Inner Loop Operation: 2\n",
            "Inner Loop Operation: 3\n",
            "\n",
            "Outer Loop Operation: 3\n",
            "Inner Loop Operation: 1\n",
            "Inner Loop Operation: 2\n",
            "Inner Loop Operation: 3\n",
            "\n"
          ]
        }
      ],
      "source": [
        "# basic syntax, inner loop operations are performed FOR each outer loop operation\n",
        "for i in range(1,4):\n",
        "    print(\"Outer Loop Operation: {}\".format(i))\n",
        "    \n",
        "    for j in range(1,4):\n",
        "        print(\"Inner Loop Operation: {}\".format(j))\n",
        "    \n",
        "    print() # adds new line"
      ]
    },
    {
      "cell_type": "code",
      "execution_count": null,
      "metadata": {
        "id": "sNOVjXIeSvW1",
        "outputId": "30fb5411-1eac-4bac-99fd-0fad435559e2"
      },
      "outputs": [
        {
          "name": "stdout",
          "output_type": "stream",
          "text": [
            "[2, 4, 8, 3, 9, 27, 4, 16, 64]\n"
          ]
        }
      ],
      "source": [
        "# we perform operations using both counters\n",
        "mylist = []\n",
        "\n",
        "for x in [2,3,4]:\n",
        "    for y in [1,2,3]:\n",
        "        mylist.append(x**y)\n",
        "\n",
        "print(mylist)"
      ]
    },
    {
      "cell_type": "code",
      "execution_count": null,
      "metadata": {
        "id": "-_rgasjDSvW1",
        "outputId": "842fcb36-a0ae-4434-9bae-a7ca6d72ec98"
      },
      "outputs": [
        {
          "data": {
            "text/plain": [
              "[2, 4, 8, 3, 9, 27, 4, 16, 64]"
            ]
          },
          "execution_count": 55,
          "metadata": {},
          "output_type": "execute_result"
        }
      ],
      "source": [
        "# list comprehension syntax: operation first followed by both for statements\n",
        "[x**y for x in [2,3,4] for y in [1,2,3]]"
      ]
    },
    {
      "cell_type": "code",
      "execution_count": null,
      "metadata": {
        "id": "Hx6g8v13SvW1"
      },
      "outputs": [],
      "source": [
        ""
      ]
    },
    {
      "cell_type": "markdown",
      "metadata": {
        "id": "XF_AR5EXSvW2"
      },
      "source": [
        "## Summary\n",
        "This is a large, heavy lesson with a lot of content. Hopefully, we have understood what for loops are, how to write them and the numerous applications that they can be used for. Some key take-aways that you must understand are:\n",
        "\n",
        "- What a for loop does.\n",
        "- The difference between iterating on items and iterating on index.\n",
        "- How to use conditionals in a for loop.\n",
        "- How to use tuple unpacking.\n",
        "- What pass, break and continue do.\n",
        "- How to use zip() and enumerate().\n",
        "- How and when to use list comprehensions.\n",
        "\n",
        "\n",
        "## Further reading\n",
        "- There is no further reading for this lesson, please carefully go through these examples to fully understand the wide variety of applications of for loops.\n",
        "- For those who really want to read, please refer to the book Learning Python by Mark Lutz: bear in mind it is a reference text and over 1000 pages long. There is a whole chapter on for loops.\n",
        "- A pdf of Learning Python is available here: https://cfm.ehu.es/ricardo/docs/python/Learning_Python.pdf"
      ]
    }
  ],
  "metadata": {
    "interpreter": {
      "hash": "569d6b7e9215e11aba41c6454007e5c1b78bad7df09dab765d8cf00362c40f03"
    },
    "kernelspec": {
      "display_name": "Python 3.9.1 64-bit ('base': conda)",
      "name": "python3"
    },
    "language_info": {
      "codemirror_mode": {
        "name": "ipython",
        "version": 3
      },
      "file_extension": ".py",
      "mimetype": "text/x-python",
      "name": "python",
      "nbconvert_exporter": "python",
      "pygments_lexer": "ipython3",
      "version": "3.8.11"
    },
    "colab": {
      "name": "Notebook.ipynb",
      "provenance": []
    }
  },
  "nbformat": 4,
  "nbformat_minor": 0
}