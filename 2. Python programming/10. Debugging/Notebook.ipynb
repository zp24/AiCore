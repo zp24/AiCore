{
  "cells": [
    {
      "cell_type": "markdown",
      "metadata": {
        "id": "si1XFOSRUT3i"
      },
      "source": [
        "# Debugging"
      ]
    },
    {
      "cell_type": "markdown",
      "metadata": {
        "id": "ezuKyczSUT3m"
      },
      "source": [
        "Understanding the errors raised by Python (or any programming language) is crucial for progressing with your code. If you obtain an error and don't know what it means, you will spend a considerable amount of time figuring out what to do. \n",
        "\n",
        "The best approach to know what to do when you encounter an error is adopting the right mindset. At the beginning, you might wonder where to start; luckily Python offers a compiler that trace backs the error and tells the user where to find the error.\n",
        "\n",
        "In this notebook, you will see how to interpret the error message thrown by Python. In addition, in order to save you time, you will see the most common bugs you might find, as well as some techniques that can help you through the debugging process."
      ]
    },
    {
      "cell_type": "markdown",
      "metadata": {
        "id": "aoREidabUT3n"
      },
      "source": [
        "# Python Standard Error"
      ]
    },
    {
      "cell_type": "markdown",
      "metadata": {
        "id": "-TyaYKfQUT3n"
      },
      "source": [
        "When you run your code, if Python encounters an error during the compilation, it will print the error (or exception) directly to the console. The error tells the user how to find the conflicting line. For example:"
      ]
    },
    {
      "cell_type": "code",
      "execution_count": null,
      "metadata": {
        "id": "Y4a23r3hUT3o",
        "outputId": "68d86605-cd97-4958-8191-9a058bcb7fc7"
      },
      "outputs": [
        {
          "name": "stdout",
          "output_type": "stream",
          "text": [
            "15\n"
          ]
        },
        {
          "ename": "TypeError",
          "evalue": "unsupported operand type(s) for +: 'int' and 'str'",
          "output_type": "error",
          "traceback": [
            "\u001b[1;31m---------------------------------------------------------------------------\u001b[0m",
            "\u001b[1;31mTypeError\u001b[0m                                 Traceback (most recent call last)",
            "\u001b[1;32m<ipython-input-2-5c3285622dcc>\u001b[0m in \u001b[0;36m<module>\u001b[1;34m\u001b[0m\n\u001b[0;32m      4\u001b[0m \u001b[1;33m\u001b[0m\u001b[0m\n\u001b[0;32m      5\u001b[0m \u001b[0mprint\u001b[0m\u001b[1;33m(\u001b[0m\u001b[0mx\u001b[0m \u001b[1;33m+\u001b[0m \u001b[0my\u001b[0m\u001b[1;33m)\u001b[0m\u001b[1;33m\u001b[0m\u001b[1;33m\u001b[0m\u001b[0m\n\u001b[1;32m----> 6\u001b[1;33m \u001b[0mprint\u001b[0m\u001b[1;33m(\u001b[0m\u001b[0mx\u001b[0m \u001b[1;33m+\u001b[0m \u001b[0mz\u001b[0m\u001b[1;33m)\u001b[0m\u001b[1;33m\u001b[0m\u001b[1;33m\u001b[0m\u001b[0m\n\u001b[0m\u001b[0;32m      7\u001b[0m \u001b[0mprint\u001b[0m\u001b[1;33m(\u001b[0m\u001b[0mx\u001b[0m \u001b[1;33m*\u001b[0m \u001b[0my\u001b[0m\u001b[1;33m)\u001b[0m\u001b[1;33m\u001b[0m\u001b[1;33m\u001b[0m\u001b[0m\n",
            "\u001b[1;31mTypeError\u001b[0m: unsupported operand type(s) for +: 'int' and 'str'"
          ]
        }
      ],
      "source": [
        "x = 5\n",
        "y = 10\n",
        "z = 'Dog'\n",
        "\n",
        "print(x + y)\n",
        "print(x + z)\n",
        "print(x * y)"
      ]
    },
    {
      "cell_type": "markdown",
      "metadata": {
        "id": "kMeFCNUlUT3q"
      },
      "source": [
        "Observe the information provided by Python:\n",
        "\n",
        "- It gives information about the nature of the error: `TypeError: unsupported operand type(s) for +: 'int' and 'str'`\n",
        "- It points to the line causing the error: `----> 6 print(x + z)`\n",
        "\n",
        "Notice that line 5 was executed (it printed out x + y `15`), but line 7 didn't run (it didn't print x * y `50`). That is because, as soon as Python finds an error, it will stop executing the code."
      ]
    },
    {
      "cell_type": "markdown",
      "metadata": {
        "id": "zSC5g-VLUT3q"
      },
      "source": [
        "In most cases, this information will be enough for debugging your code. In this example, you know the error is in line 6. Go back to that line and correct the issue:"
      ]
    },
    {
      "cell_type": "code",
      "execution_count": null,
      "metadata": {
        "id": "seZu0q5PUT3r",
        "outputId": "b8dd39a9-b20d-4ab6-cc1d-d6a0c39b2c33"
      },
      "outputs": [
        {
          "name": "stdout",
          "output_type": "stream",
          "text": [
            "15\n",
            "50\n"
          ]
        }
      ],
      "source": [
        "x = 5\n",
        "y = 10\n",
        "z = 'Dog'\n",
        "\n",
        "print(x + y)\n",
        "# print(x + z) # In this case, we can't add an integer and a string, so we can remove the line\n",
        "print(x * y)"
      ]
    },
    {
      "cell_type": "markdown",
      "metadata": {
        "id": "IFJmbf7wUT3s"
      },
      "source": [
        "Or we can try to change the value of `z`"
      ]
    },
    {
      "cell_type": "code",
      "execution_count": null,
      "metadata": {
        "id": "2k4kgkShUT3t",
        "outputId": "0ba23317-df36-4de4-fb89-1af3747cde88"
      },
      "outputs": [
        {
          "name": "stdout",
          "output_type": "stream",
          "text": [
            "15\n",
            "47\n",
            "50\n"
          ]
        }
      ],
      "source": [
        "x = 5\n",
        "y = 10\n",
        "z = 42\n",
        "\n",
        "print(x + y)\n",
        "print(x + z)\n",
        "print(x * y)"
      ]
    },
    {
      "cell_type": "markdown",
      "metadata": {
        "id": "TkOBiZjUUT3t"
      },
      "source": [
        "If your solution didn't work, just Google it!\n",
        "<p align=center><img src=https://github.com/life-efficient/Essentials/blob/main/2.%20Python%20programming/10.%20Debugging/images/Google_TypeError.png?raw=1 width=500></p>\n"
      ]
    },
    {
      "cell_type": "markdown",
      "metadata": {
        "id": "oTqGp5-NUT3u"
      },
      "source": [
        "If you have an error in your code, it is very likely someone else already had that problem, so not only you will find the solution, but also you will save a lot of time by not debegging the code by yourself. \n",
        "\n",
        "You might think programmers know all type of errors and their corresponding solutions, but that is far from reality! Don't feel bad because you don't remember all the methods available in a list, after all, that will take cognitive space that you can use for more important things.\n",
        "\n",
        "<p align=center><img src=https://github.com/life-efficient/Essentials/blob/main/2.%20Python%20programming/10.%20Debugging/images/Google_10.jpg?raw=1 width=300></p>"
      ]
    },
    {
      "cell_type": "markdown",
      "metadata": {
        "id": "ho6bOZjlUT3u"
      },
      "source": [
        "If your problem is too complex, a simple google search might not be enough. You might need to refine your search with more specific words. This will come naturally the more you practice, but it is important that you have the right mindset from the beginning. Debugging and making the right search in Google require practice, and the sooner you begin, the sooner you will master these skills.\n",
        "\n",
        "In this notebook, you will see some common errors, and you will see how to apply these steps to solve them."
      ]
    },
    {
      "cell_type": "markdown",
      "metadata": {
        "id": "12-ghqCmUT3v"
      },
      "source": [
        "# Common Errors"
      ]
    },
    {
      "cell_type": "markdown",
      "metadata": {
        "id": "UGQYxDhOUT3v"
      },
      "source": [
        "## NameError"
      ]
    },
    {
      "cell_type": "markdown",
      "metadata": {
        "id": "z4nmU23uUT3v"
      },
      "source": [
        "### __Explanation__\n",
        "\n",
        "NameError occurs when you are trying to use a variable or a function that hasn't been defined"
      ]
    },
    {
      "cell_type": "code",
      "execution_count": null,
      "metadata": {
        "id": "N6FFT5weUT3w",
        "outputId": "1628955d-90c7-410e-acda-8dcb5b3013ff"
      },
      "outputs": [
        {
          "ename": "NameError",
          "evalue": "name 'y' is not defined",
          "output_type": "error",
          "traceback": [
            "\u001b[1;31m---------------------------------------------------------------------------\u001b[0m",
            "\u001b[1;31mNameError\u001b[0m                                 Traceback (most recent call last)",
            "\u001b[1;32m<ipython-input-1-87eafe7181cf>\u001b[0m in \u001b[0;36m<module>\u001b[1;34m\u001b[0m\n\u001b[1;32m----> 1\u001b[1;33m \u001b[0mx\u001b[0m \u001b[1;33m=\u001b[0m \u001b[0my\u001b[0m \u001b[1;33m+\u001b[0m \u001b[1;36m10\u001b[0m\u001b[1;33m\u001b[0m\u001b[1;33m\u001b[0m\u001b[0m\n\u001b[0m",
            "\u001b[1;31mNameError\u001b[0m: name 'y' is not defined"
          ]
        }
      ],
      "source": [
        "x = y + 10"
      ]
    },
    {
      "cell_type": "markdown",
      "metadata": {
        "id": "VAAkaDT7UT3w"
      },
      "source": [
        "### __Possible Causes__\n",
        "\n",
        "A common cause of NameError is a a spelling mistake. For example, the next code defines and (tries to) prints a variable named `python`"
      ]
    },
    {
      "cell_type": "code",
      "execution_count": null,
      "metadata": {
        "id": "lRj9-PaLUT3w",
        "outputId": "913b998d-9908-4615-ccaa-f3d6ac890cf7"
      },
      "outputs": [
        {
          "ename": "NameError",
          "evalue": "name 'Python' is not defined",
          "output_type": "error",
          "traceback": [
            "\u001b[1;31m---------------------------------------------------------------------------\u001b[0m",
            "\u001b[1;31mNameError\u001b[0m                                 Traceback (most recent call last)",
            "\u001b[1;32m<ipython-input-1-a8f084a3e148>\u001b[0m in \u001b[0;36m<module>\u001b[1;34m\u001b[0m\n\u001b[0;32m      1\u001b[0m \u001b[0mpython\u001b[0m \u001b[1;33m=\u001b[0m \u001b[1;34m\"I'm 30 years old!\"\u001b[0m\u001b[1;33m\u001b[0m\u001b[1;33m\u001b[0m\u001b[0m\n\u001b[1;32m----> 2\u001b[1;33m \u001b[0mprint\u001b[0m\u001b[1;33m(\u001b[0m\u001b[0mPython\u001b[0m\u001b[1;33m)\u001b[0m\u001b[1;33m\u001b[0m\u001b[1;33m\u001b[0m\u001b[0m\n\u001b[0m",
            "\u001b[1;31mNameError\u001b[0m: name 'Python' is not defined"
          ]
        }
      ],
      "source": [
        "python = \"I'm 30 years old!\"\n",
        "print(Python)"
      ]
    },
    {
      "cell_type": "markdown",
      "metadata": {
        "id": "4qiFLx7UUT3w"
      },
      "source": [
        "Observe that when we defined `python` it was _lowercase_, but when printing it, it was _Capitalized_. Python is case sensitive, so `python` is different from `Python`\n",
        "\n",
        "Another common cause for getting a NameError is declaring a variable out of scope. When you define a variable inside a function, it will remain in the scope of the function (unless you declare a global variable, but we will see that later)"
      ]
    },
    {
      "cell_type": "code",
      "execution_count": null,
      "metadata": {
        "id": "dYeO8gz3UT3x",
        "outputId": "ca8751ca-d4aa-4af0-8721-a0fd03479a22"
      },
      "outputs": [
        {
          "ename": "NameError",
          "evalue": "name 'x' is not defined",
          "output_type": "error",
          "traceback": [
            "\u001b[1;31m---------------------------------------------------------------------------\u001b[0m",
            "\u001b[1;31mNameError\u001b[0m                                 Traceback (most recent call last)",
            "\u001b[1;32m<ipython-input-8-66661b3b4301>\u001b[0m in \u001b[0;36m<module>\u001b[1;34m\u001b[0m\n\u001b[0;32m      2\u001b[0m     \u001b[0mx\u001b[0m \u001b[1;33m=\u001b[0m \u001b[1;34m'I am inside the function!'\u001b[0m\u001b[1;33m\u001b[0m\u001b[1;33m\u001b[0m\u001b[0m\n\u001b[0;32m      3\u001b[0m \u001b[1;33m\u001b[0m\u001b[0m\n\u001b[1;32m----> 4\u001b[1;33m \u001b[0mprint\u001b[0m\u001b[1;33m(\u001b[0m\u001b[0mx\u001b[0m\u001b[1;33m)\u001b[0m\u001b[1;33m\u001b[0m\u001b[1;33m\u001b[0m\u001b[0m\n\u001b[0m",
            "\u001b[1;31mNameError\u001b[0m: name 'x' is not defined"
          ]
        }
      ],
      "source": [
        "def dummy_func():\n",
        "    x = 'I am inside the function!'\n",
        "\n",
        "print(x)"
      ]
    },
    {
      "cell_type": "markdown",
      "metadata": {
        "id": "l_T1NhxwUT3x"
      },
      "source": [
        "### __How I would debug this__\n",
        "\n",
        "1. Read the final error in the traceback. It's a NameError and it says `name 'x' is not defined` which occurs on line 4 of this file.\n",
        "2. Check your spelling and variable name is correct\n",
        "3. If you are working with functions, make sure the variable is at the right scope level. For the example above, you could return the value of `x`, so it becomes part of the global scope"
      ]
    },
    {
      "cell_type": "code",
      "execution_count": null,
      "metadata": {
        "id": "c8cAxvAZUT3x",
        "outputId": "da636eac-1a9c-42d6-ff20-9948b84752ee"
      },
      "outputs": [
        {
          "name": "stdout",
          "output_type": "stream",
          "text": [
            "I am inside the function!\n"
          ]
        }
      ],
      "source": [
        "def dummy_func():\n",
        "    return 'I am inside the function!'\n",
        "\n",
        "x = dummy_func()\n",
        "print(x)"
      ]
    },
    {
      "cell_type": "markdown",
      "metadata": {
        "id": "Z3lkKlawUT3y"
      },
      "source": [
        "## TypeError"
      ]
    },
    {
      "cell_type": "markdown",
      "metadata": {
        "id": "iNjcYuUWUT3y"
      },
      "source": [
        "### __Explanation__\n",
        "\n",
        "Python will raise a TypeError when you use the wrong data type in an operation or a function."
      ]
    },
    {
      "cell_type": "markdown",
      "metadata": {
        "id": "2c_lz_oBUT3y"
      },
      "source": [
        "### __Causes__"
      ]
    },
    {
      "cell_type": "markdown",
      "metadata": {
        "id": "YC4cjxoJUT3y"
      },
      "source": [
        "The most common reason for getting a __TypeError__ is using a variable that can't be processed by an operation. For example, the next code will print out the square of the number introduced by the user."
      ]
    },
    {
      "cell_type": "code",
      "execution_count": null,
      "metadata": {
        "id": "m4ohEreXUT3y",
        "outputId": "f7460f60-7042-4f9c-db0a-12eefee7bfc4"
      },
      "outputs": [
        {
          "name": "stdout",
          "output_type": "stream",
          "text": [
            "2\n"
          ]
        },
        {
          "ename": "TypeError",
          "evalue": "unsupported operand type(s) for ** or pow(): 'str' and 'int'",
          "output_type": "error",
          "traceback": [
            "\u001b[1;31m---------------------------------------------------------------------------\u001b[0m",
            "\u001b[1;31mTypeError\u001b[0m                                 Traceback (most recent call last)",
            "\u001b[1;32m<ipython-input-2-014d58182033>\u001b[0m in \u001b[0;36m<module>\u001b[1;34m\u001b[0m\n\u001b[0;32m      1\u001b[0m \u001b[0mx\u001b[0m \u001b[1;33m=\u001b[0m \u001b[0minput\u001b[0m\u001b[1;33m(\u001b[0m\u001b[1;34m'Enter your number'\u001b[0m\u001b[1;33m)\u001b[0m\u001b[1;33m\u001b[0m\u001b[1;33m\u001b[0m\u001b[0m\n\u001b[0;32m      2\u001b[0m \u001b[0mprint\u001b[0m\u001b[1;33m(\u001b[0m\u001b[0mx\u001b[0m\u001b[1;33m)\u001b[0m\u001b[1;33m\u001b[0m\u001b[1;33m\u001b[0m\u001b[0m\n\u001b[1;32m----> 3\u001b[1;33m \u001b[0mprint\u001b[0m\u001b[1;33m(\u001b[0m\u001b[0mx\u001b[0m \u001b[1;33m**\u001b[0m \u001b[1;36m2\u001b[0m\u001b[1;33m)\u001b[0m\u001b[1;33m\u001b[0m\u001b[1;33m\u001b[0m\u001b[0m\n\u001b[0m",
            "\u001b[1;31mTypeError\u001b[0m: unsupported operand type(s) for ** or pow(): 'str' and 'int'"
          ]
        }
      ],
      "source": [
        "x = input('Enter your number')\n",
        "print(x)\n",
        "print(x ** 2)"
      ]
    },
    {
      "cell_type": "markdown",
      "metadata": {
        "id": "CSyJAy82UT3z"
      },
      "source": [
        "In this case, the problem arises becauses the type of the input function returns a string (characters) by default. So, it would be equivalent to square a word.\n",
        "\n",
        "Another example is using two different data types within an operation."
      ]
    },
    {
      "cell_type": "code",
      "execution_count": null,
      "metadata": {
        "id": "0hhOOa0JUT3z",
        "outputId": "fd8f4573-f211-45a3-8b12-5309d308656b"
      },
      "outputs": [
        {
          "ename": "TypeError",
          "evalue": "can only concatenate str (not \"int\") to str",
          "output_type": "error",
          "traceback": [
            "\u001b[1;31m---------------------------------------------------------------------------\u001b[0m",
            "\u001b[1;31mTypeError\u001b[0m                                 Traceback (most recent call last)",
            "\u001b[1;32m<ipython-input-6-d052e9eff03a>\u001b[0m in \u001b[0;36m<module>\u001b[1;34m\u001b[0m\n\u001b[0;32m      1\u001b[0m \u001b[0mx\u001b[0m \u001b[1;33m=\u001b[0m \u001b[1;34m'Hello'\u001b[0m\u001b[1;33m\u001b[0m\u001b[1;33m\u001b[0m\u001b[0m\n\u001b[0;32m      2\u001b[0m \u001b[0my\u001b[0m \u001b[1;33m=\u001b[0m \u001b[1;36m5\u001b[0m\u001b[1;33m\u001b[0m\u001b[1;33m\u001b[0m\u001b[0m\n\u001b[1;32m----> 3\u001b[1;33m \u001b[0mprint\u001b[0m\u001b[1;33m(\u001b[0m\u001b[0mx\u001b[0m \u001b[1;33m+\u001b[0m \u001b[0my\u001b[0m\u001b[1;33m)\u001b[0m\u001b[1;33m\u001b[0m\u001b[1;33m\u001b[0m\u001b[0m\n\u001b[0m",
            "\u001b[1;31mTypeError\u001b[0m: can only concatenate str (not \"int\") to str"
          ]
        }
      ],
      "source": [
        "x = 'Hello'\n",
        "y = 5\n",
        "print(x + y)"
      ]
    },
    {
      "cell_type": "markdown",
      "metadata": {
        "id": "awpJoBMeUT3z"
      },
      "source": [
        "Another common reason is accidentally replacing a Python built-in function. `print` is a function built in Python, but after replacing it, `print` will obtain the specified value."
      ]
    },
    {
      "cell_type": "code",
      "execution_count": null,
      "metadata": {
        "id": "oYaNi3TYUT3z",
        "outputId": "9de51f71-8fff-4894-dbd1-9df491bce2ff"
      },
      "outputs": [
        {
          "ename": "TypeError",
          "evalue": "'int' object is not callable",
          "output_type": "error",
          "traceback": [
            "\u001b[1;31m---------------------------------------------------------------------------\u001b[0m",
            "\u001b[1;31mTypeError\u001b[0m                                 Traceback (most recent call last)",
            "\u001b[1;32m<ipython-input-3-e7a974980d65>\u001b[0m in \u001b[0;36m<module>\u001b[1;34m\u001b[0m\n\u001b[0;32m      1\u001b[0m \u001b[0mprint\u001b[0m \u001b[1;33m=\u001b[0m \u001b[1;36m5\u001b[0m\u001b[1;33m\u001b[0m\u001b[1;33m\u001b[0m\u001b[0m\n\u001b[1;32m----> 2\u001b[1;33m \u001b[0mprint\u001b[0m\u001b[1;33m(\u001b[0m\u001b[1;34m'Hello World'\u001b[0m\u001b[1;33m)\u001b[0m\u001b[1;33m\u001b[0m\u001b[1;33m\u001b[0m\u001b[0m\n\u001b[0m",
            "\u001b[1;31mTypeError\u001b[0m: 'int' object is not callable"
          ]
        }
      ],
      "source": [
        "print = 5\n",
        "print('Hello World')"
      ]
    },
    {
      "cell_type": "markdown",
      "metadata": {
        "id": "7hsOgRnvUT30"
      },
      "source": [
        "As you can observe, the returned error says that you can't __'call'__ for an integer, meaning that an integer is not a function."
      ]
    },
    {
      "cell_type": "markdown",
      "metadata": {
        "id": "m7nHQP_aUT30"
      },
      "source": [
        "### How I would debug this\n",
        "\n",
        "1. Read the final error in the traceback. It's a __TypeError__ and it says `'int' object is not callable` which occurs on line 2 of this file.\n",
        "2. Check the data type you are using\n",
        "3. Observe which variable is causing the issue. In this case, the problem is `print` that has become an integer\n",
        "4. Go back and see where `print` changed its value\n",
        "\n",
        "As the name suggest, the main problem with __TypeError__ is the type of the used variable. You can check the type of each variable using the `type` function."
      ]
    },
    {
      "cell_type": "code",
      "execution_count": null,
      "metadata": {
        "id": "6ZKy27rSUT30",
        "outputId": "19c73966-4a0b-4fc6-9fa0-ebaf56df94c5"
      },
      "outputs": [
        {
          "name": "stdout",
          "output_type": "stream",
          "text": [
            "The type of x is <class 'str'>\n",
            "The type of y is <class 'int'>\n",
            "4\n"
          ]
        }
      ],
      "source": [
        "x = input('Enter your number')\n",
        "print(f'The type of x is {type(x)}')\n",
        "y = int(x)\n",
        "print(f'The type of y is {type(y)}')\n",
        "print(y ** 2)"
      ]
    },
    {
      "cell_type": "markdown",
      "metadata": {
        "id": "A1ILUTeOUT30"
      },
      "source": [
        "## ValueError"
      ]
    },
    {
      "cell_type": "markdown",
      "metadata": {
        "id": "hfGubn4oUT31"
      },
      "source": [
        "\n",
        "### __Explanation__\n",
        "\n",
        "ValueError occurs when you are using the right data type for an operation or function, but an inappropriate value. "
      ]
    },
    {
      "cell_type": "markdown",
      "metadata": {
        "id": "xt81N-IwUT31"
      },
      "source": [
        "### __Causes__\n",
        "\n",
        "One of the most common cases is casting a string to an integer, and passing a string that doesn't represent an integer."
      ]
    },
    {
      "cell_type": "code",
      "execution_count": null,
      "metadata": {
        "id": "Ni6Ob9oGUT31",
        "outputId": "f9050f50-cea1-49fe-dbce-aa9307cd32a7"
      },
      "outputs": [
        {
          "name": "stdout",
          "output_type": "stream",
          "text": [
            "The type of x is <class 'str'>\n",
            "The type of y is <class 'int'>\n"
          ]
        }
      ],
      "source": [
        "x = '2'\n",
        "print(f'The type of x is {type(x)}')\n",
        "y = int(x)\n",
        "print(f'The type of y is {type(y)}')"
      ]
    },
    {
      "cell_type": "markdown",
      "metadata": {
        "id": "vSQubBUJUT31"
      },
      "source": [
        "The code above works fine, but let's see the following code:"
      ]
    },
    {
      "cell_type": "code",
      "execution_count": null,
      "metadata": {
        "id": "xvv6SJj4UT31",
        "outputId": "a5929122-b625-4eed-dea6-3d9f38c2b22d"
      },
      "outputs": [
        {
          "name": "stdout",
          "output_type": "stream",
          "text": [
            "The type of x is <class 'str'>\n"
          ]
        },
        {
          "ename": "ValueError",
          "evalue": "invalid literal for int() with base 10: 'Dog'",
          "output_type": "error",
          "traceback": [
            "\u001b[1;31m---------------------------------------------------------------------------\u001b[0m",
            "\u001b[1;31mValueError\u001b[0m                                Traceback (most recent call last)",
            "\u001b[1;32m<ipython-input-3-4d9f42a11682>\u001b[0m in \u001b[0;36m<module>\u001b[1;34m\u001b[0m\n\u001b[0;32m      1\u001b[0m \u001b[0mx\u001b[0m \u001b[1;33m=\u001b[0m \u001b[1;34m'Dog'\u001b[0m\u001b[1;33m\u001b[0m\u001b[1;33m\u001b[0m\u001b[0m\n\u001b[0;32m      2\u001b[0m \u001b[0mprint\u001b[0m\u001b[1;33m(\u001b[0m\u001b[1;34mf'The type of x is {type(x)}'\u001b[0m\u001b[1;33m)\u001b[0m\u001b[1;33m\u001b[0m\u001b[1;33m\u001b[0m\u001b[0m\n\u001b[1;32m----> 3\u001b[1;33m \u001b[0my\u001b[0m \u001b[1;33m=\u001b[0m \u001b[0mint\u001b[0m\u001b[1;33m(\u001b[0m\u001b[0mx\u001b[0m\u001b[1;33m)\u001b[0m\u001b[1;33m\u001b[0m\u001b[1;33m\u001b[0m\u001b[0m\n\u001b[0m\u001b[0;32m      4\u001b[0m \u001b[0mprint\u001b[0m\u001b[1;33m(\u001b[0m\u001b[1;34mf'The type of y is {type(y)}'\u001b[0m\u001b[1;33m)\u001b[0m\u001b[1;33m\u001b[0m\u001b[1;33m\u001b[0m\u001b[0m\n",
            "\u001b[1;31mValueError\u001b[0m: invalid literal for int() with base 10: 'Dog'"
          ]
        }
      ],
      "source": [
        "x = 'Dog'\n",
        "print(f'The type of x is {type(x)}')\n",
        "y = int(x)\n",
        "print(f'The type of y is {type(y)}')"
      ]
    },
    {
      "cell_type": "markdown",
      "metadata": {
        "id": "elJ6ynQmUT31"
      },
      "source": [
        "As the error explains, the value we pass to the `int` function is not valid, because it doesn't represent a number.\n",
        "\n",
        "### __How I would debug this__\n",
        "\n",
        "1. Read the final error in the traceback. It's a __ValueError__ and it says `invalid literal for int() with base 10: 'Dog'` which occurs on line 3 of this cell.\n",
        "2. Check the __value__ you are passing to the function, in this case, it is `Dog`\n",
        "3. Make sure you are applying the appropriate function or the correct value"
      ]
    },
    {
      "cell_type": "markdown",
      "metadata": {
        "id": "vtTd2fupUT32"
      },
      "source": [
        "\n",
        "ValueErrors are often defined by the developers when creating their applications. That way, they will prevent you from using values that will not work with their application. "
      ]
    },
    {
      "cell_type": "code",
      "execution_count": null,
      "metadata": {
        "id": "0UqGCRUyUT32",
        "outputId": "8d780d3a-e20f-4702-e0e2-3b6be704951b"
      },
      "outputs": [
        {
          "ename": "ValueError",
          "evalue": "math domain error",
          "output_type": "error",
          "traceback": [
            "\u001b[1;31m---------------------------------------------------------------------------\u001b[0m",
            "\u001b[1;31mValueError\u001b[0m                                Traceback (most recent call last)",
            "\u001b[1;32m<ipython-input-4-ed311b1c5dd9>\u001b[0m in \u001b[0;36m<module>\u001b[1;34m\u001b[0m\n\u001b[0;32m      1\u001b[0m \u001b[1;32mimport\u001b[0m \u001b[0mmath\u001b[0m\u001b[1;33m\u001b[0m\u001b[1;33m\u001b[0m\u001b[0m\n\u001b[1;32m----> 2\u001b[1;33m \u001b[0mmath\u001b[0m\u001b[1;33m.\u001b[0m\u001b[0msqrt\u001b[0m\u001b[1;33m(\u001b[0m\u001b[1;33m-\u001b[0m\u001b[1;36m1\u001b[0m\u001b[1;33m)\u001b[0m\u001b[1;33m\u001b[0m\u001b[1;33m\u001b[0m\u001b[0m\n\u001b[0m",
            "\u001b[1;31mValueError\u001b[0m: math domain error"
          ]
        }
      ],
      "source": [
        "import math\n",
        "math.sqrt(-1)"
      ]
    },
    {
      "cell_type": "markdown",
      "metadata": {
        "id": "NfQMgvOuUT32"
      },
      "source": [
        "### __How I would debug this__\n",
        "\n",
        "1. Read the final error in the traceback. It's a __ValueError__ and it says `math domain error` which occurs on line 2 of this file.\n",
        "2. Check the __value__ you are passing to the function. In this case, we are trying to calculate the square root of `-1`.\n",
        "3. You can either:\n",
        "    - Change the value of the variable\n",
        "    - Find another function that is able to calculate the square root of a negative number\n",
        "\n",
        "For the latter option, this is how you should proceed:\n",
        "1. Google it!\n",
        "<p align=center><img src=https://github.com/life-efficient/Essentials/blob/main/2.%20Python%20programming/10.%20Debugging/images/Google_1.png?raw=1 width=500></p>\n",
        "2. If that didn't work, try different key words. \n",
        "<p align=center><img src=https://github.com/life-efficient/Essentials/blob/main/2.%20Python%20programming/10.%20Debugging/images/Google_2.png?raw=1 width=500></p>"
      ]
    },
    {
      "cell_type": "markdown",
      "metadata": {
        "id": "MuEZ8-WfUT32"
      },
      "source": [
        "3. Try the found solution"
      ]
    },
    {
      "cell_type": "code",
      "execution_count": null,
      "metadata": {
        "id": "8DhKveLEUT33",
        "outputId": "8d677ffa-63a5-4290-d7d0-dcc6df6f0ecd"
      },
      "outputs": [
        {
          "data": {
            "text/plain": [
              "1j"
            ]
          },
          "execution_count": 4,
          "metadata": {},
          "output_type": "execute_result"
        }
      ],
      "source": [
        "import cmath\n",
        "cmath.sqrt(-1)"
      ]
    },
    {
      "cell_type": "markdown",
      "metadata": {
        "id": "XHn-1ZtsUT33"
      },
      "source": [
        "4. It worked! However, if that didn't work either, you can keep refining your search until you find the right answer"
      ]
    },
    {
      "cell_type": "markdown",
      "metadata": {
        "id": "81DNB1GPUT33"
      },
      "source": [
        "## SyntaxError"
      ]
    },
    {
      "cell_type": "markdown",
      "metadata": {
        "id": "jP7pVSHqUT33"
      },
      "source": [
        "### __Explanation__\n",
        "SyntaxError is raised when Python finds a syntax error"
      ]
    },
    {
      "cell_type": "markdown",
      "metadata": {
        "id": "kc6eXPQjUT33"
      },
      "source": [
        "### __Causes__\n",
        "One of the most common reasons is not closing the brackets or the quotes"
      ]
    },
    {
      "cell_type": "code",
      "execution_count": null,
      "metadata": {
        "id": "eQikAS_kUT33",
        "outputId": "e3ac67de-561d-46ec-92f6-7b33e523eae0"
      },
      "outputs": [
        {
          "ename": "SyntaxError",
          "evalue": "EOL while scanning string literal (<ipython-input-7-6e6ee195e71c>, line 1)",
          "output_type": "error",
          "traceback": [
            "\u001b[1;36m  File \u001b[1;32m\"<ipython-input-7-6e6ee195e71c>\"\u001b[1;36m, line \u001b[1;32m1\u001b[0m\n\u001b[1;33m    x = 'Hello\u001b[0m\n\u001b[1;37m              ^\u001b[0m\n\u001b[1;31mSyntaxError\u001b[0m\u001b[1;31m:\u001b[0m EOL while scanning string literal\n"
          ]
        }
      ],
      "source": [
        "x = 'Hello"
      ]
    },
    {
      "cell_type": "code",
      "execution_count": null,
      "metadata": {
        "id": "cUdtsuRhUT34",
        "outputId": "61944593-75d9-43b4-c484-73a4e15a88c8"
      },
      "outputs": [
        {
          "ename": "SyntaxError",
          "evalue": "unexpected EOF while parsing (<ipython-input-8-1a1cdaf4f567>, line 1)",
          "output_type": "error",
          "traceback": [
            "\u001b[1;36m  File \u001b[1;32m\"<ipython-input-8-1a1cdaf4f567>\"\u001b[1;36m, line \u001b[1;32m1\u001b[0m\n\u001b[1;33m    y = (5 + 3\u001b[0m\n\u001b[1;37m              ^\u001b[0m\n\u001b[1;31mSyntaxError\u001b[0m\u001b[1;31m:\u001b[0m unexpected EOF while parsing\n"
          ]
        }
      ],
      "source": [
        "y = (5 + 3"
      ]
    },
    {
      "cell_type": "markdown",
      "metadata": {
        "id": "gRXN8YehUT34"
      },
      "source": [
        "### __How I would debug this__"
      ]
    },
    {
      "cell_type": "markdown",
      "metadata": {
        "id": "lVxQBwzxUT34"
      },
      "source": [
        "1. Read the final error in the traceback. It's a __ValueError__ and it says `unexpected EOF while parsing` which occurs on line 1 of this cell.\n",
        "2. If you are unsure about the meaning of the error, there is an easy solution: Google it!\n",
        "<p align=center><img src=https://github.com/life-efficient/Essentials/blob/main/2.%20Python%20programming/10.%20Debugging/images/Google_EOF.png?raw=1 width=500></p>\n",
        "3. We can see that EOF means End of File, and it is raised when there is a mistake in the syntax. Thus, go to line 1 and correct that mistake\n",
        "\n",
        "One trick you can use is to check the closing bracket observing the underlined or highlighted bracket."
      ]
    },
    {
      "cell_type": "code",
      "execution_count": null,
      "metadata": {
        "id": "IjAdDwrkUT34"
      },
      "outputs": [],
      "source": [
        "y = ((5 + 3) / 2)"
      ]
    },
    {
      "cell_type": "markdown",
      "metadata": {
        "id": "U61udUnnUT34"
      },
      "source": [
        "Observe that, when the cursor is next the right bracket, the corresponding bracket (leftmost) is highlighted. On the other hand, if the cursor is next to one of the inner brackets, the corresponding (inner) bracket is highlighted.\n",
        "\n",
        "<p align=center><img src=https://github.com/life-efficient/Essentials/blob/main/2.%20Python%20programming/10.%20Debugging/images/outer.png?raw=1 width=200> <img src=https://github.com/life-efficient/Essentials/blob/main/2.%20Python%20programming/10.%20Debugging/images/inner.png?raw=1 width=200></p>"
      ]
    },
    {
      "cell_type": "markdown",
      "metadata": {
        "id": "s2pJ5D6xUT34"
      },
      "source": [
        "## IndexError and KeyError"
      ]
    },
    {
      "cell_type": "markdown",
      "metadata": {
        "id": "waCluu6gUT35"
      },
      "source": [
        "### __Explanation and Cause__"
      ]
    },
    {
      "cell_type": "markdown",
      "metadata": {
        "id": "LF1yrIEOUT35"
      },
      "source": [
        "These errors happen when you are trying to access an element that is out of range (`IndexError`) or when you are using a non existent key in a dictionary (`KeyError`)"
      ]
    },
    {
      "cell_type": "code",
      "execution_count": null,
      "metadata": {
        "id": "CNALGZiIUT35",
        "outputId": "71fbc67c-c19d-499d-afe6-486566c6a1fa"
      },
      "outputs": [
        {
          "ename": "IndexError",
          "evalue": "list index out of range",
          "output_type": "error",
          "traceback": [
            "\u001b[1;31m---------------------------------------------------------------------------\u001b[0m",
            "\u001b[1;31mIndexError\u001b[0m                                Traceback (most recent call last)",
            "\u001b[1;32m<ipython-input-14-fb13742f3dd5>\u001b[0m in \u001b[0;36m<module>\u001b[1;34m\u001b[0m\n\u001b[0;32m      1\u001b[0m \u001b[0mls\u001b[0m \u001b[1;33m=\u001b[0m \u001b[1;33m[\u001b[0m\u001b[1;36m1\u001b[0m\u001b[1;33m,\u001b[0m \u001b[1;36m2\u001b[0m\u001b[1;33m,\u001b[0m \u001b[1;36m3\u001b[0m\u001b[1;33m]\u001b[0m\u001b[1;33m\u001b[0m\u001b[1;33m\u001b[0m\u001b[0m\n\u001b[1;32m----> 2\u001b[1;33m \u001b[0mls\u001b[0m\u001b[1;33m[\u001b[0m\u001b[1;36m3\u001b[0m\u001b[1;33m]\u001b[0m\u001b[1;33m\u001b[0m\u001b[1;33m\u001b[0m\u001b[0m\n\u001b[0m",
            "\u001b[1;31mIndexError\u001b[0m: list index out of range"
          ]
        }
      ],
      "source": [
        "ls = [1, 2, 3]\n",
        "ls[3]"
      ]
    },
    {
      "cell_type": "markdown",
      "metadata": {
        "id": "_2qRj8dEUT35"
      },
      "source": [
        "Remember that Python is zero-indexed, so this error is thrown because index 3 will point to the fourth element, but we don't have four elements in `ls`"
      ]
    },
    {
      "cell_type": "code",
      "execution_count": null,
      "metadata": {
        "id": "5UaTbiUIUT35",
        "outputId": "8824c12e-3711-4a8d-ec9d-0eb46702b5f3"
      },
      "outputs": [
        {
          "ename": "KeyError",
          "evalue": "'Age'",
          "output_type": "error",
          "traceback": [
            "\u001b[1;31m---------------------------------------------------------------------------\u001b[0m",
            "\u001b[1;31mKeyError\u001b[0m                                  Traceback (most recent call last)",
            "\u001b[1;32m<ipython-input-15-f7fae62e8e3d>\u001b[0m in \u001b[0;36m<module>\u001b[1;34m\u001b[0m\n\u001b[0;32m      1\u001b[0m \u001b[0mmy_dict\u001b[0m \u001b[1;33m=\u001b[0m \u001b[1;33m{\u001b[0m\u001b[1;34m'Name'\u001b[0m\u001b[1;33m:\u001b[0m \u001b[1;34m'Walter White'\u001b[0m\u001b[1;33m,\u001b[0m \u001b[1;34m'Occupation'\u001b[0m\u001b[1;33m:\u001b[0m \u001b[1;34m'Cook'\u001b[0m\u001b[1;33m}\u001b[0m\u001b[1;33m\u001b[0m\u001b[1;33m\u001b[0m\u001b[0m\n\u001b[1;32m----> 2\u001b[1;33m \u001b[0mmy_dict\u001b[0m\u001b[1;33m[\u001b[0m\u001b[1;34m'Age'\u001b[0m\u001b[1;33m]\u001b[0m\u001b[1;33m\u001b[0m\u001b[1;33m\u001b[0m\u001b[0m\n\u001b[0m",
            "\u001b[1;31mKeyError\u001b[0m: 'Age'"
          ]
        }
      ],
      "source": [
        "my_dict = {'Name': 'Walter White', 'Occupation': 'Cook'}\n",
        "my_dict['Age']"
      ]
    },
    {
      "cell_type": "markdown",
      "metadata": {
        "id": "qYZvEpqeUT35"
      },
      "source": [
        "We see that `my_dict` doesn't have a key named `Age`, so it will throw an error. Don't confuse it when you want to assign a value to a non-existent key. In that case, a new key will be added to the dictionary:"
      ]
    },
    {
      "cell_type": "code",
      "execution_count": null,
      "metadata": {
        "id": "c29Gu_sXUT35",
        "outputId": "8d39622c-733d-43bb-ce28-41300a8757a9"
      },
      "outputs": [
        {
          "name": "stdout",
          "output_type": "stream",
          "text": [
            "{'Name': 'Walter White', 'Occupation': 'Cook', 'Age': 52}\n"
          ]
        }
      ],
      "source": [
        "my_dict = {'Name': 'Walter White', 'Occupation': 'Cook'}\n",
        "my_dict['Age'] = 52\n",
        "print(my_dict)"
      ]
    },
    {
      "cell_type": "markdown",
      "metadata": {
        "id": "bH9Q_NFvUT36"
      },
      "source": [
        "### __How I would debug this__"
      ]
    },
    {
      "cell_type": "markdown",
      "metadata": {
        "id": "HdyhYpsyUT36"
      },
      "source": [
        "IndexErrors and KeyErrors are quite common when you start your Python journey, but they are simple to solve. Let's observe the IndexError first"
      ]
    },
    {
      "cell_type": "code",
      "execution_count": null,
      "metadata": {
        "id": "T2ENvLWTUT36",
        "outputId": "ed6c03fd-8ef3-4f5c-83ac-f6e6e1e4a39e"
      },
      "outputs": [
        {
          "ename": "IndexError",
          "evalue": "list index out of range",
          "output_type": "error",
          "traceback": [
            "\u001b[1;31m---------------------------------------------------------------------------\u001b[0m",
            "\u001b[1;31mIndexError\u001b[0m                                Traceback (most recent call last)",
            "\u001b[1;32m<ipython-input-5-fb13742f3dd5>\u001b[0m in \u001b[0;36m<module>\u001b[1;34m\u001b[0m\n\u001b[0;32m      1\u001b[0m \u001b[0mls\u001b[0m \u001b[1;33m=\u001b[0m \u001b[1;33m[\u001b[0m\u001b[1;36m1\u001b[0m\u001b[1;33m,\u001b[0m \u001b[1;36m2\u001b[0m\u001b[1;33m,\u001b[0m \u001b[1;36m3\u001b[0m\u001b[1;33m]\u001b[0m\u001b[1;33m\u001b[0m\u001b[1;33m\u001b[0m\u001b[0m\n\u001b[1;32m----> 2\u001b[1;33m \u001b[0mls\u001b[0m\u001b[1;33m[\u001b[0m\u001b[1;36m3\u001b[0m\u001b[1;33m]\u001b[0m\u001b[1;33m\u001b[0m\u001b[1;33m\u001b[0m\u001b[0m\n\u001b[0m",
            "\u001b[1;31mIndexError\u001b[0m: list index out of range"
          ]
        }
      ],
      "source": [
        "ls = [1, 2, 3]\n",
        "ls[3]"
      ]
    },
    {
      "cell_type": "markdown",
      "metadata": {
        "id": "ROmhJeb7UT36"
      },
      "source": [
        "1. Read the final error in the traceback. It's an __IndexError__ and it says `list index out of range` which occurs on line 2 of this cell.\n",
        "2. Make sure that your list (or other sequential data structure) has the number of elements you are trying to access. You can see the number of elements in your list using the `len` function"
      ]
    },
    {
      "cell_type": "code",
      "execution_count": null,
      "metadata": {
        "id": "ss62NuDcUT36",
        "outputId": "43e302b9-3148-4865-9c72-aabb1a3116dc"
      },
      "outputs": [
        {
          "name": "stdout",
          "output_type": "stream",
          "text": [
            "3\n"
          ]
        }
      ],
      "source": [
        "ls = [1, 2, 3]\n",
        "print(len(ls))"
      ]
    },
    {
      "cell_type": "markdown",
      "metadata": {
        "id": "BT_b0jjFUT36"
      },
      "source": [
        "So the last __index__ we can get access to is __2__ `(length of list - 1)`\n",
        "\n",
        "Let's observe the dictionary example:"
      ]
    },
    {
      "cell_type": "code",
      "execution_count": null,
      "metadata": {
        "id": "t37tViF-UT37",
        "outputId": "06503728-1fec-47ea-d1d1-88daf1f16931"
      },
      "outputs": [
        {
          "ename": "KeyError",
          "evalue": "'Age'",
          "output_type": "error",
          "traceback": [
            "\u001b[1;31m---------------------------------------------------------------------------\u001b[0m",
            "\u001b[1;31mKeyError\u001b[0m                                  Traceback (most recent call last)",
            "\u001b[1;32m<ipython-input-6-f7fae62e8e3d>\u001b[0m in \u001b[0;36m<module>\u001b[1;34m\u001b[0m\n\u001b[0;32m      1\u001b[0m \u001b[0mmy_dict\u001b[0m \u001b[1;33m=\u001b[0m \u001b[1;33m{\u001b[0m\u001b[1;34m'Name'\u001b[0m\u001b[1;33m:\u001b[0m \u001b[1;34m'Walter White'\u001b[0m\u001b[1;33m,\u001b[0m \u001b[1;34m'Occupation'\u001b[0m\u001b[1;33m:\u001b[0m \u001b[1;34m'Cook'\u001b[0m\u001b[1;33m}\u001b[0m\u001b[1;33m\u001b[0m\u001b[1;33m\u001b[0m\u001b[0m\n\u001b[1;32m----> 2\u001b[1;33m \u001b[0mmy_dict\u001b[0m\u001b[1;33m[\u001b[0m\u001b[1;34m'Age'\u001b[0m\u001b[1;33m]\u001b[0m\u001b[1;33m\u001b[0m\u001b[1;33m\u001b[0m\u001b[0m\n\u001b[0m",
            "\u001b[1;31mKeyError\u001b[0m: 'Age'"
          ]
        }
      ],
      "source": [
        "my_dict = {'Name': 'Walter White', 'Occupation': 'Cook'}\n",
        "my_dict['Age']"
      ]
    },
    {
      "cell_type": "markdown",
      "metadata": {
        "id": "ogjgCW0YUT37"
      },
      "source": [
        "1. Read the final error in the traceback. It's a __KeyError__ and it says `'Age'` which occurs on line 2 of this cell.\n",
        "2. That is the name of the non-existent key.\n",
        "3. For the dictionary, you can check the keys in the dictionary using the `keys()` method."
      ]
    },
    {
      "cell_type": "code",
      "execution_count": null,
      "metadata": {
        "id": "fgiX_fvIUT37",
        "outputId": "b0247aee-4b08-4c7d-b01c-d603b9e69407"
      },
      "outputs": [
        {
          "name": "stdout",
          "output_type": "stream",
          "text": [
            "dict_keys(['Name', 'Occupation'])\n"
          ]
        }
      ],
      "source": [
        "my_dict = {'Name': 'Walter White', 'Occupation': 'Cook'}\n",
        "print(my_dict.keys())"
      ]
    },
    {
      "cell_type": "markdown",
      "metadata": {
        "id": "neaE3WJ6UT38"
      },
      "source": [
        "4. Go back to your dictionary, and make sure you add that key, or that you are using the right key."
      ]
    },
    {
      "cell_type": "markdown",
      "metadata": {
        "id": "yANWS8uzUT38"
      },
      "source": [
        "## AttributeError"
      ]
    },
    {
      "cell_type": "markdown",
      "metadata": {
        "id": "Z-NJRxd4UT38"
      },
      "source": [
        "### __Explanation__\n",
        "\n",
        "This error is thrown when you are trying to access an attribute or a method in an object with no such attribute or method"
      ]
    },
    {
      "cell_type": "markdown",
      "metadata": {
        "id": "gEObPK5gUT38"
      },
      "source": [
        "### __Causes__\n",
        "\n",
        "The most common cause of this error is confusing the type of data we are handling. For example, dictionaries have the method `keys()`, but lists don't have it. "
      ]
    },
    {
      "cell_type": "code",
      "execution_count": null,
      "metadata": {
        "id": "MBau3v8DUT38",
        "outputId": "8cc15f79-ddae-4727-db92-a221a0d05c1e"
      },
      "outputs": [
        {
          "ename": "AttributeError",
          "evalue": "'list' object has no attribute 'keys'",
          "output_type": "error",
          "traceback": [
            "\u001b[1;31m---------------------------------------------------------------------------\u001b[0m",
            "\u001b[1;31mAttributeError\u001b[0m                            Traceback (most recent call last)",
            "\u001b[1;32m<ipython-input-21-cf39c5813e09>\u001b[0m in \u001b[0;36m<module>\u001b[1;34m\u001b[0m\n\u001b[0;32m      1\u001b[0m \u001b[0mls\u001b[0m \u001b[1;33m=\u001b[0m \u001b[1;33m[\u001b[0m\u001b[1;36m1\u001b[0m\u001b[1;33m,\u001b[0m \u001b[1;36m2\u001b[0m\u001b[1;33m,\u001b[0m \u001b[1;36m3\u001b[0m\u001b[1;33m]\u001b[0m\u001b[1;33m\u001b[0m\u001b[1;33m\u001b[0m\u001b[0m\n\u001b[1;32m----> 2\u001b[1;33m \u001b[0mls\u001b[0m\u001b[1;33m.\u001b[0m\u001b[0mkeys\u001b[0m\u001b[1;33m(\u001b[0m\u001b[1;33m)\u001b[0m\u001b[1;33m\u001b[0m\u001b[1;33m\u001b[0m\u001b[0m\n\u001b[0m",
            "\u001b[1;31mAttributeError\u001b[0m: 'list' object has no attribute 'keys'"
          ]
        }
      ],
      "source": [
        "ls = [1, 2, 3]\n",
        "ls.keys()"
      ]
    },
    {
      "cell_type": "markdown",
      "metadata": {
        "id": "JroSJY2CUT39"
      },
      "source": [
        "### __How I would debug this__"
      ]
    },
    {
      "cell_type": "markdown",
      "metadata": {
        "id": "5hYL2uKFUT39"
      },
      "source": [
        "1. Read the final error in the traceback. It's a __AttributeError__ and it says `'list' object has no attribute 'keys'` which occurs on line 2 of this cell.\n",
        "2. Check the methods a data type has. If you are working in a modern IDE, such as VSCode, you can press Ctrl + Space, to see the available methods and attributes. For this to work, you might need to have internet connection.\n",
        "<p align=center><img src=https://github.com/life-efficient/Essentials/blob/main/2.%20Python%20programming/10.%20Debugging/images/attributeerror.png?raw=1 width=400></p>\n",
        "\n",
        "3. If you are unsure about the methods that a specific data type has, you know the drill: Google it!\n",
        "<p align=center><img src=https://github.com/life-efficient/Essentials/blob/main/2.%20Python%20programming/10.%20Debugging/images/Google_dict_methods.png?raw=1 width=400></p>"
      ]
    },
    {
      "cell_type": "markdown",
      "metadata": {
        "id": "57MaQGJgUT39"
      },
      "source": [
        "This way, you can make sure you will use a method that the variable does have. You can also check the Python documentation to check the methods these data structures have. Check out this [page](https://docs.python.org/3/tutorial/datastructures.html) for more information"
      ]
    },
    {
      "cell_type": "markdown",
      "metadata": {
        "id": "wTkZfFsEUT39"
      },
      "source": [
        "# Hidden Bugs"
      ]
    },
    {
      "cell_type": "markdown",
      "metadata": {
        "id": "JLK6iNEiUT39"
      },
      "source": [
        "Sometimes your code will not generate the output you expect, despite it doesn't throw an error. For example, observe the following code, where our __initial__ intention is to multiply each number by 2."
      ]
    },
    {
      "cell_type": "code",
      "execution_count": null,
      "metadata": {
        "id": "szEuHFIaUT39",
        "outputId": "b08dd5dc-c543-4df1-a8cf-78ebdc1331d0"
      },
      "outputs": [
        {
          "name": "stdout",
          "output_type": "stream",
          "text": [
            "[1, 2, 3, 1, 2, 3]\n"
          ]
        }
      ],
      "source": [
        "x = [1, 2, 3]\n",
        "print(x * 2)"
      ]
    },
    {
      "cell_type": "markdown",
      "metadata": {
        "id": "xORA3qWhUT3-"
      },
      "source": [
        "We didn't get any error, but we didn't get the expected output either! You will eventually know how to multiply each element in a list, but you can also use the same steps you learnt during this notebook\n",
        "\n",
        "<p align=center><img src=https://github.com/life-efficient/Essentials/blob/main/2.%20Python%20programming/10.%20Debugging/images/Google_list.png?raw=1 width=400></p>"
      ]
    },
    {
      "cell_type": "code",
      "execution_count": null,
      "metadata": {
        "id": "_y8HzMW9UT3-",
        "outputId": "092d8d8a-4347-4650-a242-1fe8f42f9840"
      },
      "outputs": [
        {
          "name": "stdout",
          "output_type": "stream",
          "text": [
            "[2, 4, 6]\n"
          ]
        }
      ],
      "source": [
        "x = [1, 2, 3]\n",
        "multiplied_list = [element * 2 for element in x]\n",
        "print(multiplied_list)"
      ]
    },
    {
      "cell_type": "markdown",
      "metadata": {
        "id": "KfxH9jRtUT3-"
      },
      "source": [
        "# Final Notes"
      ]
    },
    {
      "cell_type": "markdown",
      "metadata": {
        "id": "RWCOfaS5UT3-"
      },
      "source": [
        "In this notebook we showed you the most common errors you will find when you start using Python. Eventually, you will see more errors, you can check them in the following [link](https://docs.python.org/3/library/exceptions.html). \n",
        "\n",
        "As a rule of thumb, if you find a bug or an error, you should follow the next steps:\n",
        "1. Read the error, and try to solve it based on the output of the error\n",
        "2. If you weren't able to solve it, Google the problem. \n",
        "3. If that didn't work, refine your search.\n",
        "4. Use the solutions you find in your searches and keep refining your key words. \n",
        "5. If you get really stuck, ask your instructor to help you figure out what is wrong.\n",
        "\n",
        "By repeating this process you will slowly get the habit of writing better code with fewer and fewer errors.\n",
        "\n",
        "## It's all about having the correct mindset\n",
        "\n",
        "Throughout this notebook, you saw the steps to take when an error appears. However, don't think as a precedural algorithm that will always work, think about it as an way of working. \n",
        "\n",
        "When you have a problem in real life, you don't sit there waiting for someone to solve it, you take the necessary actions to solve it. In programming it shouldn't be any different, look for the solution, and eventually you won't commit the same mistakes. Coding, as other disciplines, is based on practicing. \n",
        "\n",
        "> <font size=+1> Starting with the right mindset will save you vast amounts of time eventually!</font>"
      ]
    },
    {
      "cell_type": "markdown",
      "metadata": {
        "id": "XQUkaR_dUT3-"
      },
      "source": [
        "# Extra: For really complex debugging use the Debugger"
      ]
    },
    {
      "cell_type": "markdown",
      "metadata": {
        "id": "IgIXytXiUT3_"
      },
      "source": [
        "If you are working with an IDE, you can debug your code using the debugger it has integrated. The debugger can be used in both notebooks and scripts. Run the next cell to download a file named `example.py` where you can run the debugger. If you are using VSCode, you can go to `Run` and press `Start Debugging`. For other IDEs, check the corresponding documentation."
      ]
    },
    {
      "cell_type": "code",
      "execution_count": null,
      "metadata": {
        "id": "ebz0q8ncUT3_"
      },
      "outputs": [],
      "source": [
        "!wget https://aicore-files.s3.amazonaws.com/Foundations/Python_Programming/example.py"
      ]
    },
    {
      "cell_type": "markdown",
      "metadata": {
        "id": "CmnOyisRUT3_"
      },
      "source": [
        "Most of the time you can solve issues without using a debugger. You can usually get to the root cause of the problem pretty quickly by simply adding print statements and working your way back. However, it's useful to know that it exists if you ever get really stuck."
      ]
    },
    {
      "cell_type": "markdown",
      "metadata": {
        "id": "eLnzBFDeUT3_"
      },
      "source": [
        "In the debugger mode, you can tell where to stop and check the status of your code at that point. Each of these 'stops' is called Break Point. They are especially useful when your the flow of your code is not linear, and you want to check at what point your code is behaving unexpectedly. "
      ]
    },
    {
      "cell_type": "markdown",
      "metadata": {
        "id": "EsmNNHuRUT3_"
      },
      "source": [
        "<p align=center><img src=https://github.com/life-efficient/Essentials/blob/main/2.%20Python%20programming/10.%20Debugging/images/debugger.png?raw=1 width=500></p>"
      ]
    },
    {
      "cell_type": "markdown",
      "metadata": {
        "id": "gXd0RMneUT3_"
      },
      "source": [
        "At the bottom, you can see the Debug Console. In it, you can check the values of your variables and also perform operations with the variables corresponding to the Break Point the debugger is at that moment. "
      ]
    },
    {
      "cell_type": "markdown",
      "metadata": {
        "id": "U9ratQ5TUT3_"
      },
      "source": [
        "# Summary"
      ]
    },
    {
      "cell_type": "markdown",
      "metadata": {
        "id": "ICAzbF7SUT3_"
      },
      "source": [
        "- You saw how to read errors in the console\n",
        "- You learnt the first steps to take when finding an error\n",
        "- You have seen the most common errors you will find during your first steps in Python.\n",
        "- You learnt the solutions for these common errors\n",
        "- You learnt how to use the debugger"
      ]
    }
  ],
  "metadata": {
    "interpreter": {
      "hash": "ad8bebc098a042dc0df4e42fc2ecc8fff0bd7b8741641ce29007c29766dadbe0"
    },
    "kernelspec": {
      "display_name": "Python 3.9.1 64-bit ('base': conda)",
      "name": "python3"
    },
    "language_info": {
      "codemirror_mode": {
        "name": "ipython",
        "version": 3
      },
      "file_extension": ".py",
      "mimetype": "text/x-python",
      "name": "python",
      "nbconvert_exporter": "python",
      "pygments_lexer": "ipython3",
      "version": "3.9.5"
    },
    "orig_nbformat": 4,
    "colab": {
      "name": "Notebook.ipynb",
      "provenance": []
    }
  },
  "nbformat": 4,
  "nbformat_minor": 0
}