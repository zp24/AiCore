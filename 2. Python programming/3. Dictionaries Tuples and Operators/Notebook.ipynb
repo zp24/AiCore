{
  "cells": [
    {
      "cell_type": "markdown",
      "metadata": {
        "id": "-TxSYFzospLM"
      },
      "source": [
        "# 3. Dictionaries Tuples and Operators"
      ]
    },
    {
      "cell_type": "markdown",
      "metadata": {
        "id": "NKvTUAv8spLT"
      },
      "source": [
        "- Understand the nature of a dictionary.\n",
        "- Know how to index a dictionary.\n",
        "- Know some functions and methods associated with a dictionary.\n",
        "<br><br>\n",
        "- Understand the nature of a tuple and the basic idea of mutability.\n",
        "- Understand tuple assignment and tuple unpacking.\n",
        "- Know how perform tuple indexing/slicing.\n",
        "- Know some tuple methods.\n",
        "<br> <br>\n",
        "- Understand the basics of the Boolean data type (bool).\n",
        "- Know how to use comparison operators.\n",
        "- Know how to use boolean operators."
      ]
    },
    {
      "cell_type": "markdown",
      "metadata": {
        "id": "cbUvZqqfspLU"
      },
      "source": [
        "## Dictionaries"
      ]
    },
    {
      "cell_type": "markdown",
      "metadata": {
        "id": "EVOb6rbdspLV"
      },
      "source": [
        "- Dictionaries are __ordered__ collections of key:value pairs. (It became ordered since Python 3.6)\n",
        "- Keys must be any immutable type, but best practice to use strings.\n",
        "- Values can be any data type, including dictionaries themselves (nesting).\n",
        "- Indexed using keys."
      ]
    },
    {
      "cell_type": "markdown",
      "metadata": {
        "id": "qG-qm1nwspLW"
      },
      "source": [
        "## Creating Dictionaries"
      ]
    },
    {
      "cell_type": "markdown",
      "metadata": {
        "id": "c6QMLtrbspLX"
      },
      "source": [
        "You can create a dictionary by using __curly brackets__, but as opposed to sets, you need to define __two__ things per item: __key__ and __value__."
      ]
    },
    {
      "cell_type": "code",
      "execution_count": null,
      "metadata": {
        "id": "hBTjoiY5spLY",
        "outputId": "5e6cad8a-b6c8-4c8a-d1e7-6e0ff56727e5"
      },
      "outputs": [
        {
          "name": "stdout",
          "output_type": "stream",
          "text": [
            "{'key': 1, 'key_2': 2}\n"
          ]
        }
      ],
      "source": [
        "my_dict = {'key': 1, 'key_2': 2}\n",
        "print(my_dict)"
      ]
    },
    {
      "cell_type": "markdown",
      "metadata": {
        "id": "DM_yu6yCspLb"
      },
      "source": [
        "Keys have to be immutable (for example, tuples, which we'll see later, or strings).\n",
        "\n",
        "On the other hand, values can have any type, even another dictionary"
      ]
    },
    {
      "cell_type": "code",
      "execution_count": null,
      "metadata": {
        "id": "hTEAP5QJspLc"
      },
      "outputs": [],
      "source": [
        "# flexibility of data assignment inc. lists and sub-dictionaries\n",
        "d = {'k1': 50, 'k2': 123, 'k3': [0,1,2], 'k4': {'insidekey': [100, 200]}}\n",
        "\n",
        "print(d)"
      ]
    },
    {
      "cell_type": "markdown",
      "metadata": {
        "id": "4y2ILN7nspLd"
      },
      "source": [
        "### Accessing to data in a dictionary"
      ]
    },
    {
      "cell_type": "markdown",
      "metadata": {
        "id": "jApKuO1espLe"
      },
      "source": [
        "A common rule of thumb in data types in Python is that if you want to retrieve a certain value, you need to access the corresponding index.\n",
        "\n",
        "In dictionaries, this is similar, but instead of a numerical index, you use the key."
      ]
    },
    {
      "cell_type": "markdown",
      "metadata": {
        "id": "T7ZLm-mYspLf"
      },
      "source": [
        "So, for example, in my_dict, if you want to access the value corresponding to `key_2`:"
      ]
    },
    {
      "cell_type": "code",
      "execution_count": null,
      "metadata": {
        "id": "hRKmpSA_spLf"
      },
      "outputs": [],
      "source": [
        "my_dict = {'key': 1, 'key_2': 2}\n",
        "print(my_dict['key_2'])"
      ]
    },
    {
      "cell_type": "markdown",
      "metadata": {
        "id": "t1O-KXQBspLg"
      },
      "source": [
        "The same applies to nested dictionaries, you need to index the key corresponding to the dictionaries, and then using the key you want in the nested dictionary"
      ]
    },
    {
      "cell_type": "code",
      "execution_count": null,
      "metadata": {
        "id": "rsnE_zAJspLg",
        "outputId": "a7b7a76c-97bf-4763-8436-795364d1fa37"
      },
      "outputs": [
        {
          "name": "stdout",
          "output_type": "stream",
          "text": [
            "{'insidekey': [100, 200]}\n",
            "[100, 200]\n",
            "200\n"
          ]
        }
      ],
      "source": [
        "d = {'k1': 50, 'k2': 123, 'k3': [0,1,2], 'k4': {'insidekey': [100, 200]}}\n",
        "print(d['k4']) # This will access the inner dictionary\n",
        "print(d['k4']['insidekey']) # This will acess the list within the inner dictionary\n",
        "print(d['k4']['insidekey'][1]) # This will access the second element in the list within the inner dictionary\n"
      ]
    },
    {
      "cell_type": "markdown",
      "metadata": {
        "id": "4mgTFb7pspLh"
      },
      "source": [
        "You can even stack calls, which means that you will apply a method (or function) to the data retrieved from indexing a dictionary."
      ]
    },
    {
      "cell_type": "code",
      "execution_count": null,
      "metadata": {
        "id": "iRUZrEOuspLh"
      },
      "outputs": [],
      "source": [
        "# can stack calls\n",
        "d1 = {'k1':[\"a\", \"b\", \"c\"]}\n",
        "\n",
        "print(d1['k1'][2].upper())"
      ]
    },
    {
      "cell_type": "code",
      "execution_count": null,
      "metadata": {
        "id": "i-3yXjNjspLi"
      },
      "outputs": [],
      "source": [
        "# both of these methods give the same result\n",
        "\n",
        "x = d1['k1'][2]\n",
        "print(x.upper())"
      ]
    },
    {
      "cell_type": "markdown",
      "metadata": {
        "id": "jMQ8CoGvspLi"
      },
      "source": [
        "### `.keys()`, `values()`, and `items()`"
      ]
    },
    {
      "cell_type": "markdown",
      "metadata": {
        "id": "xfxLXs0jspLj"
      },
      "source": [
        "In many ocassions you need to retrieve the keys, the values or a combination of both.\n",
        "- `.keys()` returns a list of the keys in a dictionary\n",
        "- `.values()` returns a list of the values in a dictionary\n",
        "- `.items()` returns both in the form of a list of tuples, where the first item in the tuple is the key, and the second element is the corresponding value"
      ]
    },
    {
      "cell_type": "code",
      "execution_count": null,
      "metadata": {
        "id": "TetCLoKYspLk"
      },
      "outputs": [],
      "source": [
        "# call all keys/values/pairs by .keys / .values / .items methods, .items returns tuples\n",
        "print('The keys method returns: ')\n",
        "print(d.keys())\n",
        "print('The values method returns: ')\n",
        "print(d.values())\n",
        "print('The items method returns: ')\n",
        "print(d.items())"
      ]
    },
    {
      "cell_type": "markdown",
      "metadata": {
        "id": "2kZw9JgsspLk"
      },
      "source": [
        "### <font size=+2>`in`</font> Operator"
      ]
    },
    {
      "cell_type": "markdown",
      "metadata": {
        "id": "HufkuT8AspLl"
      },
      "source": [
        "The `in` operator checks if an element is in a collection of items. It returns `True` if it is present"
      ]
    },
    {
      "cell_type": "code",
      "execution_count": null,
      "metadata": {
        "id": "wP2R2XAgspLl",
        "outputId": "a2b7fb51-35b7-49a0-e821-1acd60843c33"
      },
      "outputs": [
        {
          "data": {
            "text/plain": [
              "True"
            ]
          },
          "execution_count": 5,
          "metadata": {},
          "output_type": "execute_result"
        }
      ],
      "source": [
        "my_list = ['a', 'b', 'c']\n",
        "'c' in my_list"
      ]
    },
    {
      "cell_type": "markdown",
      "metadata": {
        "id": "gs12q8UuspLm"
      },
      "source": [
        "If it's not present, it will return `False`"
      ]
    },
    {
      "cell_type": "code",
      "execution_count": null,
      "metadata": {
        "id": "4wTzgUKvspLm",
        "outputId": "5e9283fb-d33d-410d-aa5a-99cd21fad0c6"
      },
      "outputs": [
        {
          "data": {
            "text/plain": [
              "False"
            ]
          },
          "execution_count": 6,
          "metadata": {},
          "output_type": "execute_result"
        }
      ],
      "source": [
        "'d' in my_list"
      ]
    },
    {
      "cell_type": "markdown",
      "metadata": {
        "id": "2Dgwob5AspLm"
      },
      "source": [
        "If you apply it directly to a dictionary, it will check only on the keys"
      ]
    },
    {
      "cell_type": "code",
      "execution_count": null,
      "metadata": {
        "id": "JzKtnlN8spLm",
        "outputId": "e34f3761-d654-4089-d47d-42df6bfc1ee8"
      },
      "outputs": [
        {
          "name": "stdout",
          "output_type": "stream",
          "text": [
            "Is \"k2\" in d1? True\n",
            "Is 345 in d1? False\n"
          ]
        }
      ],
      "source": [
        "# use in to check if item in iterable\n",
        "d1 = {\"k1\": 10, \"k2\": [1,2,3], \"k3\": 345}\n",
        "\n",
        "print(f'Is \"k2\" in d1? {\"k2\" in d1}')\n",
        "print(f'Is 345 in d1? {345 in d1}')\n"
      ]
    },
    {
      "cell_type": "markdown",
      "metadata": {
        "id": "zpR0x7AKspLn"
      },
      "source": [
        "If you want to check if a value is present in the dictionary, you can use the `.values()` method"
      ]
    },
    {
      "cell_type": "code",
      "execution_count": null,
      "metadata": {
        "id": "dnINQDQCspLn",
        "outputId": "220d4a82-d309-4eac-daf2-7470a4dcfdb8"
      },
      "outputs": [
        {
          "name": "stdout",
          "output_type": "stream",
          "text": [
            "Is 345 in the values of d1? True\n"
          ]
        }
      ],
      "source": [
        "val = d1.values()\n",
        "\n",
        "print(f'Is 345 in the values of d1? {345 in d1.values()}')"
      ]
    },
    {
      "cell_type": "markdown",
      "metadata": {
        "id": "SaJ-FThmspLo"
      },
      "source": [
        "### Modify and Add keys in a dictionary"
      ]
    },
    {
      "cell_type": "markdown",
      "metadata": {
        "id": "srdXfixZspLo"
      },
      "source": [
        "You can __add__ new keys to a dictionary by indexing a __non-existing__ key (for example `k7`), and assigning a value to it (for example `VALUE`)"
      ]
    },
    {
      "cell_type": "code",
      "execution_count": null,
      "metadata": {
        "id": "GV_ig-yPspLo"
      },
      "outputs": [],
      "source": [
        "print(f'Before adding k7: {d}')\n",
        "d[\"k7\"] = \"VALUE\"\n",
        "print(f'After adding k7: {d}')"
      ]
    },
    {
      "cell_type": "markdown",
      "metadata": {
        "id": "xOm2QnGcspLp"
      },
      "source": [
        "However, if that key already existed, the key is not added again, but the value is replaced with the new value (for example `NEW VALUE`)"
      ]
    },
    {
      "cell_type": "code",
      "execution_count": null,
      "metadata": {
        "id": "kfwwk8i6spLp"
      },
      "outputs": [],
      "source": [
        "# add by assigning new pair, reassign\n",
        "d[\"k7\"] = \"NEW VALUE\"\n",
        "\n",
        "print(d)"
      ]
    },
    {
      "cell_type": "markdown",
      "metadata": {
        "id": "4DhsyJ2mspLp"
      },
      "source": [
        "You can also add keys using the `.update()` method. You have to pass a dictionary to that method "
      ]
    },
    {
      "cell_type": "code",
      "execution_count": null,
      "metadata": {
        "id": "kHq4BT2-spLq"
      },
      "outputs": [],
      "source": [
        "d1 = {\"k1\": 10, \"k2\":[1,2,3], \"k3\":345}\n",
        "d2 = {'k1': 50, 'k5': 42}\n",
        "d1.update(d2)\n",
        "print(d1)"
      ]
    },
    {
      "cell_type": "markdown",
      "metadata": {
        "id": "VE7_h8D-spLq"
      },
      "source": [
        "Notice that, if the key already existed, its corresponding value will be updated"
      ]
    },
    {
      "cell_type": "markdown",
      "metadata": {
        "id": "PEtXcHtcspLq"
      },
      "source": [
        "### Remove elements from a dictionary"
      ]
    },
    {
      "cell_type": "markdown",
      "metadata": {
        "id": "yVgqwObXspLq"
      },
      "source": [
        "You can use the `.pop()` method to remove a key in a dictionary.\n",
        "\n",
        "You have to pass the name of the key you want to remove. If that key doesn't exist, Python will throw and error"
      ]
    },
    {
      "cell_type": "code",
      "execution_count": null,
      "metadata": {
        "id": "4lr5zco5spLr"
      },
      "outputs": [],
      "source": [
        "d1 = {\"k1\": 10, \"k2\": [1, 2, 3], \"k3\": 345}\n",
        "print(d1.pop('k1'))\n",
        "print(d1)"
      ]
    },
    {
      "cell_type": "markdown",
      "metadata": {
        "id": "Q8thJq5kspLr"
      },
      "source": [
        "## Tuples"
      ]
    },
    {
      "cell_type": "markdown",
      "metadata": {
        "id": "yZ2lP0bRspLr"
      },
      "source": [
        "- Tuples are like lists: flexible data input.\n",
        "- But they are immutable: cannot be changed once created.\n",
        "- Therefore no append/extend/remove/pop methods and no item reassignment for tuples.\n",
        "- Useful for holding values in data that you do not want to be reassigned by accident."
      ]
    },
    {
      "cell_type": "markdown",
      "metadata": {
        "id": "eJvE3UacspLr"
      },
      "source": [
        "### Creating a Tuple"
      ]
    },
    {
      "cell_type": "markdown",
      "metadata": {
        "id": "6EyAP4obspLr"
      },
      "source": [
        "Tuples are represented by parentheses `()`. You can also create a tuple using the `tuple` function"
      ]
    },
    {
      "cell_type": "code",
      "execution_count": null,
      "metadata": {
        "id": "yNTC_TaAspLs",
        "outputId": "e6127c4b-4698-47b4-82a3-e11e7a94676d"
      },
      "outputs": [
        {
          "name": "stdout",
          "output_type": "stream",
          "text": [
            "(1, 2, 3)\n",
            "(1, 'two', 3)\n"
          ]
        }
      ],
      "source": [
        "# immutable but flexible data input\n",
        "t = (1,2,3)\n",
        "t1 = tuple([1, \"two\", 3])\n",
        "print(t)\n",
        "print(t1)"
      ]
    },
    {
      "cell_type": "markdown",
      "metadata": {
        "id": "-9KxS5MJspLs"
      },
      "source": [
        "As mentioned, tuples are immutable, so you can't remove items from it"
      ]
    },
    {
      "cell_type": "code",
      "execution_count": null,
      "metadata": {
        "id": "o0_bPZCTspLs",
        "outputId": "b663f5cf-62e3-425b-b71a-b83ed00af9ff"
      },
      "outputs": [
        {
          "ename": "AttributeError",
          "evalue": "'tuple' object has no attribute 'pop'",
          "output_type": "error",
          "traceback": [
            "\u001b[0;31m---------------------------------------------------------------------------\u001b[0m",
            "\u001b[0;31mAttributeError\u001b[0m                            Traceback (most recent call last)",
            "\u001b[0;32m<ipython-input-16-becc35787648>\u001b[0m in \u001b[0;36m<module>\u001b[0;34m\u001b[0m\n\u001b[0;32m----> 1\u001b[0;31m \u001b[0mt1\u001b[0m\u001b[0;34m.\u001b[0m\u001b[0mpop\u001b[0m\u001b[0;34m(\u001b[0m\u001b[0;34m)\u001b[0m\u001b[0;34m\u001b[0m\u001b[0;34m\u001b[0m\u001b[0m\n\u001b[0m",
            "\u001b[0;31mAttributeError\u001b[0m: 'tuple' object has no attribute 'pop'"
          ]
        }
      ],
      "source": [
        "t1.pop()"
      ]
    },
    {
      "cell_type": "markdown",
      "metadata": {
        "id": "Art27ecmspLt"
      },
      "source": [
        "And you can't reassign items to it"
      ]
    },
    {
      "cell_type": "code",
      "execution_count": null,
      "metadata": {
        "id": "SN-hdpeHspLt",
        "outputId": "adbc62f1-b46b-4979-f32f-c704cabe4109"
      },
      "outputs": [
        {
          "ename": "TypeError",
          "evalue": "'tuple' object does not support item assignment",
          "output_type": "error",
          "traceback": [
            "\u001b[0;31m---------------------------------------------------------------------------\u001b[0m",
            "\u001b[0;31mTypeError\u001b[0m                                 Traceback (most recent call last)",
            "\u001b[0;32m<ipython-input-17-3d166a200a44>\u001b[0m in \u001b[0;36m<module>\u001b[0;34m\u001b[0m\n\u001b[0;32m----> 1\u001b[0;31m \u001b[0mt1\u001b[0m\u001b[0;34m[\u001b[0m\u001b[0;36m1\u001b[0m\u001b[0;34m]\u001b[0m \u001b[0;34m=\u001b[0m \u001b[0;34m\"ten\"\u001b[0m\u001b[0;34m\u001b[0m\u001b[0;34m\u001b[0m\u001b[0m\n\u001b[0m",
            "\u001b[0;31mTypeError\u001b[0m: 'tuple' object does not support item assignment"
          ]
        }
      ],
      "source": [
        "t1[1] = \"ten\""
      ]
    },
    {
      "cell_type": "code",
      "execution_count": null,
      "metadata": {
        "id": "SPLIrAOVspLt"
      },
      "outputs": [],
      "source": [
        "# check length with len() function\n",
        "len(t)\n",
        "print(\"The length of the tuple is {x}\".format(x=len(t)))"
      ]
    },
    {
      "cell_type": "markdown",
      "metadata": {
        "id": "gYj8ABuTspLu"
      },
      "source": [
        "### Tuples' methods"
      ]
    },
    {
      "cell_type": "markdown",
      "metadata": {
        "id": "SVE2d_Y6spLu"
      },
      "source": [
        "Tuples allow you to check how many times an item is repeated in it. To do so, you can use the method `.count()`"
      ]
    },
    {
      "cell_type": "code",
      "execution_count": null,
      "metadata": {
        "id": "rMhxow_7spLu",
        "outputId": "8ddd3893-e8bd-48d4-a3bd-da7906b8967e"
      },
      "outputs": [
        {
          "name": "stdout",
          "output_type": "stream",
          "text": [
            "a occurs 3 times in the tuple\n"
          ]
        }
      ],
      "source": [
        "# count instances using .count() method\n",
        "t2 = ('a', 'a', 'b', 'b', 'a')\n",
        "t2.count(\"a\")\n",
        "print(\"a occurs {x} times in the tuple\".format(x=t2.count(\"a\")))"
      ]
    },
    {
      "cell_type": "markdown",
      "metadata": {
        "id": "NqiTB4kcspLv"
      },
      "source": [
        "Also, you can check the first occurrence of an element using the `index()` method"
      ]
    },
    {
      "cell_type": "code",
      "execution_count": null,
      "metadata": {
        "id": "nPc0wp7PspLv"
      },
      "outputs": [],
      "source": [
        "# find first index using .index() method\n",
        "t2.index(\"b\")\n",
        "print(\"b occurs first at index {x} in the tuple\".format(x=t2.index(\"b\")))"
      ]
    },
    {
      "cell_type": "markdown",
      "metadata": {
        "id": "y0kMfT10spLv"
      },
      "source": [
        "### Tuple Packing and Unpacking"
      ]
    },
    {
      "cell_type": "markdown",
      "metadata": {
        "id": "53FzmFDespLv"
      },
      "source": [
        "- One of the most powerful aspects of tuples is a technique called tuple unpacking.\n",
        "- This allows us to assign variables using commas from a single tuple in order.\n",
        "- The syntax works as below, although the brackets can be omitted, unless required to be clear."
      ]
    },
    {
      "cell_type": "markdown",
      "metadata": {
        "id": "GNbh0vaSspLw"
      },
      "source": [
        "Python here 'unpacks' the tuple automatically and picks out the values and assigns them to the comma-separated variables:"
      ]
    },
    {
      "cell_type": "code",
      "execution_count": null,
      "metadata": {
        "id": "lCCVClDrspLw",
        "outputId": "4128fcf1-9d69-4af1-ffea-cb941e7ada7f"
      },
      "outputs": [
        {
          "name": "stdout",
          "output_type": "stream",
          "text": [
            "a is equal to 1\n",
            "b is equal to 2\n",
            "c is equal to 3\n"
          ]
        }
      ],
      "source": [
        "a, b, c = (1, 2, 3)\n",
        "\n",
        "print(f'a is equal to {a}')\n",
        "print(f'b is equal to {b}')\n",
        "print(f'c is equal to {c}')"
      ]
    },
    {
      "cell_type": "markdown",
      "metadata": {
        "id": "WguLz5MzspLw"
      },
      "source": [
        "We can also assign a tuple to a variable and perform tuple unpacking on the variable:"
      ]
    },
    {
      "cell_type": "markdown",
      "metadata": {
        "id": "daikCj4ospLw"
      },
      "source": [
        "Here, brackets are implied, Python performs tuple unpacking operation in same way 'under the hood'. <br>\n",
        "This comma notation is useful shorthand for assigning multiple variables:"
      ]
    },
    {
      "cell_type": "code",
      "execution_count": null,
      "metadata": {
        "id": "RMFaFiD2spLx",
        "outputId": "1e95fc87-9d2e-4cfd-c03a-bb9ddd1d49cc"
      },
      "outputs": [
        {
          "data": {
            "text/plain": [
              "int"
            ]
          },
          "execution_count": 21,
          "metadata": {},
          "output_type": "execute_result"
        }
      ],
      "source": [
        "t1 = (1)\n",
        "type(t1)"
      ]
    },
    {
      "cell_type": "markdown",
      "metadata": {
        "id": "3hZ5iGwjspLx"
      },
      "source": [
        "If you simply use a comma (even without parentheses) you can create a tuple"
      ]
    },
    {
      "cell_type": "code",
      "execution_count": null,
      "metadata": {
        "id": "j2ChIFzOspLx",
        "outputId": "ba4e6a57-0eb0-4d4c-a92f-b0c0ffa6f812"
      },
      "outputs": [
        {
          "data": {
            "text/plain": [
              "tuple"
            ]
          },
          "execution_count": 22,
          "metadata": {},
          "output_type": "execute_result"
        }
      ],
      "source": [
        "t1 = 1, 2\n",
        "type(t1)"
      ]
    },
    {
      "cell_type": "markdown",
      "metadata": {
        "id": "2myJ4gawspLx"
      },
      "source": [
        "## Booleans and Comparison Operators"
      ]
    },
    {
      "cell_type": "markdown",
      "metadata": {
        "id": "K_PzBbrnspLy"
      },
      "source": [
        "Booleans can only have two values `True` and `False`. These are actually Python keyboards, so you can create a boolean using them"
      ]
    },
    {
      "cell_type": "code",
      "execution_count": null,
      "metadata": {
        "id": "uikX0UXRspLy"
      },
      "outputs": [],
      "source": [
        "bool_1 = True\n",
        "bool_2 = False\n",
        "type(bool_1)"
      ]
    },
    {
      "cell_type": "markdown",
      "metadata": {
        "id": "xQXEwo0WspLy"
      },
      "source": [
        "You can also cast a value into a boolean. Usually, if it contains something, it will return True, if it's empty it usually returns a False"
      ]
    },
    {
      "cell_type": "code",
      "execution_count": null,
      "metadata": {
        "id": "XpBLYObPspLy",
        "outputId": "4c313395-a6f8-486a-f3f3-9ef71ee56432"
      },
      "outputs": [
        {
          "name": "stdout",
          "output_type": "stream",
          "text": [
            "True\n",
            "False\n"
          ]
        }
      ],
      "source": [
        "my_str = 'Hello'\n",
        "print(bool(my_str))\n",
        "empty_str = ''\n",
        "print(bool(empty_str))"
      ]
    },
    {
      "cell_type": "markdown",
      "metadata": {
        "id": "cZ09MoJKspLz"
      },
      "source": [
        "Booleans in Python function as they do in maths. You can use comparison operators that return booleans based on whether the comparison is True or not\n",
        "Can use: \n",
        "- (<) less than\n",
        "- (>) more than\n",
        "- (<=) less than or equal to\n",
        "- (>=) more than or equal to\n",
        "- (==) equal to (single = is assignment)\n",
        "- (!=) not equal\n",
        "\n",
        "to evaluate equality/inequality.\n",
        "\n",
        "Use keywords to chain/modify boolean operators:\n",
        "- and\n",
        "- or\n",
        "- not"
      ]
    },
    {
      "cell_type": "code",
      "execution_count": null,
      "metadata": {
        "id": "mHJT_qKwspLz"
      },
      "outputs": [],
      "source": [
        "1 < 2"
      ]
    },
    {
      "cell_type": "code",
      "execution_count": null,
      "metadata": {
        "id": "cb_oKCoWspLz"
      },
      "outputs": [],
      "source": [
        "1 >= 2"
      ]
    },
    {
      "cell_type": "code",
      "execution_count": null,
      "metadata": {
        "id": "EHza2OyZspL0"
      },
      "outputs": [],
      "source": [
        "# and/or for boolean comparison chaining\n",
        "1 < 2 and 10 < 20"
      ]
    },
    {
      "cell_type": "code",
      "execution_count": null,
      "metadata": {
        "id": "OYZ4JCSSspL0"
      },
      "outputs": [],
      "source": [
        "True and False"
      ]
    },
    {
      "cell_type": "code",
      "execution_count": null,
      "metadata": {
        "id": "Z1RXzL2CspL0"
      },
      "outputs": [],
      "source": [
        "True or False"
      ]
    },
    {
      "cell_type": "code",
      "execution_count": null,
      "metadata": {
        "id": "VZ09iagWspL1"
      },
      "outputs": [],
      "source": [
        "# and/or for boolean comparison chaining\n",
        "25 > 37 or 55 < 100"
      ]
    },
    {
      "cell_type": "code",
      "execution_count": null,
      "metadata": {
        "id": "QsAA7ywmspL1"
      },
      "outputs": [],
      "source": [
        "# use not to return opposite boolean\n",
        "not 100 > 1"
      ]
    },
    {
      "cell_type": "code",
      "execution_count": null,
      "metadata": {
        "id": "71hZfVpLspL1"
      },
      "outputs": [],
      "source": [
        "# use in keyword to check if item is in iterable (also works for strings)\n",
        "print(\"x\" in [1,2,3])\n",
        "\n",
        "print(\"x\" in ['x','y','z'])\n",
        "\n",
        "print(\"a\" in \"a world\")"
      ]
    },
    {
      "cell_type": "markdown",
      "metadata": {
        "id": "6xSicAVbspL1"
      },
      "source": [
        "## Summary\n",
        "We now understand:\n",
        "- The nature of dictionaries and tuples .\n",
        "- The basic concept of tuple unpacking.\n",
        "- The nature of booleans and how to use them.\n",
        "<br><br>\n",
        "\n",
        "We now know:\n",
        "- How to use a set to find the unique values in a list.\n",
        "- How to index a dictionary.\n",
        "- Dictionary methods including .keys(), .values(), .items().\n",
        "- Tuple methods including .count() and .index().\n",
        "- How to use booleans and logical operators.\n",
        "<br><br>\n",
        "\n",
        "Please use this notebook as a reference, and refer to the links below for more information.\n",
        "\n",
        "## Further reading\n",
        "- Dictionary methods: https://docs.python.org/3/library/stdtypes.html#typesmapping\n",
        "- Built-in types: https://docs.python.org/3/library/stdtypes.html\n",
        "- Sets: https://docs.python.org/3/library/stdtypes.html#set"
      ]
    }
  ],
  "metadata": {
    "interpreter": {
      "hash": "3d597f4c481aa0f25dceb95d2a0067e73c0966dcbd003d741d821a7208527ecf"
    },
    "kernelspec": {
      "display_name": "Python 3.9.1 64-bit ('base': conda)",
      "name": "python3"
    },
    "language_info": {
      "codemirror_mode": {
        "name": "ipython",
        "version": 3
      },
      "file_extension": ".py",
      "mimetype": "text/x-python",
      "name": "python",
      "nbconvert_exporter": "python",
      "pygments_lexer": "ipython3",
      "version": "3.8.11"
    },
    "colab": {
      "name": "Notebook.ipynb",
      "provenance": []
    }
  },
  "nbformat": 4,
  "nbformat_minor": 0
}