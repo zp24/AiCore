# 5 : For Loops

## Learning objectives
- Understand the concept of definite iteration.
- Know how to use a basic for loop.
- Know how to use a for loop with the range() function.
- Know how to use range(len(iterable)) to iterate on index.
- Know how to use tuple unpacking in iteration.
- Know how to iterate through dictionaries.
- Know how to use conditional statements inside for loops.
- Know how to use pass, break and continue keywords.
- Know how to create and iterate through zip and enumerate objects.
- Know how to write list comprehensions.
- Know how to use conditionals inside list comprehensions.

# Control Flow

## Iteration

- Iterable: data structure capable of returning its elements one at a time e.g. list, tuple, string, dictionary(d.keys() returns a list).
- Iteration: performing the same operation repeatedly (often over each element of an iterable).
- e.g. multiplying each element in a list by 2, or taking index 0 of each item in a list of strings.

## For Loops

- Looping is an example of iteration, where you perform the same operation repeatedly, until some condition is fulfilled.

- For loops perform some operation FOR each element in an iterable (each character in a string or each item in a list etc) until there are no more elements left in the iterable.
- This is called definite iteration: where the number of iterations are known.
- This is an example of DRY coding (Don't Repeat Yourself), as a single for loop does numerous operations in one go.

As opposed to `while` loops, the condition in a `for` loop is whether the iterable has more items or not

<p align=center><img src=images/for_while.jpeg></p>

### Basic Syntax

# for i in iterable:
#     do_something
#     do_something_to_i

#### We can break the syntax down as follows:
- __i__ is the counter variable here, it can be anything as long as it is consistent: best practice is to use naming such as __city in cities__, __item in items__ etc where __cities__ or __items__ is the __iterable name__, or failing that, __i__, for the purpose of readability.

- __i__ refers to each element in the iterable in a given iteration, and so we can use __i__ in the do_something block.

- __in__ is the __keyword in__, indicating reference to the following iterable.

- __iterable__ is the iterable over which we wish to perform the operation, so the list name for example.

- The __colon__ indicates control flow and signals an indent, completing the set phrase.

- The __do_something__ block is the operation to perform on each element, and so often i is used in this code block, although it does not have to be.

### Example

items = ["hat", "boots", "jacket", "gloves"]

for item in items:
    print(f'Hello, I have a: {item}')

### Using the range() function

# for i in range(start,stop,step):
#     do_something
#     do_something_to_i

list((range(5)))

range(0, 10)

print(list(range(5)))
print(list(range(5, 20)))
print(list(range(5, 20, 2)))

- Here, we perform an operation using the range() function, and so perform an operation for all the numbers in the given range.

- range() is a generator and so returns a range object, not a list, but it is still iterable.

- To produce a list we must use list(range()).

- range() takes 3 arguments, start, stop and step.

- If we specify __1 argument__, e.g. range(3), range defaults to start = 0 and step = 1, and takes the argument as the ending number+1, so range(3) contains 0,1,2.

- If we specify __2 arguments__, e.g. range(5,20), the first is start number and second is stop number+1.

- If we specify __3 arguments__, the 3rd is the step(increment), so e.g. range(5,10,2) contains 5,7,9.

### Example

ls = [1, 5, 6, 7, 8, 9]
ls[2]

for i in range(len(ls)):
    print(i)

range(len(ls))

print(list(range(3)))

print(list(range(5,20)))

print(list(range(5,10,2)))

### Using range(len(iterable))

# for i in range(len(iterable)):
#     do_something_to_iterable[i]

- Here, i is each number in the index of a list, and we can index the list in the code block in order to modify each element.
- Generally this is to modify lists but can have other use cases.

### Example

items = ["hat", "boots", "jacket", "gloves"]

counter = 0
for i in range(len(items)):
    items[i] = items[i].upper()

print(items)

### Tuple Packing and Unpacking

Some quick revision from the data types lecture:
- One of the most powerful aspects of tuples is a technique called tuple unpacking.
- Using the comma syntax below, Python automatically picks out elements from a tuple and assigns them to variables.
- We can leverage this with for loops, especially when iterating through dictionaries.

# Python here 'unpacks' the tuple automatically and picks out the values and assigns them to the comma-separated
# variables
a, b = (1, 2)

print(a)
print(b)

## For Loops with Dictionaries

This is possible through 2 methods:
1. We can iterate through d.keys(), as it returns a list.
2. We can use tuple unpacking to iterate through d.items(), as it returns a list of paired tuples.

The second method gives us the freedom to operate both keys and items in a more readable format.

### Examples

#### Method 1

# we see here the .keys() method returns a list
prices = {"tomato":0.87, "sugar":1.09, "sponges":0.29, "juice":1.89, "foil":1.29}

prices.keys()

# here we are picking out keys and items from a dictionary and adding them to a list

# initialise empty lists
code_list = []
price_list = []

for key in prices.keys():

    # append the key itself to code_list
    code_list.append(key)

    # use the key to pick out the value and append that to price_list
    price_list.append(prices[key])

print(code_list)
print(price_list)


#### Method 2

# we can see here that the .items() method returns a list of paired tuples
prices.items()

# we do the same operation but using tuple unpacking on d.keys this time

code_list = []
price_list = []
key, value = ('tomato', 0.87)

key, value = ('sugar', 1.09)

for key, value in prices.items():
    
    # this line is the same as above
    code_list.append(key)
    
    # here we access the value too, and directly append that to price_list
    price_list.append(value)
    
print(code_list)
print(price_list)

We can also perform other operations using tuple unpacking:

prices = {"tomato":0.87, "sugar":1.09, "sponges":0.29, "juice":1.89, "foil":1.29}

for key, value in prices.items():
    print("Item Code: {}\nPrice: £{}\n".format(key,value))

## If Statements within For Loops
- We can use control flow within for loops to perform differing operations depending on conditions.

### Example
- Here we use the example of a BMI calculator to demonstrate the combination of a few concepts.
- Heights are in metres and weights in kilograms for ease of calculation.

# we encode a list of heights and weights as a list of tuples
heights_weights = [(1.83, 85), (1.55, 61), (2.09, 135),
                   (1.71, 70), (1.71, 95), (1.71, 55)]


# we set bmis as an empty list to append bmi values to
bmis = []


# we use tuple unpacking to add bmi values to bmis
for height, weight in heights_weights:
    bmis.append(weight / height ** 2)


# we print bmis here to show the intermediate list (ordinarily we would not do this)
print("This is the list of BMIs: {}\n".format(bmis))


# we loop over bmi list to assign the values to the correct message
for bmi in bmis:
    if bmi < 18.5:
        print(
            "You're in the underweight range. Your BMI is {:3.1f}.".format(bmi))
    elif bmi <= 24.9:
        print(
            "You're in the healthy weight range. Your BMI is {:3.1f}.".format(bmi))
    elif bmi <= 29.9:
        print(
            "You're in the overweight range. Your BMI is {:3.1f}.".format(bmi))
    elif bmi <= 39.9:
        print("You're in the obese range. Your BMI is {:3.1f}.".format(bmi))


We can now do this in a single for loop:

heights_weights = [(1.83, 85),(1.55, 61),(2.09, 135),(1.71, 70),(1.71, 95),(1.71, 55)]

for height, weight in heights_weights:
    
    # here we calculate bmi within the for loop using the paired tuple values before passing the bmi value
    # into the subsequent if statements
    bmi = weight/height**2

    if bmi < 18.5:
        print("You're in the underweight range. Your BMI is {:3.1f}".format(bmi))
    elif bmi <= 24.9:
        print("You're in the healthy weight range. Your BMI is {:3.1f}".format(bmi))
    elif bmi <= 29.9:
        print("You're in the overweight range. Your BMI is {:3.1f}".format(bmi))
    elif bmi <= 39.9:
        print("You're in the obese range. Your BMI is {:3.1f}".format(bmi))

## Pass, Break and Continue Keywords

- The pass keyword serves as a placeholder in an empty loop, it means 'do nothing'.
- We use pass when we want a loop (or function) in our code but do not want to write it out just now, but we still want to be able to run the rest of our code.
- The break keyword terminates the loop when it is triggered.
- The continue keyword moves to the top of the nearest enclosing loop and skips onto the next iteration.
- Usually we use these inside a conditional in order to terminate a loop or skip an iteration when a condition is met.

### Examples

# Used for developing code. If you leave it empty, the code throws an error
x, y = 10, 5

for i in range(20):
    ### To be completed
    pass

print(x,y)

for i in range(12):
    if i % 3 == 0:
        continue
    print(f'I am not skipped because {i} is not divisible by 5')

for i in range(1,12):
    if i % 5 == 0:
        break
    else:
        print(i)

## Zip and Enumerate

- The zip() function combines iterables into tuples, but zip is an iterator which returns a zip object, which must then be iterated over, or converted to a list to view.
- Can unzip into tuples by adding * argument inside zip().
- enumerate() returns iterator of tuples, containing (index,item).
- This is useful for operations on both indices and items: combining a for loop on the iterable with a for loop on range(len(iterable)).

### Examples

# zip() creates a zip object, which must be iterated or listed to view it

items = ["tomato", "sugar", "sponges", "juice", "foil"]
prices = [0.87, 1.09, 0.29, 1.89, 1.29]

items_and_prices = zip(items, prices)

print(list(items_and_prices))


for item, price in zip(items, prices):
    print(item, price)

# we can unzip a zip object into tuples using * inside the zip call

items_and_prices = zip(items, prices) # creating zip object

tuple_of_items, tuple_of_prices = zip(*items_and_prices) # unzipping zip object

print(tuple_of_items)
print(tuple_of_prices)

# can iterate over and perform operations on zip object

for item, price in zip(items, prices):
    print("The price of {} is £{}".format(item, price))

# enumerate() gives both items and their indices which can be operated on

items = ["hat", "scarf", "coat", "gloves"]


for index, item in enumerate(items):
    print(index, item)

# enumerate objects can be shown in lists/tuples etc too
print(tuple(enumerate(items)))

## A note on the * operator

We know that * performs a multiplication. In this case, it was used for unzipping a zip object. But it is important to know what happens behind the scenes

zipped = [(1, 2), (3, 4)]
print(*zipped) # Unpacks the zipped instance into its components
zipped = [[(1, 2), (3, 4)]]
print(*zipped)
# You can think of * as removing the squared brackets

We can think of * as a container destructor.

[*(1, 2, 3)] # In this case, it removes the brackets, and the result will be a list containing 1, 2, and 3

We can use zip with as many arguments as we want. It will create tuples with the same number of items of arguments we used. So in this case we have tuples of 3 items

items =  ["tomato", "sugar", "sponges", "juice", "foil"]
prices = [0.87,      1.09,     0.29,      1.89,    1.29]
item =   [1,            2,        3,         4,     5]


print(list(zip(items, prices, item)))

items = ["tomato", "sugar", "sponges", "juice", "foil"]
prices = [0.87,      1.09,     0.29,     1.89,    1.29]

items_and_prices = zip(items, prices)  # We create a list of tuples
print(list(items_and_prices))

items_and_prices = zip(items, prices)  # We create a list of tuples
# We reinstantiate it because once we use the list function into the zip object
# it changes its status
# We remove the square brackets, obtaining 5 tuple
print(list(zip(*items_and_prices)))
# Then zip all of the 5 tuples, so we obtain tuples with 5 items each


The same way we unpack zip files or iterables, we can also unpack dictionaries, but using **

dict_1 = {'A': 1, 'B': 2}
dict_2 = {'C': 3, 'D': 4}

print({**dict_1})# ** removes the curly brackets, so we obtain something like 'A' = 1, and 'B' = 2

# We can also unpack two dictionaries and merge them together

print({**dict_1, **dict_2}) # we obtain something like 'A' = 1, 'B' = 2, 'C' = 3, 'D' = 4

We will see how to apply this in functions in the next lesson

# We can use * and ** as input for a function

def fun_dummy(*args, **kwargs): # args = arguments, kwargs = key word arguments
    print(args) # args is now a tuple
    print(kwargs) # kwargs now is a dictionary

fun_dummy(1, 2, 3, a=4, b=5, c=6) 
# anything without any a key word argument (by key word I mean a, b, c) will be a tuple in the function
# Anything with a key word argument will be included in a dictionary in the function

## List Comprehensions

- List comprehension are a much more efficient way of writing a for loop which generates or modifies a list.
- They are more suitable when we would use .append() on a list inside the for loop, or would iterate on the index of a list to modify each item, otherwise a for loop is better.
- Complex for loops operating on a list such as the BMI calculator are not suitable for list comprehension: they would be far too complex to read easily.
- They are written in a single line and the syntax compared to a for loop is thus:

# for item in iterable:
#     do_something

# [do_something for item in iterable]

### Examples

Hence:

squares = []

for i in range(0):
    squares.append(i**2)

print(squares)

Becomes:

squares = [i**2 for i in range(10)]

print(squares)

## List Comprehensions using Conditionals

- Conditionals in list comprehensions are of 2 types.
- When adding only an if statement, the conditional goes after the for statement.
- When adding an if/else statement, the conditional goes before the for statement.

### Examples

Hence:

squared_threes = []

for x in range(10):
    if x%3 == 0:
        squared_threes.append(x**2)

print(squared_threes)

Becomes:

squared_threes = [x**2 for x in range(10) if x%3==0]

print(squared_threes)

Using if/else:

squares_and_cubes = []

for x in range(10):
    if x%3 == 0:
        squares_and_cubes.append(x**3)
    else:
        squares_and_cubes.append(x**2)

print(squares_and_cubes)

Becomes:

squares_and_cubes = [x**3 if x%3==0 else x**2 for x in range(10)]

print(squares_and_cubes)

## Dictionary Comprehensions

- Not only can we create list comprehensions with Python we can also create dictionary comprehensions to create a new dictionary fast and efficiently.
- Use as a method to create a new dictionary from another dictionary.
- The logic is the same as list comprehensions but the syntax is different due to structure of dictionaries.

### Examples

Hence:

numbers_dict = {"First": 2, "Second": 3, "Third": 4, "Fourth": 5, "Fifth": 6}

for key, value in numbers_dict.items():
    numbers_dict[key] = value**2
    
print(numbers_dict)

Can easily become:

numbers_dict = {"First": 2, "Second": 3, "Third": 4, "Fourth": 5, "Fifth": 6}

squared_dict = {key:value**2 for key, value in numbers_dict.items()}
print(squared_dict)

We can also use conditionals:

numbers_dict = {"First": 2, "Second": 3, "Third": 4, "Fourth": 5, "Fifth": 6}

for key, value in numbers_dict.items():
    if numbers_dict[key]%2 == 0:
        numbers_dict[key] = value**2

print(numbers_dict)

Becomes:


numbers_dict = {"First": 2, "Second": 3, "Third": 4, "Fourth": 5, "Fifth": 6}

squared_dict = {key:value**2 if value%2==0 else value for key,value in numbers_dict.items()}
print(squared_dict)

We can also build new dictionaries from old dictionaries using conditionals

numbers_dict = {"First": 2, "Second": 3, "Third": 4, "Fourth": 5, "Fifth": 6}

new_squared_dict = {key:value**2 for key,value in numbers_dict.items() if value%2==0}
print(new_squared_dict)

#### Word of Warning
Comprehensions with conditionals can rapidly become overly complicated and unreadable, and give you a false sense of security as to your skill as a programmer. <br>
Often it is cleaner to use a for loop than a complicated list comprehension, as although you may have written a slick one-liner, it will just be confusing to read when you come back to it in 6 months time. <br>
Readability should always be the first concern, rather than completing as many operations as humanly possible in a single line.

## Nested For Loops

<p align=center><img src=images/nested_loop.png width=500></p>

- For loops can be used within for loops, known as nested for loops.
- The control flow in nested for loops means that the outer loop performs all iterations of the inner loop on its first item before moving to the next iteration and repeating.
- There is also a list comprehension equivalent of a nested for loop.
- This idea of nesting for loops can be used indefinitely (for loop within for loop within for loop etc etc), but beyond a single nesting it becomes very complicated to read and understand.
- They should be avoided where possible because the more nesting that occurs, the more inefficient the code is.
- However, some legitimate use cases for them do exist - a common example being that of iterating over multiple lists.

# basic syntax, inner loop operations are performed FOR each outer loop operation
for i in range(1,4):
    print("Outer Loop Operation: {}".format(i))
    
    for j in range(1,4):
        print("Inner Loop Operation: {}".format(j))
    
    print() # adds new line

# we perform operations using both counters
mylist = []

for x in [2,3,4]:
    for y in [1,2,3]:
        mylist.append(x**y)

print(mylist)

# list comprehension syntax: operation first followed by both for statements
[x**y for x in [2,3,4] for y in [1,2,3]]



## Summary
This is a large, heavy lesson with a lot of content. Hopefully, we have understood what for loops are, how to write them and the numerous applications that they can be used for. Some key take-aways that you must understand are:

- What a for loop does.
- The difference between iterating on items and iterating on index.
- How to use conditionals in a for loop.
- How to use tuple unpacking.
- What pass, break and continue do.
- How to use zip() and enumerate().
- How and when to use list comprehensions.


## Further reading
- There is no further reading for this lesson, please carefully go through these examples to fully understand the wide variety of applications of for loops.
- For those who really want to read, please refer to the book Learning Python by Mark Lutz: bear in mind it is a reference text and over 1000 pages long. There is a whole chapter on for loops.
- A pdf of Learning Python is available here: https://cfm.ehu.es/ricardo/docs/python/Learning_Python.pdf
