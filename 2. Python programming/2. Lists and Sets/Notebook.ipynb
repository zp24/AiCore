{
  "cells": [
    {
      "cell_type": "markdown",
      "metadata": {
        "id": "WlNdSma6rr6z"
      },
      "source": [
        "# 2. Lists and Sets"
      ]
    },
    {
      "cell_type": "markdown",
      "metadata": {
        "id": "pKWh1EF9rr66"
      },
      "source": [
        "## Learning objectives\n",
        "- Understand the nature of a list.\n",
        "- Know how to index and slice a list.\n",
        "- Know some ways to add items to a list.\n",
        "- Know some methods associated with a list.\n",
        "<br> <br>\n",
        "- Understand the nature of a set.\n",
        "- Learn how to add to and update a set.\n",
        "- Learn how to join sets using different methods."
      ]
    },
    {
      "cell_type": "markdown",
      "metadata": {
        "id": "2f0UeXLDrr67"
      },
      "source": [
        "## Lists"
      ]
    },
    {
      "cell_type": "markdown",
      "metadata": {
        "id": "CnMiLeMxrr68"
      },
      "source": [
        "- Powerful data type in Python.\n",
        "- Denoted by square brackets [].\n",
        "- Store items as a mutable ordered sequence of elements.\n",
        "- Each element in a list is an item.\n",
        "- Support indexing and slicing.\n",
        "- Can nest lists within each other.\n",
        "\n",
        "![Lists](https://github.com/life-efficient/Essentials/blob/main/2.%20Python%20programming/2.%20Lists%20and%20Sets/images/lists.png?raw=1)"
      ]
    },
    {
      "cell_type": "markdown",
      "metadata": {
        "id": "l-6MDxE5rr69"
      },
      "source": [
        "### Some definitions\n",
        "- Mutable: can be changed after creation (supports addition/removal/reassignment of items).\n",
        "- Ordered: as it sounds, has a fixed order (the order of elements provided at the time of assignment) and so can be indexed using numbers.\n",
        "- Hence a list \\[2,1,3,4\\] will not be rearranged, 2 will be the first element, 1 will be the second... etc.\n",
        "- Sequence of elements: fairly self explanatory."
      ]
    },
    {
      "cell_type": "code",
      "execution_count": null,
      "metadata": {
        "id": "BImeNMc6rr6-"
      },
      "outputs": [],
      "source": [
        "# can handle multiple object types\n",
        "my_list = [3, \"three\", 3.0, True]"
      ]
    },
    {
      "cell_type": "code",
      "execution_count": null,
      "metadata": {
        "id": "_QdskMiqrr7A"
      },
      "outputs": [],
      "source": [
        "my_list[0]"
      ]
    },
    {
      "cell_type": "code",
      "execution_count": null,
      "metadata": {
        "id": "5-5hxg0hrr7B"
      },
      "outputs": [],
      "source": [
        "sentence = 'This is just a sentence'\n",
        "sentence.split('s')"
      ]
    },
    {
      "cell_type": "code",
      "execution_count": null,
      "metadata": {
        "id": "1Edon1lDrr7C"
      },
      "outputs": [],
      "source": [
        "# can use the type() function to check the data type of an object\n",
        "type(3)"
      ]
    },
    {
      "cell_type": "code",
      "execution_count": null,
      "metadata": {
        "id": "JRoTB529rr7D"
      },
      "outputs": [],
      "source": [
        "type(\"three\")"
      ]
    },
    {
      "cell_type": "code",
      "execution_count": null,
      "metadata": {
        "id": "q3lMymPJrr7E"
      },
      "outputs": [],
      "source": [
        "type(3.0)"
      ]
    },
    {
      "cell_type": "code",
      "execution_count": null,
      "metadata": {
        "id": "wk6ySRkXrr7E"
      },
      "outputs": [],
      "source": [
        "type(True)"
      ]
    },
    {
      "cell_type": "code",
      "execution_count": null,
      "metadata": {
        "id": "GHDAs4OXrr7F"
      },
      "outputs": [],
      "source": [
        "type(my_list)"
      ]
    },
    {
      "cell_type": "markdown",
      "metadata": {
        "id": "04aCRkt4rr7G"
      },
      "source": [
        "### Indexing and Slicing"
      ]
    },
    {
      "cell_type": "markdown",
      "metadata": {
        "id": "eCpyOarTrr7G"
      },
      "source": [
        "In Python, slicing:\n",
        "\n",
        "- Starts at 0 (zero).\n",
        "- Is inclusive at the lower bound (including).\n",
        "- Is exclusive at the upper bound (up to but not including)."
      ]
    },
    {
      "cell_type": "code",
      "execution_count": null,
      "metadata": {
        "id": "S5E0k7ahrr7H",
        "outputId": "c6492f36-405a-4c53-9a07-148b16b1eeae"
      },
      "outputs": [
        {
          "data": {
            "text/plain": [
              "['John', 'Paul', 'George', 'Ringo']"
            ]
          },
          "execution_count": 3,
          "metadata": {},
          "output_type": "execute_result"
        }
      ],
      "source": [
        "my_list = ['John', 'Paul', 'George', 'Ringo']\n",
        "my_list"
      ]
    },
    {
      "cell_type": "code",
      "execution_count": null,
      "metadata": {
        "id": "3MgWKpIUrr7I"
      },
      "outputs": [],
      "source": [
        "# Index 0 gives first element\n",
        "my_list[0]"
      ]
    },
    {
      "cell_type": "code",
      "execution_count": null,
      "metadata": {
        "id": "8bQcUMCYrr7J"
      },
      "outputs": [],
      "source": [
        "# Use colon to indicate slice, 1:3 returns 2nd and 3rd items but not 4th\n",
        "my_list[0:3]"
      ]
    },
    {
      "cell_type": "code",
      "execution_count": null,
      "metadata": {
        "id": "0uu2hwuKrr7J"
      },
      "outputs": [],
      "source": [
        "# No upper bound starts with first index indicated and gives everything beyond\n",
        "my_list[1:]"
      ]
    },
    {
      "cell_type": "code",
      "execution_count": null,
      "metadata": {
        "id": "14uTlGRBrr7K"
      },
      "outputs": [],
      "source": [
        "# No lower bound starts from index 0, up to but not including upper bound\n",
        "my_list[:3]"
      ]
    },
    {
      "cell_type": "code",
      "execution_count": null,
      "metadata": {
        "id": "plGYPYJMrr7K"
      },
      "outputs": [],
      "source": [
        "# The third argument will define the step size\n",
        "my_list[::2]"
      ]
    },
    {
      "cell_type": "code",
      "execution_count": null,
      "metadata": {
        "id": "W3R2r2u6rr7K"
      },
      "outputs": [],
      "source": [
        "# You can also use negative index to start from the end:\n",
        "print(my_list[-1])\n",
        "print(my_list[-2])\n",
        "# You can also define the step size as negative, which will go backwards\n",
        "print(my_list[::-1])"
      ]
    },
    {
      "cell_type": "code",
      "execution_count": null,
      "metadata": {
        "id": "a4ZvTKLKrr7L"
      },
      "outputs": [],
      "source": [
        "# You can reassign elements in lists to new values\n",
        "my_list[1] = my_list[1].upper()\n",
        "my_list"
      ]
    },
    {
      "cell_type": "code",
      "execution_count": null,
      "metadata": {
        "id": "kEZt_bi5rr7L"
      },
      "outputs": [],
      "source": [
        "# You can add elements to lists, but it does not change original list\n",
        "my_list + ['Yoko']\n",
        "print(my_list)"
      ]
    },
    {
      "cell_type": "code",
      "execution_count": null,
      "metadata": {
        "id": "YWMTf6Bgrr7M"
      },
      "outputs": [],
      "source": [
        "# If you want to change the original list, you must reassign list to change original\n",
        "my_list = my_list + ['Yoko']\n",
        "\n",
        "my_list"
      ]
    },
    {
      "cell_type": "code",
      "execution_count": null,
      "metadata": {
        "id": "8vCH6Q5Urr7M"
      },
      "outputs": [],
      "source": [
        "# You can reassign it to a slice of the original list\n",
        "\n",
        "my_list = my_list[:4]\n",
        "\n",
        "my_list"
      ]
    },
    {
      "cell_type": "code",
      "execution_count": null,
      "metadata": {
        "id": "hqiyCqIGrr7M"
      },
      "outputs": [],
      "source": [
        "# YOu can multiply your list by an integer, which will replicate the original list x times\n",
        "print(my_list * 2)\n",
        "# As before, you need to reassign if you want to make changes to the original changes\n",
        "my_list"
      ]
    },
    {
      "cell_type": "code",
      "execution_count": null,
      "metadata": {
        "id": "97c7J9uHrr7N"
      },
      "outputs": [],
      "source": [
        "# Lists can be an item within a list\n",
        "# Lists within lists are called nested\n",
        "lst_1=[1,2,3]\n",
        "lst_2=[4,5,6]\n",
        "lst_3=[7,8,9]\n",
        "\n",
        "# Make a list of lists to form a nested list\n",
        "nest_list = [lst_1,lst_2,lst_3]\n",
        "nest_list"
      ]
    },
    {
      "cell_type": "markdown",
      "metadata": {
        "id": "591jSXkXrr7N"
      },
      "source": [
        "You can make a list nested in a list, which in turn is nested in another list... It's like the Inception movie!\n",
        "\n",
        "<p align=center><img src=https://github.com/life-efficient/Essentials/blob/main/2.%20Python%20programming/2.%20Lists%20and%20Sets/images/deeper.jpg?raw=1></p>"
      ]
    },
    {
      "cell_type": "code",
      "execution_count": null,
      "metadata": {
        "id": "v3BYqvKPrr7O"
      },
      "outputs": [],
      "source": [
        "print('Accessing second item', nest_list[1])\n",
        "print('Accessing second item of the second item', nest_list[1][1])"
      ]
    },
    {
      "cell_type": "markdown",
      "metadata": {
        "id": "AzdkjwOarr7O"
      },
      "source": [
        "### List Functions and Methods"
      ]
    },
    {
      "cell_type": "markdown",
      "metadata": {
        "id": "DblJ0Cryrr7O"
      },
      "source": [
        "Let's review some of the most common functions and methods that you can use with lists.\n",
        "\n",
        "The difference between functions and methods is that functions are not bounded to a specific data type, whereas methods are. In other words, a method is a function that is characteristic to a certain data type.\n",
        "\n",
        "Therefore, all methods are functions, but not all functions are methods."
      ]
    },
    {
      "cell_type": "markdown",
      "metadata": {
        "id": "lbZP76sZrr7O"
      },
      "source": [
        "Here we will see some of the most common methods and functions you will find in Python for lists. We encourage you to go to the official Python documentation [here](https://docs.python.org/3/tutorial/datastructures.html) to check an exhaustive list of methods"
      ]
    },
    {
      "cell_type": "markdown",
      "metadata": {
        "id": "N1Gk7hPYrr7P"
      },
      "source": [
        "#### <font size=+2>`len`</font>"
      ]
    },
    {
      "cell_type": "markdown",
      "metadata": {
        "id": "v5z-Z2zmrr7P"
      },
      "source": [
        "`len` is a Python function that counts the number of items in a data type containing multiple elements."
      ]
    },
    {
      "cell_type": "code",
      "execution_count": null,
      "metadata": {
        "id": "U9xSCPYKrr7P"
      },
      "outputs": [],
      "source": [
        "# Let's redefine my_list so we don't lose track of its content\n",
        "my_list = ['John', 'Paul', 'George', 'Ringo']\n",
        "len(my_list)"
      ]
    },
    {
      "cell_type": "markdown",
      "metadata": {
        "id": "mG5312S0rr7Q"
      },
      "source": [
        "Take into account that the `len` function doesn't work for numbers or floats. It will work for data types that are collections, such as lists, or strings"
      ]
    },
    {
      "cell_type": "code",
      "execution_count": null,
      "metadata": {
        "id": "WF3k97dwrr7Q"
      },
      "outputs": [],
      "source": [
        "len(3)"
      ]
    },
    {
      "cell_type": "markdown",
      "metadata": {
        "id": "5lELYyBbrr7Q"
      },
      "source": [
        "#### <font size=+2>`min` </font>  and  <font size=+2> `max` </font>"
      ]
    },
    {
      "cell_type": "markdown",
      "metadata": {
        "id": "EHpHHCkLrr7R"
      },
      "source": [
        "You can use min() and max() to find the highest and lowest item in lists."
      ]
    },
    {
      "cell_type": "code",
      "execution_count": null,
      "metadata": {
        "id": "coX8kdflrr7R"
      },
      "outputs": [],
      "source": [
        "num_list = [3, 7, 1, 9, 42]\n",
        "print(min(num_list))\n",
        "print(max(num_list))"
      ]
    },
    {
      "cell_type": "markdown",
      "metadata": {
        "id": "-R4zFNqOrr7R"
      },
      "source": [
        "\n",
        "If you use it in lists with strings in it, it works in alphabetical order."
      ]
    },
    {
      "cell_type": "code",
      "execution_count": null,
      "metadata": {
        "id": "bcVjfbltrr7R",
        "outputId": "42d19c81-c42d-47b5-9c60-03bebed79f8a"
      },
      "outputs": [
        {
          "name": "stdout",
          "output_type": "stream",
          "text": [
            "George\n",
            "Ringo\n"
          ]
        }
      ],
      "source": [
        "print(min(my_list))\n",
        "print(max(my_list))"
      ]
    },
    {
      "cell_type": "markdown",
      "metadata": {
        "id": "etRKmIAfrr7S"
      },
      "source": [
        "#### <font size=+2>`.append()` </font> and <font size=+2> `.extend()` </font>\n",
        "- .append() adds items to the end of a list.\n",
        "- .extend() adds items in a list (or other iterable) itemwise to the end of a list.\n",
        "- We can see the difference in addition below."
      ]
    },
    {
      "cell_type": "code",
      "execution_count": null,
      "metadata": {
        "id": "inR2j666rr7S"
      },
      "outputs": [],
      "source": [
        "# add items by .append() method\n",
        "my_list = ['John', 'Paul', 'George', 'Ringo']\n",
        "my_list.append(['Lennon','McCartney','Harrison', 'Starr'])\n",
        "\n",
        "print(my_list)"
      ]
    },
    {
      "cell_type": "markdown",
      "metadata": {
        "id": "UqfGLJCQrr7S"
      },
      "source": [
        "Notice that when using the `append` method, we didn't had to reassign it to a new variable. It changed the original value of the variable. \n",
        "\n",
        "This same principle applies to the `extend` method"
      ]
    },
    {
      "cell_type": "code",
      "execution_count": null,
      "metadata": {
        "id": "5ppOP0ggrr7S"
      },
      "outputs": [],
      "source": [
        "# add items in iterable itemwise by .extend() method\n",
        "my_list = ['John', 'Paul', 'George', 'Ringo']\n",
        "my_list.extend(['Lennon','McCartney','Harrison', 'Starr'])\n",
        "\n",
        "my_list"
      ]
    },
    {
      "cell_type": "markdown",
      "metadata": {
        "id": "8P8nEXrjrr7T"
      },
      "source": [
        "#### <font size=+2>`.insert()` </font>"
      ]
    },
    {
      "cell_type": "markdown",
      "metadata": {
        "id": "4XEqLNHRrr7T"
      },
      "source": [
        "`insert` will add an item in a specific index. Remember that lists are 0 indexed!"
      ]
    },
    {
      "cell_type": "code",
      "execution_count": null,
      "metadata": {
        "id": "Q6MTAdRwrr7T",
        "outputId": "12188eda-f873-4cb5-d46e-47f51f25937e"
      },
      "outputs": [
        {
          "data": {
            "text/plain": [
              "['John', 'Lennon', 'Paul', 'George', 'Ringo']"
            ]
          },
          "execution_count": 12,
          "metadata": {},
          "output_type": "execute_result"
        }
      ],
      "source": [
        "my_list = ['John', 'Paul', 'George', 'Ringo']\n",
        "my_list.insert(1, 'Lennon')\n",
        "my_list"
      ]
    },
    {
      "cell_type": "markdown",
      "metadata": {
        "id": "PIZTcuo2rr7T"
      },
      "source": [
        "#### <font size=+2> `.pop()` </font>"
      ]
    },
    {
      "cell_type": "markdown",
      "metadata": {
        "id": "7CcFnLo9rr7U"
      },
      "source": [
        "`pop` removes, by default, the last item. Similarly to `append`, `extend`, and `insert`, it changes the original state of the variable. But, this method additionally returns the removed item"
      ]
    },
    {
      "cell_type": "code",
      "execution_count": null,
      "metadata": {
        "id": "g6K6qupcrr7U"
      },
      "outputs": [],
      "source": [
        "# last_item will be assigned with the value of the last element\n",
        "last_item = my_list.pop()\n",
        "last_item"
      ]
    },
    {
      "cell_type": "markdown",
      "metadata": {
        "id": "1KkmPdOcrr7U"
      },
      "source": [
        "And `my_list` will contain one element less"
      ]
    },
    {
      "cell_type": "code",
      "execution_count": null,
      "metadata": {
        "id": "nSQShK_5rr7U"
      },
      "outputs": [],
      "source": [
        "my_list"
      ]
    },
    {
      "cell_type": "markdown",
      "metadata": {
        "id": "M2oFOjjMrr7V"
      },
      "source": [
        "We can specify the index we want to remove"
      ]
    },
    {
      "cell_type": "code",
      "execution_count": null,
      "metadata": {
        "id": "3-5GuqTSrr7V"
      },
      "outputs": [],
      "source": [
        "# can index, default index -1\n",
        "my_list.pop(0)\n",
        "my_list"
      ]
    },
    {
      "cell_type": "markdown",
      "metadata": {
        "id": "sODzX2Ryrr7V"
      },
      "source": [
        "#### <font size=+2> `.remove()` </font>"
      ]
    },
    {
      "cell_type": "markdown",
      "metadata": {
        "id": "1FfVy79Urr7V"
      },
      "source": [
        "Another way we have to remove elements in a list is using the `remove` method. This will look for the specified item and it will remove it from the list"
      ]
    },
    {
      "cell_type": "code",
      "execution_count": null,
      "metadata": {
        "id": "C6phzg82rr7W",
        "outputId": "d8f541e8-de0a-48a8-ebed-3812b1772ceb"
      },
      "outputs": [
        {
          "name": "stdout",
          "output_type": "stream",
          "text": [
            "['Lennon', 'Paul', 'George']\n"
          ]
        }
      ],
      "source": [
        "my_list = ['John', 'Lennon', 'Paul', 'George']\n",
        "my_list.remove('John')\n",
        "print(my_list)"
      ]
    },
    {
      "cell_type": "markdown",
      "metadata": {
        "id": "iupTTnPPrr7W"
      },
      "source": [
        "Be careful! If the item doesn't exist in the list, Python will throw an error"
      ]
    },
    {
      "cell_type": "code",
      "execution_count": null,
      "metadata": {
        "id": "tzMhUroGrr7W"
      },
      "outputs": [],
      "source": [
        "my_list = ['John', 'Lennon', 'Paul', 'George']\n",
        "my_list.remove('Yoko')"
      ]
    },
    {
      "cell_type": "markdown",
      "metadata": {
        "id": "54ljBsH3rr7W"
      },
      "source": [
        "#### <font size=+2>`.sort()`</font> and <font size=+2>`.reverse()`</font>"
      ]
    },
    {
      "cell_type": "markdown",
      "metadata": {
        "id": "8Id1m9rWrr7X"
      },
      "source": [
        "You can use `sort` to order the list by the value of its elements"
      ]
    },
    {
      "cell_type": "code",
      "execution_count": null,
      "metadata": {
        "id": "kR4EH7S9rr7X"
      },
      "outputs": [],
      "source": [
        "# use .sort() method to sort list, changes original list, no returned value\n",
        "\n",
        "let_list = [\"a\", \"d\", \"v\", \"x\", \"g\"]\n",
        "\n",
        "num_list = [13,42,4,24,2,46,3,7]"
      ]
    },
    {
      "cell_type": "code",
      "execution_count": null,
      "metadata": {
        "id": "fxSsyM_brr7X"
      },
      "outputs": [],
      "source": [
        "let_list.sort()\n",
        "num_list.sort()"
      ]
    },
    {
      "cell_type": "code",
      "execution_count": null,
      "metadata": {
        "id": "Z3_Pwp0Prr7X",
        "outputId": "2964b808-8f81-49a6-8cfe-d2259294f6d9"
      },
      "outputs": [
        {
          "name": "stdout",
          "output_type": "stream",
          "text": [
            "['a', 'd', 'g', 'v', 'x']\n",
            "[2, 3, 4, 7, 13, 24, 42, 46]\n"
          ]
        }
      ],
      "source": [
        "print(let_list)\n",
        "print(num_list)"
      ]
    },
    {
      "cell_type": "code",
      "execution_count": null,
      "metadata": {
        "id": "0Thqd8u6rr7Y",
        "outputId": "6fef3dd0-918e-48b4-9953-60bff1b61338"
      },
      "outputs": [
        {
          "name": "stdout",
          "output_type": "stream",
          "text": [
            "None\n"
          ]
        }
      ],
      "source": [
        "A = [\"G06 WTR\", \"WL11 WFL\", \"QW68 PQR\"]\n",
        "print(A.sort())"
      ]
    },
    {
      "cell_type": "markdown",
      "metadata": {
        "id": "y96aUXnqrr7Y"
      },
      "source": [
        "If you want to order it in reverse order, you can use the `reverse` method"
      ]
    },
    {
      "cell_type": "code",
      "execution_count": null,
      "metadata": {
        "id": "IkCnqbTrrr7Y"
      },
      "outputs": [],
      "source": [
        "# use .reverse() method to reverse list\n",
        "num_list.reverse()\n",
        "\n",
        "print(num_list)"
      ]
    },
    {
      "cell_type": "markdown",
      "metadata": {
        "id": "0QA8fMnSrr7Y"
      },
      "source": [
        "#### <font size=+2>`.join()`</font> "
      ]
    },
    {
      "cell_type": "markdown",
      "metadata": {
        "id": "Mn_bEvegrr7Z"
      },
      "source": [
        "`join` is actually a string method, but it can take a list as an argument. It will put every item in the list together separated by the string to which we applied to method"
      ]
    },
    {
      "cell_type": "code",
      "execution_count": null,
      "metadata": {
        "id": "Kb7DhjFBrr7Z"
      },
      "outputs": [],
      "source": [
        "list_of_strings = [\"This\", \"is\", \"a\", \"sentence.\"]\n",
        "\n",
        "print(\"    Random String    \".join(list_of_strings))"
      ]
    },
    {
      "cell_type": "markdown",
      "metadata": {
        "id": "0sjEcdHLrr7Z"
      },
      "source": [
        "#### <font size=+2>`.index()`</font> "
      ]
    },
    {
      "cell_type": "markdown",
      "metadata": {
        "id": "oZ3eed3crr7Z"
      },
      "source": [
        "If we want to know the index of a certain element in our list, we can use the `index` method"
      ]
    },
    {
      "cell_type": "code",
      "execution_count": null,
      "metadata": {
        "id": "gItHNe_Vrr7Z",
        "outputId": "0745e7bb-2978-4109-b248-09a2271654d2"
      },
      "outputs": [
        {
          "name": "stdout",
          "output_type": "stream",
          "text": [
            "1\n"
          ]
        }
      ],
      "source": [
        "# my_list.remove('PAUL')\n",
        "my_list = ['John', 'Lennon', 'Paul', 'George']\n",
        "idx = my_list.index('Lennon')\n",
        "print(idx)"
      ]
    },
    {
      "cell_type": "markdown",
      "metadata": {
        "id": "0Iz9wfpRrr7a"
      },
      "source": [
        "Be careful! If the item is not in the list, Python will throw an error"
      ]
    },
    {
      "cell_type": "code",
      "execution_count": null,
      "metadata": {
        "id": "ztKyDwZXrr7a"
      },
      "outputs": [],
      "source": [
        "my_list = ['John', 'Lennon', 'Paul', 'George']\n",
        "idx = my_list.index('Yoko')\n",
        "print(idx)"
      ]
    },
    {
      "cell_type": "markdown",
      "metadata": {
        "id": "9owM4VWwrr7b"
      },
      "source": [
        "## A Brief Introduction to Sets"
      ]
    },
    {
      "cell_type": "markdown",
      "metadata": {
        "id": "qGu6-Pp2rr7b"
      },
      "source": [
        "- Sets are a data type in Python.\n",
        "- They follow the rules of mathematical sets that you should already be familiar with.\n",
        "- They are mutable and unordered, and they do not contain repeated items (items are unique).\n",
        "- This means one useful usage of a set is to find all unique items in a list, as we will see\n",
        "- Sets also have their own methods, with operations derived from mathematical sets."
      ]
    },
    {
      "cell_type": "markdown",
      "metadata": {
        "id": "dqFrI2A2rr7c"
      },
      "source": [
        "We can define a set using the `set` method to cast, for example, a list into a set. If the list contained repeated elements, they will be removed in the set."
      ]
    },
    {
      "cell_type": "code",
      "execution_count": null,
      "metadata": {
        "id": "PDzBnn_mrr7c",
        "outputId": "3d017ac8-02cc-430b-ce76-636b26d4beab"
      },
      "outputs": [
        {
          "name": "stdout",
          "output_type": "stream",
          "text": [
            "{1, 2, 3, 4, 6}\n"
          ]
        }
      ],
      "source": [
        "my_set = set([1, 2, 3, 4, 4, 4, 6])\n",
        "print(my_set)"
      ]
    },
    {
      "cell_type": "markdown",
      "metadata": {
        "id": "gtpFLxmPrr7c"
      },
      "source": [
        "Observe above that number 4 appears only once in the set.\n",
        "\n",
        "Also, observe that sets are represented by curly brackets (`{}`). This is the second way to define a set, using curly brackets when assigning it to a variable"
      ]
    },
    {
      "cell_type": "code",
      "execution_count": null,
      "metadata": {
        "id": "_DA--otErr7d",
        "outputId": "fc612f1b-3b4e-46c9-86a7-766b53342c10"
      },
      "outputs": [
        {
          "name": "stdout",
          "output_type": "stream",
          "text": [
            "{1, 2, 3, 4, 6}\n"
          ]
        }
      ],
      "source": [
        "my_set = {1, 2, 3, 4, 4, 4, 6}\n",
        "print(my_set)"
      ]
    },
    {
      "cell_type": "markdown",
      "metadata": {
        "id": "ugHPhy87rr7d"
      },
      "source": [
        "As mentioned above, sets are unordered and mutable. Mutable means that we will be able to change its content, as we will see later in this notebook\n",
        "\n",
        "Unordered means that its elements don't have a specific order, and therefore sets can't be indexed."
      ]
    },
    {
      "cell_type": "code",
      "execution_count": null,
      "metadata": {
        "id": "xEJxmOW2rr7e",
        "outputId": "e3699e8b-9f30-4397-dfcc-d99c04699292"
      },
      "outputs": [
        {
          "ename": "TypeError",
          "evalue": "'set' object is not subscriptable",
          "output_type": "error",
          "traceback": [
            "\u001b[0;31m---------------------------------------------------------------------------\u001b[0m",
            "\u001b[0;31mTypeError\u001b[0m                                 Traceback (most recent call last)",
            "\u001b[0;32m<ipython-input-20-be0a2ad132f1>\u001b[0m in \u001b[0;36m<module>\u001b[0;34m\u001b[0m\n\u001b[1;32m      1\u001b[0m \u001b[0;31m# Trying to index a set\u001b[0m\u001b[0;34m\u001b[0m\u001b[0;34m\u001b[0m\u001b[0;34m\u001b[0m\u001b[0m\n\u001b[0;32m----> 2\u001b[0;31m \u001b[0mmy_set\u001b[0m\u001b[0;34m[\u001b[0m\u001b[0;36m1\u001b[0m\u001b[0;34m]\u001b[0m\u001b[0;34m\u001b[0m\u001b[0;34m\u001b[0m\u001b[0m\n\u001b[0m",
            "\u001b[0;31mTypeError\u001b[0m: 'set' object is not subscriptable"
          ]
        }
      ],
      "source": [
        "# Trying to index a set\n",
        "my_set[1]"
      ]
    },
    {
      "cell_type": "markdown",
      "metadata": {
        "id": "uUBhyy6Xrr7e"
      },
      "source": [
        "After running the code above, we obtain a `TypeError`"
      ]
    },
    {
      "cell_type": "markdown",
      "metadata": {
        "id": "MjVQE-8Yrr7f"
      },
      "source": [
        "### Sets functions and methods"
      ]
    },
    {
      "cell_type": "markdown",
      "metadata": {
        "id": "uX79S2Vprr7f"
      },
      "source": [
        "We can retrieve the number of elements in a set using the `len` method, just like in a list"
      ]
    },
    {
      "cell_type": "code",
      "execution_count": null,
      "metadata": {
        "id": "xZLf8Z5Hrr7f",
        "outputId": "f47764e1-55db-458c-912a-aae43fd8a7e2"
      },
      "outputs": [
        {
          "data": {
            "text/plain": [
              "6"
            ]
          },
          "execution_count": 22,
          "metadata": {},
          "output_type": "execute_result"
        }
      ],
      "source": [
        "my_set = {1, 5, 3, 6, 7, 5, 4, 5, 5, 5, 6}\n",
        "len(my_set)"
      ]
    },
    {
      "cell_type": "markdown",
      "metadata": {
        "id": "JDUKBXz1rr7f"
      },
      "source": [
        "And retrieve the minimum and maximum value in the set using the `min` and the `max` functions"
      ]
    },
    {
      "cell_type": "code",
      "execution_count": null,
      "metadata": {
        "id": "FmYj_cgtrr7g",
        "outputId": "82d7a546-ef40-45f4-ddf3-99787be09571"
      },
      "outputs": [
        {
          "data": {
            "text/plain": [
              "1"
            ]
          },
          "execution_count": 23,
          "metadata": {},
          "output_type": "execute_result"
        }
      ],
      "source": [
        "min(my_set)"
      ]
    },
    {
      "cell_type": "markdown",
      "metadata": {
        "id": "QfE_M9kvrr7g"
      },
      "source": [
        "#### <font size=+2>`.add()`</font>"
      ]
    },
    {
      "cell_type": "markdown",
      "metadata": {
        "id": "f1mJRUunrr7g"
      },
      "source": [
        "`add` (as the name suggests) adds an item to the set. As mentioned, sets are unordered, so it doesn't matter where we add it"
      ]
    },
    {
      "cell_type": "code",
      "execution_count": null,
      "metadata": {
        "id": "xU_Xzh3Err7h",
        "outputId": "de79da9a-a7ee-4297-e4a3-00b1389ff6ea"
      },
      "outputs": [
        {
          "name": "stdout",
          "output_type": "stream",
          "text": [
            "set()\n",
            "{1}\n",
            "{1, 2}\n",
            "{1, 2}\n"
          ]
        }
      ],
      "source": [
        "set_x = set()\n",
        "\n",
        "print(set_x)\n",
        "\n",
        "set_x.add(1)\n",
        "\n",
        "print(set_x)\n",
        "\n",
        "set_x.add(2)\n",
        "\n",
        "print(set_x)\n",
        "\n",
        "# if we add 2 again, we see the set does not change, as items in a set are unique\n",
        "\n",
        "set_x.add(2)\n",
        "\n",
        "print(set_x)"
      ]
    },
    {
      "cell_type": "markdown",
      "metadata": {
        "id": "nYRl7I1urr7h"
      },
      "source": [
        "#### <font size=+1>Mathematical Operations on Sets</font>"
      ]
    },
    {
      "cell_type": "markdown",
      "metadata": {
        "id": "nliUDIvBrr7h"
      },
      "source": [
        "Sets in Python share the same principles as sets in maths, so you can use the same operations. \n",
        "\n",
        "The most common ones are `Union`, `Intersection`, `Difference`, and `Symmetric Difference`"
      ]
    },
    {
      "cell_type": "markdown",
      "metadata": {
        "id": "4YeO75iHrr7h"
      },
      "source": [
        "<p align=center><img src=https://github.com/life-efficient/Essentials/blob/main/2.%20Python%20programming/2.%20Lists%20and%20Sets/images/sets.png?raw=1 width=400></p>"
      ]
    },
    {
      "cell_type": "markdown",
      "metadata": {
        "id": "VZUzvi52rr7i"
      },
      "source": [
        "#### <font size=+2>`.union()`</font>"
      ]
    },
    {
      "cell_type": "markdown",
      "metadata": {
        "id": "ET5U8rJ1rr7i"
      },
      "source": [
        "`union` essentially takes one set and it will add all its elements to another set"
      ]
    },
    {
      "cell_type": "code",
      "execution_count": null,
      "metadata": {
        "id": "me9EsbEjrr7i",
        "outputId": "3cc42a6c-4094-4155-da55-7911574631c4"
      },
      "outputs": [
        {
          "name": "stdout",
          "output_type": "stream",
          "text": [
            "{'Platypus', 'Koala', 'Dog', 'Cat'}\n",
            "{'Crocodile', 'Koala', 'Hyena', 'Cat'}\n",
            "{'Platypus', 'Crocodile', 'Dog', 'Koala', 'Hyena', 'Cat'}\n"
          ]
        }
      ],
      "source": [
        "set_1 = {'Dog', 'Cat', 'Platypus', 'Koala'}\n",
        "set_2 = {'Crocodile', 'Hyena', 'Koala', 'Cat'}\n",
        "print(set_1)\n",
        "print(set_2)\n",
        "union_set = set_1.union(set_2)\n",
        "print(union_set)"
      ]
    },
    {
      "cell_type": "markdown",
      "metadata": {
        "id": "stprLac5rr7i"
      },
      "source": [
        "Once again, the obtained set doesn't contain repeated values"
      ]
    },
    {
      "cell_type": "markdown",
      "metadata": {
        "id": "GDKHDX2zrr7j"
      },
      "source": [
        "#### <font size=+2>`.intersection()`</font>"
      ]
    },
    {
      "cell_type": "markdown",
      "metadata": {
        "id": "ZxsHR5gerr7j"
      },
      "source": [
        "`intersection` returns a set containing the items common in both sets"
      ]
    },
    {
      "cell_type": "code",
      "execution_count": null,
      "metadata": {
        "id": "onj9caOtrr7j",
        "outputId": "94a33a54-78fc-46dd-b230-9a66262d5973"
      },
      "outputs": [
        {
          "name": "stdout",
          "output_type": "stream",
          "text": [
            "{'Koala', 'Cat'}\n"
          ]
        }
      ],
      "source": [
        "inter_set = set_1.intersection(set_2)\n",
        "print(inter_set)"
      ]
    },
    {
      "cell_type": "markdown",
      "metadata": {
        "id": "6iK7Noxzrr7k"
      },
      "source": [
        "#### <font size=+2>`.difference()`</font>"
      ]
    },
    {
      "cell_type": "markdown",
      "metadata": {
        "id": "WqYTsBiPrr7k"
      },
      "source": [
        "`difference` returns a set with the items that are in `set_1` but not in `set_2`"
      ]
    },
    {
      "cell_type": "code",
      "execution_count": null,
      "metadata": {
        "id": "mrE2t0Wprr7k"
      },
      "outputs": [],
      "source": [
        "# a.difference(b) returns the items in a that are NOT in b\n",
        "differ_set = set_1.difference(set_2)\n",
        "print(differ_set)"
      ]
    },
    {
      "cell_type": "markdown",
      "metadata": {
        "id": "QeeoFtlBrr7k"
      },
      "source": [
        "#### <font size=+2>`.symmetric_difference()`</font>"
      ]
    },
    {
      "cell_type": "markdown",
      "metadata": {
        "id": "SG2SNXnJrr7k"
      },
      "source": [
        "`symmetric_difference` returns a set with the items that are in `set_1` and `set_2`, but without the items that are in BOTH"
      ]
    },
    {
      "cell_type": "code",
      "execution_count": null,
      "metadata": {
        "id": "LlfQ1mr6rr7l",
        "outputId": "29a85f48-06de-4c20-f394-b285f62de440"
      },
      "outputs": [
        {
          "name": "stdout",
          "output_type": "stream",
          "text": [
            "{'Crocodile', 'Platypus', 'Dog', 'Hyena'}\n"
          ]
        }
      ],
      "source": [
        "differ_set = set_1.symmetric_difference(set_2)\n",
        "print(differ_set)"
      ]
    },
    {
      "cell_type": "markdown",
      "metadata": {
        "id": "exj0XM9Arr7l"
      },
      "source": [
        "## Summary\n",
        "We now understand:\n",
        "- The nature of lists, and sets.\n",
        "- The basic concept of mutability.\n",
        "<br><br>\n",
        "\n",
        "We now know:\n",
        "- How to index and slice lists.\n",
        "- List functions and methods including len(), .append(), .extend() etc.\n",
        "- How to use a set to find the unique values in a list.\n",
        "\n",
        "<br>\n",
        "\n",
        "Please use this notebook as a reference, and refer to the links below for more information.\n",
        "\n",
        "## Further reading\n",
        "- List methods: https://docs.python.org/3/tutorial/datastructures.html\n",
        "- Sets: https://docs.python.org/3/library/stdtypes.html#set"
      ]
    }
  ],
  "metadata": {
    "interpreter": {
      "hash": "3d597f4c481aa0f25dceb95d2a0067e73c0966dcbd003d741d821a7208527ecf"
    },
    "kernelspec": {
      "display_name": "Python 3.9.1 64-bit ('base': conda)",
      "name": "python3"
    },
    "language_info": {
      "codemirror_mode": {
        "name": "ipython",
        "version": 3
      },
      "file_extension": ".py",
      "mimetype": "text/x-python",
      "name": "python",
      "nbconvert_exporter": "python",
      "pygments_lexer": "ipython3",
      "version": "3.8.11"
    },
    "colab": {
      "name": "Notebook.ipynb",
      "provenance": []
    }
  },
  "nbformat": 4,
  "nbformat_minor": 0
}