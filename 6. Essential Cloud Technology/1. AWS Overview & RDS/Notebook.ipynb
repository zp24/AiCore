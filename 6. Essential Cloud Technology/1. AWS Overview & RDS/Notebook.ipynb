{
  "cells": [
    {
      "cell_type": "markdown",
      "source": [
        "# 1. AWS Overview"
      ],
      "metadata": {
        "id": "ycjxQdbbY-K0"
      }
    },
    {
      "cell_type": "markdown",
      "source": [
        "In this lesson, we are going to explore the basics of cloud computing. We will be using Amazon Web Services (AWS) as the cloud provider. A cloud provider is a service that provides compute resources to you. In this lesson, we will explore the following:\n",
        "\n",
        "  - What is AWS?\n",
        "  - What is cloud computing?\n",
        "  - What Services are available in AWS?\n",
        "  - How to create a RDS instance"
      ],
      "metadata": {
        "id": "x05ab7fPY-K5"
      }
    },
    {
      "cell_type": "markdown",
      "source": [
        "First of all, we need to go to the AWS console and create a new account. To do this, go to the [AWS Console](https://console.aws.amazon.com/console/home), and create a new account. You will need a credit card to pay for the AWS services, but worry not! You can use a free service tier."
      ],
      "metadata": {
        "id": "UL5BZuCEY-K6"
      }
    },
    {
      "cell_type": "markdown",
      "source": [
        "Once created, go to the [AWS Console](https://console.aws.amazon.com/console/home) and select the Services tab. You will see a list of services that are available\n",
        "\n",
        "![](https://github.com/life-efficient/Data-Engineering/blob/main/6.%20Essential%20Cloud%20Technology/1.%20AWS%20Overview%20%26%20RDS/images/AWS_Services.png?raw=1)"
      ],
      "metadata": {
        "id": "FWS6jl9YY-K7"
      }
    },
    {
      "cell_type": "markdown",
      "source": [
        "There are plenty of services in AWS, you can even manage your satellite server in the cloud! We only have bugdet for providing a few satellites, so instead, in this introduction we will focus on :\n",
        "\n",
        "- [Amazon RDS](https://aws.amazon.com/rds/) - Relational Database Service\n",
        "- [Amazon S3](https://aws.amazon.com/s3/) - Simple Storage Service\n",
        "- [Amazon EC2](https://aws.amazon.com/ec2/) - Elastic Compute Cloud"
      ],
      "metadata": {
        "id": "t_zDhNqZY-K8"
      }
    },
    {
      "cell_type": "markdown",
      "source": [
        "For both RDS and EC2, we will need to establish a virtual network. This will limit the range of IP addresses that can be used to access the service. You can simply create a Security Group in AWS, and assign a range of IP addresses to it. To do so, go to the search bar and type VPC. Then click on the Security Groups tab.\n",
        "\n",
        "<p float=\"left\">\n",
        "  <img src=\"https://github.com/life-efficient/Data-Engineering/blob/main/6.%20Essential%20Cloud%20Technology/1.%20AWS%20Overview%20%26%20RDS/images/VPC_search.png?raw=1\" width=\"350\" />\n",
        "  <img src=\"https://github.com/life-efficient/Data-Engineering/blob/main/6.%20Essential%20Cloud%20Technology/1.%20AWS%20Overview%20%26%20RDS/images/VPC_Security.png?raw=1\" width=\"350\" /> \n",
        "</p>"
      ],
      "metadata": {
        "id": "rvaaJSrSY-K9"
      }
    },
    {
      "cell_type": "markdown",
      "source": [
        "Click on the `Create security group` button. And in the following window, enter a name for the security group and a description. After that, add inbound rules to the security group. You can add inbound rules to allow specific IP addresses. In this notebook, we will connect to the RDS instance from our local machine. So, we will allow the local machine to connect to the RDS ports.\n",
        "\n",
        "<p float=\"left\">\n",
        "  <img src=\"https://github.com/life-efficient/Data-Engineering/blob/main/6.%20Essential%20Cloud%20Technology/1.%20AWS%20Overview%20%26%20RDS/images/Security_group_2.png?raw=1\" width=\"350\" />\n",
        "  <img src=\"https://github.com/life-efficient/Data-Engineering/blob/main/6.%20Essential%20Cloud%20Technology/1.%20AWS%20Overview%20%26%20RDS/images/Security_group_3.png?raw=1\" width=\"350\" /> \n",
        "</p>"
      ],
      "metadata": {
        "id": "rXy0RJ1QY-K-"
      }
    },
    {
      "cell_type": "markdown",
      "source": [
        "In `Source`, choose `My IP`, so you are the only one with access to the RDS instance.\n",
        "\n",
        "> Important: If you have a dynamic IP, this will work the first time, but next time your connection will be refused. In that case, change the source to Anywhere IPv4."
      ],
      "metadata": {
        "id": "LFg9L4ICY-K-"
      }
    },
    {
      "cell_type": "markdown",
      "source": [
        "As mentioned, this Security Group is useful for the RDS instance. We will also create <ins>another</ins> Security Group <ins>__for the EC2 instances__</ins>, where the Inbound rules are:\n",
        "\n",
        "- HTTPS: With source equal to Anywhere IPv4\n",
        "- HTTP: With source equal to Anywhere IPv4\n",
        "- SSH: With source equal to My IP\n",
        "\n",
        "\n"
      ],
      "metadata": {
        "id": "LA4oFHP0Y-K_"
      }
    },
    {
      "cell_type": "markdown",
      "source": [
        "Now that the security groups are created, we can create our RDS instance. "
      ],
      "metadata": {
        "id": "nhswW0CCY-LA"
      }
    },
    {
      "cell_type": "markdown",
      "source": [
        "# AWS RDS"
      ],
      "metadata": {
        "id": "14flgBtXY-LB"
      }
    },
    {
      "cell_type": "markdown",
      "source": [
        "AWS RDS is a service that allows you to create a database in the cloud. It is a highly scalable database that can be used for a variety of purposes. It allows creating databases of different types, such as PostgreSQL, MySQL, Oracle, and Amazon Aurora. Since we already know how it works, let's create a PostgreSQL database.\n",
        "\n",
        "Go to the [AWS Console](https://console.aws.amazon.com/console/home) and select the Services tab. Then click on the RDS tab. After that, click on `'Create database'`\n",
        "\n",
        "![](https://github.com/life-efficient/Data-Engineering/blob/main/6.%20Essential%20Cloud%20Technology/1.%20AWS%20Overview%20%26%20RDS/images/Create_RDS.png?raw=1)"
      ],
      "metadata": {
        "id": "JZ2nfbsJY-LC"
      }
    },
    {
      "cell_type": "markdown",
      "source": [
        "In the next window, select PostgreSQL as the type of database and select Version 12.5-R1. If you want to go with, you will need to pay!\n",
        "\n",
        "![](https://github.com/life-efficient/Data-Engineering/blob/main/6.%20Essential%20Cloud%20Technology/1.%20AWS%20Overview%20%26%20RDS/images/Create_RDS2.png?raw=1)"
      ],
      "metadata": {
        "id": "3R5humBeY-LD"
      }
    },
    {
      "cell_type": "markdown",
      "source": [
        "Then give an identification to your instance:\n",
        "\n",
        "![](https://github.com/life-efficient/Data-Engineering/blob/main/6.%20Essential%20Cloud%20Technology/1.%20AWS%20Overview%20%26%20RDS/images/Create_RDS3.png?raw=1)"
      ],
      "metadata": {
        "id": "XW5nTlXgY-LD"
      }
    },
    {
      "cell_type": "markdown",
      "source": [
        "In the DB instance class, choose db.t2.micro, which is free! In the connectivity options, select publicly accessible. and in Existing Security Group, select the Security Group that we created earlier.\n",
        "\n",
        "![](https://github.com/life-efficient/Data-Engineering/blob/main/6.%20Essential%20Cloud%20Technology/1.%20AWS%20Overview%20%26%20RDS/images/Create_RDS4.png?raw=1)"
      ],
      "metadata": {
        "id": "5IxNkF0jY-LD"
      }
    },
    {
      "cell_type": "markdown",
      "source": [
        "Click on Create, and wait for it to be created. It might take a while. Once finished, you will see the status has changed to `available`. Now, click on the instance ID, and you will see the details of the instance. You have to take note of the Endpoint, which is the IP address of the database.\n",
        "\n",
        "![](https://github.com/life-efficient/Data-Engineering/blob/main/6.%20Essential%20Cloud%20Technology/1.%20AWS%20Overview%20%26%20RDS/images/Create_RDS5.png?raw=1)"
      ],
      "metadata": {
        "id": "pg528_MxY-LE"
      }
    },
    {
      "cell_type": "markdown",
      "source": [
        "And now you are ready to connect to the database! The default user and database are `postgres` and `postgres`. "
      ],
      "metadata": {
        "id": "UrufGNdwY-LE"
      }
    },
    {
      "cell_type": "code",
      "execution_count": null,
      "source": [
        "from sqlalchemy import create_engine\n",
        "DATABASE_TYPE = 'postgresql'\n",
        "DBAPI = 'psycopg2'\n",
        "ENDPOINT = 'aicoredb.c8k7he1p0ynz.us-east-1.rds.amazonaws.com' # Change it for your AWS endpoint\n",
        "USER = 'postgres'\n",
        "PASSWORD = 'Cosamona94'\n",
        "PORT = 5432\n",
        "DATABASE = 'postgres'\n",
        "engine = create_engine(f\"{DATABASE_TYPE}+{DBAPI}://{USER}:{PASSWORD}@{ENDPOINT}:{PORT}/{DATABASE}\")\n",
        "\n"
      ],
      "outputs": [],
      "metadata": {
        "id": "l13wZvAjY-LE"
      }
    },
    {
      "cell_type": "markdown",
      "source": [
        "Run the following cell to see if everything works:"
      ],
      "metadata": {
        "id": "vANJGwb3Y-LF"
      }
    },
    {
      "cell_type": "code",
      "execution_count": null,
      "source": [
        "engine.connect()"
      ],
      "outputs": [
        {
          "output_type": "execute_result",
          "data": {
            "text/plain": [
              "<sqlalchemy.engine.base.Connection at 0x7fa9766ee7f0>"
            ]
          },
          "metadata": {},
          "execution_count": 20
        }
      ],
      "metadata": {
        "id": "W3px4DukY-LG",
        "outputId": "952af295-75f0-4251-f696-968185f01b85"
      }
    },
    {
      "cell_type": "markdown",
      "source": [
        "Let's create a new table in our database. We are going to put the famous iris dataset into our database. The iris dataset is a set of measurements of flowers from 150 species. It is a famous dataset that is used in many machine learning applications."
      ],
      "metadata": {
        "id": "sVpmad0BY-LH"
      }
    },
    {
      "cell_type": "code",
      "execution_count": null,
      "source": [
        "!pip install sklearn"
      ],
      "outputs": [],
      "metadata": {
        "id": "8iUBmBLpY-LH"
      }
    },
    {
      "cell_type": "code",
      "execution_count": null,
      "source": [
        "from sklearn.datasets import load_iris\n",
        "import pandas as pd\n",
        "data = load_iris()\n",
        "iris = pd.DataFrame(data['data'], columns=data['feature_names'])\n",
        "iris.head()"
      ],
      "outputs": [
        {
          "output_type": "execute_result",
          "data": {
            "text/plain": [
              "   sepal length (cm)  sepal width (cm)  petal length (cm)  petal width (cm)\n",
              "0                5.1               3.5                1.4               0.2\n",
              "1                4.9               3.0                1.4               0.2\n",
              "2                4.7               3.2                1.3               0.2\n",
              "3                4.6               3.1                1.5               0.2\n",
              "4                5.0               3.6                1.4               0.2"
            ],
            "text/html": [
              "<div>\n",
              "<style scoped>\n",
              "    .dataframe tbody tr th:only-of-type {\n",
              "        vertical-align: middle;\n",
              "    }\n",
              "\n",
              "    .dataframe tbody tr th {\n",
              "        vertical-align: top;\n",
              "    }\n",
              "\n",
              "    .dataframe thead th {\n",
              "        text-align: right;\n",
              "    }\n",
              "</style>\n",
              "<table border=\"1\" class=\"dataframe\">\n",
              "  <thead>\n",
              "    <tr style=\"text-align: right;\">\n",
              "      <th></th>\n",
              "      <th>sepal length (cm)</th>\n",
              "      <th>sepal width (cm)</th>\n",
              "      <th>petal length (cm)</th>\n",
              "      <th>petal width (cm)</th>\n",
              "    </tr>\n",
              "  </thead>\n",
              "  <tbody>\n",
              "    <tr>\n",
              "      <th>0</th>\n",
              "      <td>5.1</td>\n",
              "      <td>3.5</td>\n",
              "      <td>1.4</td>\n",
              "      <td>0.2</td>\n",
              "    </tr>\n",
              "    <tr>\n",
              "      <th>1</th>\n",
              "      <td>4.9</td>\n",
              "      <td>3.0</td>\n",
              "      <td>1.4</td>\n",
              "      <td>0.2</td>\n",
              "    </tr>\n",
              "    <tr>\n",
              "      <th>2</th>\n",
              "      <td>4.7</td>\n",
              "      <td>3.2</td>\n",
              "      <td>1.3</td>\n",
              "      <td>0.2</td>\n",
              "    </tr>\n",
              "    <tr>\n",
              "      <th>3</th>\n",
              "      <td>4.6</td>\n",
              "      <td>3.1</td>\n",
              "      <td>1.5</td>\n",
              "      <td>0.2</td>\n",
              "    </tr>\n",
              "    <tr>\n",
              "      <th>4</th>\n",
              "      <td>5.0</td>\n",
              "      <td>3.6</td>\n",
              "      <td>1.4</td>\n",
              "      <td>0.2</td>\n",
              "    </tr>\n",
              "  </tbody>\n",
              "</table>\n",
              "</div>"
            ]
          },
          "metadata": {},
          "execution_count": 21
        }
      ],
      "metadata": {
        "id": "ofbYSYYAY-LH",
        "outputId": "7dd37936-978e-4cfb-c77b-4ca0a10de3f4"
      }
    },
    {
      "cell_type": "code",
      "execution_count": null,
      "source": [
        "iris.to_sql('iris_dataset', engine, if_exists='replace')"
      ],
      "outputs": [],
      "metadata": {
        "id": "otp13P18Y-LI"
      }
    },
    {
      "cell_type": "markdown",
      "source": [
        "Unfortunately, AWS RDS doesn't allow see the tables you created, but to can still access to them using pgAdmin or SQLAlchemy itself. "
      ],
      "metadata": {
        "id": "UxSF7YgMY-LI"
      }
    },
    {
      "cell_type": "code",
      "execution_count": null,
      "source": [
        "df = pd.read_sql_table('iris_dataset', engine)"
      ],
      "outputs": [],
      "metadata": {
        "id": "KgzRJkG2Y-LI"
      }
    },
    {
      "cell_type": "code",
      "execution_count": null,
      "source": [
        "df.head()"
      ],
      "outputs": [
        {
          "output_type": "execute_result",
          "data": {
            "text/plain": [
              "   index  sepal length (cm)  sepal width (cm)  petal length (cm)  \\\n",
              "0      0                5.1               3.5                1.4   \n",
              "1      1                4.9               3.0                1.4   \n",
              "2      2                4.7               3.2                1.3   \n",
              "3      3                4.6               3.1                1.5   \n",
              "4      4                5.0               3.6                1.4   \n",
              "\n",
              "   petal width (cm)  \n",
              "0               0.2  \n",
              "1               0.2  \n",
              "2               0.2  \n",
              "3               0.2  \n",
              "4               0.2  "
            ],
            "text/html": [
              "<div>\n",
              "<style scoped>\n",
              "    .dataframe tbody tr th:only-of-type {\n",
              "        vertical-align: middle;\n",
              "    }\n",
              "\n",
              "    .dataframe tbody tr th {\n",
              "        vertical-align: top;\n",
              "    }\n",
              "\n",
              "    .dataframe thead th {\n",
              "        text-align: right;\n",
              "    }\n",
              "</style>\n",
              "<table border=\"1\" class=\"dataframe\">\n",
              "  <thead>\n",
              "    <tr style=\"text-align: right;\">\n",
              "      <th></th>\n",
              "      <th>index</th>\n",
              "      <th>sepal length (cm)</th>\n",
              "      <th>sepal width (cm)</th>\n",
              "      <th>petal length (cm)</th>\n",
              "      <th>petal width (cm)</th>\n",
              "    </tr>\n",
              "  </thead>\n",
              "  <tbody>\n",
              "    <tr>\n",
              "      <th>0</th>\n",
              "      <td>0</td>\n",
              "      <td>5.1</td>\n",
              "      <td>3.5</td>\n",
              "      <td>1.4</td>\n",
              "      <td>0.2</td>\n",
              "    </tr>\n",
              "    <tr>\n",
              "      <th>1</th>\n",
              "      <td>1</td>\n",
              "      <td>4.9</td>\n",
              "      <td>3.0</td>\n",
              "      <td>1.4</td>\n",
              "      <td>0.2</td>\n",
              "    </tr>\n",
              "    <tr>\n",
              "      <th>2</th>\n",
              "      <td>2</td>\n",
              "      <td>4.7</td>\n",
              "      <td>3.2</td>\n",
              "      <td>1.3</td>\n",
              "      <td>0.2</td>\n",
              "    </tr>\n",
              "    <tr>\n",
              "      <th>3</th>\n",
              "      <td>3</td>\n",
              "      <td>4.6</td>\n",
              "      <td>3.1</td>\n",
              "      <td>1.5</td>\n",
              "      <td>0.2</td>\n",
              "    </tr>\n",
              "    <tr>\n",
              "      <th>4</th>\n",
              "      <td>4</td>\n",
              "      <td>5.0</td>\n",
              "      <td>3.6</td>\n",
              "      <td>1.4</td>\n",
              "      <td>0.2</td>\n",
              "    </tr>\n",
              "  </tbody>\n",
              "</table>\n",
              "</div>"
            ]
          },
          "metadata": {},
          "execution_count": 24
        }
      ],
      "metadata": {
        "id": "LK1vyFq_Y-LI",
        "outputId": "51adcdff-2036-41ac-b909-033858d85125"
      }
    },
    {
      "cell_type": "markdown",
      "source": [
        "And if you go to pgAdmin, you will see the table that you created. First, establish the connection to the database:\n",
        "\n",
        "![](https://github.com/life-efficient/Data-Engineering/blob/main/6.%20Essential%20Cloud%20Technology/1.%20AWS%20Overview%20%26%20RDS/images/pgAdmin4.png?raw=1)"
      ],
      "metadata": {
        "id": "NFuzP4syY-LJ"
      }
    },
    {
      "cell_type": "markdown",
      "source": [
        "And then observe that, in the postgres database, iris_dataset is there.\n",
        "\n",
        "![](https://github.com/life-efficient/Data-Engineering/blob/main/6.%20Essential%20Cloud%20Technology/1.%20AWS%20Overview%20%26%20RDS/images/pgAdmin4_2.png?raw=1)"
      ],
      "metadata": {
        "id": "3yGw3WO2Y-LJ"
      }
    },
    {
      "cell_type": "markdown",
      "source": [
        "# Summary"
      ],
      "metadata": {
        "id": "s-BRsWVXY-LJ"
      }
    },
    {
      "cell_type": "markdown",
      "source": [
        "- You learned the basics of cloud computing.\n",
        "- You saw how to create Security groups that can limit the range of IP addresses that can access the service.\n",
        "- You saw how to create a RDS instance.\n",
        "- You saw how to connect to the RDS instance using SQLAlchemy.\n",
        "- You saw how to create a table in the database.\n",
        "- Finally, you saw how to connect to the database using pgAdmin."
      ],
      "metadata": {
        "id": "RFGsR8iyY-LJ"
      }
    }
  ],
  "metadata": {
    "interpreter": {
      "hash": "ad8bebc098a042dc0df4e42fc2ecc8fff0bd7b8741641ce29007c29766dadbe0"
    },
    "kernelspec": {
      "name": "python3",
      "display_name": "Python 3.9.1 64-bit ('base': conda)"
    },
    "language_info": {
      "codemirror_mode": {
        "name": "ipython",
        "version": 3
      },
      "file_extension": ".py",
      "mimetype": "text/x-python",
      "name": "python",
      "nbconvert_exporter": "python",
      "pygments_lexer": "ipython3",
      "version": "3.9.1"
    },
    "orig_nbformat": 4,
    "colab": {
      "name": "Notebook.ipynb",
      "provenance": []
    }
  },
  "nbformat": 4,
  "nbformat_minor": 0
}