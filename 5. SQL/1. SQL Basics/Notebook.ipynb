{
  "cells": [
    {
      "cell_type": "markdown",
      "metadata": {
        "id": "0Q15K5rOXB5w"
      },
      "source": [
        "# SQL - Basics"
      ]
    },
    {
      "cell_type": "markdown",
      "metadata": {
        "id": "vDpMOkc2XB51"
      },
      "source": [
        "Many of the lessons in this module are presented in slides. \n",
        "\n",
        "Click here to open the presentation in [PDF format](https://aicore-files.s3.amazonaws.com/Data-Eng/SQL/1.+SQL+Basics.pdf)\n",
        "\n",
        "Click here to open the presentation in [Keynote format](https://aicore-files.s3.amazonaws.com/Data-Eng/SQL/1.+SQL+Basics.key)\n",
        "\n",
        "Click here to open the presentation in [Powerpoint format](https://aicore-files.s3.amazonaws.com/Data-Eng/SQL/1.+SQL+Basics.pptx)\n",
        "\n"
      ]
    }
  ],
  "metadata": {
    "language_info": {
      "name": "python"
    },
    "orig_nbformat": 4,
    "colab": {
      "name": "Notebook.ipynb",
      "provenance": []
    }
  },
  "nbformat": 4,
  "nbformat_minor": 0
}