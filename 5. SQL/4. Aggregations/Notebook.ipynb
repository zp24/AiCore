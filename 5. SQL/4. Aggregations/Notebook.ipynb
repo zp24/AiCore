{
  "cells": [
    {
      "cell_type": "markdown",
      "metadata": {
        "id": "Ce0oMftmXboX"
      },
      "source": [
        "# SQL - Aggregations"
      ]
    },
    {
      "cell_type": "markdown",
      "metadata": {
        "id": "5Pw9V1slXboc"
      },
      "source": [
        "Many of the lessons in this module are presented in slides. \n",
        "\n",
        "Click here to open the presentation in [PDF format](https://aicore-files.s3.amazonaws.com/Data-Eng/SQL/4.+SQL+Data+Analysis+-+Aggregations%2C+Function%2C+Flow+Control.pdf)\n",
        "\n",
        "Click here to open the presentation in [Keynote format](https://aicore-files.s3.amazonaws.com/Data-Eng/SQL/4.+SQL+Data+Analysis+-+Aggregations%2C+Function%2C+Flow+Control.key)\n",
        "\n",
        "Click here to open the presentation in [Powerpoint format](https://aicore-files.s3.amazonaws.com/Data-Eng/SQL/4.+SQL+Data+Analysis+-+Aggregations%2C+Function%2C+Flow+Control.pptx)"
      ]
    }
  ],
  "metadata": {
    "language_info": {
      "name": "python"
    },
    "orig_nbformat": 4,
    "colab": {
      "name": "Notebook.ipynb",
      "provenance": []
    }
  },
  "nbformat": 4,
  "nbformat_minor": 0
}