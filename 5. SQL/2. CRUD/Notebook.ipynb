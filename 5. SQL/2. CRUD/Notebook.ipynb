{
  "cells": [
    {
      "cell_type": "markdown",
      "metadata": {
        "id": "J-Tbbhz4XJCi"
      },
      "source": [
        "# SQL - CRUD"
      ]
    },
    {
      "cell_type": "markdown",
      "metadata": {
        "id": "TSdxJSGYXJCn"
      },
      "source": [
        "Many of the lessons in this module are presented in slides. \n",
        "\n",
        "Click here to open the presentation in [PDF format](https://aicore-files.s3.amazonaws.com/Data-Eng/SQL/2.+SQL+CRUD.pdf)\n",
        "\n",
        "Click here to open the presentation in [Keynote format](https://aicore-files.s3.amazonaws.com/Data-Eng/SQL/2.+SQL+CRUD.key)\n",
        "\n",
        "Click here to open the presentation in [Powerpoint format](https://aicore-files.s3.amazonaws.com/Data-Eng/SQL/2.+SQL+CRUD.pptx)"
      ]
    },
    {
      "cell_type": "markdown",
      "metadata": {
        "id": "TelcvZFDXJCp"
      },
      "source": [
        ""
      ]
    }
  ],
  "metadata": {
    "language_info": {
      "name": "python"
    },
    "orig_nbformat": 4,
    "colab": {
      "name": "Notebook.ipynb",
      "provenance": []
    }
  },
  "nbformat": 4,
  "nbformat_minor": 0
}