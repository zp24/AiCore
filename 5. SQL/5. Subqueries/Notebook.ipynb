{
  "cells": [
    {
      "cell_type": "markdown",
      "metadata": {
        "id": "Chr23kuBXsoI"
      },
      "source": [
        "# SQL - Subqueries"
      ]
    },
    {
      "cell_type": "markdown",
      "metadata": {
        "id": "7Jsxkm2rXsoO"
      },
      "source": [
        "Many of the lessons in this module are presented in slides. \n",
        "\n",
        "Click here to open the presentation in [PDF format](https://aicore-files.s3.amazonaws.com/Data-Eng/SQL/5.+SQL+Subqueries.pdf)\n",
        "\n",
        "Click here to open the presentation in [Keynote format](https://aicore-files.s3.amazonaws.com/Data-Eng/SQL/5.+SQL+Subqueries.key)\n",
        "\n",
        "Click here to open the presentation in [Powerpoint format](https://aicore-files.s3.amazonaws.com/Data-Eng/SQL/5.+SQL+Subqueries.pptx)"
      ]
    }
  ],
  "metadata": {
    "language_info": {
      "name": "python"
    },
    "orig_nbformat": 4,
    "colab": {
      "name": "Notebook.ipynb",
      "provenance": []
    }
  },
  "nbformat": 4,
  "nbformat_minor": 0
}