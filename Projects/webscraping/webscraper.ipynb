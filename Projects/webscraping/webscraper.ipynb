{
 "cells": [
  {
   "cell_type": "code",
   "execution_count": null,
   "metadata": {},
   "outputs": [],
   "source": [
    "import selenium\n",
    "from selenium.webdriver import Chrome\n",
    "from webdriver_manager.chrome import ChromeDriverManager #installs Chrome webdriver"
   ]
  },
  {
   "cell_type": "code",
   "execution_count": null,
   "metadata": {},
   "outputs": [],
   "source": [
    "import requests #HTTP Library\n",
    "import time"
   ]
  },
  {
   "cell_type": "markdown",
   "metadata": {},
   "source": [
    "pip install webdriver_manager\n",
    "\n",
    "Installs webdriver in cache, so there is no need to install again\n",
    "The webdriver will also detect the latest version of Chrome, but make sure Chrome is updated to the latest version"
   ]
  },
  {
   "cell_type": "code",
   "execution_count": null,
   "metadata": {},
   "outputs": [],
   "source": [
    "class Scraper:\n",
    "\n",
    "    def __init__(self):\n",
    "        pass\n",
    "\n",
    "    def get_driver(self):\n",
    "        self.driver = Chrome(ChromeDriverManager().install()) \n",
    "\n",
    "        #check webpage loads up properly\n",
    "        try:\n",
    "            self.driver.get(\"https://store.eu.square-enix-games.com/en_GB/\") #driver will open url in new window\n",
    "            #driver = Chrome() #specify location of chromedriver if downloading webdriver\n",
    "            print(\"Webpage has loaded\")\n",
    "\n",
    "        except:\n",
    "            print(\"Webpage has not loaded - please check\")\n",
    "    \n",
    "    def accept_cookies(self): #click accept cookies button on webpage\n",
    "        self.cookies = self.driver.find_element_by_xpath(\"/html/body/div[35]/div[3]/div/div[1]/div/div[2]\")\n",
    "        #self.accept = self.driver.find_element_by_xpath(\"/html/body/div[36]/div[3]/div/div[1]/div/div[2]/div/button[3]\")\n",
    "        time.sleep(5)\n",
    "        #self.cookies_button = self.driver.find_element_by_xpath(\"/html/body/div[35]/div[3]/div/div[1]/div/div[2]/div\")\n",
    "        #self.accept = self.driver.find_element_by_xpath(\"/html/body/div[35]/div[3]/div/div[1]/div/div[2]/div\")\n",
    "        #self.accept.click()\n",
    "    \n",
    "    def search_bar(self): #access and type in search bar\n",
    "        #click on search bar icon\n",
    "        self.searchbar = self.driver.find_element_by_xpath (\"/html/body/div[2]/header/div/div[1]/div/nav/div/div[2]/ul[1]/li[1]/a/span[1]/i\")\n",
    "        self.searchbar.click()\n",
    "        \n",
    "        #open search bar and input keywords\n",
    "        self.search = self.driver.find_element_by_xpath(\"/html/body/div[2]/header/div/div[1]/div/nav/div/div[2]/ul[1]/li[1]/div/form/div/input\")\n",
    "        self.search.send_keys(\"final fantasy\")\n",
    "        time.sleep(5)\n",
    "        \n",
    "        #submit input\n",
    "        self.submit_search = self.driver.find_element_by_xpath(\"/html/body/div[2]/header/div/div[1]/div/nav/div/div[2]/ul[1]/li[1]/div/form/div/span/button\")\n",
    "        time.sleep(2)\n",
    "        \n",
    "        #redirect to search results\n",
    "        self.submit_search.click()\n",
    "    \n",
    "    def navigate(self): #navigate tabs\n",
    "        #self.tab_select = self.driver.find_element_by_xpath(\"/html/body/div[2]/header/div/div[1]/div/nav/div/div[2]/ul[1]/li[3]\")\n",
    "        #time.sleep(5)\n",
    "        #self.tab_select.click()\n",
    "        time.sleep(5)\n",
    "        self.select = self.driver.find_element_by_xpath(\"/html/body/div[2]/div/div/section/div/div[2]/sf-filter-catalogue/div/div[5]/div/sf-filter-product/a\")\n",
    "        time.sleep(5)\n",
    "        self.select.click()\n"
   ]
  },
  {
   "cell_type": "code",
   "execution_count": null,
   "metadata": {},
   "outputs": [],
   "source": [
    "if __name__ == \"__main__\":\n",
    "    scraper = Scraper() #call scraper class\n",
    "    scraper.get_driver()\n",
    "    #scraper.accept_cookies()\n",
    "    scraper.search_bar()\n",
    "    #scraper.driver.find_element_by_id('//*[@id=\"onetrust-close-btn-container\"]')\n",
    "    scraper.driver.execute_script(f\"window.scrollTo(0,document.body.scrollHeight);\") #scroll straight to bottom of page\n",
    "    scraper.navigate()"
   ]
  }
 ],
 "metadata": {
  "interpreter": {
   "hash": "96845aca18e994caba59710a135a9f2069490d583ecd78ead3231a9fecf57406"
  },
  "kernelspec": {
   "display_name": "Python 3.9.7 ('selenium')",
   "language": "python",
   "name": "python3"
  },
  "language_info": {
   "codemirror_mode": {
    "name": "ipython",
    "version": 3
   },
   "file_extension": ".py",
   "mimetype": "text/x-python",
   "name": "python",
   "nbconvert_exporter": "python",
   "pygments_lexer": "ipython3",
   "version": "3.9.7"
  },
  "orig_nbformat": 4
 },
 "nbformat": 4,
 "nbformat_minor": 2
}
