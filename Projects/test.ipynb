{
 "cells": [
  {
   "cell_type": "code",
   "execution_count": 5,
   "metadata": {},
   "outputs": [],
   "source": [
    "import unittest"
   ]
  },
  {
   "cell_type": "code",
   "execution_count": 4,
   "metadata": {},
   "outputs": [],
   "source": [
    "import webscraping #will print print() in __init__.py file in webscraping package, not docstrings\n",
    "from webscraping import webscraper #import webscraper.py\n",
    "from webscraping.webscraper import Scraper #import Scraper class from webscraper.py"
   ]
  },
  {
   "cell_type": "code",
   "execution_count": 6,
   "metadata": {},
   "outputs": [
    {
     "name": "stderr",
     "output_type": "stream",
     "text": [
      ".\n",
      "----------------------------------------------------------------------\n",
      "Ran 1 test in 0.001s\n",
      "\n",
      "OK\n"
     ]
    },
    {
     "data": {
      "text/plain": [
       "<unittest.main.TestProgram at 0x266c1e4e370>"
      ]
     },
     "execution_count": 6,
     "metadata": {},
     "output_type": "execute_result"
    }
   ],
   "source": [
    "class Test_Scraper(unittest.TestCase):\n",
    "    def test_link(self):\n",
    "     pass\n",
    "\n",
    "unittest.main(argv=[\"first-arg-is-ignored\"], exit=False)\n",
    "#if __name__ == '__main__':\n",
    " #   unittest.main()\n",
    " "
   ]
  },
  {
   "cell_type": "code",
   "execution_count": 51,
   "metadata": {},
   "outputs": [],
   "source": [
    "from bs4 import BeautifulSoup\n",
    "import requests\n",
    "import re\n",
    "import os, shutil, os.path\n",
    "\n",
    "import selenium\n",
    "from selenium.webdriver import Chrome\n",
    "from webdriver_manager.chrome import ChromeDriverManager #installs Chrome webdriver\n",
    "from selenium.webdriver.common.by import By\n",
    "from selenium.webdriver.support.ui import WebDriverWait\n",
    "from selenium.webdriver.support import expected_conditions as EC\n",
    "from selenium.common.exceptions import TimeoutException, NoSuchElementException\n",
    "import time\n",
    "\n",
    "url = \"https://store.eu.square-enix-games.com/en_GB/product/604828/final-fantasy-jigsaw-puzzle-final-fantasy-vii-500-piece\"\n",
    "\n",
    "html_page = requests.get(url).content #send get request for each link in range and get content of each request\n",
    "soup = BeautifulSoup(html_page)\n",
    "images = []\n",
    "image_dict = {\"Link\": []}\n",
    "for img in soup.find_all(\"data-srcset\"): #finds .jpg images only\n",
    "        \n",
    "    images.append(img.get(\"src\"))\n",
    "\n",
    "    #print(img[\"class\"])\n",
    "    print(img)\n",
    "\n",
    "#try: #download and save product image using product ID as file name\n",
    "        # image_link = img.get(\"data-srcset\")\n",
    "        # with open(url, \"wb\") as file: #wb = write and binary mode\n",
    "            #img1 = url.find_element(By.XPATH, \n",
    "               #'//*[@id=\"main-content\"]/article/div[1]/div/div[1]/div[3]/a/figure/img')\n",
    "           # file.write(img.screenshot_as_png)\n",
    "         #   time.sleep(3)\n",
    "         #print(\"Product image downloaded\")\n",
    "          # image_dict[\"Link\"].append(image_link)\n",
    "            #print(\"Image link added\")\n",
    "#except:\n",
    "         #image_dict[\"Link\"].append(\"N/A\")\n",
    "         #print(\"Product image not downloaded\")"
   ]
  },
  {
   "cell_type": "code",
   "execution_count": 42,
   "metadata": {},
   "outputs": [
    {
     "ename": "KeyError",
     "evalue": "'data-srcset'",
     "output_type": "error",
     "traceback": [
      "\u001b[1;31m---------------------------------------------------------------------------\u001b[0m",
      "\u001b[1;31mKeyError\u001b[0m                                  Traceback (most recent call last)",
      "\u001b[1;32mc:\\Users\\Zoya\\Desktop\\AiCoreScripts\\Projects\\test.ipynb Cell 5'\u001b[0m in \u001b[0;36m<cell line: 5>\u001b[1;34m()\u001b[0m\n\u001b[0;32m      <a href='vscode-notebook-cell:/c%3A/Users/Zoya/Desktop/AiCoreScripts/Projects/test.ipynb#ch0000007?line=0'>1</a>\u001b[0m \u001b[39m#for img1 in soup.find_all(img): #finds .jpg images only\u001b[39;00m\n\u001b[0;32m      <a href='vscode-notebook-cell:/c%3A/Users/Zoya/Desktop/AiCoreScripts/Projects/test.ipynb#ch0000007?line=1'>2</a>\u001b[0m         \n\u001b[0;32m      <a href='vscode-notebook-cell:/c%3A/Users/Zoya/Desktop/AiCoreScripts/Projects/test.ipynb#ch0000007?line=2'>3</a>\u001b[0m \u001b[39m#img1 = img.split(\"data-srcset\")\u001b[39;00m\n\u001b[1;32m----> <a href='vscode-notebook-cell:/c%3A/Users/Zoya/Desktop/AiCoreScripts/Projects/test.ipynb#ch0000007?line=4'>5</a>\u001b[0m \u001b[39mprint\u001b[39m(img[\u001b[39m\"\u001b[39;49m\u001b[39mdata-srcset\u001b[39;49m\u001b[39m\"\u001b[39;49m])\n",
      "File \u001b[1;32m~\\miniconda3\\envs\\selenium\\lib\\site-packages\\bs4\\element.py:1486\u001b[0m, in \u001b[0;36mTag.__getitem__\u001b[1;34m(self, key)\u001b[0m\n\u001b[0;32m   <a href='file:///c%3A/Users/Zoya/miniconda3/envs/selenium/lib/site-packages/bs4/element.py?line=1482'>1483</a>\u001b[0m \u001b[39mdef\u001b[39;00m \u001b[39m__getitem__\u001b[39m(\u001b[39mself\u001b[39m, key):\n\u001b[0;32m   <a href='file:///c%3A/Users/Zoya/miniconda3/envs/selenium/lib/site-packages/bs4/element.py?line=1483'>1484</a>\u001b[0m     \u001b[39m\"\"\"tag[key] returns the value of the 'key' attribute for the Tag,\u001b[39;00m\n\u001b[0;32m   <a href='file:///c%3A/Users/Zoya/miniconda3/envs/selenium/lib/site-packages/bs4/element.py?line=1484'>1485</a>\u001b[0m \u001b[39m    and throws an exception if it's not there.\"\"\"\u001b[39;00m\n\u001b[1;32m-> <a href='file:///c%3A/Users/Zoya/miniconda3/envs/selenium/lib/site-packages/bs4/element.py?line=1485'>1486</a>\u001b[0m     \u001b[39mreturn\u001b[39;00m \u001b[39mself\u001b[39;49m\u001b[39m.\u001b[39;49mattrs[key]\n",
      "\u001b[1;31mKeyError\u001b[0m: 'data-srcset'"
     ]
    }
   ],
   "source": [
    "#for img1 in soup.find_all(img): #finds .jpg images only\n",
    "        \n",
    "#img1 = img.split(\"data-srcset\")\n",
    "\n",
    "print(img[\"data-srcset\"])"
   ]
  },
  {
   "cell_type": "code",
   "execution_count": 19,
   "metadata": {},
   "outputs": [
    {
     "data": {
      "text/plain": [
       "{'Link': ['N/A']}"
      ]
     },
     "execution_count": 19,
     "metadata": {},
     "output_type": "execute_result"
    }
   ],
   "source": [
    "image_dict"
   ]
  },
  {
   "cell_type": "code",
   "execution_count": 22,
   "metadata": {},
   "outputs": [
    {
     "ename": "TypeError",
     "evalue": "expected string or bytes-like object",
     "output_type": "error",
     "traceback": [
      "\u001b[1;31m---------------------------------------------------------------------------\u001b[0m",
      "\u001b[1;31mTypeError\u001b[0m                                 Traceback (most recent call last)",
      "\u001b[1;32mc:\\Users\\Zoya\\Desktop\\AiCoreScripts\\Projects\\test.ipynb Cell 6'\u001b[0m in \u001b[0;36m<cell line: 3>\u001b[1;34m()\u001b[0m\n\u001b[0;32m      <a href='vscode-notebook-cell:/c%3A/Users/Zoya/Desktop/AiCoreScripts/Projects/test.ipynb#ch0000005?line=0'>1</a>\u001b[0m \u001b[39mimport\u001b[39;00m \u001b[39murllib\u001b[39;00m\u001b[39m.\u001b[39;00m\u001b[39mrequest\u001b[39;00m\n\u001b[1;32m----> <a href='vscode-notebook-cell:/c%3A/Users/Zoya/Desktop/AiCoreScripts/Projects/test.ipynb#ch0000005?line=2'>3</a>\u001b[0m urllib\u001b[39m.\u001b[39;49mrequest\u001b[39m.\u001b[39;49murlretrieve(image_link, \u001b[39m\"\u001b[39;49m\u001b[39mtest.jpg\u001b[39;49m\u001b[39m\"\u001b[39;49m)\n",
      "File \u001b[1;32m~\\miniconda3\\envs\\selenium\\lib\\urllib\\request.py:237\u001b[0m, in \u001b[0;36murlretrieve\u001b[1;34m(url, filename, reporthook, data)\u001b[0m\n\u001b[0;32m    <a href='file:///c%3A/Users/Zoya/miniconda3/envs/selenium/lib/urllib/request.py?line=220'>221</a>\u001b[0m \u001b[39mdef\u001b[39;00m \u001b[39murlretrieve\u001b[39m(url, filename\u001b[39m=\u001b[39m\u001b[39mNone\u001b[39;00m, reporthook\u001b[39m=\u001b[39m\u001b[39mNone\u001b[39;00m, data\u001b[39m=\u001b[39m\u001b[39mNone\u001b[39;00m):\n\u001b[0;32m    <a href='file:///c%3A/Users/Zoya/miniconda3/envs/selenium/lib/urllib/request.py?line=221'>222</a>\u001b[0m     \u001b[39m\"\"\"\u001b[39;00m\n\u001b[0;32m    <a href='file:///c%3A/Users/Zoya/miniconda3/envs/selenium/lib/urllib/request.py?line=222'>223</a>\u001b[0m \u001b[39m    Retrieve a URL into a temporary location on disk.\u001b[39;00m\n\u001b[0;32m    <a href='file:///c%3A/Users/Zoya/miniconda3/envs/selenium/lib/urllib/request.py?line=223'>224</a>\u001b[0m \n\u001b[1;32m   (...)\u001b[0m\n\u001b[0;32m    <a href='file:///c%3A/Users/Zoya/miniconda3/envs/selenium/lib/urllib/request.py?line=234'>235</a>\u001b[0m \u001b[39m    data file as well as the resulting HTTPMessage object.\u001b[39;00m\n\u001b[0;32m    <a href='file:///c%3A/Users/Zoya/miniconda3/envs/selenium/lib/urllib/request.py?line=235'>236</a>\u001b[0m \u001b[39m    \"\"\"\u001b[39;00m\n\u001b[1;32m--> <a href='file:///c%3A/Users/Zoya/miniconda3/envs/selenium/lib/urllib/request.py?line=236'>237</a>\u001b[0m     url_type, path \u001b[39m=\u001b[39m _splittype(url)\n\u001b[0;32m    <a href='file:///c%3A/Users/Zoya/miniconda3/envs/selenium/lib/urllib/request.py?line=238'>239</a>\u001b[0m     \u001b[39mwith\u001b[39;00m contextlib\u001b[39m.\u001b[39mclosing(urlopen(url, data)) \u001b[39mas\u001b[39;00m fp:\n\u001b[0;32m    <a href='file:///c%3A/Users/Zoya/miniconda3/envs/selenium/lib/urllib/request.py?line=239'>240</a>\u001b[0m         headers \u001b[39m=\u001b[39m fp\u001b[39m.\u001b[39minfo()\n",
      "File \u001b[1;32m~\\miniconda3\\envs\\selenium\\lib\\urllib\\parse.py:1040\u001b[0m, in \u001b[0;36m_splittype\u001b[1;34m(url)\u001b[0m\n\u001b[0;32m   <a href='file:///c%3A/Users/Zoya/miniconda3/envs/selenium/lib/urllib/parse.py?line=1036'>1037</a>\u001b[0m \u001b[39mif\u001b[39;00m _typeprog \u001b[39mis\u001b[39;00m \u001b[39mNone\u001b[39;00m:\n\u001b[0;32m   <a href='file:///c%3A/Users/Zoya/miniconda3/envs/selenium/lib/urllib/parse.py?line=1037'>1038</a>\u001b[0m     _typeprog \u001b[39m=\u001b[39m re\u001b[39m.\u001b[39mcompile(\u001b[39m'\u001b[39m\u001b[39m([^/:]+):(.*)\u001b[39m\u001b[39m'\u001b[39m, re\u001b[39m.\u001b[39mDOTALL)\n\u001b[1;32m-> <a href='file:///c%3A/Users/Zoya/miniconda3/envs/selenium/lib/urllib/parse.py?line=1039'>1040</a>\u001b[0m match \u001b[39m=\u001b[39m _typeprog\u001b[39m.\u001b[39;49mmatch(url)\n\u001b[0;32m   <a href='file:///c%3A/Users/Zoya/miniconda3/envs/selenium/lib/urllib/parse.py?line=1040'>1041</a>\u001b[0m \u001b[39mif\u001b[39;00m match:\n\u001b[0;32m   <a href='file:///c%3A/Users/Zoya/miniconda3/envs/selenium/lib/urllib/parse.py?line=1041'>1042</a>\u001b[0m     scheme, data \u001b[39m=\u001b[39m match\u001b[39m.\u001b[39mgroups()\n",
      "\u001b[1;31mTypeError\u001b[0m: expected string or bytes-like object"
     ]
    }
   ],
   "source": [
    "import urllib.request\n",
    "\n",
    "urllib.request.urlretrieve(image_link, \"test.jpg\")"
   ]
  },
  {
   "cell_type": "code",
   "execution_count": 26,
   "metadata": {},
   "outputs": [
    {
     "ename": "TypeError",
     "evalue": "unsupported operand type(s) for +: 'NoneType' and 'str'",
     "output_type": "error",
     "traceback": [
      "\u001b[1;31m---------------------------------------------------------------------------\u001b[0m",
      "\u001b[1;31mTypeError\u001b[0m                                 Traceback (most recent call last)",
      "\u001b[1;32mc:\\Users\\Zoya\\Desktop\\AiCoreScripts\\Projects\\test.ipynb Cell 7'\u001b[0m in \u001b[0;36m<cell line: 2>\u001b[1;34m()\u001b[0m\n\u001b[0;32m      <a href='vscode-notebook-cell:/c%3A/Users/Zoya/Desktop/AiCoreScripts/Projects/test.ipynb#ch0000006?line=0'>1</a>\u001b[0m \u001b[39mimport\u001b[39;00m \u001b[39murllib\u001b[39;00m\u001b[39m.\u001b[39;00m\u001b[39mrequest\u001b[39;00m\n\u001b[1;32m----> <a href='vscode-notebook-cell:/c%3A/Users/Zoya/Desktop/AiCoreScripts/Projects/test.ipynb#ch0000006?line=1'>2</a>\u001b[0m resource \u001b[39m=\u001b[39m urllib\u001b[39m.\u001b[39;49mrequest\u001b[39m.\u001b[39;49murlopen(img)\n\u001b[0;32m      <a href='vscode-notebook-cell:/c%3A/Users/Zoya/Desktop/AiCoreScripts/Projects/test.ipynb#ch0000006?line=2'>3</a>\u001b[0m output \u001b[39m=\u001b[39m \u001b[39mopen\u001b[39m(\u001b[39m\"\u001b[39m\u001b[39mfile01.jpg\u001b[39m\u001b[39m\"\u001b[39m,\u001b[39m\"\u001b[39m\u001b[39mwb\u001b[39m\u001b[39m\"\u001b[39m)\n\u001b[0;32m      <a href='vscode-notebook-cell:/c%3A/Users/Zoya/Desktop/AiCoreScripts/Projects/test.ipynb#ch0000006?line=3'>4</a>\u001b[0m output\u001b[39m.\u001b[39mwrite(resource\u001b[39m.\u001b[39mread())\n",
      "File \u001b[1;32m~\\miniconda3\\envs\\selenium\\lib\\urllib\\request.py:214\u001b[0m, in \u001b[0;36murlopen\u001b[1;34m(url, data, timeout, cafile, capath, cadefault, context)\u001b[0m\n\u001b[0;32m    <a href='file:///c%3A/Users/Zoya/miniconda3/envs/selenium/lib/urllib/request.py?line=211'>212</a>\u001b[0m \u001b[39melse\u001b[39;00m:\n\u001b[0;32m    <a href='file:///c%3A/Users/Zoya/miniconda3/envs/selenium/lib/urllib/request.py?line=212'>213</a>\u001b[0m     opener \u001b[39m=\u001b[39m _opener\n\u001b[1;32m--> <a href='file:///c%3A/Users/Zoya/miniconda3/envs/selenium/lib/urllib/request.py?line=213'>214</a>\u001b[0m \u001b[39mreturn\u001b[39;00m opener\u001b[39m.\u001b[39;49mopen(url, data, timeout)\n",
      "File \u001b[1;32m~\\miniconda3\\envs\\selenium\\lib\\urllib\\request.py:511\u001b[0m, in \u001b[0;36mOpenerDirector.open\u001b[1;34m(self, fullurl, data, timeout)\u001b[0m\n\u001b[0;32m    <a href='file:///c%3A/Users/Zoya/miniconda3/envs/selenium/lib/urllib/request.py?line=507'>508</a>\u001b[0m protocol \u001b[39m=\u001b[39m req\u001b[39m.\u001b[39mtype\n\u001b[0;32m    <a href='file:///c%3A/Users/Zoya/miniconda3/envs/selenium/lib/urllib/request.py?line=509'>510</a>\u001b[0m \u001b[39m# pre-process request\u001b[39;00m\n\u001b[1;32m--> <a href='file:///c%3A/Users/Zoya/miniconda3/envs/selenium/lib/urllib/request.py?line=510'>511</a>\u001b[0m meth_name \u001b[39m=\u001b[39m protocol\u001b[39m+\u001b[39;49m\u001b[39m\"\u001b[39;49m\u001b[39m_request\u001b[39;49m\u001b[39m\"\u001b[39;49m\n\u001b[0;32m    <a href='file:///c%3A/Users/Zoya/miniconda3/envs/selenium/lib/urllib/request.py?line=511'>512</a>\u001b[0m \u001b[39mfor\u001b[39;00m processor \u001b[39min\u001b[39;00m \u001b[39mself\u001b[39m\u001b[39m.\u001b[39mprocess_request\u001b[39m.\u001b[39mget(protocol, []):\n\u001b[0;32m    <a href='file:///c%3A/Users/Zoya/miniconda3/envs/selenium/lib/urllib/request.py?line=512'>513</a>\u001b[0m     meth \u001b[39m=\u001b[39m \u001b[39mgetattr\u001b[39m(processor, meth_name)\n",
      "\u001b[1;31mTypeError\u001b[0m: unsupported operand type(s) for +: 'NoneType' and 'str'"
     ]
    }
   ],
   "source": [
    "import urllib.request\n",
    "resource = urllib.request.urlopen(img)\n",
    "output = open(\"file01.jpg\",\"wb\")\n",
    "output.write(resource.read())\n",
    "output.close()"
   ]
  }
 ],
 "metadata": {
  "interpreter": {
   "hash": "96845aca18e994caba59710a135a9f2069490d583ecd78ead3231a9fecf57406"
  },
  "kernelspec": {
   "display_name": "Python 3.9.7 ('selenium')",
   "language": "python",
   "name": "python3"
  },
  "language_info": {
   "codemirror_mode": {
    "name": "ipython",
    "version": 3
   },
   "file_extension": ".py",
   "mimetype": "text/x-python",
   "name": "python",
   "nbconvert_exporter": "python",
   "pygments_lexer": "ipython3",
   "version": "3.9.7"
  },
  "orig_nbformat": 4
 },
 "nbformat": 4,
 "nbformat_minor": 2
}
