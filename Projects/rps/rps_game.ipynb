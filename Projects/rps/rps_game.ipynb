{
 "cells": [
  {
   "cell_type": "code",
   "execution_count": null,
   "metadata": {},
   "outputs": [
    {
     "ename": "",
     "evalue": "",
     "output_type": "error",
     "traceback": [
      "\u001b[1;31mRunning cells with 'Python 3.9.7 ('main')' requires ipykernel package.\n",
      "Run the following command to install 'ipykernel' into the Python environment. \n",
      "Command: 'conda install -n main ipykernel --update-deps --force-reinstall'"
     ]
    }
   ],
   "source": [
    "import cv2\n",
    "from keras.models import load_model\n",
    "from PIL import Image, ImageOps\n",
    "import numpy as np\n",
    "\n",
    "import random\n",
    "import time\n",
    "\n",
    "# Load the model\n",
    "model = load_model(\"keras_model.h5\")\n",
    "\n",
    "# Create the array of the right shape to feed into the keras model\n",
    "# The 'length' or number of images you can put into the array is\n",
    "# determined by the first position in the shape tuple, in this case 1.\n",
    "#data = np.ndarray(shape=(1, 224, 224, 3), dtype=np.float32)\n",
    "# Replace this with the path to your image\n",
    "#image = Image.open('<IMAGE_PATH>')\n",
    "#image = False\n",
    "#resize the image to a 224x224 with the same strategy as in TM2:\n",
    "#resizing the image to be at least 224x224 and then cropping from the center\n",
    "#size = (224, 224)\n",
    "#image = ImageOps.fit(image, size, Image.ANTIALIAS)\n",
    "\n",
    "#turn the image into a numpy array\n",
    "#image_array = np.asarray(image)\n",
    "# Normalize the image\n",
    "#normalized_image_array = (image_array.astype(np.float32) / 127.0) - 1\n",
    "# Load the image into the array\n",
    "#data[0] = normalized_image_array\n",
    "\n",
    "# run the inference\n",
    "#prediction = model.predict(data)\n",
    "#print(prediction)\n",
    "\n",
    "\n",
    "#model = load_model('YOUR_MODEL.h5')\n",
    "cap = cv2.VideoCapture(0)\n",
    "data = np.ndarray(shape=(1, 224, 224, 3), dtype=np.float32)\n",
    "\n",
    "while True: \n",
    "    ret, frame = cap.read()\n",
    "    resized_frame = cv2.resize(frame, (224, 224), interpolation = cv2.INTER_AREA)\n",
    "    image_np = np.array(resized_frame)\n",
    "    normalized_image = (image_np.astype(np.float32) / 127.0) - 1 # Normalize the image\n",
    "    data[0] = normalized_image\n",
    "    prediction = model.predict(data)\n",
    "    cv2.imshow('frame', frame)\n",
    "    # Press q to close the window\n",
    "    print(prediction)\n",
    "    if cv2.waitKey(1) & 0xFF == ord('q'):\n",
    "        break\n",
    "            \n",
    "# After the loop release the cap object\n",
    "cap.release()\n",
    "# Destroy all the windows\n",
    "cv2.destroyAllWindows()"
   ]
  }
 ],
 "metadata": {
  "interpreter": {
   "hash": "b89b5cfaba6639976dc87ff2fec6d58faec662063367e2c229c520fe71072417"
  },
  "kernelspec": {
   "display_name": "Python 3.10.2 64-bit",
   "language": "python",
   "name": "python3"
  },
  "language_info": {
   "codemirror_mode": {
    "name": "ipython",
    "version": 3
   },
   "file_extension": ".py",
   "mimetype": "text/x-python",
   "name": "python",
   "nbconvert_exporter": "python",
   "pygments_lexer": "ipython3",
   "version": "3.9.7"
  },
  "orig_nbformat": 4
 },
 "nbformat": 4,
 "nbformat_minor": 2
}
