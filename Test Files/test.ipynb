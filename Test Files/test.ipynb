{
 "cells": [
  {
   "cell_type": "markdown",
   "metadata": {},
   "source": [
    "# Hello\n"
   ]
  },
  {
   "cell_type": "code",
   "execution_count": null,
   "metadata": {},
   "outputs": [],
   "source": [
    "#pressing esc + m results in a markdown cell which can be moved around - see above"
   ]
  },
  {
   "cell_type": "code",
   "execution_count": null,
   "metadata": {},
   "outputs": [],
   "source": [
    "#shift + enter to run the code block by block\n",
    "print('Hello World')"
   ]
  },
  {
   "cell_type": "code",
   "execution_count": null,
   "metadata": {},
   "outputs": [],
   "source": [
    "#continuous loop - either press interupt or ctrl + c to stop\n",
    "while True:\n",
    "    x = 1\n",
    "    break"
   ]
  },
  {
   "cell_type": "code",
   "execution_count": null,
   "metadata": {},
   "outputs": [],
   "source": [
    "#because x had a value of 1 saved earlier, running this block will give that value\n",
    "x"
   ]
  },
  {
   "cell_type": "code",
   "execution_count": null,
   "metadata": {},
   "outputs": [],
   "source": [
    "import time\n",
    "print (\"The time is:\", time.ctime())"
   ]
  },
  {
   "cell_type": "code",
   "execution_count": null,
   "metadata": {},
   "outputs": [],
   "source": [
    "pwd #prints current working directory"
   ]
  },
  {
   "cell_type": "code",
   "execution_count": null,
   "metadata": {},
   "outputs": [],
   "source": [
    "import random\n",
    "name = [\"Bob\", \"Mark\", \"Sam\", \"Jeff\", \"Dave\", \"Jim\", \"George\", \"Tony\"]\n",
    "\n",
    "pick_name = random.choice(name)\n",
    "\n",
    "my_name = \"Tom\"\n",
    "\n",
    "if my_name == pick_name or pick_name == \"Mark\":\n",
    "    pass\n",
    "else:\n",
    "    print(pick_name)"
   ]
  },
  {
   "cell_type": "code",
   "execution_count": null,
   "metadata": {},
   "outputs": [],
   "source": [
    "#Progress spinner\n",
    "from yaspin import yaspin\n",
    "import time\n",
    "\n",
    "with yaspin(text=\"Spinner!\") as spinner:\n",
    "    # Support all basic termcolor text colors\n",
    "    colors = (\"red\", \"green\", \"yellow\", \"blue\", \"magenta\", \"cyan\", \"white\")\n",
    "\n",
    "    for c in colors:\n",
    "        spinner.color = c\n",
    "        #spinner.text = c\n",
    "        time.sleep(0.5)\n",
    "\n",
    "    spinner.ok(\"✅ Done\")"
   ]
  }
 ],
 "metadata": {
  "interpreter": {
   "hash": "b89b5cfaba6639976dc87ff2fec6d58faec662063367e2c229c520fe71072417"
  },
  "kernelspec": {
   "display_name": "Python 3.10.2 64-bit",
   "language": "python",
   "name": "python3"
  },
  "language_info": {
   "codemirror_mode": {
    "name": "ipython",
    "version": 3
   },
   "file_extension": ".py",
   "mimetype": "text/x-python",
   "name": "python",
   "nbconvert_exporter": "python",
   "pygments_lexer": "ipython3",
   "version": "3.9.7"
  },
  "orig_nbformat": 4
 },
 "nbformat": 4,
 "nbformat_minor": 2
}
