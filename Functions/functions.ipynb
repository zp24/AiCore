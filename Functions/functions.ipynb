{
 "cells": [
  {
   "cell_type": "code",
   "execution_count": null,
   "metadata": {},
   "outputs": [],
   "source": [
    "def test_function (param_1, param_2): #def tells python that we are about to define a function\n",
    "    #arguments are included in the ()\n",
    "    #code to be executed when we call the function\n",
    "    return \"This string is the output\""
   ]
  },
  {
   "cell_type": "code",
   "execution_count": null,
   "metadata": {},
   "outputs": [],
   "source": [
    "def say_hi():\n",
    "    print(\"Hello\")\n",
    "    print(\"World\")\n",
    "    return \"Good Bye\"\n",
    "say_hi()"
   ]
  },
  {
   "cell_type": "code",
   "execution_count": null,
   "metadata": {},
   "outputs": [],
   "source": [
    "def test_args(*args):\n",
    "    print(args)\n",
    "    print(type(args))\n",
    "test_args(1, 2, 3, 4, 5, 6, 7)"
   ]
  },
  {
   "cell_type": "code",
   "execution_count": null,
   "metadata": {},
   "outputs": [],
   "source": [
    "\n",
    "def in_range():\n",
    "    n = 55\n",
    "    lower_bound = 0\n",
    "    upper_bound = 10\n",
    "\n",
    "    if lower_bound< n < upper_bound:\n",
    "        return  f\" {n} is between {lower_bound} and {upper_bound}\"\n",
    "        \n",
    "    else:\n",
    "        return f\"{n} is NOT between {lower_bound} and {upper_bound}\"\n",
    "\n",
    "in_range()"
   ]
  },
  {
   "cell_type": "code",
   "execution_count": null,
   "metadata": {},
   "outputs": [],
   "source": [
    "def my_function():\n",
    "  print(\"Hello from a function\")\n",
    "\n",
    "my_function()"
   ]
  },
  {
   "cell_type": "code",
   "execution_count": null,
   "metadata": {},
   "outputs": [],
   "source": [
    "def factorial(x): #recursive function calls itself\n",
    "    #Factorial of a number is the product of all the integers from 1 to that number\n",
    "    if x == 1:\n",
    "        return 1\n",
    "    else:\n",
    "        return (x * factorial(x-1))\n",
    "num = 5 #1x2x3x4x5\n",
    "print(\"The factorial of\", num, \"is\", factorial(num))"
   ]
  },
  {
   "cell_type": "code",
   "execution_count": null,
   "metadata": {},
   "outputs": [],
   "source": [
    "def Fibonacci(x):\n",
    "    #The Rule is xn = xn−1 + xn−2\n",
    "   if x < 0:\n",
    "        print(\"Incorrect input\")\n",
    "   elif x == 1: #First number in sequence is 0\n",
    "        return 0\n",
    "   elif x == 2: #Second number in sequence is 1\n",
    "        return 1\n",
    "   else:\n",
    "        return Fibonacci(x-1) + Fibonacci(x-2)\n",
    "\n",
    "\n",
    "#x = 0\n",
    "#x +=1\n",
    "#x = (x**- 1) + (x**-2)\n",
    "\n",
    "#num = (x-1) + (num-2)\n",
    "print(\"Fibonacci sequence is\", Fibonacci(10))\n"
   ]
  },
  {
   "cell_type": "code",
   "execution_count": null,
   "metadata": {},
   "outputs": [],
   "source": [
    "def Fibonacci_loop():\n",
    " for x in range(1):   \n",
    "  if x % 2 ==0:\n",
    "    return True\n",
    " else:\n",
    "    return False\n",
    "   #print(\"it is not a multiple of 7\")\n",
    "Fibonacci_loop()"
   ]
  },
  {
   "cell_type": "code",
   "execution_count": null,
   "metadata": {},
   "outputs": [],
   "source": [
    "def test(x):\n",
    "    \n",
    "    for x in range(100):\n",
    "        if x < 0:\n",
    "            print(\"Incorrect input\")\n",
    "        elif x == 1: #First number in sequence is 0\n",
    "            return 0\n",
    "        elif x == 2: #Second number in sequence is 1\n",
    "            return 1\n",
    "        else:\n",
    "            return test(x-1) + test(x-2)\n",
    "        if x %7==0:\n",
    "            print(x, True)\n",
    "        elif x < 50:\n",
    "            print(f\"{x} is less than 50\")\n",
    "        elif x >= 100:\n",
    "            print(f\"{x} is more than 100\")\n",
    "        else:\n",
    "            print(False)\n",
    "            #return False\n",
    "print(\"dcsjhfdk\", test(10)) #34\n",
    "#print(\"dcsjhfdk\", test(20)) #4181\n",
    "#print(\"dcsjhfdk\", test(30)) #514229\n",
    "#print(\"dcsjhfdk\", test(35)) #5702887\n",
    "#print(\"dcsjhfdk\", test(40)) #63245986 - prints after about 45 seconds\n",
    "#print(\"dcsjhfdk\", test(41)) #1-2334155 - prints after 1 minute 51.2 seconds\n",
    "#print(\"dcsjhfdk\", test(50))\n",
    "#print(\"dcsjhfdk\", test(60))\n",
    "#print(\"dcsjhfdk\", test(80))\n",
    "#print(\"dcsjhfdk\", test(100))\n"
   ]
  },
  {
   "cell_type": "code",
   "execution_count": null,
   "metadata": {},
   "outputs": [],
   "source": [
    "def Fibonacci1(x):\n",
    "    #The Rule is xn = xn−1 + xn−2\n",
    "   if x < 0:\n",
    "        print(\"Incorrect input\")\n",
    "   elif x == 1: #First number in sequence is 0\n",
    "        return 0\n",
    "   elif x == 2: #Second number in sequence is 1\n",
    "        return 1\n",
    "   else:\n",
    "        return Fibonacci1(x-1) + Fibonacci1(x-2)\n",
    "   print(\"Fibonacci sequence is\", Fibonacci1(100))\n",
    "\n",
    "\n",
    "#x = 0\n",
    "#x +=1\n",
    "#x = (x**- 1) + (x**-2)\n",
    "\n",
    "#num = (x-1) + (num-2)\n",
    "print(\"Fibonacci sequence is\", Fibonacci1(100))"
   ]
  },
  {
   "cell_type": "code",
   "execution_count": 4,
   "metadata": {},
   "outputs": [
    {
     "name": "stdout",
     "output_type": "stream",
     "text": [
      "gnitset\n"
     ]
    }
   ],
   "source": [
    "def inverse_string(string1):\n",
    "    #string1 = \"testing\"\n",
    "\n",
    "    return string1[::-1]\n",
    "\n",
    "print(inverse_string(\"testing\")) #gnitset"
   ]
  }
 ],
 "metadata": {
  "interpreter": {
   "hash": "b89b5cfaba6639976dc87ff2fec6d58faec662063367e2c229c520fe71072417"
  },
  "kernelspec": {
   "display_name": "Python 3.10.2 64-bit",
   "language": "python",
   "name": "python3"
  },
  "language_info": {
   "codemirror_mode": {
    "name": "ipython",
    "version": 3
   },
   "file_extension": ".py",
   "mimetype": "text/x-python",
   "name": "python",
   "nbconvert_exporter": "python",
   "pygments_lexer": "ipython3",
   "version": "3.10.2"
  },
  "orig_nbformat": 4
 },
 "nbformat": 4,
 "nbformat_minor": 2
}
