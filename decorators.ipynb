{
 "cells": [
  {
   "cell_type": "code",
   "execution_count": null,
   "metadata": {},
   "outputs": [],
   "source": [
    "def dec1(func): #outer function\n",
    "    def wrapper(): #inner function\n",
    "        print(\"start\") #prints before function\n",
    "        func() #run function\n",
    "        print(\"end\") #prints after function\n",
    "    return wrapper()\n",
    "\n",
    "def loop():\n",
    "    for x in range (1,4):\n",
    "        print(x)\n",
    "\n",
    "x = dec1(loop) #can call just by using dec1(loop)\n",
    "print(x)\n"
   ]
  },
  {
   "cell_type": "code",
   "execution_count": null,
   "metadata": {},
   "outputs": [],
   "source": [
    "def hello():\n",
    "    print(\"hello!\")\n",
    "\n",
    "greeting = dec1(hello) #prints the wrapper function on either side of the hello function"
   ]
  },
  {
   "cell_type": "code",
   "execution_count": null,
   "metadata": {},
   "outputs": [],
   "source": [
    "import time\n",
    "\n",
    "def timer_dec(func):\n",
    "    def wrapper(country_name): #inner function -- pass argument into wrapper\n",
    "        time_a = time.time()\n",
    "        print(\"start\") #prints before function\n",
    "        func(country_name) #run function -- pass argument into function as well\n",
    "        print(\"end\") #prints after function\n",
    "        time_b = time.time()\n",
    "        print(f'It took {time_b - time_a} seconds to run') #prints how many seconds it takes for the function to run\n",
    "    return wrapper\n",
    "\n",
    "def hello():\n",
    "    print(\"hello there!\")\n",
    "\n",
    "timer_dec(hello)\n",
    "\n",
    "#decorator with argument\n",
    "def country(country_name): #country_name is the argument within the function\n",
    "    print(f\"Tokyo is the capital of {country_name}\")\n",
    "\n",
    "timer_dec(country(\"Japan\")) #Tokyo is the capital of Japan"
   ]
  },
  {
   "cell_type": "code",
   "execution_count": null,
   "metadata": {},
   "outputs": [],
   "source": [
    "def decorator_iterate(func):\n",
    "    def wrapper(y): #y is the upperbound function\n",
    "        print(\"begin iteration\")\n",
    "        func(y)\n",
    "        print(\"end iteration\")\n",
    "    return wrapper\n",
    "\n",
    "def iterate(y):\n",
    "    for i in range(y):\n",
    "      print(i)\n",
    "\n",
    "z = decorator_iterate(iterate(20)) #y = 20\n",
    "print(z)\n",
    "    "
   ]
  },
  {
   "cell_type": "code",
   "execution_count": null,
   "metadata": {},
   "outputs": [],
   "source": [
    "def decorator_wrapstring(func):\n",
    "    def wrapper(z): #pass z as argument\n",
    "        z = \"this works!\" #assign string\n",
    "        print(z) #prints before function\n",
    "        func()\n",
    "    return wrapper(z)\n",
    "\n",
    "\n",
    "def iterate():\n",
    "    for i in range(5):\n",
    "      print(i)\n",
    "\n",
    "zx = decorator_wrapstring(iterate) #prints string argument before function\n",
    "#print(zx)"
   ]
  },
  {
   "cell_type": "code",
   "execution_count": null,
   "metadata": {},
   "outputs": [],
   "source": [
    "def decorator_wrapstring(func):\n",
    "    def wrapper(z, a): #pass z as argument\n",
    "        z = \"this works!\"\n",
    "        print(z)\n",
    "        func()\n",
    "        print(a) #print after function\n",
    "    return wrapper(z, a=\"so does this\") #assigning string for a here seems to work\n",
    "\n",
    "\n",
    "def iterate():\n",
    "    for i in range(5):\n",
    "      print(i)\n",
    "\n",
    "zx = decorator_wrapstring(iterate) #prints string argument z before function and a after function\n",
    "#print(zx)"
   ]
  },
  {
   "cell_type": "code",
   "execution_count": null,
   "metadata": {},
   "outputs": [],
   "source": [
    "#decorated function\n",
    "def decorator_wrapstring(func):\n",
    "    def wrapper(a, b): #pass a and b as arguments\n",
    "        #a = \"this works!\"\n",
    "        #b = \"so does this\"\n",
    "        print(a) #print before function\n",
    "        func()\n",
    "        print(b) #print after function\n",
    "    return wrapper #assigning string for a seems to work\n",
    "\n",
    "@decorator_wrapstring\n",
    "def iterate():\n",
    "    for i in range(5):\n",
    "      print(i)\n",
    "\n",
    "c = iterate(\"hello\", \"bye\") #specifying the string arguments for a and b seem to work here \n",
    "                            #will print before and after function respectively"
   ]
  },
  {
   "cell_type": "code",
   "execution_count": null,
   "metadata": {},
   "outputs": [],
   "source": [
    "#add text to a file\n",
    "file = open(\"testfile.txt\", \"w\") #specify target file\n",
    "file.write(\"This was written using code instead of me opening the file and typing it\") #specify text \n",
    "file.close() #to have the text make it to the target file, this is required"
   ]
  },
  {
   "cell_type": "code",
   "execution_count": null,
   "metadata": {},
   "outputs": [],
   "source": [
    "import time\n",
    "def dec_addtext(func):\n",
    "    def wrapper():\n",
    "        file = open(\"testfile.txt\", \"w\")\n",
    "        func()\n",
    "        #time.sleep(20)\n",
    "        file.close()\n",
    "    return wrapper\n",
    "\n",
    "@dec_addtext\n",
    "def texttofile():\n",
    "    time.sleep(10)\n",
    "    file.write(\"hello there\") #specify text \n",
    "    time.sleep(20)\n",
    "c = texttofile()"
   ]
  },
  {
   "cell_type": "code",
   "execution_count": null,
   "metadata": {},
   "outputs": [],
   "source": [
    "#The syntax for Context Manager is:\n",
    "\n",
    "#with expression as target_var:\n",
    "    #do_something(target_var)\n",
    "    #opening and closing a file\n",
    "with open(\"testfile.txt\", mode=\"w\") as file:\n",
    "        file.write(\"I come from the context manager, nice to meet you\")\n",
    "\n",
    "import tempfile\n",
    "import time\n",
    "with tempfile.TemporaryDirectory(dir='.') as tmpdirname:\n",
    "    print(tmpdirname) #print temporary file name\n",
    "    with open(f\"{tmpdirname}/testfile.txt\", mode=\"w\") as file:\n",
    "        file.write(\"I come from the context manager, nice to meet you\")\n",
    "    time.sleep(20) # Observe the current directory during these 20 seconds\n",
    "                   # Inside that directory you will find the hello.txt file\n",
    "                   # After 20 seconds *puff* gone!\n"
   ]
  },
  {
   "cell_type": "code",
   "execution_count": 5,
   "metadata": {},
   "outputs": [
    {
     "name": "stdout",
     "output_type": "stream",
     "text": [
      "This works\n",
      "So does this\n"
     ]
    }
   ],
   "source": [
    "import tempfile\n",
    "import time\n",
    "#The syntax for Context Manager is:\n",
    "    # with expression as target_var:\n",
    "    #   do_something(target_var)\n",
    "\n",
    "#opening and closing a file\n",
    "def dec_addtext(func):\n",
    "    def wrapper():\n",
    "        print(\"This works\")\n",
    "        with open(\"testfile.txt\", mode=\"w\") as file: #access testfile.txt\n",
    "            func()\n",
    "        print(\"So does this\")\n",
    "    return wrapper\n",
    "\n",
    "@dec_addtext\n",
    "def texttofile():\n",
    " #with tempfile.TemporaryDirectory(dir='.') as tmpdirname:\n",
    "  #  print(tmpdirname) #print temporary file name\n",
    "    with open(f\"testfile.txt\", mode=\"w\") as file: #open testfile.txt\n",
    "        file.write(\" hello :) 123456\")\n",
    "        #time.sleep(20) # Observe the current directory during these 20 seconds\n",
    "                   # Inside that directory you will find the test.txt file\n",
    "                   # After 20 seconds *puff* gone!\n",
    "    #file.close()\n",
    "texttofile()"
   ]
  },
  {
   "cell_type": "markdown",
   "metadata": {},
   "source": [
    "The @contextmanager decorator reduces the boilerplate required to create a context manager. Instead of writing a whole class with .__enter__() and .__exit__() methods, you just need to implement a generator function with a single yield that produces whatever you want .__enter__() to return."
   ]
  },
  {
   "cell_type": "code",
   "execution_count": 4,
   "metadata": {},
   "outputs": [],
   "source": [
    "from contextlib import contextmanager\n",
    "\n",
    "@contextmanager \n",
    "def writable_file(file_path):\n",
    "    file = open(file_path, mode=\"w\")\n",
    "    try:\n",
    "        yield file\n",
    "    finally:\n",
    "        file.close()\n",
    "\n",
    "with writable_file(\"testfile.txt\") as file:\n",
    "        file.write(\"Hello World!\")"
   ]
  },
  {
   "cell_type": "code",
   "execution_count": null,
   "metadata": {},
   "outputs": [],
   "source": [
    "#add text to a file by only calling the file once\n",
    "import tempfile\n",
    "import time\n",
    "\n",
    "#opening and closing a file\n",
    "def dec_addtext(func):\n",
    "    def wrapper():\n",
    "        print(\"This works\")\n",
    "        with open(\"testfile.txt\", mode=\"w\") as file: #access testfile.txt\n",
    "            func(file)\n",
    "        print(\"So does this\")\n",
    "    return wrapper\n",
    "\n",
    "@dec_addtext\n",
    "def texttofile(file):\n",
    "    file.write(\" hello :) 123\") #add text to above file\n",
    "texttofile()"
   ]
  }
 ],
 "metadata": {
  "interpreter": {
   "hash": "b89b5cfaba6639976dc87ff2fec6d58faec662063367e2c229c520fe71072417"
  },
  "kernelspec": {
   "display_name": "Python 3.10.2 64-bit",
   "language": "python",
   "name": "python3"
  },
  "language_info": {
   "codemirror_mode": {
    "name": "ipython",
    "version": 3
   },
   "file_extension": ".py",
   "mimetype": "text/x-python",
   "name": "python",
   "nbconvert_exporter": "python",
   "pygments_lexer": "ipython3",
   "version": "3.10.2"
  },
  "orig_nbformat": 4
 },
 "nbformat": 4,
 "nbformat_minor": 2
}
